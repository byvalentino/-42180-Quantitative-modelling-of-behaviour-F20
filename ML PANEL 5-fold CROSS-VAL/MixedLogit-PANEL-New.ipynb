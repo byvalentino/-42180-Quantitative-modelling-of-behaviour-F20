{
 "cells": [
  {
   "cell_type": "code",
   "execution_count": 1,
   "metadata": {
    "colab": {
     "base_uri": "https://localhost:8080/",
     "height": 68
    },
    "colab_type": "code",
    "id": "5XVZFZKP1IRw",
    "outputId": "19f4c3c7-0f68-4086-97d5-ea95f629ff82"
   },
   "outputs": [],
   "source": [
    "#!pip install unidecode numpy cython"
   ]
  },
  {
   "cell_type": "code",
   "execution_count": 2,
   "metadata": {
    "colab": {
     "base_uri": "https://localhost:8080/",
     "height": 170
    },
    "colab_type": "code",
    "id": "6oDlhXMq1dz-",
    "outputId": "564d522f-4562-4545-87eb-223458c870ca"
   },
   "outputs": [],
   "source": [
    "#!pip install -U biogeme"
   ]
  },
  {
   "cell_type": "code",
   "execution_count": 3,
   "metadata": {
    "colab": {},
    "colab_type": "code",
    "id": "7dD9YRxo1z-M"
   },
   "outputs": [],
   "source": [
    "%load_ext autoreload\n",
    "%autoreload 2\n",
    "from IPython.display import clear_output\n",
    "import sys\n",
    "sys.path.append('./src')\n",
    "from utils_ML import *\n",
    "#from allVariables import *\n",
    "clear_output(wait=False)"
   ]
  },
  {
   "cell_type": "code",
   "execution_count": 4,
   "metadata": {
    "colab": {},
    "colab_type": "code",
    "id": "SupKxcDf2bQS"
   },
   "outputs": [],
   "source": [
    "# matplotlib options\n",
    "plt.style.use('ggplot')\n",
    "%matplotlib inline\n",
    "plt.rcParams['figure.figsize'] = (18, 12)"
   ]
  },
  {
   "cell_type": "code",
   "execution_count": 5,
   "metadata": {},
   "outputs": [],
   "source": [
    "#import dataset\n",
    "pandas = pd.read_table(\"http://transp-or.epfl.ch/data/swissmetro.dat\")\n",
    "\n",
    "#rearrange dataset\n",
    "#return from work = commuter\n",
    "pandas.loc[:, ('PURPOSE')][(pandas['PURPOSE']==5)] = 1\n",
    "#return from shopping = shopping\n",
    "pandas.loc[:, ('PURPOSE')][(pandas['PURPOSE']==6)] = 2\n",
    "#return from business = business\n",
    "pandas.loc[:, ('PURPOSE')][(pandas['PURPOSE']==7)] = 3\n",
    "#return from leisure = leisure\n",
    "pandas.loc[:, ('PURPOSE')][(pandas['PURPOSE']==8)] = 4\n",
    "\n",
    "pandas = pandas[(pandas['AGE'] !=6 ) & \\\n",
    "                #(pandas['INCOME'] !=4 ) &\\\n",
    "                (pandas['PURPOSE'] !=9 ) &\\\n",
    "                (pandas['CHOICE'] !=0 )]\n",
    "\n",
    "\n",
    "#define dictionaries for visualization  of variables names\n",
    "age_dic = {1: 'age≤24', 2: '24<age≤39', 3: '39<age≤54', 4: '54<age≤65', 5: '65<age', 6: 'not known'}\n",
    "purpose_dic = {1: 'Commuter', 2: 'Shopping', 3: 'Business', 4: 'Leisure', 5: 'Return from work', 6: 'Return from shopping', 7: 'Return from business', 8: 'Return from leisure', 9: 'other'}\n",
    "choice_dic = {1: 'Train', 2: 'SM', 3: 'Car'}\n",
    "pandas.loc[:, ('INCOME')][(pandas['INCOME']==0)] = 1\n",
    "income_dic = {1: 'under 50', 2: 'between 50 and 100', 3: 'over 100', 4: 'unknown'}\n",
    "dic = [age_dic, income_dic, purpose_dic, choice_dic]\n",
    "ticket_dic = {0: 'None', 1: 'Two way with half price card', 2: 'One way with half price card', 3: 'Two way normal price', 4: 'One way normal price', 5: 'Half day', 6: 'Annual season ticket', 7: 'Annual season ticket Junior or Senior', 8: 'Free travel after 7pm card', 9: 'Group ticket', 10: 'Other'}\n",
    "\n",
    "#load data into  database\n",
    "database = db.Database(\"swissmetro\",pandas)\n",
    "globals().update(database.variables)\n",
    "database.panel('ID')\n",
    "\n",
    "## Define the draw generator\n",
    "myRandomNumberGenerators = {'MLHS':draws.getLatinHypercubeDraws}\n",
    "database.setRandomNumberGenerators(myRandomNumberGenerators)\n",
    "\n",
    "\n",
    "#define variables\n",
    "#variables\n",
    "CAR_AV_SP =  DefineVariable('CAR_AV_SP',CAR_AV  * (  SP   !=  0  ),database)\n",
    "TRAIN_AV_SP =  DefineVariable('TRAIN_AV_SP',TRAIN_AV  * (  SP   !=  0  ),database)\n",
    "\n",
    "SM_COST    =  SM_CO   * (  GA   ==  0  )   \n",
    "TRAIN_COST =  TRAIN_CO   * (  GA   ==  0  )\n",
    "\n",
    "###Parameters to be estimated (Note not all parameters are used in all models!)\n",
    "##Attributes\n",
    "#Alternative specific constants\n",
    "ASC_CAR        = Beta('ASC_CAR',0,None,None,1)\n",
    "ASC_TRAIN      = Beta('ASC_TRAIN',0,None,None,0)\n",
    "ASC_SM         = Beta('ASC_SM',0,None,None,0)\n",
    "\n",
    "#Cost (Note: Assumed generic)\n",
    "B_COST          = Beta('B_COST',0,None,None,0)\n",
    "B_COST_BUSINESS = Beta('B_COST_BUSINESS',0,None,None,0)\n",
    "B_COST_PRIVATE  = Beta('B_COST_PRIVATE',0,None,None,0)\n",
    "\n",
    "#Time\n",
    "B_TIME                = Beta('B_TIME',0,None,None,0)\n",
    "B_TIME_CAR            = Beta('B_TIME_CAR',0,None,None,0)\n",
    "B_TIME_TRAIN          = Beta('B_TIME_TRAIN',0,None,None,0)\n",
    "B_TIME_SM             = Beta('B_TIME_SM',0,None,None,0)\n",
    "B_TIME_PUB            = Beta('B_TIME_PUB',0,None,None,0)\n",
    "B_TIME_CAR_BUSINESS   = Beta('B_TIME_CAR_BUSINESS',0,None,None,0)\n",
    "B_TIME_TRAIN_BUSINESS = Beta('B_TIME_TRAIN_BUSINESS',0,None,None,0)\n",
    "B_TIME_SM_BUSINESS    = Beta('B_TIME_SM_BUSINESS',0,None,None,0)\n",
    "B_TIME_PUB_BUSINESS   = Beta('B_TIME_PUB_BUSINESS',0,None,None,0)\n",
    "B_TIME_CAR_PRIVATE    = Beta('B_TIME_CAR_PRIVATE',0,None,None,0)\n",
    "B_TIME_TRAIN_PRIVATE  = Beta('B_TIME_TRAIN_PRIVATE',0,None,None,0)\n",
    "B_TIME_SM_PRIVATE     = Beta('B_TIME_SM_PRIVATE',0,None,None,0)\n",
    "B_TIME_PUB_PRIVATE    = Beta('B_TIME_PUB_PRIVATE',0,None,None,0)\n",
    "\n",
    "#HE (Note: Not available for car)\n",
    "B_HE                = Beta('B_HE',0,None,None,0)\n",
    "B_HE_TRAIN          = Beta('B_HE_TRAIN',0,None,None,0)\n",
    "B_HE_SM             = Beta('B_HE_SM',0,None,None,0)\n",
    "B_HE_BUSINESS       = Beta('B_HE_BUSINESS',0,None,None,0)\n",
    "B_HE_TRAIN_BUSINESS = Beta('B_HE_TRAIN_BUSINESS',0,None,None,0)\n",
    "B_HE_SM_BUSINESS    = Beta('B_HE_SM_BUSINESS',0,None,None,0)\n",
    "B_HE_PRIVATE        = Beta('B_HE_PRIVATE',0,None,None,0)\n",
    "B_HE_TRAIN_PRIVATE  = Beta('B_HE_TRAIN_PRIVATE',0,None,None,0)\n",
    "B_HE_SM_PRIVATE     = Beta('B_HE_SM_PRIVATE',0,None,None,0)\n",
    "\n",
    "#Seats (Note: Only avaliable for SM)\n",
    "B_SEATS = Beta('B_SEATS',0,None,None,0)\n",
    "\n",
    "##Characteristics\n",
    "#Age\n",
    "B_AGE_1_TRAIN      = Beta('B_AGE_1_TRAIN',0,None,None,1) #Note: Reference\n",
    "B_AGE_2_TRAIN      = Beta('B_AGE_2_TRAIN',0,None,None,0)\n",
    "B_AGE_3_TRAIN      = Beta('B_AGE_3_TRAIN',0,None,None,0)\n",
    "B_AGE_4_TRAIN      = Beta('B_AGE_4_TRAIN',0,None,None,0)\n",
    "B_AGE_5_TRAIN      = Beta('B_AGE_5_TRAIN',0,None,None,0)\n",
    "B_AGE_6_TRAIN      = Beta('B_AGE_6_TRAIN',0,None,None,0)\n",
    "B_AGE_1_SM         = Beta('B_AGE_1_SM',0,None,None,1) #Note: Reference\n",
    "B_AGE_2_SM         = Beta('B_AGE_2_SM',0,None,None,0)\n",
    "B_AGE_3_SM         = Beta('B_AGE_3_SM',0,None,None,0)\n",
    "B_AGE_4_SM         = Beta('B_AGE_4_SM',0,None,None,0)\n",
    "B_AGE_5_SM         = Beta('B_AGE_5_SM',0,None,None,0)\n",
    "B_AGE_6_SM         = Beta('B_AGE_6_SM',0,None,None,0)\n",
    "B_AGE_1_PUB        = Beta('B_AGE_1_PUB',0,None,None,1) #Note: Reference\n",
    "B_AGE_2_PUB        = Beta('B_AGE_2_PUB',0,None,None,0)\n",
    "B_AGE_3_PUB        = Beta('B_AGE_3_PUB',0,None,None,0)\n",
    "B_AGE_4_PUB        = Beta('B_AGE_4_PUB',0,None,None,0)\n",
    "B_AGE_5_PUB        = Beta('B_AGE_5_PUB',0,None,None,0)\n",
    "B_AGE_6_PUB        = Beta('B_AGE_6_PUB',0,None,None,0)\n",
    "B_AGE_ADULTS_TRAIN = Beta('B_AGE_TRAIN_ADULTS',0,None,None,0)\n",
    "B_AGE_ADULTS_SM    = Beta('B_AGE_ADULTS_SM',0,None,None,0)\n",
    "B_AGE_ADULTS_PUB   = Beta('B_AGE_ADULTS_PUB',0,None,None,0)\n",
    "\n",
    "#Luggage\n",
    "B_LUGGAGE_TRAIN = Beta('B_LUGGAGE_TRAIN', 0, None, None, 0)\n",
    "B_LUGGAGE_SM    = Beta('B_LUGGAGE_SM', 0, None, None, 0)\n",
    "B_LUGGAGE_PUB   = Beta('B_LUGGAGE_PUB', 0, None, None, 0)\n",
    "\n",
    "#Gender\n",
    "B_MALE_TRAIN = Beta('B_MALE_TRAIN',0,None,None,0)\n",
    "B_MALE_SM    = Beta('B_MALE_SM',0,None,None,0)\n",
    "B_MALE_PUB   = Beta('B_MALE_PUB',0,None,None,0)\n",
    "\n",
    "#Purpose\n",
    "B_BUSINESS       = Beta('B_BUSINESS',0,None,None,0)\n",
    "B_BUSINESS_TRAIN = Beta('B_BUSINESS_TRAIN',0,None,None,0)\n",
    "B_BUSINESS_SM    = Beta('B_BUSINESS_SM',0,None,None,0)\n",
    "B_PRIVATE        = Beta('B_PRIVATE',0,None,None,0)\n",
    "B_PRIVATE_TRAIN  = Beta('B_PRIVATE_TRAIN',0,None,None,0)\n",
    "B_PRIVATE_SM     = Beta('B_PRIVATE_SM',0,None,None,0)\n",
    "B_COMMUTER       = Beta('B_COMMUTER',0,None,None,0)\n",
    "B_COMMUTER_TRAIN = Beta('B_COMMUTER_TRAIN',0,None,None,0)\n",
    "B_COMMUTER_SM    = Beta('B_COMMUTER_SM',0,None,None,0)\n",
    "\n",
    "#GA\n",
    "B_GA        = Beta('B_GA',0,None,None,0)\n",
    "B_GA_TRAIN  = Beta('B_GA_TRAIN',0,None,None,0)\n",
    "B_GA_SM     = Beta('B_GA_SM',0,None,None,0)\n",
    "\n",
    "#First\n",
    "B_FIRST_TRAIN = Beta('B_FIRST_TRAIN',0,None,None,0)\n",
    "B_FIRST_SM    = Beta('B_FIRST_SM',0,None,None,0)\n",
    "B_FIRST       = Beta('B_FIRST',0,None,None,0)\n",
    "\n",
    "##Non linearization\n",
    "#Cost\n",
    "q_COST = Beta('q_COST',1,None,None,0)\n",
    "\n",
    "#Time\n",
    "q_TIME       = Beta('q_TIME',1,None,None,0)\n",
    "q_TIME_TRAIN = Beta('q_TIME_TRAIN',1,None,None,0)\n",
    "q_TIME_SM    = Beta('q_TIME_SM',1,None,None,0)\n",
    "q_TIME_CAR   = Beta('q_TIME_CAR',1,None,None,0)\n",
    "q_TIME_PUB   = Beta('q_TIME_PUB',1,None,None,0)\n",
    "\n",
    "#HE\n",
    "q_HE = Beta('q_HE',1,None,None,0)\n",
    "\n",
    "##Nesting parameter\n",
    "MU = Beta('MU',1,0,1,0)\n",
    "\n",
    "##ML RANDOM GENERIC TIME LOGNORMAL\n",
    "BETA_TIME_mean = Beta('BETA_TIME_mean',0,None,None,0)\n",
    "BETA_TIME_std = Beta('BETA_TIME_std',1,None,None,0)\n",
    "BETA_TIME_random = -exp(BETA_TIME_mean + BETA_TIME_std * bioDraws('BETA_TIME_random','NORMAL'))\n",
    "\n",
    "##ML RANDOM SPECIFIC TIME TRAIN LOGNORMAL\n",
    "BETA_TIME_TRAIN_mean = Beta('BETA_TIME_TRAIN_mean',0,None,None,0)\n",
    "BETA_TIME_TRAIN_std = Beta('BETA_TIME_TRAIN_std',1,None,None,0)\n",
    "BETA_TIME_TRAIN_random = -exp(BETA_TIME_TRAIN_mean + BETA_TIME_TRAIN_std * bioDraws('BETA_TIME_TRAIN_random','NORMAL'))\n",
    "\n",
    "##ML RANDOM SPECIFIC TIME SM  LOGNORMAL\n",
    "BETA_TIME_SM_mean = Beta('BETA_TIME_SM_mean',0,None,None,0)\n",
    "BETA_TIME_SM_std = Beta('BETA_TIME_SM_std',1,None,None,0)\n",
    "BETA_TIME_SM_random = -exp(BETA_TIME_SM_mean + BETA_TIME_SM_std * bioDraws('BETA_TIME_SM_random','NORMAL'))\n",
    "\n",
    "##ML RANDOM SPECIFIC TIME CAR LOGNORMAL\n",
    "BETA_TIME_CAR_mean = Beta('BETA_TIME_CAR_mean',0,None,None,0)\n",
    "BETA_TIME_CAR_std = Beta('BETA_TIME_CAR_std',1,None,None,0)\n",
    "BETA_TIME_CAR_random = -exp(BETA_TIME_CAR_mean + BETA_TIME_CAR_std * bioDraws('BETA_TIME_CAR_random','NORMAL'))\n",
    "\n",
    "##ML RANDOM GENERIC COST LOGNORMAL\n",
    "BETA_COST_mean = Beta('BETA_COST_mean',0,None,None,0)\n",
    "BETA_COST_std = Beta('BETA_COST_std',1,None,None,0)\n",
    "BETA_COST_random = -exp(BETA_COST_mean + BETA_COST_std * bioDraws('BETA_COST_random','NORMAL'))\n",
    "\n",
    "##ML RANDOM GENERIC HE LOGNORMAL\n",
    "BETA_HE_mean = Beta('BETA_HE_mean',0,None,None,0)\n",
    "BETA_HE_std = Beta('BETA_HE_std',1,None,None,0)\n",
    "BETA_HE_random = -exp(BETA_HE_mean + BETA_HE_std * bioDraws('BETA_HE_random','NORMAL'))\n",
    "\n",
    "##ML RANDOM GENERIC TIME LOGNORMAL\n",
    "BBETA_TIME_mean = Beta('BBETA_TIME_mean',0,None,None,0)\n",
    "BBETA_TIME_std = Beta('BBETA_TIME_std',1,None,None,0)\n",
    "BBETA_TIME_random = -exp(BBETA_TIME_mean + BBETA_TIME_std * bioDraws('BBETA_TIME_random','NORMAL'))\n",
    "\n",
    "##ML RANDOM SPECIFIC TIME TRAIN LOGNORMAL\n",
    "BBETA_TIME_TRAIN_mean = Beta('BBETA_TIME_TRAIN_mean',0,None,None,0)\n",
    "BBETA_TIME_TRAIN_std = Beta('BBETA_TIME_TRAIN_std',1,None,None,0)\n",
    "BBETA_TIME_TRAIN_random = -exp(BBETA_TIME_TRAIN_mean + BBETA_TIME_TRAIN_std * bioDraws('BBETA_TIME_TRAIN_random','NORMAL'))\n",
    "\n",
    "##ML RANDOM SPECIFIC TIME SM  LOGNORMAL\n",
    "BBETA_TIME_SM_mean = Beta('BBETA_TIME_SM_mean',0,None,None,0)\n",
    "BBETA_TIME_SM_std = Beta('BBETA_TIME_SM_std',1,None,None,0)\n",
    "BBETA_TIME_SM_random = -exp(BBETA_TIME_SM_mean + BBETA_TIME_SM_std * bioDraws('BBETA_TIME_SM_random','NORMAL'))\n",
    "\n",
    "##ML RANDOM SPECIFIC TIME CAR LOGNORMAL\n",
    "BBETA_TIME_CAR_mean = Beta('BBETA_TIME_CAR_mean',0,None,None,0)\n",
    "BBETA_TIME_CAR_std = Beta('BBETA_TIME_CAR_std',1,None,None,0)\n",
    "BBETA_TIME_CAR_random = -exp(BBETA_TIME_CAR_mean + BBETA_TIME_CAR_std * bioDraws('BBETA_TIME_CAR_random','NORMAL'))\n",
    "\n",
    "##ML RANDOM GENERIC COST LOGNORMAL\n",
    "BBETA_COST_mean = Beta('BBETA_COST_mean',0,None,None,0)\n",
    "BBETA_COST_std = Beta('BBETA_COST_std',1,None,None,0)\n",
    "BBETA_COST_random = -exp(BBETA_COST_mean + BBETA_COST_std * bioDraws('BBETA_COST_random','NORMAL'))\n",
    "\n",
    "##ML RANDOM GENERIC HE LOGNORMAL\n",
    "BBETA_HE_mean = Beta('BBETA_HE_mean',0,None,None,0)\n",
    "BBETA_HE_std = Beta('BBETA_HE_std',1,None,None,0)\n",
    "BBETA_HE_random = -exp(BBETA_HE_mean + BBETA_HE_std * bioDraws('BBETA_HE_random','NORMAL'))\n",
    "\n",
    "##ML RANDOM GENERIC TIME NORMAL\n",
    "BETA_TIME_mean_Norm = Beta('BETA_TIME_mean_Norm',0,None,None,0)\n",
    "BETA_TIME_std_Norm = Beta('BETA_TIME_std_Norm',1,None,None,0)\n",
    "BETA_TIME_random_Norm = BETA_TIME_mean_Norm + BETA_TIME_std_Norm * bioDraws('BETA_TIME_random_Norm','NORMAL')\n",
    "\n",
    "##ML RANDOM SPECIFIC TIME TRAIN LOGNORMAL\n",
    "BETA_TIME_TRAIN_mean_Norm = Beta('BETA_TIME_TRAIN_mean_Norm',0,None,None,0)\n",
    "BETA_TIME_TRAIN_std_Norm = Beta('BETA_TIME_TRAIN_std_Norm',1,None,None,0)\n",
    "BETA_TIME_TRAIN_random_Norm = BETA_TIME_TRAIN_mean_Norm + BETA_TIME_TRAIN_std_Norm * bioDraws('BETA_TIME_TRAIN_random_Norm','NORMAL')\n",
    "\n",
    "##ML RANDOM SPECIFIC TIME SM  NORMAL\n",
    "BETA_TIME_SM_mean_Norm = Beta('BETA_TIME_SM_mean_Norm',0,None,None,0)\n",
    "BETA_TIME_SM_std_Norm = Beta('BETA_TIME_SM_std_Norm',1,None,None,0)\n",
    "BETA_TIME_SM_random_Norm = BETA_TIME_SM_mean_Norm + BETA_TIME_SM_std_Norm * bioDraws('BETA_TIME_SM_random_Norm','NORMAL')\n",
    "\n",
    "##ML RANDOM SPECIFIC TIME CAR NORMAL\n",
    "BETA_TIME_CAR_mean_Norm = Beta('BETA_TIME_CAR_mean_Norm',0,None,None,0)\n",
    "BETA_TIME_CAR_std_Norm = Beta('BETA_TIME_CAR_std_Norm',1,None,None,0)\n",
    "BETA_TIME_CAR_random_Norm = BETA_TIME_CAR_mean_Norm + BETA_TIME_CAR_std_Norm * bioDraws('BETA_TIME_CAR_random_Norm','NORMAL')\n",
    "\n",
    "##ML RANDOM GENERIC COST NORMAL\n",
    "BETA_COST_mean_Norm = Beta('BETA_COST_mean_Norm',0,None,None,0)\n",
    "BETA_COST_std_Norm = Beta('BETA_COST_std_Norm',1,None,None,0)\n",
    "BETA_COST_random_Norm = BETA_COST_mean_Norm + BETA_COST_std_Norm * bioDraws('BETA_COST_random_Norm','NORMAL')\n",
    "\n",
    "##ML RANDOM GENERIC HE NORMAL\n",
    "BETA_HE_mean_Norm = Beta('BETA_HE_mean_Norm',0,None,None,0)\n",
    "BETA_HE_std_Norm = Beta('BETA_HE_std_Norm',1,None,None,0)\n",
    "BETA_HE_random_Norm = BETA_HE_mean_Norm + BETA_HE_std_Norm * bioDraws('BETA_HE_random_Norm','NORMAL')\n",
    "\n",
    "##ML RANDOM GENERIC TIME NORMAL\n",
    "BBETA_TIME_mean_Norm = Beta('BBETA_TIME_mean_Norm',0,None,None,0)\n",
    "BBETA_TIME_std_Norm = Beta('BBETA_TIME_std_Norm',1,None,None,0)\n",
    "BBETA_TIME_random_Norm = BBETA_TIME_mean_Norm + BBETA_TIME_std_Norm * bioDraws('BBETA_TIME_random_Norm','NORMAL')\n",
    "\n",
    "##ML RANDOM SPECIFIC TIME TRAIN LOGNORMAL\n",
    "BBETA_TIME_TRAIN_mean_Norm = Beta('BBETA_TIME_TRAIN_mean_Norm',0,None,None,0)\n",
    "BBETA_TIME_TRAIN_std_Norm = Beta('BBETA_TIME_TRAIN_std_Norm',1,None,None,0)\n",
    "BBETA_TIME_TRAIN_random_Norm = BBETA_TIME_TRAIN_mean_Norm + BBETA_TIME_TRAIN_std_Norm * bioDraws('BBETA_TIME_TRAIN_random_Norm','NORMAL')\n",
    "\n",
    "##ML RANDOM SPECIFIC TIME SM  NORMAL\n",
    "BBETA_TIME_SM_mean_Norm = Beta('BBETA_TIME_SM_mean_Norm',0,None,None,0)\n",
    "BBETA_TIME_SM_std_Norm = Beta('BBETA_TIME_SM_std_Norm',1,None,None,0)\n",
    "BBETA_TIME_SM_random_Norm = BBETA_TIME_SM_mean_Norm + BBETA_TIME_SM_std_Norm * bioDraws('BBETA_TIME_SM_random_Norm','NORMAL')\n",
    "\n",
    "##ML RANDOM SPECIFIC TIME CAR NORMAL\n",
    "BBETA_TIME_CAR_mean_Norm = Beta('BBETA_TIME_CAR_mean_Norm',0,None,None,0)\n",
    "BBETA_TIME_CAR_std_Norm = Beta('BBETA_TIME_CAR_std_Norm',1,None,None,0)\n",
    "BBETA_TIME_CAR_random_Norm = BBETA_TIME_CAR_mean_Norm + BBETA_TIME_CAR_std_Norm * bioDraws('BBETA_TIME_CAR_random_Norm','NORMAL')\n",
    "\n",
    "##ML RANDOM GENERIC COST NORMAL\n",
    "BBETA_COST_mean_Norm = Beta('BBETA_COST_mean_Norm',0,None,None,0)\n",
    "BBETA_COST_std_Norm = Beta('BBETA_COST_std_Norm',1,None,None,0)\n",
    "BBETA_COST_random_Norm = BBETA_COST_mean_Norm + BBETA_COST_std_Norm * bioDraws('BBETA_COST_random_Norm','NORMAL')\n",
    "\n",
    "##ML RANDOM GENERIC HE NORMAL\n",
    "BBETA_HE_mean_Norm = Beta('BBETA_HE_mean_Norm',0,None,None,0)\n",
    "BBETA_HE_std_Norm = Beta('BBETA_HE_std_Norm',1,None,None,0)\n",
    "BBETA_HE_random_Norm = BBETA_HE_mean_Norm + BBETA_HE_std_Norm * bioDraws('BBETA_HE_random_Norm','NORMAL')\n",
    "\n",
    "##Scaling 'COST', 'TRAVEL-TIME' and 'HE' by a factor of 100 and adding the scaled variables to the database\n",
    " \n",
    "TRAIN_TT_SCALED = DefineVariable('TRAIN_TT_SCALED',\\\n",
    "                                 TRAIN_TT / 100.0,database)\n",
    "TRAIN_COST_SCALED = DefineVariable('TRAIN_COST_SCALED',\\\n",
    "                                   TRAIN_COST / 100,database)\n",
    "TRAIN_HE_SCALED = DefineVariable('TRAIN_HE_SCALED',\\\n",
    "                                   TRAIN_HE / 100, database)\n",
    "\n",
    "SM_TT_SCALED = DefineVariable('SM_TT_SCALED', SM_TT / 100.0,database)\n",
    "SM_COST_SCALED = DefineVariable('SM_COST_SCALED', SM_COST / 100,database)\n",
    "SM_HE_SCALED = DefineVariable('SM_HE_SCALED',\\\n",
    "                                   SM_HE / 100, database)\n",
    "\n",
    "CAR_TT_SCALED = DefineVariable('CAR_TT_SCALED', CAR_TT / 100,database)\n",
    "CAR_COST_SCALED = DefineVariable('CAR_COST_SCALED', CAR_CO / 100,database)\n",
    "\n",
    "###Defining new variables and adding columns to the database\n",
    "#Age\n",
    "AGE_1 = DefineVariable('AGE_1', (  AGE   ==  1  ),database) #don't scale because is cathegorical\n",
    "AGE_2 = DefineVariable('AGE_2', (  AGE   ==  2  ),database)\n",
    "AGE_3 = DefineVariable('AGE_3', (  AGE   ==  3  ),database)\n",
    "AGE_4 = DefineVariable('AGE_4', (  AGE   ==  4  ),database)\n",
    "AGE_5 = DefineVariable('AGE_5', (  AGE   ==  5  ),database)\n",
    "AGE_6 = DefineVariable('AGE_6', (  AGE   ==  6  ),database)\n",
    "\n",
    "#Purpose\n",
    "PRIVATE  = DefineVariable(\"PRIVATE\", (PURPOSE == 1), database)\n",
    "COMMUTER = DefineVariable(\"COMMUTER\", (PURPOSE == 2), database)\n",
    "BUSINESS = DefineVariable(\"BUSINESS\", (PURPOSE == 3), database)"
   ]
  },
  {
   "cell_type": "code",
   "execution_count": 6,
   "metadata": {
    "colab": {},
    "colab_type": "code",
    "id": "tiNgcguH4f-x"
   },
   "outputs": [],
   "source": [
    "vSeq = []\n",
    "biogemeSeq = []\n",
    "bestResultPosition = []\n",
    "ModNameSeqence = []\n",
    "best = []\n",
    "results = []\n",
    "Draws=100"
   ]
  },
  {
   "cell_type": "code",
   "execution_count": 7,
   "metadata": {},
   "outputs": [
    {
     "data": {
      "text/markdown": [
       "# ^^^^^^^^^^^"
      ],
      "text/plain": [
       "<IPython.core.display.Markdown object>"
      ]
     },
     "metadata": {},
     "output_type": "display_data"
    },
    {
     "data": {
      "text/markdown": [
       "# ML_1"
      ],
      "text/plain": [
       "<IPython.core.display.Markdown object>"
      ]
     },
     "metadata": {},
     "output_type": "display_data"
    }
   ],
   "source": [
    "#BETA_COST_random\n",
    "\n",
    "#Utility functions\n",
    "TRAIN_SP = ASC_TRAIN                                      + \\\n",
    "     BETA_COST_random             * TRAIN_COST_SCALED + \\\n",
    "     B_TIME_TRAIN       * TRAIN_TT_SCALED   + \\\n",
    "     B_HE               * TRAIN_HE_SCALED           + \\\n",
    "     B_AGE_ADULTS_TRAIN * AGE_2                     + \\\n",
    "     B_AGE_3_TRAIN      * AGE_3                     + \\\n",
    "     B_AGE_ADULTS_TRAIN * AGE_4                     + \\\n",
    "     B_AGE_5_TRAIN      * AGE_5                     + \\\n",
    "     B_LUGGAGE_TRAIN    * LUGGAGE                   + \\\n",
    "     B_MALE_TRAIN       * MALE                      + \\\n",
    "     B_GA_TRAIN         * GA                        + \\\n",
    "     B_BUSINESS_TRAIN   * BUSINESS                  + \\\n",
    "     B_PRIVATE          * PRIVATE                   + \\\n",
    "     B_COMMUTER         * COMMUTER\n",
    "\n",
    "SM_SP = ASC_SM                                   + \\\n",
    "     BETA_COST_random          * SM_COST_SCALED + \\\n",
    "     B_TIME_SM       * SM_TT_SCALED   + \\\n",
    "     B_HE            * SM_HE_SCALED           + \\\n",
    "     B_AGE_ADULTS_SM * AGE_2                  + \\\n",
    "     B_AGE_ADULTS_SM * AGE_3                  + \\\n",
    "     B_AGE_4_SM      * AGE_4                  + \\\n",
    "     B_AGE_5_SM      * AGE_5                  + \\\n",
    "     B_FIRST_SM      * FIRST                  + \\\n",
    "     B_BUSINESS_SM   * BUSINESS               + \\\n",
    "     B_PRIVATE       * PRIVATE                + \\\n",
    "     B_COMMUTER      * COMMUTER\n",
    "\n",
    "Car_SP = ASC_CAR                              + \\\n",
    "     BETA_COST_random     * CAR_COST_SCALED + \\\n",
    "     B_TIME_CAR * CAR_TT_SCALED\n",
    "\n",
    "\n",
    "\n",
    "V = {3: Car_SP,1: TRAIN_SP,2: SM_SP}\n",
    "av = {3: CAR_AV_SP,1: TRAIN_AV_SP,2: SM_AV}\n",
    "\n",
    "vSeq.append(V)\n",
    "#logProbSeq.append(logprob)\n",
    "ModNameSeqence.append(\"ML_\"+str(len(vSeq)))\n",
    "display(Markdown(f\"# ^^^^^^^^^^^\"))\n",
    "display(Markdown(f\"# {ModNameSeqence[-1]}\"))"
   ]
  },
  {
   "cell_type": "code",
   "execution_count": 8,
   "metadata": {
    "colab": {
     "base_uri": "https://localhost:8080/",
     "height": 1000
    },
    "colab_type": "code",
    "id": "mvu0kUJw7qhi",
    "outputId": "da96f3f0-dfac-4609-9e9f-b11719f8cdf9",
    "scrolled": false
   },
   "outputs": [],
   "source": [
    "# database.panel('ID')\n",
    "# Conditional to B_TIME_RND, the likelihood of one observation is\n",
    "# given by the logit model (called the kernel)\n",
    "obsprob = exp(models.loglogit(V,av,CHOICE))\n",
    "\n",
    "# Conditional to B_TIME_RND, the likelihood of all observations for\n",
    "# one individual (the trajectory) is the product of the likelihood of\n",
    "# each observation.\n",
    "condprobIndiv = PanelLikelihoodTrajectory(obsprob)\n",
    "\n",
    "# We integrate over B_TIME_RND using Monte-Carlo\n",
    "logprob = log(MonteCarlo(condprobIndiv))\n",
    "\n",
    "# Create the Biogeme object\n",
    "biogeme = bio.BIOGEME(database,logprob,numberOfDraws=Draws)\n",
    "biogeme.modelName = ModNameSeqence[-1]\n",
    "\n",
    "# Estimate the parameters\n",
    "results.append(biogeme.estimate())"
   ]
  },
  {
   "cell_type": "code",
   "execution_count": 9,
   "metadata": {},
   "outputs": [
    {
     "data": {
      "text/markdown": [
       "# Results model ML_1"
      ],
      "text/plain": [
       "<IPython.core.display.Markdown object>"
      ]
     },
     "metadata": {},
     "output_type": "display_data"
    },
    {
     "name": "stdout",
     "output_type": "stream",
     "text": [
      "                       Value        Std err         t-test  p-value\n",
      "ASC_SM              0.129027  1.797693e+308  7.177359e-310      1.0\n",
      "ASC_TRAIN          -0.667315  1.797693e+308 -3.712062e-309      1.0\n",
      "BETA_COST_mean      0.498236  1.797693e+308  2.771532e-309      1.0\n",
      "BETA_COST_std       1.976348  1.797693e+308  1.099380e-308      1.0\n",
      "B_AGE_3_TRAIN      -1.379531   0.000000e+00  1.797693e+308      0.0\n",
      "B_AGE_4_SM         -0.886321  5.273843e-155 -1.680598e+154      0.0\n",
      "B_AGE_5_SM         -1.064814  -0.000000e+00  1.797693e+308      0.0\n",
      "B_AGE_5_TRAIN      -0.068540   0.000000e+00  1.797693e+308      0.0\n",
      "B_AGE_ADULTS_SM    -0.607723  2.222759e-162 -2.734094e+161      0.0\n",
      "B_AGE_TRAIN_ADULTS -1.354971  5.273843e-155 -2.569229e+154      0.0\n",
      "B_BUSINESS_SM       0.756189   0.000000e+00  1.797693e+308      0.0\n",
      "B_BUSINESS_TRAIN    1.242377   0.000000e+00  1.797693e+308      0.0\n",
      "B_COMMUTER          1.864058  5.273843e-155  3.534534e+154      0.0\n",
      "B_FIRST_SM          0.250323  1.797693e+308  1.392469e-309      1.0\n",
      "B_GA_TRAIN          2.091003  1.797693e+308  1.163159e-308      1.0\n",
      "B_HE               -0.857339  1.797693e+308 -4.769106e-309      1.0\n",
      "B_LUGGAGE_TRAIN     0.299806  1.797693e+308  1.667725e-309      1.0\n",
      "B_MALE_TRAIN       -0.662756  1.797693e+308 -3.686700e-309      1.0\n",
      "B_PRIVATE           2.062576  5.273843e-155  3.910953e+154      0.0\n",
      "B_TIME_CAR         -1.514039  1.797693e+308 -8.422119e-309      1.0\n",
      "B_TIME_SM          -1.529955  1.797693e+308 -8.510660e-309      1.0\n",
      "B_TIME_TRAIN       -1.485859  1.797693e+308 -8.265366e-309      1.0\n",
      "LL(0) =    -10742.307\n",
      "LL(beta) = -6890.417\n",
      "***************\n",
      "AIC = 13824.834111187754\n",
      "BIC = 14189.033158587143\n",
      "rho bar square = 0.357\n"
     ]
    }
   ],
   "source": [
    "print_result(results, database)"
   ]
  },
  {
   "cell_type": "code",
   "execution_count": 10,
   "metadata": {},
   "outputs": [
    {
     "data": {
      "text/markdown": [
       "# ^^^^^^^^^^^"
      ],
      "text/plain": [
       "<IPython.core.display.Markdown object>"
      ]
     },
     "metadata": {},
     "output_type": "display_data"
    },
    {
     "data": {
      "text/markdown": [
       "# ML_2"
      ],
      "text/plain": [
       "<IPython.core.display.Markdown object>"
      ]
     },
     "metadata": {},
     "output_type": "display_data"
    }
   ],
   "source": [
    "#BETA_COST_random_Norm\n",
    "\n",
    "\n",
    "\n",
    "#Utility functions\n",
    "TRAIN_SP = ASC_TRAIN                                      + \\\n",
    "     BETA_COST_random_Norm             * TRAIN_COST_SCALED + \\\n",
    "     B_TIME_TRAIN       * TRAIN_TT_SCALED   + \\\n",
    "     B_HE               * TRAIN_HE_SCALED           + \\\n",
    "     B_AGE_ADULTS_TRAIN * AGE_2                     + \\\n",
    "     B_AGE_3_TRAIN      * AGE_3                     + \\\n",
    "     B_AGE_ADULTS_TRAIN * AGE_4                     + \\\n",
    "     B_AGE_5_TRAIN      * AGE_5                     + \\\n",
    "     B_LUGGAGE_TRAIN    * LUGGAGE                   + \\\n",
    "     B_MALE_TRAIN       * MALE                      + \\\n",
    "     B_GA_TRAIN         * GA                        + \\\n",
    "     B_BUSINESS_TRAIN   * BUSINESS                  + \\\n",
    "     B_PRIVATE          * PRIVATE                   + \\\n",
    "     B_COMMUTER         * COMMUTER\n",
    "\n",
    "SM_SP = ASC_SM                                   + \\\n",
    "     BETA_COST_random_Norm * SM_COST_SCALED + \\\n",
    "     B_TIME_SM       * SM_TT_SCALED   + \\\n",
    "     B_HE            * SM_HE_SCALED           + \\\n",
    "     B_AGE_ADULTS_SM * AGE_2                  + \\\n",
    "     B_AGE_ADULTS_SM * AGE_3                  + \\\n",
    "     B_AGE_4_SM      * AGE_4                  + \\\n",
    "     B_AGE_5_SM      * AGE_5                  + \\\n",
    "     B_FIRST_SM      * FIRST                  + \\\n",
    "     B_BUSINESS_SM   * BUSINESS               + \\\n",
    "     B_PRIVATE       * PRIVATE                + \\\n",
    "     B_COMMUTER      * COMMUTER\n",
    "\n",
    "Car_SP = ASC_CAR                              + \\\n",
    "     BETA_COST_random_Norm     * CAR_COST_SCALED + \\\n",
    "     B_TIME_CAR * CAR_TT_SCALED\n",
    "\n",
    "\n",
    "\n",
    "V = {3: Car_SP,1: TRAIN_SP,2: SM_SP}\n",
    "av = {3: CAR_AV_SP,1: TRAIN_AV_SP,2: SM_AV}\n",
    "\n",
    "vSeq.append(V)\n",
    "ModNameSeqence.append(\"ML_\"+str(len(vSeq)))\n",
    "display(Markdown(f\"# ^^^^^^^^^^^\"))\n",
    "display(Markdown(f\"# {ModNameSeqence[-1]}\"))"
   ]
  },
  {
   "cell_type": "code",
   "execution_count": 11,
   "metadata": {
    "scrolled": false
   },
   "outputs": [
    {
     "data": {
      "text/markdown": [
       "## Estimate  ML_2 and compare with ML_1"
      ],
      "text/plain": [
       "<IPython.core.display.Markdown object>"
      ]
     },
     "metadata": {},
     "output_type": "display_data"
    },
    {
     "data": {
      "text/markdown": [
       "#### Unrestricted model ML_2 and Restricted model ML_1"
      ],
      "text/plain": [
       "<IPython.core.display.Markdown object>"
      ]
     },
     "metadata": {},
     "output_type": "display_data"
    },
    {
     "data": {
      "text/markdown": [
       "# Results model ML_2"
      ],
      "text/plain": [
       "<IPython.core.display.Markdown object>"
      ]
     },
     "metadata": {},
     "output_type": "display_data"
    },
    {
     "name": "stdout",
     "output_type": "stream",
     "text": [
      "                        Value   Std err     t-test       p-value\n",
      "ASC_SM              -0.048531  0.306759  -0.158204  8.742960e-01\n",
      "ASC_TRAIN           -0.453333  0.334291  -1.356103  1.750665e-01\n",
      "BETA_COST_mean_Norm -3.434380  0.171492 -20.026479  0.000000e+00\n",
      "BETA_COST_std_Norm   4.282128  0.198421  21.581015  0.000000e+00\n",
      "B_AGE_3_TRAIN       -1.446603  0.292266  -4.949607  7.436345e-07\n",
      "B_AGE_4_SM          -1.111647  0.288948  -3.847223  1.194644e-04\n",
      "B_AGE_5_SM          -1.432079  0.313436  -4.568971  4.901251e-06\n",
      "B_AGE_5_TRAIN       -0.294204  0.318542  -0.923593  3.556983e-01\n",
      "B_AGE_ADULTS_SM     -0.765477  0.282352  -2.711072  6.706604e-03\n",
      "B_AGE_TRAIN_ADULTS  -1.429918  0.287841  -4.967731  6.774099e-07\n",
      "B_BUSINESS_SM        0.812856  0.092137   8.822239  0.000000e+00\n",
      "B_BUSINESS_TRAIN     1.295611  0.109837  11.795750  0.000000e+00\n",
      "B_COMMUTER           1.555806  0.170214   9.140314  0.000000e+00\n",
      "B_FIRST_SM           0.367211  0.064215   5.718466  1.074902e-08\n",
      "B_GA_TRAIN           1.819567  0.081685  22.275418  0.000000e+00\n",
      "B_HE                -0.777920  0.089950  -8.648378  0.000000e+00\n",
      "B_LUGGAGE_TRAIN      0.247865  0.058293   4.252030  2.118418e-05\n",
      "B_MALE_TRAIN        -0.705509  0.075767  -9.311494  0.000000e+00\n",
      "B_PRIVATE            2.122987  0.145938  14.547159  0.000000e+00\n",
      "B_TIME_CAR          -1.808749  0.075747 -23.878817  0.000000e+00\n",
      "B_TIME_SM           -1.519630  0.090456 -16.799640  0.000000e+00\n",
      "B_TIME_TRAIN        -1.563360  0.079271 -19.721820  0.000000e+00\n",
      "LL(0) =    -10590.533\n",
      "LL(beta) = -6892.844\n",
      "***************\n",
      "AIC = 13829.68863610325\n",
      "BIC = 14193.887683502639\n",
      "rho bar square = 0.347\n"
     ]
    },
    {
     "data": {
      "text/markdown": [
       "# Results model ML_1"
      ],
      "text/plain": [
       "<IPython.core.display.Markdown object>"
      ]
     },
     "metadata": {},
     "output_type": "display_data"
    },
    {
     "name": "stdout",
     "output_type": "stream",
     "text": [
      "                       Value        Std err         t-test  p-value\n",
      "ASC_SM              0.129027  1.797693e+308  7.177359e-310      1.0\n",
      "ASC_TRAIN          -0.667315  1.797693e+308 -3.712062e-309      1.0\n",
      "BETA_COST_mean      0.498236  1.797693e+308  2.771532e-309      1.0\n",
      "BETA_COST_std       1.976348  1.797693e+308  1.099380e-308      1.0\n",
      "B_AGE_3_TRAIN      -1.379531   0.000000e+00  1.797693e+308      0.0\n",
      "B_AGE_4_SM         -0.886321  5.273843e-155 -1.680598e+154      0.0\n",
      "B_AGE_5_SM         -1.064814  -0.000000e+00  1.797693e+308      0.0\n",
      "B_AGE_5_TRAIN      -0.068540   0.000000e+00  1.797693e+308      0.0\n",
      "B_AGE_ADULTS_SM    -0.607723  2.222759e-162 -2.734094e+161      0.0\n",
      "B_AGE_TRAIN_ADULTS -1.354971  5.273843e-155 -2.569229e+154      0.0\n",
      "B_BUSINESS_SM       0.756189   0.000000e+00  1.797693e+308      0.0\n",
      "B_BUSINESS_TRAIN    1.242377   0.000000e+00  1.797693e+308      0.0\n",
      "B_COMMUTER          1.864058  5.273843e-155  3.534534e+154      0.0\n",
      "B_FIRST_SM          0.250323  1.797693e+308  1.392469e-309      1.0\n",
      "B_GA_TRAIN          2.091003  1.797693e+308  1.163159e-308      1.0\n",
      "B_HE               -0.857339  1.797693e+308 -4.769106e-309      1.0\n",
      "B_LUGGAGE_TRAIN     0.299806  1.797693e+308  1.667725e-309      1.0\n",
      "B_MALE_TRAIN       -0.662756  1.797693e+308 -3.686700e-309      1.0\n",
      "B_PRIVATE           2.062576  5.273843e-155  3.910953e+154      0.0\n",
      "B_TIME_CAR         -1.514039  1.797693e+308 -8.422119e-309      1.0\n",
      "B_TIME_SM          -1.529955  1.797693e+308 -8.510660e-309      1.0\n",
      "B_TIME_TRAIN       -1.485859  1.797693e+308 -8.265366e-309      1.0\n",
      "LL(0) =    -10742.307\n",
      "LL(beta) = -6890.417\n",
      "***************\n",
      "AIC = 13824.834111187754\n",
      "BIC = 14189.033158587143\n",
      "rho bar square = 0.357\n"
     ]
    },
    {
     "data": {
      "text/markdown": [
       "### Diff. LL(beta) ML_1 > ML_2 <- True"
      ],
      "text/plain": [
       "<IPython.core.display.Markdown object>"
      ]
     },
     "metadata": {},
     "output_type": "display_data"
    },
    {
     "name": "stdout",
     "output_type": "stream",
     "text": [
      "***************\n",
      "***************\n"
     ]
    },
    {
     "data": {
      "text/markdown": [
       "### Diff. rho bar square ML_1 > ML_2 <- True"
      ],
      "text/plain": [
       "<IPython.core.display.Markdown object>"
      ]
     },
     "metadata": {},
     "output_type": "display_data"
    },
    {
     "name": "stdout",
     "output_type": "stream",
     "text": [
      "***************\n",
      "NON nested models:LogLikelihood ratio test NOT applicable\n",
      "Probability that the restricted model is false having greater rho bar squere, is below threshold:\n",
      "Threshold:0.07\n",
      "Probability:1.634074774668308e-50\n",
      "Difference:-0.07\n"
     ]
    },
    {
     "data": {
      "text/markdown": [
       "#### LogLikelihood None - BenAkivaSwaitHorowitzTest ML_1"
      ],
      "text/plain": [
       "<IPython.core.display.Markdown object>"
      ]
     },
     "metadata": {},
     "output_type": "display_data"
    },
    {
     "data": {
      "text/markdown": [
       "#### LogLikelihood TEST None disagrees with BenAkivaSwaitHorowitzTest ML_1"
      ],
      "text/plain": [
       "<IPython.core.display.Markdown object>"
      ]
     },
     "metadata": {},
     "output_type": "display_data"
    },
    {
     "data": {
      "text/markdown": [
       "### TRY  CROSS VALIDATION"
      ],
      "text/plain": [
       "<IPython.core.display.Markdown object>"
      ]
     },
     "metadata": {},
     "output_type": "display_data"
    },
    {
     "data": {
      "text/markdown": [
       "# Perform  Cross Validation Between ['ML_2', 'ML_1']"
      ],
      "text/plain": [
       "<IPython.core.display.Markdown object>"
      ]
     },
     "metadata": {},
     "output_type": "display_data"
    },
    {
     "name": "stdout",
     "output_type": "stream",
     "text": [
      "Model 0\n",
      "Fold 0\n",
      "Model 0\n",
      "Fold 1\n",
      "Model 0\n",
      "Fold 2\n",
      "Model 0\n",
      "Fold 3\n",
      "Model 0\n",
      "Fold 4\n",
      "Model 1\n",
      "Fold 0\n",
      "Model 1\n",
      "Fold 1\n",
      "Model 1\n",
      "Fold 2\n",
      "Model 1\n",
      "Fold 3\n",
      "Model 1\n",
      "Fold 4\n",
      "loglikelihood model ML_1: -1532.7459204911288 +/- 34.890709068029295\n",
      "loglikelihood model ML_2: -1548.8919477587963 +/- 52.269912673525155\n"
     ]
    },
    {
     "data": {
      "text/markdown": [
       "## Accept ML_1 performs better off the sample"
      ],
      "text/plain": [
       "<IPython.core.display.Markdown object>"
      ]
     },
     "metadata": {},
     "output_type": "display_data"
    }
   ],
   "source": [
    "bestRes, results = estimate_N_compare(ModNameSeqence[-1]\n",
    "                               , 'ML_1'\n",
    "                               , vSeq\n",
    "                               , av\n",
    "                               , CHOICE, Car_SP, TRAIN_SP, SM_SP, CAR_AV_SP, TRAIN_AV_SP, SM_AV\n",
    "                               , database\n",
    "                               , pandas\n",
    "                               , myRandomNumberGenerators\n",
    "                               , results\n",
    "                               , ModNameSeqence=ModNameSeqence\n",
    "                               , Draws=Draws)\n",
    "best.append(bestRes)"
   ]
  },
  {
   "cell_type": "code",
   "execution_count": 12,
   "metadata": {},
   "outputs": [
    {
     "data": {
      "text/markdown": [
       "# ^^^^^^^^^^^"
      ],
      "text/plain": [
       "<IPython.core.display.Markdown object>"
      ]
     },
     "metadata": {},
     "output_type": "display_data"
    },
    {
     "data": {
      "text/markdown": [
       "# ML_3"
      ],
      "text/plain": [
       "<IPython.core.display.Markdown object>"
      ]
     },
     "metadata": {},
     "output_type": "display_data"
    }
   ],
   "source": [
    "#BETA_COST_random\n",
    "#BETA_HE_random\n",
    "\n",
    "\n",
    "\n",
    "\n",
    "#Utility functions\n",
    "TRAIN_SP = ASC_TRAIN                                      + \\\n",
    "     BETA_COST_random             * TRAIN_COST_SCALED + \\\n",
    "     B_TIME_TRAIN       * TRAIN_TT_SCALED   + \\\n",
    "     BETA_HE_random               * TRAIN_HE_SCALED           + \\\n",
    "     B_AGE_ADULTS_TRAIN * AGE_2                     + \\\n",
    "     B_AGE_3_TRAIN      * AGE_3                     + \\\n",
    "     B_AGE_ADULTS_TRAIN * AGE_4                     + \\\n",
    "     B_AGE_5_TRAIN      * AGE_5                     + \\\n",
    "     B_LUGGAGE_TRAIN    * LUGGAGE                   + \\\n",
    "     B_MALE_TRAIN       * MALE                      + \\\n",
    "     B_GA_TRAIN         * GA                        + \\\n",
    "     B_BUSINESS_TRAIN   * BUSINESS                  + \\\n",
    "     B_PRIVATE          * PRIVATE                   + \\\n",
    "     B_COMMUTER         * COMMUTER\n",
    "\n",
    "SM_SP = ASC_SM                                   + \\\n",
    "     BETA_COST_random * SM_COST_SCALED + \\\n",
    "     B_TIME_SM       * SM_TT_SCALED   + \\\n",
    "     BETA_HE_random            * SM_HE_SCALED           + \\\n",
    "     B_AGE_ADULTS_SM * AGE_2                  + \\\n",
    "     B_AGE_ADULTS_SM * AGE_3                  + \\\n",
    "     B_AGE_4_SM      * AGE_4                  + \\\n",
    "     B_AGE_5_SM      * AGE_5                  + \\\n",
    "     B_FIRST_SM      * FIRST                  + \\\n",
    "     B_BUSINESS_SM   * BUSINESS               + \\\n",
    "     B_PRIVATE       * PRIVATE                + \\\n",
    "     B_COMMUTER      * COMMUTER\n",
    "\n",
    "Car_SP = ASC_CAR                              + \\\n",
    "     BETA_COST_random     * CAR_COST_SCALED + \\\n",
    "     B_TIME_CAR * CAR_TT_SCALED\n",
    "\n",
    "\n",
    "\n",
    "V = {3: Car_SP,1: TRAIN_SP,2: SM_SP}\n",
    "av = {3: CAR_AV_SP,1: TRAIN_AV_SP,2: SM_AV}\n",
    "\n",
    "vSeq.append(V)\n",
    "ModNameSeqence.append(\"ML_\"+str(len(vSeq)))\n",
    "display(Markdown(f\"# ^^^^^^^^^^^\"))\n",
    "display(Markdown(f\"# {ModNameSeqence[-1]}\"))"
   ]
  },
  {
   "cell_type": "code",
   "execution_count": 13,
   "metadata": {
    "scrolled": false
   },
   "outputs": [
    {
     "data": {
      "text/markdown": [
       "## Estimate  ML_3 and compare with ML_1"
      ],
      "text/plain": [
       "<IPython.core.display.Markdown object>"
      ]
     },
     "metadata": {},
     "output_type": "display_data"
    },
    {
     "data": {
      "text/markdown": [
       "#### Unrestricted model ML_3 and Restricted model ML_1"
      ],
      "text/plain": [
       "<IPython.core.display.Markdown object>"
      ]
     },
     "metadata": {},
     "output_type": "display_data"
    },
    {
     "data": {
      "text/markdown": [
       "# Results model ML_3"
      ],
      "text/plain": [
       "<IPython.core.display.Markdown object>"
      ]
     },
     "metadata": {},
     "output_type": "display_data"
    },
    {
     "name": "stdout",
     "output_type": "stream",
     "text": [
      "                       Value        Std err         t-test  p-value\n",
      "ASC_SM             -0.028358  1.797693e+308 -1.577443e-310      1.0\n",
      "ASC_TRAIN          -0.463904  1.797693e+308 -2.580550e-309      1.0\n",
      "BETA_COST_mean      0.811610  1.797693e+308  4.514731e-309      1.0\n",
      "BETA_COST_std       1.864530  1.797693e+308  1.037179e-308      1.0\n",
      "BETA_HE_mean        0.471902  1.797693e+308  2.625039e-309      1.0\n",
      "BETA_HE_std         1.848860  1.797693e+308  1.028463e-308      1.0\n",
      "B_AGE_3_TRAIN      -1.584494  3.457293e-155 -4.583049e+154      0.0\n",
      "B_AGE_4_SM         -0.855949  1.797693e+308 -4.761373e-309      1.0\n",
      "B_AGE_5_SM         -0.824577  1.728647e-155 -4.770073e+154      0.0\n",
      "B_AGE_5_TRAIN       0.160130  1.728647e-155  9.263303e+153      0.0\n",
      "B_AGE_ADULTS_SM    -0.718632  1.797693e+308 -3.997522e-309      1.0\n",
      "B_AGE_TRAIN_ADULTS -1.486785  -0.000000e+00  1.797693e+308      0.0\n",
      "B_BUSINESS_SM       0.970819  2.636922e-155  3.681638e+154      0.0\n",
      "B_BUSINESS_TRAIN    1.355407  2.636922e-155  5.140109e+154      0.0\n",
      "B_COMMUTER          2.511553  3.069916e-155  8.181178e+154      0.0\n",
      "B_FIRST_SM          0.136005  1.797693e+308  7.565553e-310      1.0\n",
      "B_GA_TRAIN          2.370267  1.797693e+308  1.318505e-308      1.0\n",
      "B_LUGGAGE_TRAIN     0.364204  1.797693e+308  2.025952e-309      1.0\n",
      "B_MALE_TRAIN       -0.563850  1.797693e+308 -3.136521e-309      1.0\n",
      "B_PRIVATE           2.833238  3.069916e-155  9.229041e+154      0.0\n",
      "B_TIME_CAR         -2.316368  1.797693e+308 -1.288523e-308      1.0\n",
      "B_TIME_SM          -1.751577  1.797693e+308 -9.743472e-309      1.0\n",
      "B_TIME_TRAIN       -1.765534  1.797693e+308 -9.821108e-309      1.0\n",
      "LL(0) =    -9599.829\n",
      "LL(beta) = -6461.346\n",
      "***************\n",
      "AIC = 12968.692948235319\n",
      "BIC = 13349.446497789224\n",
      "rho bar square = 0.325\n"
     ]
    },
    {
     "data": {
      "text/markdown": [
       "# Results model ML_1"
      ],
      "text/plain": [
       "<IPython.core.display.Markdown object>"
      ]
     },
     "metadata": {},
     "output_type": "display_data"
    },
    {
     "name": "stdout",
     "output_type": "stream",
     "text": [
      "                       Value        Std err         t-test  p-value\n",
      "ASC_SM              0.129027  1.797693e+308  7.177359e-310      1.0\n",
      "ASC_TRAIN          -0.667315  1.797693e+308 -3.712062e-309      1.0\n",
      "BETA_COST_mean      0.498236  1.797693e+308  2.771532e-309      1.0\n",
      "BETA_COST_std       1.976348  1.797693e+308  1.099380e-308      1.0\n",
      "B_AGE_3_TRAIN      -1.379531   0.000000e+00  1.797693e+308      0.0\n",
      "B_AGE_4_SM         -0.886321  5.273843e-155 -1.680598e+154      0.0\n",
      "B_AGE_5_SM         -1.064814  -0.000000e+00  1.797693e+308      0.0\n",
      "B_AGE_5_TRAIN      -0.068540   0.000000e+00  1.797693e+308      0.0\n",
      "B_AGE_ADULTS_SM    -0.607723  2.222759e-162 -2.734094e+161      0.0\n",
      "B_AGE_TRAIN_ADULTS -1.354971  5.273843e-155 -2.569229e+154      0.0\n",
      "B_BUSINESS_SM       0.756189   0.000000e+00  1.797693e+308      0.0\n",
      "B_BUSINESS_TRAIN    1.242377   0.000000e+00  1.797693e+308      0.0\n",
      "B_COMMUTER          1.864058  5.273843e-155  3.534534e+154      0.0\n",
      "B_FIRST_SM          0.250323  1.797693e+308  1.392469e-309      1.0\n",
      "B_GA_TRAIN          2.091003  1.797693e+308  1.163159e-308      1.0\n",
      "B_HE               -0.857339  1.797693e+308 -4.769106e-309      1.0\n",
      "B_LUGGAGE_TRAIN     0.299806  1.797693e+308  1.667725e-309      1.0\n",
      "B_MALE_TRAIN       -0.662756  1.797693e+308 -3.686700e-309      1.0\n",
      "B_PRIVATE           2.062576  5.273843e-155  3.910953e+154      0.0\n",
      "B_TIME_CAR         -1.514039  1.797693e+308 -8.422119e-309      1.0\n",
      "B_TIME_SM          -1.529955  1.797693e+308 -8.510660e-309      1.0\n",
      "B_TIME_TRAIN       -1.485859  1.797693e+308 -8.265366e-309      1.0\n",
      "LL(0) =    -10742.307\n",
      "LL(beta) = -6890.417\n",
      "***************\n",
      "AIC = 13824.834111187754\n",
      "BIC = 14189.033158587143\n",
      "rho bar square = 0.357\n"
     ]
    },
    {
     "data": {
      "text/markdown": [
       "### Diff. LL(beta) ML_1 > ML_3 <- False"
      ],
      "text/plain": [
       "<IPython.core.display.Markdown object>"
      ]
     },
     "metadata": {},
     "output_type": "display_data"
    },
    {
     "name": "stdout",
     "output_type": "stream",
     "text": [
      "***************\n",
      "***************\n"
     ]
    },
    {
     "data": {
      "text/markdown": [
       "### Diff. rho bar square ML_1 > ML_3 <- True"
      ],
      "text/plain": [
       "<IPython.core.display.Markdown object>"
      ]
     },
     "metadata": {},
     "output_type": "display_data"
    },
    {
     "name": "stdout",
     "output_type": "stream",
     "text": [
      "***************\n",
      "RatioTest 858.1411629524355\n",
      "Critical 3.841458820694124\n",
      "Chose Unrestricted (reject H0 the parameters of the unrestricted model are 0)\n"
     ]
    },
    {
     "data": {
      "text/markdown": [
       "### LL Ratio Test Result (abs(STAT)-CHI2)854.2997041317414"
      ],
      "text/plain": [
       "<IPython.core.display.Markdown object>"
      ]
     },
     "metadata": {},
     "output_type": "display_data"
    },
    {
     "name": "stdout",
     "output_type": "stream",
     "text": [
      "Probability that the restricted model is false having greater rho bar squere, is below threshold:\n",
      "Threshold:0.07\n",
      "Probability:1.5600280704452976e-165\n",
      "Difference:-0.07\n"
     ]
    },
    {
     "data": {
      "text/markdown": [
       "#### LogLikelihood ML_3 - BenAkivaSwaitHorowitzTest ML_1"
      ],
      "text/plain": [
       "<IPython.core.display.Markdown object>"
      ]
     },
     "metadata": {},
     "output_type": "display_data"
    },
    {
     "data": {
      "text/markdown": [
       "#### LogLikelihood TEST ML_3 disagrees with BenAkivaSwaitHorowitzTest ML_1"
      ],
      "text/plain": [
       "<IPython.core.display.Markdown object>"
      ]
     },
     "metadata": {},
     "output_type": "display_data"
    },
    {
     "data": {
      "text/markdown": [
       "### TRY  CROSS VALIDATION"
      ],
      "text/plain": [
       "<IPython.core.display.Markdown object>"
      ]
     },
     "metadata": {},
     "output_type": "display_data"
    },
    {
     "data": {
      "text/markdown": [
       "# Perform  Cross Validation Between ['ML_3', 'ML_1']"
      ],
      "text/plain": [
       "<IPython.core.display.Markdown object>"
      ]
     },
     "metadata": {},
     "output_type": "display_data"
    },
    {
     "name": "stdout",
     "output_type": "stream",
     "text": [
      "Model 0\n",
      "Fold 0\n",
      "Model 0\n",
      "Fold 1\n",
      "Model 0\n",
      "Fold 2\n",
      "Model 0\n",
      "Fold 3\n",
      "Model 0\n",
      "Fold 4\n",
      "Model 1\n",
      "Fold 0\n",
      "Model 1\n",
      "Fold 1\n",
      "Model 1\n",
      "Fold 2\n",
      "Model 1\n",
      "Fold 3\n",
      "Model 1\n",
      "Fold 4\n",
      "loglikelihood model ML_1: -1534.3240046912283 +/- 35.531195497015\n",
      "loglikelihood model ML_3: -1553.5591658670771 +/- 24.911283567154456\n"
     ]
    },
    {
     "data": {
      "text/markdown": [
       "## Accept ML_1 performs better off the sample"
      ],
      "text/plain": [
       "<IPython.core.display.Markdown object>"
      ]
     },
     "metadata": {},
     "output_type": "display_data"
    }
   ],
   "source": [
    "bestRes, results = estimate_N_compare(ModNameSeqence[-1]\n",
    "                               , bestRes\n",
    "                               , vSeq\n",
    "                               , av\n",
    "                               , CHOICE, Car_SP, TRAIN_SP, SM_SP, CAR_AV_SP, TRAIN_AV_SP, SM_AV\n",
    "                               , database\n",
    "                               , pandas\n",
    "                               , myRandomNumberGenerators\n",
    "                               , results\n",
    "                               , ModNameSeqence=ModNameSeqence\n",
    "                               , Draws=Draws)\n",
    "best.append(bestRes)"
   ]
  },
  {
   "cell_type": "code",
   "execution_count": 14,
   "metadata": {},
   "outputs": [
    {
     "data": {
      "text/markdown": [
       "# ^^^^^^^^^^^"
      ],
      "text/plain": [
       "<IPython.core.display.Markdown object>"
      ]
     },
     "metadata": {},
     "output_type": "display_data"
    },
    {
     "data": {
      "text/markdown": [
       "# ML_4"
      ],
      "text/plain": [
       "<IPython.core.display.Markdown object>"
      ]
     },
     "metadata": {},
     "output_type": "display_data"
    }
   ],
   "source": [
    "#BETA_COST_random\n",
    "#BETA_HE_random_Norm\n",
    "\n",
    "\n",
    "#Utility functions\n",
    "TRAIN_SP = ASC_TRAIN                                      + \\\n",
    "     BETA_COST_random             * TRAIN_COST_SCALED + \\\n",
    "     B_TIME_TRAIN       * TRAIN_TT_SCALED   + \\\n",
    "     BETA_HE_random_Norm               * TRAIN_HE_SCALED           + \\\n",
    "     B_AGE_ADULTS_TRAIN * AGE_2                     + \\\n",
    "     B_AGE_3_TRAIN      * AGE_3                     + \\\n",
    "     B_AGE_ADULTS_TRAIN * AGE_4                     + \\\n",
    "     B_AGE_5_TRAIN      * AGE_5                     + \\\n",
    "     B_LUGGAGE_TRAIN    * LUGGAGE                   + \\\n",
    "     B_MALE_TRAIN       * MALE                      + \\\n",
    "     B_GA_TRAIN         * GA                        + \\\n",
    "     B_BUSINESS_TRAIN   * BUSINESS                  + \\\n",
    "     B_PRIVATE          * PRIVATE                   + \\\n",
    "     B_COMMUTER         * COMMUTER\n",
    "\n",
    "SM_SP = ASC_SM                                   + \\\n",
    "     BETA_COST_random * SM_COST_SCALED + \\\n",
    "     B_TIME_SM       * SM_TT_SCALED   + \\\n",
    "     BETA_HE_random_Norm            * SM_HE_SCALED           + \\\n",
    "     B_AGE_ADULTS_SM * AGE_2                  + \\\n",
    "     B_AGE_ADULTS_SM * AGE_3                  + \\\n",
    "     B_AGE_4_SM      * AGE_4                  + \\\n",
    "     B_AGE_5_SM      * AGE_5                  + \\\n",
    "     B_FIRST_SM      * FIRST                  + \\\n",
    "     B_BUSINESS_SM   * BUSINESS               + \\\n",
    "     B_PRIVATE       * PRIVATE                + \\\n",
    "     B_COMMUTER      * COMMUTER\n",
    "\n",
    "Car_SP = ASC_CAR                              + \\\n",
    "     BETA_COST_random     * CAR_COST_SCALED + \\\n",
    "     B_TIME_CAR * CAR_TT_SCALED\n",
    "\n",
    "\n",
    "\n",
    "V = {3: Car_SP,1: TRAIN_SP,2: SM_SP}\n",
    "av = {3: CAR_AV_SP,1: TRAIN_AV_SP,2: SM_AV}\n",
    "\n",
    "vSeq.append(V)\n",
    "ModNameSeqence.append(\"ML_\"+str(len(vSeq)))\n",
    "display(Markdown(f\"# ^^^^^^^^^^^\"))\n",
    "display(Markdown(f\"# {ModNameSeqence[-1]}\"))"
   ]
  },
  {
   "cell_type": "code",
   "execution_count": 15,
   "metadata": {},
   "outputs": [
    {
     "data": {
      "text/markdown": [
       "## Estimate  ML_4 and compare with ML_1"
      ],
      "text/plain": [
       "<IPython.core.display.Markdown object>"
      ]
     },
     "metadata": {},
     "output_type": "display_data"
    },
    {
     "data": {
      "text/markdown": [
       "#### Unrestricted model ML_4 and Restricted model ML_1"
      ],
      "text/plain": [
       "<IPython.core.display.Markdown object>"
      ]
     },
     "metadata": {},
     "output_type": "display_data"
    },
    {
     "data": {
      "text/markdown": [
       "# Results model ML_4"
      ],
      "text/plain": [
       "<IPython.core.display.Markdown object>"
      ]
     },
     "metadata": {},
     "output_type": "display_data"
    },
    {
     "name": "stdout",
     "output_type": "stream",
     "text": [
      "                       Value        Std err         t-test  p-value\n",
      "ASC_SM              0.221515  1.797693e+308  1.232216e-309      1.0\n",
      "ASC_TRAIN          -0.153759  1.797693e+308 -8.553102e-310      1.0\n",
      "BETA_COST_mean      0.634772  1.797693e+308  3.531034e-309      1.0\n",
      "BETA_COST_std       1.931400  1.797693e+308  1.074377e-308      1.0\n",
      "BETA_HE_mean_Norm  -3.793205  1.797693e+308 -2.110040e-308      1.0\n",
      "BETA_HE_std_Norm    4.432274  1.797693e+308  2.465534e-308      1.0\n",
      "B_AGE_3_TRAIN      -1.726406  1.797693e+308 -9.603450e-309      1.0\n",
      "B_AGE_4_SM         -0.984551  1.797693e+308 -5.476745e-309      1.0\n",
      "B_AGE_5_SM         -1.104449  1.797693e+308 -6.143699e-309      1.0\n",
      "B_AGE_5_TRAIN      -0.275204  1.797693e+308 -1.530875e-309      1.0\n",
      "B_AGE_ADULTS_SM    -0.729667  1.797693e+308 -4.058907e-309      1.0\n",
      "B_AGE_TRAIN_ADULTS -1.567598  1.797693e+308 -8.720051e-309      1.0\n",
      "B_BUSINESS_SM       0.951517   0.000000e+00  1.797693e+308      0.0\n",
      "B_BUSINESS_TRAIN    1.284649   0.000000e+00  1.797693e+308      0.0\n",
      "B_COMMUTER          2.241064  3.349870e-155  6.690001e+154      0.0\n",
      "B_FIRST_SM          0.237788  1.797693e+308  1.322741e-309      1.0\n",
      "B_GA_TRAIN          2.193656  1.797693e+308  1.220262e-308      1.0\n",
      "B_LUGGAGE_TRAIN     0.388741  1.797693e+308  2.162441e-309      1.0\n",
      "B_MALE_TRAIN       -0.464432  1.797693e+308 -2.583491e-309      1.0\n",
      "B_PRIVATE           2.564625  3.553858e-155  7.216454e+154      0.0\n",
      "B_TIME_CAR         -2.082854  1.797693e+308 -1.158626e-308      1.0\n",
      "B_TIME_SM          -1.742097  1.797693e+308 -9.690734e-309      1.0\n",
      "B_TIME_TRAIN       -1.890375  1.797693e+308 -1.051556e-308      1.0\n",
      "LL(0) =    -10247.108\n",
      "LL(beta) = -6453.919\n",
      "***************\n",
      "AIC = 12953.838020909201\n",
      "BIC = 13334.591570463106\n",
      "rho bar square = 0.368\n"
     ]
    },
    {
     "data": {
      "text/markdown": [
       "# Results model ML_1"
      ],
      "text/plain": [
       "<IPython.core.display.Markdown object>"
      ]
     },
     "metadata": {},
     "output_type": "display_data"
    },
    {
     "name": "stdout",
     "output_type": "stream",
     "text": [
      "                       Value        Std err         t-test  p-value\n",
      "ASC_SM              0.129027  1.797693e+308  7.177359e-310      1.0\n",
      "ASC_TRAIN          -0.667315  1.797693e+308 -3.712062e-309      1.0\n",
      "BETA_COST_mean      0.498236  1.797693e+308  2.771532e-309      1.0\n",
      "BETA_COST_std       1.976348  1.797693e+308  1.099380e-308      1.0\n",
      "B_AGE_3_TRAIN      -1.379531   0.000000e+00  1.797693e+308      0.0\n",
      "B_AGE_4_SM         -0.886321  5.273843e-155 -1.680598e+154      0.0\n",
      "B_AGE_5_SM         -1.064814  -0.000000e+00  1.797693e+308      0.0\n",
      "B_AGE_5_TRAIN      -0.068540   0.000000e+00  1.797693e+308      0.0\n",
      "B_AGE_ADULTS_SM    -0.607723  2.222759e-162 -2.734094e+161      0.0\n",
      "B_AGE_TRAIN_ADULTS -1.354971  5.273843e-155 -2.569229e+154      0.0\n",
      "B_BUSINESS_SM       0.756189   0.000000e+00  1.797693e+308      0.0\n",
      "B_BUSINESS_TRAIN    1.242377   0.000000e+00  1.797693e+308      0.0\n",
      "B_COMMUTER          1.864058  5.273843e-155  3.534534e+154      0.0\n",
      "B_FIRST_SM          0.250323  1.797693e+308  1.392469e-309      1.0\n",
      "B_GA_TRAIN          2.091003  1.797693e+308  1.163159e-308      1.0\n",
      "B_HE               -0.857339  1.797693e+308 -4.769106e-309      1.0\n",
      "B_LUGGAGE_TRAIN     0.299806  1.797693e+308  1.667725e-309      1.0\n",
      "B_MALE_TRAIN       -0.662756  1.797693e+308 -3.686700e-309      1.0\n",
      "B_PRIVATE           2.062576  5.273843e-155  3.910953e+154      0.0\n",
      "B_TIME_CAR         -1.514039  1.797693e+308 -8.422119e-309      1.0\n",
      "B_TIME_SM          -1.529955  1.797693e+308 -8.510660e-309      1.0\n",
      "B_TIME_TRAIN       -1.485859  1.797693e+308 -8.265366e-309      1.0\n",
      "LL(0) =    -10742.307\n",
      "LL(beta) = -6890.417\n",
      "***************\n",
      "AIC = 13824.834111187754\n",
      "BIC = 14189.033158587143\n",
      "rho bar square = 0.357\n"
     ]
    },
    {
     "data": {
      "text/markdown": [
       "### Diff. LL(beta) ML_1 > ML_4 <- False"
      ],
      "text/plain": [
       "<IPython.core.display.Markdown object>"
      ]
     },
     "metadata": {},
     "output_type": "display_data"
    },
    {
     "name": "stdout",
     "output_type": "stream",
     "text": [
      "***************\n",
      "***************\n"
     ]
    },
    {
     "data": {
      "text/markdown": [
       "### Diff. rho bar square ML_1 > ML_4 <- False"
      ],
      "text/plain": [
       "<IPython.core.display.Markdown object>"
      ]
     },
     "metadata": {},
     "output_type": "display_data"
    },
    {
     "name": "stdout",
     "output_type": "stream",
     "text": [
      "***************\n",
      "RatioTest 872.9960902785533\n",
      "Critical 3.841458820694124\n",
      "Chose Unrestricted (reject H0 the parameters of the unrestricted model are 0)\n"
     ]
    },
    {
     "data": {
      "text/markdown": [
       "### LL Ratio Test Result (abs(STAT)-CHI2)869.1546314578592"
      ],
      "text/plain": [
       "<IPython.core.display.Markdown object>"
      ]
     },
     "metadata": {},
     "output_type": "display_data"
    },
    {
     "name": "stdout",
     "output_type": "stream",
     "text": [
      "Probability that the unrestricted model is false having greater rho bar squere, is below threshold:\n",
      "Threshold:0.07\n",
      "Probability:9.891948461887619e-61\n",
      "Difference:-0.07\n"
     ]
    },
    {
     "data": {
      "text/markdown": [
       "#### LogLikelihood ML_4 - BenAkivaSwaitHorowitzTest ML_4"
      ],
      "text/plain": [
       "<IPython.core.display.Markdown object>"
      ]
     },
     "metadata": {},
     "output_type": "display_data"
    }
   ],
   "source": [
    "bestRes, results = estimate_N_compare(ModNameSeqence[-1]\n",
    "                               , bestRes\n",
    "                               , vSeq\n",
    "                               , av\n",
    "                               , CHOICE, Car_SP, TRAIN_SP, SM_SP, CAR_AV_SP, TRAIN_AV_SP, SM_AV\n",
    "                               , database\n",
    "                               , pandas\n",
    "                               , myRandomNumberGenerators\n",
    "                               , results\n",
    "                               , ModNameSeqence=ModNameSeqence\n",
    "                               , Draws=Draws)\n",
    "best.append(bestRes)"
   ]
  },
  {
   "cell_type": "code",
   "execution_count": 16,
   "metadata": {},
   "outputs": [
    {
     "data": {
      "text/markdown": [
       "# ^^^^^^^^^^^"
      ],
      "text/plain": [
       "<IPython.core.display.Markdown object>"
      ]
     },
     "metadata": {},
     "output_type": "display_data"
    },
    {
     "data": {
      "text/markdown": [
       "# ML_5"
      ],
      "text/plain": [
       "<IPython.core.display.Markdown object>"
      ]
     },
     "metadata": {},
     "output_type": "display_data"
    }
   ],
   "source": [
    "####BETA_COST_random\n",
    "####BETA_HE\n",
    "####BETA_TIME_TRAIN_random\n",
    "\n",
    "\n",
    "\n",
    "\n",
    "\n",
    "#Utility functions\n",
    "TRAIN_SP = ASC_TRAIN                                      + \\\n",
    "     BETA_COST_random             * TRAIN_COST_SCALED + \\\n",
    "     BETA_TIME_TRAIN_random       * TRAIN_TT_SCALED   + \\\n",
    "     B_HE               * TRAIN_HE_SCALED           + \\\n",
    "     B_AGE_ADULTS_TRAIN * AGE_2                     + \\\n",
    "     B_AGE_3_TRAIN      * AGE_3                     + \\\n",
    "     B_AGE_ADULTS_TRAIN * AGE_4                     + \\\n",
    "     B_AGE_5_TRAIN      * AGE_5                     + \\\n",
    "     B_LUGGAGE_TRAIN    * LUGGAGE                   + \\\n",
    "     B_MALE_TRAIN       * MALE                      + \\\n",
    "     B_GA_TRAIN         * GA                        + \\\n",
    "     B_BUSINESS_TRAIN   * BUSINESS                  + \\\n",
    "     B_PRIVATE          * PRIVATE                   + \\\n",
    "     B_COMMUTER         * COMMUTER\n",
    "\n",
    "SM_SP = ASC_SM                                   + \\\n",
    "     BETA_COST_random * SM_COST_SCALED + \\\n",
    "     B_TIME_SM       * SM_TT_SCALED   + \\\n",
    "     B_HE            * SM_HE_SCALED           + \\\n",
    "     B_AGE_ADULTS_SM * AGE_2                  + \\\n",
    "     B_AGE_ADULTS_SM * AGE_3                  + \\\n",
    "     B_AGE_4_SM      * AGE_4                  + \\\n",
    "     B_AGE_5_SM      * AGE_5                  + \\\n",
    "     B_FIRST_SM      * FIRST                  + \\\n",
    "     B_BUSINESS_SM   * BUSINESS               + \\\n",
    "     B_PRIVATE       * PRIVATE                + \\\n",
    "     B_COMMUTER      * COMMUTER\n",
    "\n",
    "Car_SP = ASC_CAR                              + \\\n",
    "     BETA_COST_random     * CAR_COST_SCALED + \\\n",
    "     B_TIME_CAR * CAR_TT_SCALED\n",
    "\n",
    "\n",
    "\n",
    "V = {3: Car_SP,1: TRAIN_SP,2: SM_SP}\n",
    "av = {3: CAR_AV_SP,1: TRAIN_AV_SP,2: SM_AV}\n",
    "\n",
    "vSeq.append(V)\n",
    "ModNameSeqence.append(\"ML_\"+str(len(vSeq)))\n",
    "display(Markdown(f\"# ^^^^^^^^^^^\"))\n",
    "display(Markdown(f\"# {ModNameSeqence[-1]}\"))"
   ]
  },
  {
   "cell_type": "code",
   "execution_count": 17,
   "metadata": {
    "scrolled": false
   },
   "outputs": [
    {
     "data": {
      "text/markdown": [
       "## Estimate  ML_5 and compare with ML_4"
      ],
      "text/plain": [
       "<IPython.core.display.Markdown object>"
      ]
     },
     "metadata": {},
     "output_type": "display_data"
    },
    {
     "data": {
      "text/markdown": [
       "#### Unrestricted model ML_5 and Restricted model ML_4"
      ],
      "text/plain": [
       "<IPython.core.display.Markdown object>"
      ]
     },
     "metadata": {},
     "output_type": "display_data"
    },
    {
     "data": {
      "text/markdown": [
       "# Results model ML_5"
      ],
      "text/plain": [
       "<IPython.core.display.Markdown object>"
      ]
     },
     "metadata": {},
     "output_type": "display_data"
    },
    {
     "name": "stdout",
     "output_type": "stream",
     "text": [
      "                         Value        Std err         t-test  p-value\n",
      "ASC_SM                0.194887  6.215284e-156  3.135612e+154      0.0\n",
      "ASC_TRAIN             1.268078  6.215284e-156  2.040258e+155      0.0\n",
      "BETA_COST_mean        0.589990  6.215284e-156  9.492566e+154      0.0\n",
      "BETA_COST_std         1.703059  6.215284e-156  2.740115e+155      0.0\n",
      "BETA_TIME_TRAIN_mean  1.514548  6.215284e-156  2.436812e+155      0.0\n",
      "BETA_TIME_TRAIN_std   0.648419  6.215284e-156  1.043265e+155      0.0\n",
      "B_AGE_3_TRAIN        -1.219231  6.089710e-155 -2.002118e+154      0.0\n",
      "B_AGE_4_SM           -1.053642  6.089710e-155 -1.730200e+154      0.0\n",
      "B_AGE_5_SM           -1.126488  2.029903e-155 -5.549467e+154      0.0\n",
      "B_AGE_5_TRAIN         1.875856  2.029903e-155  9.241112e+154      0.0\n",
      "B_AGE_ADULTS_SM      -0.749966   0.000000e+00  1.797693e+308      0.0\n",
      "B_AGE_TRAIN_ADULTS   -1.009791  6.089710e-155 -1.658192e+154      0.0\n",
      "B_BUSINESS_SM         0.709122  3.044855e-155  2.328920e+154      0.0\n",
      "B_BUSINESS_TRAIN      1.073242  3.044855e-155  3.524774e+154      0.0\n",
      "B_COMMUTER            1.840397  6.089710e-155  3.022142e+154      0.0\n",
      "B_FIRST_SM            0.377445  6.215284e-156  6.072854e+154      0.0\n",
      "B_GA_TRAIN            1.862361  2.029903e-155  9.174632e+154      0.0\n",
      "B_HE                 -1.118699  6.215284e-156 -1.799916e+155      0.0\n",
      "B_LUGGAGE_TRAIN       0.599910  6.215284e-156  9.652177e+154      0.0\n",
      "B_MALE_TRAIN         -0.618474  6.215284e-156 -9.950850e+154      0.0\n",
      "B_PRIVATE             2.013968  6.089710e-155  3.307167e+154      0.0\n",
      "B_TIME_CAR           -1.741883  6.215284e-156 -2.802580e+155      0.0\n",
      "B_TIME_SM            -1.748030  6.215284e-156 -2.812471e+155      0.0\n",
      "LL(0) =    -8253.845\n",
      "LL(beta) = -6441.236\n",
      "***************\n",
      "AIC = 12928.47144461548\n",
      "BIC = 13309.224994169384\n",
      "rho bar square = 0.217\n"
     ]
    },
    {
     "data": {
      "text/markdown": [
       "# Results model ML_4"
      ],
      "text/plain": [
       "<IPython.core.display.Markdown object>"
      ]
     },
     "metadata": {},
     "output_type": "display_data"
    },
    {
     "name": "stdout",
     "output_type": "stream",
     "text": [
      "                       Value        Std err         t-test  p-value\n",
      "ASC_SM              0.221515  1.797693e+308  1.232216e-309      1.0\n",
      "ASC_TRAIN          -0.153759  1.797693e+308 -8.553102e-310      1.0\n",
      "BETA_COST_mean      0.634772  1.797693e+308  3.531034e-309      1.0\n",
      "BETA_COST_std       1.931400  1.797693e+308  1.074377e-308      1.0\n",
      "BETA_HE_mean_Norm  -3.793205  1.797693e+308 -2.110040e-308      1.0\n",
      "BETA_HE_std_Norm    4.432274  1.797693e+308  2.465534e-308      1.0\n",
      "B_AGE_3_TRAIN      -1.726406  1.797693e+308 -9.603450e-309      1.0\n",
      "B_AGE_4_SM         -0.984551  1.797693e+308 -5.476745e-309      1.0\n",
      "B_AGE_5_SM         -1.104449  1.797693e+308 -6.143699e-309      1.0\n",
      "B_AGE_5_TRAIN      -0.275204  1.797693e+308 -1.530875e-309      1.0\n",
      "B_AGE_ADULTS_SM    -0.729667  1.797693e+308 -4.058907e-309      1.0\n",
      "B_AGE_TRAIN_ADULTS -1.567598  1.797693e+308 -8.720051e-309      1.0\n",
      "B_BUSINESS_SM       0.951517   0.000000e+00  1.797693e+308      0.0\n",
      "B_BUSINESS_TRAIN    1.284649   0.000000e+00  1.797693e+308      0.0\n",
      "B_COMMUTER          2.241064  3.349870e-155  6.690001e+154      0.0\n",
      "B_FIRST_SM          0.237788  1.797693e+308  1.322741e-309      1.0\n",
      "B_GA_TRAIN          2.193656  1.797693e+308  1.220262e-308      1.0\n",
      "B_LUGGAGE_TRAIN     0.388741  1.797693e+308  2.162441e-309      1.0\n",
      "B_MALE_TRAIN       -0.464432  1.797693e+308 -2.583491e-309      1.0\n",
      "B_PRIVATE           2.564625  3.553858e-155  7.216454e+154      0.0\n",
      "B_TIME_CAR         -2.082854  1.797693e+308 -1.158626e-308      1.0\n",
      "B_TIME_SM          -1.742097  1.797693e+308 -9.690734e-309      1.0\n",
      "B_TIME_TRAIN       -1.890375  1.797693e+308 -1.051556e-308      1.0\n",
      "LL(0) =    -10247.108\n",
      "LL(beta) = -6453.919\n",
      "***************\n",
      "AIC = 12953.838020909201\n",
      "BIC = 13334.591570463106\n",
      "rho bar square = 0.368\n"
     ]
    },
    {
     "data": {
      "text/markdown": [
       "### Diff. LL(beta) ML_4 > ML_5 <- False"
      ],
      "text/plain": [
       "<IPython.core.display.Markdown object>"
      ]
     },
     "metadata": {},
     "output_type": "display_data"
    },
    {
     "name": "stdout",
     "output_type": "stream",
     "text": [
      "***************\n",
      "***************\n"
     ]
    },
    {
     "data": {
      "text/markdown": [
       "### Diff. rho bar square ML_4 > ML_5 <- True"
      ],
      "text/plain": [
       "<IPython.core.display.Markdown object>"
      ]
     },
     "metadata": {},
     "output_type": "display_data"
    },
    {
     "name": "stdout",
     "output_type": "stream",
     "text": [
      "***************\n",
      "NON nested models:LogLikelihood ratio test NOT applicable\n",
      "Probability that the restricted model is false having greater rho bar squere, is below threshold:\n",
      "Threshold:0.07\n",
      "Probability:0.0\n",
      "Difference:-0.07\n"
     ]
    },
    {
     "data": {
      "text/markdown": [
       "#### LogLikelihood None - BenAkivaSwaitHorowitzTest ML_4"
      ],
      "text/plain": [
       "<IPython.core.display.Markdown object>"
      ]
     },
     "metadata": {},
     "output_type": "display_data"
    },
    {
     "data": {
      "text/markdown": [
       "#### LogLikelihood TEST None disagrees with BenAkivaSwaitHorowitzTest ML_4"
      ],
      "text/plain": [
       "<IPython.core.display.Markdown object>"
      ]
     },
     "metadata": {},
     "output_type": "display_data"
    },
    {
     "data": {
      "text/markdown": [
       "### TRY  CROSS VALIDATION"
      ],
      "text/plain": [
       "<IPython.core.display.Markdown object>"
      ]
     },
     "metadata": {},
     "output_type": "display_data"
    },
    {
     "data": {
      "text/markdown": [
       "# Perform  Cross Validation Between ['ML_5', 'ML_4']"
      ],
      "text/plain": [
       "<IPython.core.display.Markdown object>"
      ]
     },
     "metadata": {},
     "output_type": "display_data"
    },
    {
     "name": "stdout",
     "output_type": "stream",
     "text": [
      "Model 0\n",
      "Fold 0\n",
      "Model 0\n",
      "Fold 1\n",
      "Model 0\n",
      "Fold 2\n",
      "Model 0\n",
      "Fold 3\n",
      "Model 0\n",
      "Fold 4\n",
      "Model 1\n",
      "Fold 0\n",
      "Model 1\n",
      "Fold 1\n",
      "Model 1\n",
      "Fold 2\n",
      "Model 1\n",
      "Fold 3\n",
      "Model 1\n",
      "Fold 4\n",
      "loglikelihood model ML_5: -1548.267368447137 +/- 35.36314783204201\n",
      "loglikelihood model ML_4: -1568.7698936018212 +/- 29.76161344557146\n"
     ]
    },
    {
     "data": {
      "text/markdown": [
       "## Accept ML_5 performs better off the sample"
      ],
      "text/plain": [
       "<IPython.core.display.Markdown object>"
      ]
     },
     "metadata": {},
     "output_type": "display_data"
    }
   ],
   "source": [
    "bestRes, results = estimate_N_compare(ModNameSeqence[-1]\n",
    "                               , bestRes\n",
    "                               , vSeq\n",
    "                               , av\n",
    "                               , CHOICE, Car_SP, TRAIN_SP, SM_SP, CAR_AV_SP, TRAIN_AV_SP, SM_AV\n",
    "                               , database\n",
    "                               , pandas\n",
    "                               , myRandomNumberGenerators\n",
    "                               , results\n",
    "                               , ModNameSeqence=ModNameSeqence\n",
    "                               , Draws=Draws)\n",
    "best.append(bestRes)"
   ]
  },
  {
   "cell_type": "code",
   "execution_count": 18,
   "metadata": {},
   "outputs": [
    {
     "data": {
      "text/markdown": [
       "# ^^^^^^^^^^^"
      ],
      "text/plain": [
       "<IPython.core.display.Markdown object>"
      ]
     },
     "metadata": {},
     "output_type": "display_data"
    },
    {
     "data": {
      "text/markdown": [
       "# ML_6"
      ],
      "text/plain": [
       "<IPython.core.display.Markdown object>"
      ]
     },
     "metadata": {},
     "output_type": "display_data"
    }
   ],
   "source": [
    "##q_COST\n",
    "##q_TIME\n",
    "##q_HE\n",
    "\n",
    "####BETA_COST_random\n",
    "####BETA_HE_random_Normal\n",
    "####BETA_TIME_TRAIN_random_Norm\n",
    "\n",
    "#BETA_TIME_SM_random\n",
    "#BETA_TIME_CAR_random\n",
    "\n",
    "\n",
    "\n",
    "\n",
    "\n",
    "#Utility functions\n",
    "TRAIN_SP = ASC_TRAIN                                      + \\\n",
    "     BETA_COST_random             * TRAIN_COST_SCALED + \\\n",
    "     BETA_TIME_TRAIN_random_Norm       * TRAIN_TT_SCALED   + \\\n",
    "     BETA_HE_random_Norm               * TRAIN_HE_SCALED           + \\\n",
    "     B_AGE_ADULTS_TRAIN * AGE_2                     + \\\n",
    "     B_AGE_3_TRAIN      * AGE_3                     + \\\n",
    "     B_AGE_ADULTS_TRAIN * AGE_4                     + \\\n",
    "     B_AGE_5_TRAIN      * AGE_5                     + \\\n",
    "     B_LUGGAGE_TRAIN    * LUGGAGE                   + \\\n",
    "     B_MALE_TRAIN       * MALE                      + \\\n",
    "     B_GA_TRAIN         * GA                        + \\\n",
    "     B_BUSINESS_TRAIN   * BUSINESS                  + \\\n",
    "     B_PRIVATE          * PRIVATE                   + \\\n",
    "     B_COMMUTER         * COMMUTER\n",
    "\n",
    "SM_SP = ASC_SM                                   + \\\n",
    "     BETA_COST_random * SM_COST_SCALED + \\\n",
    "     B_TIME_SM       * SM_TT_SCALED   + \\\n",
    "     BETA_HE_random_Norm            * SM_HE_SCALED           + \\\n",
    "     B_AGE_ADULTS_SM * AGE_2                  + \\\n",
    "     B_AGE_ADULTS_SM * AGE_3                  + \\\n",
    "     B_AGE_4_SM      * AGE_4                  + \\\n",
    "     B_AGE_5_SM      * AGE_5                  + \\\n",
    "     B_FIRST_SM      * FIRST                  + \\\n",
    "     B_BUSINESS_SM   * BUSINESS               + \\\n",
    "     B_PRIVATE       * PRIVATE                + \\\n",
    "     B_COMMUTER      * COMMUTER\n",
    "\n",
    "Car_SP = ASC_CAR                              + \\\n",
    "     BETA_COST_random     * CAR_COST_SCALED + \\\n",
    "     B_TIME_CAR * CAR_TT_SCALED\n",
    "\n",
    "\n",
    "\n",
    "V = {3: Car_SP,1: TRAIN_SP,2: SM_SP}\n",
    "av = {3: CAR_AV_SP,1: TRAIN_AV_SP,2: SM_AV}\n",
    "\n",
    "vSeq.append(V)\n",
    "ModNameSeqence.append(\"ML_\"+str(len(vSeq)))\n",
    "display(Markdown(f\"# ^^^^^^^^^^^\"))\n",
    "display(Markdown(f\"# {ModNameSeqence[-1]}\"))"
   ]
  },
  {
   "cell_type": "code",
   "execution_count": 19,
   "metadata": {},
   "outputs": [
    {
     "data": {
      "text/markdown": [
       "## Estimate  ML_6 and compare with ML_5"
      ],
      "text/plain": [
       "<IPython.core.display.Markdown object>"
      ]
     },
     "metadata": {},
     "output_type": "display_data"
    },
    {
     "data": {
      "text/markdown": [
       "#### Unrestricted model ML_6 and Restricted model ML_5"
      ],
      "text/plain": [
       "<IPython.core.display.Markdown object>"
      ]
     },
     "metadata": {},
     "output_type": "display_data"
    },
    {
     "data": {
      "text/markdown": [
       "# Results model ML_6"
      ],
      "text/plain": [
       "<IPython.core.display.Markdown object>"
      ]
     },
     "metadata": {},
     "output_type": "display_data"
    },
    {
     "name": "stdout",
     "output_type": "stream",
     "text": [
      "                              Value        Std err         t-test  p-value\n",
      "ASC_SM                     0.057130  7.458341e-156  7.659843e+153      0.0\n",
      "ASC_TRAIN                  1.487481  7.458341e-156  1.994386e+155      0.0\n",
      "BETA_COST_mean             0.706370  7.458341e-156  9.470874e+154      0.0\n",
      "BETA_COST_std              1.551690  7.458341e-156  2.080476e+155      0.0\n",
      "BETA_HE_mean_Norm         -2.988320  7.458341e-156 -4.006682e+155      0.0\n",
      "BETA_HE_std_Norm           4.574239  7.458341e-156  6.133052e+155      0.0\n",
      "BETA_TIME_TRAIN_mean_Norm -4.080252  7.458341e-156 -5.470724e+155      0.0\n",
      "BETA_TIME_TRAIN_std_Norm   2.091175  7.458341e-156  2.803808e+155      0.0\n",
      "B_AGE_3_TRAIN             -1.841660  -0.000000e+00  1.797693e+308      0.0\n",
      "B_AGE_4_SM                -1.000376  1.797693e+308 -5.564777e-309      1.0\n",
      "B_AGE_5_SM                -1.146939   0.000000e+00  1.797693e+308      0.0\n",
      "B_AGE_5_TRAIN              0.442283  -0.000000e+00  1.797693e+308      0.0\n",
      "B_AGE_ADULTS_SM           -0.717798  5.273843e-155 -1.361053e+154      0.0\n",
      "B_AGE_TRAIN_ADULTS        -1.926929  5.273843e-155 -3.653748e+154      0.0\n",
      "B_BUSINESS_SM              0.874663  2.636922e-155  3.316985e+154      0.0\n",
      "B_BUSINESS_TRAIN           1.123548  2.636922e-155  4.260832e+154      0.0\n",
      "B_COMMUTER                 2.310067  5.273843e-155  4.380234e+154      0.0\n",
      "B_FIRST_SM                 0.381463  2.636922e-155  1.446624e+154      0.0\n",
      "B_GA_TRAIN                 2.492376  -0.000000e+00  1.797693e+308      0.0\n",
      "B_LUGGAGE_TRAIN            0.226013  2.222759e-162  1.016814e+161      0.0\n",
      "B_MALE_TRAIN              -0.787653  2.636922e-155 -2.987018e+154      0.0\n",
      "B_PRIVATE                  2.617923  5.273843e-155  4.963976e+154      0.0\n",
      "B_TIME_CAR                -2.195500  7.458341e-156 -2.943684e+155      0.0\n",
      "B_TIME_SM                 -1.944989  7.458341e-156 -2.607803e+155      0.0\n",
      "LL(0) =    -8848.392\n",
      "LL(beta) = -6285.919\n",
      "***************\n",
      "AIC = 12619.838739314933\n",
      "BIC = 13017.146791023357\n",
      "rho bar square = 0.287\n"
     ]
    },
    {
     "data": {
      "text/markdown": [
       "# Results model ML_5"
      ],
      "text/plain": [
       "<IPython.core.display.Markdown object>"
      ]
     },
     "metadata": {},
     "output_type": "display_data"
    },
    {
     "name": "stdout",
     "output_type": "stream",
     "text": [
      "                         Value        Std err         t-test  p-value\n",
      "ASC_SM                0.194887  6.215284e-156  3.135612e+154      0.0\n",
      "ASC_TRAIN             1.268078  6.215284e-156  2.040258e+155      0.0\n",
      "BETA_COST_mean        0.589990  6.215284e-156  9.492566e+154      0.0\n",
      "BETA_COST_std         1.703059  6.215284e-156  2.740115e+155      0.0\n",
      "BETA_TIME_TRAIN_mean  1.514548  6.215284e-156  2.436812e+155      0.0\n",
      "BETA_TIME_TRAIN_std   0.648419  6.215284e-156  1.043265e+155      0.0\n",
      "B_AGE_3_TRAIN        -1.219231  6.089710e-155 -2.002118e+154      0.0\n",
      "B_AGE_4_SM           -1.053642  6.089710e-155 -1.730200e+154      0.0\n",
      "B_AGE_5_SM           -1.126488  2.029903e-155 -5.549467e+154      0.0\n",
      "B_AGE_5_TRAIN         1.875856  2.029903e-155  9.241112e+154      0.0\n",
      "B_AGE_ADULTS_SM      -0.749966   0.000000e+00  1.797693e+308      0.0\n",
      "B_AGE_TRAIN_ADULTS   -1.009791  6.089710e-155 -1.658192e+154      0.0\n",
      "B_BUSINESS_SM         0.709122  3.044855e-155  2.328920e+154      0.0\n",
      "B_BUSINESS_TRAIN      1.073242  3.044855e-155  3.524774e+154      0.0\n",
      "B_COMMUTER            1.840397  6.089710e-155  3.022142e+154      0.0\n",
      "B_FIRST_SM            0.377445  6.215284e-156  6.072854e+154      0.0\n",
      "B_GA_TRAIN            1.862361  2.029903e-155  9.174632e+154      0.0\n",
      "B_HE                 -1.118699  6.215284e-156 -1.799916e+155      0.0\n",
      "B_LUGGAGE_TRAIN       0.599910  6.215284e-156  9.652177e+154      0.0\n",
      "B_MALE_TRAIN         -0.618474  6.215284e-156 -9.950850e+154      0.0\n",
      "B_PRIVATE             2.013968  6.089710e-155  3.307167e+154      0.0\n",
      "B_TIME_CAR           -1.741883  6.215284e-156 -2.802580e+155      0.0\n",
      "B_TIME_SM            -1.748030  6.215284e-156 -2.812471e+155      0.0\n",
      "LL(0) =    -8253.845\n",
      "LL(beta) = -6441.236\n",
      "***************\n",
      "AIC = 12928.47144461548\n",
      "BIC = 13309.224994169384\n",
      "rho bar square = 0.217\n"
     ]
    },
    {
     "data": {
      "text/markdown": [
       "### Diff. LL(beta) ML_5 > ML_6 <- False"
      ],
      "text/plain": [
       "<IPython.core.display.Markdown object>"
      ]
     },
     "metadata": {},
     "output_type": "display_data"
    },
    {
     "name": "stdout",
     "output_type": "stream",
     "text": [
      "***************\n",
      "***************\n"
     ]
    },
    {
     "data": {
      "text/markdown": [
       "### Diff. rho bar square ML_5 > ML_6 <- False"
      ],
      "text/plain": [
       "<IPython.core.display.Markdown object>"
      ]
     },
     "metadata": {},
     "output_type": "display_data"
    },
    {
     "name": "stdout",
     "output_type": "stream",
     "text": [
      "***************\n",
      "RatioTest 310.63270530054615\n",
      "Critical 3.841458820694124\n",
      "Chose Unrestricted (reject H0 the parameters of the unrestricted model are 0)\n"
     ]
    },
    {
     "data": {
      "text/markdown": [
       "### LL Ratio Test Result (abs(STAT)-CHI2)306.791246479852"
      ],
      "text/plain": [
       "<IPython.core.display.Markdown object>"
      ]
     },
     "metadata": {},
     "output_type": "display_data"
    },
    {
     "name": "stdout",
     "output_type": "stream",
     "text": [
      "Probability that the unrestricted model is false having greater rho bar squere, is below threshold:\n",
      "Threshold:0.07\n",
      "Probability:0.0\n",
      "Difference:-0.07\n"
     ]
    },
    {
     "data": {
      "text/markdown": [
       "#### LogLikelihood ML_6 - BenAkivaSwaitHorowitzTest ML_6"
      ],
      "text/plain": [
       "<IPython.core.display.Markdown object>"
      ]
     },
     "metadata": {},
     "output_type": "display_data"
    }
   ],
   "source": [
    "bestRes, results = estimate_N_compare(ModNameSeqence[-1]\n",
    "                               , bestRes\n",
    "                               , vSeq\n",
    "                               , av\n",
    "                               , CHOICE, Car_SP, TRAIN_SP, SM_SP, CAR_AV_SP, TRAIN_AV_SP, SM_AV\n",
    "                               , database\n",
    "                               , pandas\n",
    "                               , myRandomNumberGenerators\n",
    "                               , results\n",
    "                               , ModNameSeqence=ModNameSeqence\n",
    "                               , Draws=Draws)\n",
    "best.append(bestRes)"
   ]
  },
  {
   "cell_type": "code",
   "execution_count": 20,
   "metadata": {},
   "outputs": [
    {
     "data": {
      "text/markdown": [
       "# ^^^^^^^^^^^"
      ],
      "text/plain": [
       "<IPython.core.display.Markdown object>"
      ]
     },
     "metadata": {},
     "output_type": "display_data"
    },
    {
     "data": {
      "text/markdown": [
       "# ML_7"
      ],
      "text/plain": [
       "<IPython.core.display.Markdown object>"
      ]
     },
     "metadata": {},
     "output_type": "display_data"
    }
   ],
   "source": [
    "####BETA_COST_random\n",
    "####BETA_HE_random_Normal\n",
    "####BETA_TIME_TRAIN_random_Norm\n",
    "####BETA_TIME_SM_random\n",
    "\n",
    "\n",
    "\n",
    "\n",
    "\n",
    "#Utility functions\n",
    "TRAIN_SP = ASC_TRAIN                                      + \\\n",
    "     BETA_COST_random             * TRAIN_COST_SCALED + \\\n",
    "     BETA_TIME_TRAIN_random_Norm       * TRAIN_TT_SCALED   + \\\n",
    "     BETA_HE_random_Norm               * TRAIN_HE_SCALED           + \\\n",
    "     B_AGE_ADULTS_TRAIN * AGE_2                     + \\\n",
    "     B_AGE_3_TRAIN      * AGE_3                     + \\\n",
    "     B_AGE_ADULTS_TRAIN * AGE_4                     + \\\n",
    "     B_AGE_5_TRAIN      * AGE_5                     + \\\n",
    "     B_LUGGAGE_TRAIN    * LUGGAGE                   + \\\n",
    "     B_MALE_TRAIN       * MALE                      + \\\n",
    "     B_GA_TRAIN         * GA                        + \\\n",
    "     B_BUSINESS_TRAIN   * BUSINESS                  + \\\n",
    "     B_PRIVATE          * PRIVATE                   + \\\n",
    "     B_COMMUTER         * COMMUTER\n",
    "\n",
    "SM_SP = ASC_SM                                   + \\\n",
    "     BETA_COST_random * SM_COST_SCALED + \\\n",
    "     BETA_TIME_SM_random       * SM_TT_SCALED   + \\\n",
    "     BETA_HE_random_Norm       * SM_HE_SCALED   + \\\n",
    "     B_AGE_ADULTS_SM * AGE_2                  + \\\n",
    "     B_AGE_ADULTS_SM * AGE_3                  + \\\n",
    "     B_AGE_4_SM      * AGE_4                  + \\\n",
    "     B_AGE_5_SM      * AGE_5                  + \\\n",
    "     B_FIRST_SM      * FIRST                  + \\\n",
    "     B_BUSINESS_SM   * BUSINESS               + \\\n",
    "     B_PRIVATE       * PRIVATE                + \\\n",
    "     B_COMMUTER      * COMMUTER\n",
    "\n",
    "Car_SP = ASC_CAR                              + \\\n",
    "     BETA_COST_random     * CAR_COST_SCALED + \\\n",
    "     B_TIME_CAR * CAR_TT_SCALED\n",
    "\n",
    "\n",
    "\n",
    "V = {3: Car_SP,1: TRAIN_SP,2: SM_SP}\n",
    "av = {3: CAR_AV_SP,1: TRAIN_AV_SP,2: SM_AV}\n",
    "\n",
    "vSeq.append(V)\n",
    "ModNameSeqence.append(\"ML_\"+str(len(vSeq)))\n",
    "display(Markdown(f\"# ^^^^^^^^^^^\"))\n",
    "display(Markdown(f\"# {ModNameSeqence[-1]}\"))"
   ]
  },
  {
   "cell_type": "code",
   "execution_count": 21,
   "metadata": {
    "scrolled": false
   },
   "outputs": [
    {
     "data": {
      "text/markdown": [
       "## Estimate  ML_7 and compare with ML_6"
      ],
      "text/plain": [
       "<IPython.core.display.Markdown object>"
      ]
     },
     "metadata": {},
     "output_type": "display_data"
    },
    {
     "data": {
      "text/markdown": [
       "#### Unrestricted model ML_7 and Restricted model ML_6"
      ],
      "text/plain": [
       "<IPython.core.display.Markdown object>"
      ]
     },
     "metadata": {},
     "output_type": "display_data"
    },
    {
     "data": {
      "text/markdown": [
       "# Results model ML_7"
      ],
      "text/plain": [
       "<IPython.core.display.Markdown object>"
      ]
     },
     "metadata": {},
     "output_type": "display_data"
    },
    {
     "name": "stdout",
     "output_type": "stream",
     "text": [
      "                              Value        Std err         t-test  p-value\n",
      "ASC_SM                     0.330809  6.524689e-156  5.070110e+154      0.0\n",
      "ASC_TRAIN                  0.135607  6.524689e-156  2.078361e+154      0.0\n",
      "BETA_COST_mean             1.034880  6.524689e-156  1.586099e+155      0.0\n",
      "BETA_COST_std              1.468602  6.524689e-156  2.250839e+155      0.0\n",
      "BETA_HE_mean_Norm         -1.506154  6.524689e-156 -2.308392e+155      0.0\n",
      "BETA_HE_std_Norm           1.353048  6.524689e-156  2.073735e+155      0.0\n",
      "BETA_TIME_SM_mean          1.383183  6.524689e-156  2.119921e+155      0.0\n",
      "BETA_TIME_SM_std           0.643644  6.524689e-156  9.864739e+154      0.0\n",
      "BETA_TIME_TRAIN_mean_Norm -5.284613  6.524689e-156 -8.099411e+155      0.0\n",
      "BETA_TIME_TRAIN_std_Norm   1.840412  6.524689e-156  2.820689e+155      0.0\n",
      "B_AGE_3_TRAIN             -1.520695  -0.000000e+00  1.797693e+308      0.0\n",
      "B_AGE_4_SM                -1.169901   0.000000e+00  1.797693e+308      0.0\n",
      "B_AGE_5_SM                -1.532557  -0.000000e+00  1.797693e+308      0.0\n",
      "B_AGE_5_TRAIN              0.592675  -0.000000e+00  1.797693e+308      0.0\n",
      "B_AGE_ADULTS_SM           -0.767891  5.273843e-155 -1.456037e+154      0.0\n",
      "B_AGE_TRAIN_ADULTS        -1.539717  5.273843e-155 -2.919535e+154      0.0\n",
      "B_BUSINESS_SM              0.979705  2.636922e-155  3.715334e+154      0.0\n",
      "B_BUSINESS_TRAIN           1.425726  2.636922e-155  5.406782e+154      0.0\n",
      "B_COMMUTER                 3.191454  5.273843e-155  6.051477e+154      0.0\n",
      "B_FIRST_SM                 0.209969  6.524689e-156  3.218066e+154      0.0\n",
      "B_GA_TRAIN                 2.312108  -0.000000e+00  1.797693e+308      0.0\n",
      "B_LUGGAGE_TRAIN            0.813423  6.524689e-156  1.246685e+155      0.0\n",
      "B_MALE_TRAIN              -0.437073  6.524689e-156 -6.698749e+154      0.0\n",
      "B_PRIVATE                  2.841808  5.273843e-155  5.388494e+154      0.0\n",
      "B_TIME_CAR                -3.627541  6.524689e-156 -5.559715e+155      0.0\n",
      "LL(0) =    -9960.838\n",
      "LL(beta) = -5847.375\n",
      "***************\n",
      "AIC = 11744.749282613186\n",
      "BIC = 12158.611836476126\n",
      "rho bar square = 0.41\n"
     ]
    },
    {
     "data": {
      "text/markdown": [
       "# Results model ML_6"
      ],
      "text/plain": [
       "<IPython.core.display.Markdown object>"
      ]
     },
     "metadata": {},
     "output_type": "display_data"
    },
    {
     "name": "stdout",
     "output_type": "stream",
     "text": [
      "                              Value        Std err         t-test  p-value\n",
      "ASC_SM                     0.057130  7.458341e-156  7.659843e+153      0.0\n",
      "ASC_TRAIN                  1.487481  7.458341e-156  1.994386e+155      0.0\n",
      "BETA_COST_mean             0.706370  7.458341e-156  9.470874e+154      0.0\n",
      "BETA_COST_std              1.551690  7.458341e-156  2.080476e+155      0.0\n",
      "BETA_HE_mean_Norm         -2.988320  7.458341e-156 -4.006682e+155      0.0\n",
      "BETA_HE_std_Norm           4.574239  7.458341e-156  6.133052e+155      0.0\n",
      "BETA_TIME_TRAIN_mean_Norm -4.080252  7.458341e-156 -5.470724e+155      0.0\n",
      "BETA_TIME_TRAIN_std_Norm   2.091175  7.458341e-156  2.803808e+155      0.0\n",
      "B_AGE_3_TRAIN             -1.841660  -0.000000e+00  1.797693e+308      0.0\n",
      "B_AGE_4_SM                -1.000376  1.797693e+308 -5.564777e-309      1.0\n",
      "B_AGE_5_SM                -1.146939   0.000000e+00  1.797693e+308      0.0\n",
      "B_AGE_5_TRAIN              0.442283  -0.000000e+00  1.797693e+308      0.0\n",
      "B_AGE_ADULTS_SM           -0.717798  5.273843e-155 -1.361053e+154      0.0\n",
      "B_AGE_TRAIN_ADULTS        -1.926929  5.273843e-155 -3.653748e+154      0.0\n",
      "B_BUSINESS_SM              0.874663  2.636922e-155  3.316985e+154      0.0\n",
      "B_BUSINESS_TRAIN           1.123548  2.636922e-155  4.260832e+154      0.0\n",
      "B_COMMUTER                 2.310067  5.273843e-155  4.380234e+154      0.0\n",
      "B_FIRST_SM                 0.381463  2.636922e-155  1.446624e+154      0.0\n",
      "B_GA_TRAIN                 2.492376  -0.000000e+00  1.797693e+308      0.0\n",
      "B_LUGGAGE_TRAIN            0.226013  2.222759e-162  1.016814e+161      0.0\n",
      "B_MALE_TRAIN              -0.787653  2.636922e-155 -2.987018e+154      0.0\n",
      "B_PRIVATE                  2.617923  5.273843e-155  4.963976e+154      0.0\n",
      "B_TIME_CAR                -2.195500  7.458341e-156 -2.943684e+155      0.0\n",
      "B_TIME_SM                 -1.944989  7.458341e-156 -2.607803e+155      0.0\n",
      "LL(0) =    -8848.392\n",
      "LL(beta) = -6285.919\n",
      "***************\n",
      "AIC = 12619.838739314933\n",
      "BIC = 13017.146791023357\n",
      "rho bar square = 0.287\n"
     ]
    },
    {
     "data": {
      "text/markdown": [
       "### Diff. LL(beta) ML_6 > ML_7 <- False"
      ],
      "text/plain": [
       "<IPython.core.display.Markdown object>"
      ]
     },
     "metadata": {},
     "output_type": "display_data"
    },
    {
     "name": "stdout",
     "output_type": "stream",
     "text": [
      "***************\n",
      "***************\n"
     ]
    },
    {
     "data": {
      "text/markdown": [
       "### Diff. rho bar square ML_6 > ML_7 <- False"
      ],
      "text/plain": [
       "<IPython.core.display.Markdown object>"
      ]
     },
     "metadata": {},
     "output_type": "display_data"
    },
    {
     "name": "stdout",
     "output_type": "stream",
     "text": [
      "***************\n",
      "RatioTest 877.0894567017476\n",
      "Critical 3.841458820694124\n",
      "Chose Unrestricted (reject H0 the parameters of the unrestricted model are 0)\n"
     ]
    },
    {
     "data": {
      "text/markdown": [
       "### LL Ratio Test Result (abs(STAT)-CHI2)873.2479978810535"
      ],
      "text/plain": [
       "<IPython.core.display.Markdown object>"
      ]
     },
     "metadata": {},
     "output_type": "display_data"
    },
    {
     "name": "stdout",
     "output_type": "stream",
     "text": [
      "Probability that the unrestricted model is false having greater rho bar squere, is below threshold:\n",
      "Threshold:0.07\n",
      "Probability:0.0\n",
      "Difference:-0.07\n"
     ]
    },
    {
     "data": {
      "text/markdown": [
       "#### LogLikelihood ML_7 - BenAkivaSwaitHorowitzTest ML_7"
      ],
      "text/plain": [
       "<IPython.core.display.Markdown object>"
      ]
     },
     "metadata": {},
     "output_type": "display_data"
    }
   ],
   "source": [
    "bestRes, results = estimate_N_compare(ModNameSeqence[-1]\n",
    "                               , bestRes\n",
    "                               , vSeq\n",
    "                               , av\n",
    "                               , CHOICE, Car_SP, TRAIN_SP, SM_SP, CAR_AV_SP, TRAIN_AV_SP, SM_AV\n",
    "                               , database\n",
    "                               , pandas\n",
    "                               , myRandomNumberGenerators\n",
    "                               , results\n",
    "                               , ModNameSeqence=ModNameSeqence\n",
    "                               , Draws=Draws)\n",
    "best.append(bestRes)"
   ]
  },
  {
   "cell_type": "code",
   "execution_count": 22,
   "metadata": {},
   "outputs": [
    {
     "data": {
      "text/markdown": [
       "# ^^^^^^^^^^^"
      ],
      "text/plain": [
       "<IPython.core.display.Markdown object>"
      ]
     },
     "metadata": {},
     "output_type": "display_data"
    },
    {
     "data": {
      "text/markdown": [
       "# ML_8"
      ],
      "text/plain": [
       "<IPython.core.display.Markdown object>"
      ]
     },
     "metadata": {},
     "output_type": "display_data"
    }
   ],
   "source": [
    "####BETA_COST_random\n",
    "####BETA_HE_random_Normal\n",
    "####BETA_TIME_TRAIN_random_Norm\n",
    "####BETA_TIME_SM_random_Norm\n",
    "\n",
    "\n",
    "\n",
    "\n",
    "\n",
    "#Utility functions\n",
    "TRAIN_SP = ASC_TRAIN                                      + \\\n",
    "     BETA_COST_random             * TRAIN_COST_SCALED + \\\n",
    "     BETA_TIME_TRAIN_random_Norm       * TRAIN_TT_SCALED   + \\\n",
    "     BETA_HE_random_Norm               * TRAIN_HE_SCALED           + \\\n",
    "     B_AGE_ADULTS_TRAIN * AGE_2                     + \\\n",
    "     B_AGE_3_TRAIN      * AGE_3                     + \\\n",
    "     B_AGE_ADULTS_TRAIN * AGE_4                     + \\\n",
    "     B_AGE_5_TRAIN      * AGE_5                     + \\\n",
    "     B_LUGGAGE_TRAIN    * LUGGAGE                   + \\\n",
    "     B_MALE_TRAIN       * MALE                      + \\\n",
    "     B_GA_TRAIN         * GA                        + \\\n",
    "     B_BUSINESS_TRAIN   * BUSINESS                  + \\\n",
    "     B_PRIVATE          * PRIVATE                   + \\\n",
    "     B_COMMUTER         * COMMUTER\n",
    "\n",
    "SM_SP = ASC_SM                                   + \\\n",
    "     BETA_COST_random * SM_COST_SCALED + \\\n",
    "     BETA_TIME_SM_random_Norm       * SM_TT_SCALED   + \\\n",
    "     BETA_HE_random_Norm            * SM_HE_SCALED           + \\\n",
    "     B_AGE_ADULTS_SM * AGE_2                  + \\\n",
    "     B_AGE_ADULTS_SM * AGE_3                  + \\\n",
    "     B_AGE_4_SM      * AGE_4                  + \\\n",
    "     B_AGE_5_SM      * AGE_5                  + \\\n",
    "     B_FIRST_SM      * FIRST                  + \\\n",
    "     B_BUSINESS_SM   * BUSINESS               + \\\n",
    "     B_PRIVATE       * PRIVATE                + \\\n",
    "     B_COMMUTER      * COMMUTER\n",
    "\n",
    "Car_SP = ASC_CAR                              + \\\n",
    "     BETA_COST_random     * CAR_COST_SCALED + \\\n",
    "     B_TIME_CAR * CAR_TT_SCALED\n",
    "\n",
    "\n",
    "\n",
    "V = {3: Car_SP,1: TRAIN_SP,2: SM_SP}\n",
    "av = {3: CAR_AV_SP,1: TRAIN_AV_SP,2: SM_AV}\n",
    "\n",
    "vSeq.append(V)\n",
    "ModNameSeqence.append(\"ML_\"+str(len(vSeq)))\n",
    "display(Markdown(f\"# ^^^^^^^^^^^\"))\n",
    "display(Markdown(f\"# {ModNameSeqence[-1]}\"))"
   ]
  },
  {
   "cell_type": "code",
   "execution_count": 23,
   "metadata": {
    "scrolled": false
   },
   "outputs": [
    {
     "data": {
      "text/markdown": [
       "## Estimate  ML_8 and compare with ML_7"
      ],
      "text/plain": [
       "<IPython.core.display.Markdown object>"
      ]
     },
     "metadata": {},
     "output_type": "display_data"
    },
    {
     "data": {
      "text/markdown": [
       "#### Unrestricted model ML_8 and Restricted model ML_7"
      ],
      "text/plain": [
       "<IPython.core.display.Markdown object>"
      ]
     },
     "metadata": {},
     "output_type": "display_data"
    },
    {
     "data": {
      "text/markdown": [
       "# Results model ML_8"
      ],
      "text/plain": [
       "<IPython.core.display.Markdown object>"
      ]
     },
     "metadata": {},
     "output_type": "display_data"
    },
    {
     "name": "stdout",
     "output_type": "stream",
     "text": [
      "                              Value        Std err         t-test  p-value\n",
      "ASC_SM                     0.711020   0.000000e+00  1.797693e+308      0.0\n",
      "ASC_TRAIN                  1.094947   0.000000e+00  1.797693e+308      0.0\n",
      "BETA_COST_mean             1.008916  -0.000000e+00  1.797693e+308      0.0\n",
      "BETA_COST_std              1.628410   0.000000e+00  1.797693e+308      0.0\n",
      "BETA_HE_mean_Norm         -1.650951   0.000000e+00  1.797693e+308      0.0\n",
      "BETA_HE_std_Norm           1.748922   0.000000e+00  1.797693e+308      0.0\n",
      "BETA_TIME_SM_mean_Norm    -4.250008   0.000000e+00  1.797693e+308      0.0\n",
      "BETA_TIME_SM_std_Norm      3.039631   0.000000e+00  1.797693e+308      0.0\n",
      "BETA_TIME_TRAIN_mean_Norm -5.463609   0.000000e+00  1.797693e+308      0.0\n",
      "BETA_TIME_TRAIN_std_Norm   2.102472   0.000000e+00  1.797693e+308      0.0\n",
      "B_AGE_3_TRAIN             -1.570144  5.273843e-155 -2.977229e+154      0.0\n",
      "B_AGE_4_SM                -2.658594  5.273843e-155 -5.041094e+154      0.0\n",
      "B_AGE_5_SM                -2.510048  1.757948e-155 -1.427829e+155      0.0\n",
      "B_AGE_5_TRAIN              0.309420  1.757948e-155  1.760123e+154      0.0\n",
      "B_AGE_ADULTS_SM           -1.603233  1.797693e+308 -8.918282e-309      1.0\n",
      "B_AGE_TRAIN_ADULTS        -1.824650  4.445517e-162 -4.104471e+161      0.0\n",
      "B_BUSINESS_SM              1.036637  2.636922e-155  3.931238e+154      0.0\n",
      "B_BUSINESS_TRAIN           1.852362  2.636922e-155  7.024714e+154      0.0\n",
      "B_COMMUTER                 2.978248  5.273843e-155  5.647206e+154      0.0\n",
      "B_FIRST_SM                 0.445990   0.000000e+00  1.797693e+308      0.0\n",
      "B_GA_TRAIN                 2.383510  1.757948e-155  1.355848e+155      0.0\n",
      "B_LUGGAGE_TRAIN            0.421902   0.000000e+00  1.797693e+308      0.0\n",
      "B_MALE_TRAIN              -1.311942  -0.000000e+00  1.797693e+308      0.0\n",
      "B_PRIVATE                  2.919650  5.273843e-155  5.536096e+154      0.0\n",
      "B_TIME_CAR                -3.736317   0.000000e+00  1.797693e+308      0.0\n",
      "LL(0) =    -8180.683\n",
      "LL(beta) = -5849.659\n",
      "***************\n",
      "AIC = 11749.318588415048\n",
      "BIC = 12163.181142277988\n",
      "rho bar square = 0.282\n"
     ]
    },
    {
     "data": {
      "text/markdown": [
       "# Results model ML_7"
      ],
      "text/plain": [
       "<IPython.core.display.Markdown object>"
      ]
     },
     "metadata": {},
     "output_type": "display_data"
    },
    {
     "name": "stdout",
     "output_type": "stream",
     "text": [
      "                              Value        Std err         t-test  p-value\n",
      "ASC_SM                     0.330809  6.524689e-156  5.070110e+154      0.0\n",
      "ASC_TRAIN                  0.135607  6.524689e-156  2.078361e+154      0.0\n",
      "BETA_COST_mean             1.034880  6.524689e-156  1.586099e+155      0.0\n",
      "BETA_COST_std              1.468602  6.524689e-156  2.250839e+155      0.0\n",
      "BETA_HE_mean_Norm         -1.506154  6.524689e-156 -2.308392e+155      0.0\n",
      "BETA_HE_std_Norm           1.353048  6.524689e-156  2.073735e+155      0.0\n",
      "BETA_TIME_SM_mean          1.383183  6.524689e-156  2.119921e+155      0.0\n",
      "BETA_TIME_SM_std           0.643644  6.524689e-156  9.864739e+154      0.0\n",
      "BETA_TIME_TRAIN_mean_Norm -5.284613  6.524689e-156 -8.099411e+155      0.0\n",
      "BETA_TIME_TRAIN_std_Norm   1.840412  6.524689e-156  2.820689e+155      0.0\n",
      "B_AGE_3_TRAIN             -1.520695  -0.000000e+00  1.797693e+308      0.0\n",
      "B_AGE_4_SM                -1.169901   0.000000e+00  1.797693e+308      0.0\n",
      "B_AGE_5_SM                -1.532557  -0.000000e+00  1.797693e+308      0.0\n",
      "B_AGE_5_TRAIN              0.592675  -0.000000e+00  1.797693e+308      0.0\n",
      "B_AGE_ADULTS_SM           -0.767891  5.273843e-155 -1.456037e+154      0.0\n",
      "B_AGE_TRAIN_ADULTS        -1.539717  5.273843e-155 -2.919535e+154      0.0\n",
      "B_BUSINESS_SM              0.979705  2.636922e-155  3.715334e+154      0.0\n",
      "B_BUSINESS_TRAIN           1.425726  2.636922e-155  5.406782e+154      0.0\n",
      "B_COMMUTER                 3.191454  5.273843e-155  6.051477e+154      0.0\n",
      "B_FIRST_SM                 0.209969  6.524689e-156  3.218066e+154      0.0\n",
      "B_GA_TRAIN                 2.312108  -0.000000e+00  1.797693e+308      0.0\n",
      "B_LUGGAGE_TRAIN            0.813423  6.524689e-156  1.246685e+155      0.0\n",
      "B_MALE_TRAIN              -0.437073  6.524689e-156 -6.698749e+154      0.0\n",
      "B_PRIVATE                  2.841808  5.273843e-155  5.388494e+154      0.0\n",
      "B_TIME_CAR                -3.627541  6.524689e-156 -5.559715e+155      0.0\n",
      "LL(0) =    -9960.838\n",
      "LL(beta) = -5847.375\n",
      "***************\n",
      "AIC = 11744.749282613186\n",
      "BIC = 12158.611836476126\n",
      "rho bar square = 0.41\n"
     ]
    },
    {
     "data": {
      "text/markdown": [
       "### Diff. LL(beta) ML_7 > ML_8 <- True"
      ],
      "text/plain": [
       "<IPython.core.display.Markdown object>"
      ]
     },
     "metadata": {},
     "output_type": "display_data"
    },
    {
     "name": "stdout",
     "output_type": "stream",
     "text": [
      "***************\n",
      "***************\n"
     ]
    },
    {
     "data": {
      "text/markdown": [
       "### Diff. rho bar square ML_7 > ML_8 <- True"
      ],
      "text/plain": [
       "<IPython.core.display.Markdown object>"
      ]
     },
     "metadata": {},
     "output_type": "display_data"
    },
    {
     "name": "stdout",
     "output_type": "stream",
     "text": [
      "***************\n",
      "NON nested models:LogLikelihood ratio test NOT applicable\n",
      "Probability that the restricted model is false having greater rho bar squere, is below threshold:\n",
      "Threshold:0.07\n",
      "Probability:0.0\n",
      "Difference:-0.07\n"
     ]
    },
    {
     "data": {
      "text/markdown": [
       "#### LogLikelihood None - BenAkivaSwaitHorowitzTest ML_7"
      ],
      "text/plain": [
       "<IPython.core.display.Markdown object>"
      ]
     },
     "metadata": {},
     "output_type": "display_data"
    },
    {
     "data": {
      "text/markdown": [
       "#### LogLikelihood TEST None disagrees with BenAkivaSwaitHorowitzTest ML_7"
      ],
      "text/plain": [
       "<IPython.core.display.Markdown object>"
      ]
     },
     "metadata": {},
     "output_type": "display_data"
    },
    {
     "data": {
      "text/markdown": [
       "### TRY  CROSS VALIDATION"
      ],
      "text/plain": [
       "<IPython.core.display.Markdown object>"
      ]
     },
     "metadata": {},
     "output_type": "display_data"
    },
    {
     "data": {
      "text/markdown": [
       "# Perform  Cross Validation Between ['ML_8', 'ML_7']"
      ],
      "text/plain": [
       "<IPython.core.display.Markdown object>"
      ]
     },
     "metadata": {},
     "output_type": "display_data"
    },
    {
     "name": "stdout",
     "output_type": "stream",
     "text": [
      "Model 0\n",
      "Fold 0\n",
      "Model 0\n",
      "Fold 1\n",
      "Model 0\n",
      "Fold 2\n",
      "Model 0\n",
      "Fold 3\n",
      "Model 0\n",
      "Fold 4\n",
      "Model 1\n",
      "Fold 0\n",
      "Model 1\n",
      "Fold 1\n",
      "Model 1\n",
      "Fold 2\n",
      "Model 1\n",
      "Fold 3\n",
      "Model 1\n",
      "Fold 4\n",
      "loglikelihood model ML_8: -1551.4422763239866 +/- 26.32265691974744\n",
      "loglikelihood model ML_7: -1554.779627778157 +/- 54.8086239034275\n"
     ]
    },
    {
     "data": {
      "text/markdown": [
       "## Accept ML_8 performs better off the sample"
      ],
      "text/plain": [
       "<IPython.core.display.Markdown object>"
      ]
     },
     "metadata": {},
     "output_type": "display_data"
    }
   ],
   "source": [
    "bestRes, results = estimate_N_compare(ModNameSeqence[-1]\n",
    "                               , bestRes\n",
    "                               , vSeq\n",
    "                               , av\n",
    "                               , CHOICE, Car_SP, TRAIN_SP, SM_SP, CAR_AV_SP, TRAIN_AV_SP, SM_AV\n",
    "                               , database\n",
    "                               , pandas\n",
    "                               , myRandomNumberGenerators\n",
    "                               , results\n",
    "                               , ModNameSeqence=ModNameSeqence\n",
    "                               , Draws=Draws)\n",
    "best.append(bestRes)"
   ]
  },
  {
   "cell_type": "code",
   "execution_count": 24,
   "metadata": {},
   "outputs": [
    {
     "data": {
      "text/markdown": [
       "# ^^^^^^^^^^^"
      ],
      "text/plain": [
       "<IPython.core.display.Markdown object>"
      ]
     },
     "metadata": {},
     "output_type": "display_data"
    },
    {
     "data": {
      "text/markdown": [
       "# ML_9"
      ],
      "text/plain": [
       "<IPython.core.display.Markdown object>"
      ]
     },
     "metadata": {},
     "output_type": "display_data"
    }
   ],
   "source": [
    "####BETA_COST_random\n",
    "####BETA_HE_random_Normal\n",
    "####BETA_TIME_TRAIN_random_Norm\n",
    "####BETA_TIME_SM_random\n",
    "####BETA_TIME_CAR_random\n",
    "\n",
    "\n",
    "\n",
    "\n",
    "\n",
    "#Utility functions\n",
    "TRAIN_SP = ASC_TRAIN                                      + \\\n",
    "     BETA_COST_random             * TRAIN_COST_SCALED + \\\n",
    "     BETA_TIME_TRAIN_random_Norm       * TRAIN_TT_SCALED   + \\\n",
    "     BETA_HE_random_Norm               * TRAIN_HE_SCALED           + \\\n",
    "     B_AGE_ADULTS_TRAIN * AGE_2                     + \\\n",
    "     B_AGE_3_TRAIN      * AGE_3                     + \\\n",
    "     B_AGE_ADULTS_TRAIN * AGE_4                     + \\\n",
    "     B_AGE_5_TRAIN      * AGE_5                     + \\\n",
    "     B_LUGGAGE_TRAIN    * LUGGAGE                   + \\\n",
    "     B_MALE_TRAIN       * MALE                      + \\\n",
    "     B_GA_TRAIN         * GA                        + \\\n",
    "     B_BUSINESS_TRAIN   * BUSINESS                  + \\\n",
    "     B_PRIVATE          * PRIVATE                   + \\\n",
    "     B_COMMUTER         * COMMUTER\n",
    "\n",
    "SM_SP = ASC_SM                                   + \\\n",
    "     BETA_COST_random * SM_COST_SCALED + \\\n",
    "     BETA_TIME_SM_random       * SM_TT_SCALED   + \\\n",
    "     BETA_HE_random_Norm            * SM_HE_SCALED           + \\\n",
    "     B_AGE_ADULTS_SM * AGE_2                  + \\\n",
    "     B_AGE_ADULTS_SM * AGE_3                  + \\\n",
    "     B_AGE_4_SM      * AGE_4                  + \\\n",
    "     B_AGE_5_SM      * AGE_5                  + \\\n",
    "     B_FIRST_SM      * FIRST                  + \\\n",
    "     B_BUSINESS_SM   * BUSINESS               + \\\n",
    "     B_PRIVATE       * PRIVATE                + \\\n",
    "     B_COMMUTER      * COMMUTER\n",
    "\n",
    "Car_SP = ASC_CAR                              + \\\n",
    "     BETA_COST_random     * CAR_COST_SCALED + \\\n",
    "     BETA_TIME_CAR_random * CAR_TT_SCALED\n",
    "\n",
    "\n",
    "\n",
    "V = {3: Car_SP,1: TRAIN_SP,2: SM_SP}\n",
    "av = {3: CAR_AV_SP,1: TRAIN_AV_SP,2: SM_AV}\n",
    "\n",
    "vSeq.append(V)\n",
    "ModNameSeqence.append(\"ML_\"+str(len(vSeq)))\n",
    "display(Markdown(f\"# ^^^^^^^^^^^\"))\n",
    "display(Markdown(f\"# {ModNameSeqence[-1]}\"))"
   ]
  },
  {
   "cell_type": "code",
   "execution_count": 25,
   "metadata": {
    "scrolled": false
   },
   "outputs": [
    {
     "data": {
      "text/markdown": [
       "## Estimate  ML_9 and compare with ML_8"
      ],
      "text/plain": [
       "<IPython.core.display.Markdown object>"
      ]
     },
     "metadata": {},
     "output_type": "display_data"
    },
    {
     "data": {
      "text/markdown": [
       "#### Unrestricted model ML_9 and Restricted model ML_8"
      ],
      "text/plain": [
       "<IPython.core.display.Markdown object>"
      ]
     },
     "metadata": {},
     "output_type": "display_data"
    },
    {
     "data": {
      "text/markdown": [
       "# Results model ML_9"
      ],
      "text/plain": [
       "<IPython.core.display.Markdown object>"
      ]
     },
     "metadata": {},
     "output_type": "display_data"
    },
    {
     "name": "stdout",
     "output_type": "stream",
     "text": [
      "                              Value        Std err         t-test  p-value\n",
      "ASC_SM                    -0.971429  1.797693e+308 -5.403753e-309      1.0\n",
      "ASC_TRAIN                 -0.989133  1.797693e+308 -5.502234e-309      1.0\n",
      "BETA_COST_mean             1.275194  1.797693e+308  7.093503e-309      1.0\n",
      "BETA_COST_std              1.412363  1.797693e+308  7.856531e-309      1.0\n",
      "BETA_HE_mean_Norm         -1.345862  1.797693e+308 -7.486607e-309      1.0\n",
      "BETA_HE_std_Norm           1.175220  1.797693e+308  6.537380e-309      1.0\n",
      "BETA_TIME_CAR_mean         1.673371  1.797693e+308  9.308435e-309      1.0\n",
      "BETA_TIME_CAR_std          0.556150  1.797693e+308  3.093688e-309      1.0\n",
      "BETA_TIME_SM_mean          1.446401  1.797693e+308  8.045870e-309      1.0\n",
      "BETA_TIME_SM_std           0.186514  1.797693e+308  1.037521e-309      1.0\n",
      "BETA_TIME_TRAIN_mean_Norm -4.770184  1.797693e+308 -2.653503e-308      1.0\n",
      "BETA_TIME_TRAIN_std_Norm   1.755904  1.797693e+308  9.767540e-309      1.0\n",
      "B_AGE_3_TRAIN             -1.922945  -0.000000e+00  1.797693e+308      0.0\n",
      "B_AGE_4_SM                -2.391320  5.273843e-155 -4.534302e+154      0.0\n",
      "B_AGE_5_SM                -1.610306  2.636922e-155 -6.106766e+154      0.0\n",
      "B_AGE_5_TRAIN              0.402723  2.636922e-155  1.527246e+154      0.0\n",
      "B_AGE_ADULTS_SM           -1.254534  5.273843e-155 -2.378786e+154      0.0\n",
      "B_AGE_TRAIN_ADULTS        -2.450177  -0.000000e+00  1.797693e+308      0.0\n",
      "B_BUSINESS_SM              0.588101  2.636922e-155  2.230257e+154      0.0\n",
      "B_BUSINESS_TRAIN           0.791819  2.636922e-155  3.002815e+154      0.0\n",
      "B_COMMUTER                 3.093420  5.273843e-155  5.865589e+154      0.0\n",
      "B_FIRST_SM                 0.503779  1.797693e+308  2.802364e-309      1.0\n",
      "B_GA_TRAIN                 2.678783  1.797693e+308  1.490122e-308      1.0\n",
      "B_LUGGAGE_TRAIN            0.478995  1.797693e+308  2.664499e-309      1.0\n",
      "B_MALE_TRAIN              -0.658212  1.797693e+308 -3.661428e-309      1.0\n",
      "B_PRIVATE                  2.692129  5.273843e-155  5.104681e+154      0.0\n",
      "LL(0) =    -8386.591\n",
      "LL(beta) = -5717.639\n",
      "***************\n",
      "AIC = 11487.278194498887\n",
      "BIC = 11917.695250516346\n",
      "rho bar square = 0.315\n"
     ]
    },
    {
     "data": {
      "text/markdown": [
       "# Results model ML_8"
      ],
      "text/plain": [
       "<IPython.core.display.Markdown object>"
      ]
     },
     "metadata": {},
     "output_type": "display_data"
    },
    {
     "name": "stdout",
     "output_type": "stream",
     "text": [
      "                              Value        Std err         t-test  p-value\n",
      "ASC_SM                     0.711020   0.000000e+00  1.797693e+308      0.0\n",
      "ASC_TRAIN                  1.094947   0.000000e+00  1.797693e+308      0.0\n",
      "BETA_COST_mean             1.008916  -0.000000e+00  1.797693e+308      0.0\n",
      "BETA_COST_std              1.628410   0.000000e+00  1.797693e+308      0.0\n",
      "BETA_HE_mean_Norm         -1.650951   0.000000e+00  1.797693e+308      0.0\n",
      "BETA_HE_std_Norm           1.748922   0.000000e+00  1.797693e+308      0.0\n",
      "BETA_TIME_SM_mean_Norm    -4.250008   0.000000e+00  1.797693e+308      0.0\n",
      "BETA_TIME_SM_std_Norm      3.039631   0.000000e+00  1.797693e+308      0.0\n",
      "BETA_TIME_TRAIN_mean_Norm -5.463609   0.000000e+00  1.797693e+308      0.0\n",
      "BETA_TIME_TRAIN_std_Norm   2.102472   0.000000e+00  1.797693e+308      0.0\n",
      "B_AGE_3_TRAIN             -1.570144  5.273843e-155 -2.977229e+154      0.0\n",
      "B_AGE_4_SM                -2.658594  5.273843e-155 -5.041094e+154      0.0\n",
      "B_AGE_5_SM                -2.510048  1.757948e-155 -1.427829e+155      0.0\n",
      "B_AGE_5_TRAIN              0.309420  1.757948e-155  1.760123e+154      0.0\n",
      "B_AGE_ADULTS_SM           -1.603233  1.797693e+308 -8.918282e-309      1.0\n",
      "B_AGE_TRAIN_ADULTS        -1.824650  4.445517e-162 -4.104471e+161      0.0\n",
      "B_BUSINESS_SM              1.036637  2.636922e-155  3.931238e+154      0.0\n",
      "B_BUSINESS_TRAIN           1.852362  2.636922e-155  7.024714e+154      0.0\n",
      "B_COMMUTER                 2.978248  5.273843e-155  5.647206e+154      0.0\n",
      "B_FIRST_SM                 0.445990   0.000000e+00  1.797693e+308      0.0\n",
      "B_GA_TRAIN                 2.383510  1.757948e-155  1.355848e+155      0.0\n",
      "B_LUGGAGE_TRAIN            0.421902   0.000000e+00  1.797693e+308      0.0\n",
      "B_MALE_TRAIN              -1.311942  -0.000000e+00  1.797693e+308      0.0\n",
      "B_PRIVATE                  2.919650  5.273843e-155  5.536096e+154      0.0\n",
      "B_TIME_CAR                -3.736317   0.000000e+00  1.797693e+308      0.0\n",
      "LL(0) =    -8180.683\n",
      "LL(beta) = -5849.659\n",
      "***************\n",
      "AIC = 11749.318588415048\n",
      "BIC = 12163.181142277988\n",
      "rho bar square = 0.282\n"
     ]
    },
    {
     "data": {
      "text/markdown": [
       "### Diff. LL(beta) ML_8 > ML_9 <- False"
      ],
      "text/plain": [
       "<IPython.core.display.Markdown object>"
      ]
     },
     "metadata": {},
     "output_type": "display_data"
    },
    {
     "name": "stdout",
     "output_type": "stream",
     "text": [
      "***************\n",
      "***************\n"
     ]
    },
    {
     "data": {
      "text/markdown": [
       "### Diff. rho bar square ML_8 > ML_9 <- False"
      ],
      "text/plain": [
       "<IPython.core.display.Markdown object>"
      ]
     },
     "metadata": {},
     "output_type": "display_data"
    },
    {
     "name": "stdout",
     "output_type": "stream",
     "text": [
      "***************\n",
      "RatioTest 264.0403939161606\n",
      "Critical 3.841458820694124\n",
      "Chose Unrestricted (reject H0 the parameters of the unrestricted model are 0)\n"
     ]
    },
    {
     "data": {
      "text/markdown": [
       "### LL Ratio Test Result (abs(STAT)-CHI2)260.1989350954665"
      ],
      "text/plain": [
       "<IPython.core.display.Markdown object>"
      ]
     },
     "metadata": {},
     "output_type": "display_data"
    },
    {
     "name": "stdout",
     "output_type": "stream",
     "text": [
      "Probability that the unrestricted model is false having greater rho bar squere, is below threshold:\n",
      "Threshold:0.07\n",
      "Probability:1.9804506898925944e-172\n",
      "Difference:-0.07\n"
     ]
    },
    {
     "data": {
      "text/markdown": [
       "#### LogLikelihood ML_9 - BenAkivaSwaitHorowitzTest ML_9"
      ],
      "text/plain": [
       "<IPython.core.display.Markdown object>"
      ]
     },
     "metadata": {},
     "output_type": "display_data"
    }
   ],
   "source": [
    "bestRes, results = estimate_N_compare(ModNameSeqence[-1]\n",
    "                               , bestRes\n",
    "                               , vSeq\n",
    "                               , av\n",
    "                               , CHOICE, Car_SP, TRAIN_SP, SM_SP, CAR_AV_SP, TRAIN_AV_SP, SM_AV\n",
    "                               , database\n",
    "                               , pandas\n",
    "                               , myRandomNumberGenerators\n",
    "                               , results\n",
    "                               , ModNameSeqence=ModNameSeqence\n",
    "                               , Draws=Draws)\n",
    "best.append(bestRes)"
   ]
  },
  {
   "cell_type": "code",
   "execution_count": 26,
   "metadata": {},
   "outputs": [
    {
     "data": {
      "text/markdown": [
       "# ^^^^^^^^^^^"
      ],
      "text/plain": [
       "<IPython.core.display.Markdown object>"
      ]
     },
     "metadata": {},
     "output_type": "display_data"
    },
    {
     "data": {
      "text/markdown": [
       "# ML_10"
      ],
      "text/plain": [
       "<IPython.core.display.Markdown object>"
      ]
     },
     "metadata": {},
     "output_type": "display_data"
    }
   ],
   "source": [
    "####BETA_COST_random\n",
    "####BETA_HE_random_Normal\n",
    "####BETA_TIME_TRAIN_random_Norm\n",
    "####BETA_TIME_SM_random\n",
    "####BETA_TIME_CAR_random_Norm\n",
    "\n",
    "\n",
    "\n",
    "\n",
    "\n",
    "#Utility functions\n",
    "TRAIN_SP = ASC_TRAIN                                      + \\\n",
    "     BETA_COST_random             * TRAIN_COST_SCALED + \\\n",
    "     BETA_TIME_TRAIN_random_Norm       * TRAIN_TT_SCALED   + \\\n",
    "     BETA_HE_random_Norm               * TRAIN_HE_SCALED           + \\\n",
    "     B_AGE_ADULTS_TRAIN * AGE_2                     + \\\n",
    "     B_AGE_3_TRAIN      * AGE_3                     + \\\n",
    "     B_AGE_ADULTS_TRAIN * AGE_4                     + \\\n",
    "     B_AGE_5_TRAIN      * AGE_5                     + \\\n",
    "     B_LUGGAGE_TRAIN    * LUGGAGE                   + \\\n",
    "     B_MALE_TRAIN       * MALE                      + \\\n",
    "     B_GA_TRAIN         * GA                        + \\\n",
    "     B_BUSINESS_TRAIN   * BUSINESS                  + \\\n",
    "     B_PRIVATE          * PRIVATE                   + \\\n",
    "     B_COMMUTER         * COMMUTER\n",
    "\n",
    "SM_SP = ASC_SM                                   + \\\n",
    "     BETA_COST_random * SM_COST_SCALED + \\\n",
    "     BETA_TIME_SM_random       * SM_TT_SCALED   + \\\n",
    "     BETA_HE_random_Norm            * SM_HE_SCALED           + \\\n",
    "     B_AGE_ADULTS_SM * AGE_2                  + \\\n",
    "     B_AGE_ADULTS_SM * AGE_3                  + \\\n",
    "     B_AGE_4_SM      * AGE_4                  + \\\n",
    "     B_AGE_5_SM      * AGE_5                  + \\\n",
    "     B_FIRST_SM      * FIRST                  + \\\n",
    "     B_BUSINESS_SM   * BUSINESS               + \\\n",
    "     B_PRIVATE       * PRIVATE                + \\\n",
    "     B_COMMUTER      * COMMUTER\n",
    "\n",
    "Car_SP = ASC_CAR                              + \\\n",
    "     BETA_COST_random     * CAR_COST_SCALED + \\\n",
    "     BETA_TIME_CAR_random_Norm * CAR_TT_SCALED\n",
    "\n",
    "\n",
    "\n",
    "V = {3: Car_SP,1: TRAIN_SP,2: SM_SP}\n",
    "av = {3: CAR_AV_SP,1: TRAIN_AV_SP,2: SM_AV}\n",
    "\n",
    "vSeq.append(V)\n",
    "ModNameSeqence.append(\"ML_\"+str(len(vSeq)))\n",
    "display(Markdown(f\"# ^^^^^^^^^^^\"))\n",
    "display(Markdown(f\"# {ModNameSeqence[-1]}\"))"
   ]
  },
  {
   "cell_type": "code",
   "execution_count": 27,
   "metadata": {
    "scrolled": false
   },
   "outputs": [
    {
     "data": {
      "text/markdown": [
       "## Estimate  ML_10 and compare with ML_9"
      ],
      "text/plain": [
       "<IPython.core.display.Markdown object>"
      ]
     },
     "metadata": {},
     "output_type": "display_data"
    },
    {
     "data": {
      "text/markdown": [
       "#### Unrestricted model ML_10 and Restricted model ML_9"
      ],
      "text/plain": [
       "<IPython.core.display.Markdown object>"
      ]
     },
     "metadata": {},
     "output_type": "display_data"
    },
    {
     "data": {
      "text/markdown": [
       "# Results model ML_10"
      ],
      "text/plain": [
       "<IPython.core.display.Markdown object>"
      ]
     },
     "metadata": {},
     "output_type": "display_data"
    },
    {
     "name": "stdout",
     "output_type": "stream",
     "text": [
      "                              Value        Std err         t-test  p-value\n",
      "ASC_SM                     0.005850  1.797693e+308  3.254237e-311      1.0\n",
      "ASC_TRAIN                  0.416358  1.797693e+308  2.316069e-309      1.0\n",
      "BETA_COST_mean             1.303010  1.797693e+308  7.248236e-309      1.0\n",
      "BETA_COST_std              1.115152  1.797693e+308  6.203239e-309      1.0\n",
      "BETA_HE_mean_Norm         -1.431921  1.797693e+308 -7.965324e-309      1.0\n",
      "BETA_HE_std_Norm           1.230198  1.797693e+308  6.843205e-309      1.0\n",
      "BETA_TIME_CAR_mean_Norm   -5.161364  1.797693e+308 -2.871104e-308      1.0\n",
      "BETA_TIME_CAR_std_Norm     2.342177  1.797693e+308  1.302879e-308      1.0\n",
      "BETA_TIME_SM_mean          1.535906  1.797693e+308  8.543760e-309      1.0\n",
      "BETA_TIME_SM_std           0.412692  1.797693e+308  2.295675e-309      1.0\n",
      "BETA_TIME_TRAIN_mean_Norm -5.081586  1.797693e+308 -2.826726e-308      1.0\n",
      "BETA_TIME_TRAIN_std_Norm   1.904084  1.797693e+308  1.059182e-308      1.0\n",
      "B_AGE_3_TRAIN             -3.053669  -0.000000e+00  1.797693e+308      0.0\n",
      "B_AGE_4_SM                -2.061217  2.222759e-162 -9.273239e+161      0.0\n",
      "B_AGE_5_SM                -1.903382  -0.000000e+00  1.797693e+308      0.0\n",
      "B_AGE_5_TRAIN              0.423438  -0.000000e+00  1.797693e+308      0.0\n",
      "B_AGE_ADULTS_SM           -1.809297   0.000000e+00  1.797693e+308      0.0\n",
      "B_AGE_TRAIN_ADULTS        -2.657145   0.000000e+00  1.797693e+308      0.0\n",
      "B_BUSINESS_SM              0.916969   0.000000e+00  1.797693e+308      0.0\n",
      "B_BUSINESS_TRAIN           0.881363   0.000000e+00  1.797693e+308      0.0\n",
      "B_COMMUTER                 4.111296  -0.000000e+00  1.797693e+308      0.0\n",
      "B_FIRST_SM                 0.229369  1.797693e+308  1.275908e-309      1.0\n",
      "B_GA_TRAIN                 2.604593  -0.000000e+00  1.797693e+308      0.0\n",
      "B_LUGGAGE_TRAIN            0.439235   0.000000e+00  1.797693e+308      0.0\n",
      "B_MALE_TRAIN              -1.155584  1.797693e+308 -6.428150e-309      1.0\n",
      "B_PRIVATE                  4.144771   0.000000e+00  1.797693e+308      0.0\n",
      "LL(0) =    -8948.767\n",
      "LL(beta) = -5713.802\n",
      "***************\n",
      "AIC = 11479.604363082331\n",
      "BIC = 11910.02141909979\n",
      "rho bar square = 0.359\n"
     ]
    },
    {
     "data": {
      "text/markdown": [
       "# Results model ML_9"
      ],
      "text/plain": [
       "<IPython.core.display.Markdown object>"
      ]
     },
     "metadata": {},
     "output_type": "display_data"
    },
    {
     "name": "stdout",
     "output_type": "stream",
     "text": [
      "                              Value        Std err         t-test  p-value\n",
      "ASC_SM                    -0.971429  1.797693e+308 -5.403753e-309      1.0\n",
      "ASC_TRAIN                 -0.989133  1.797693e+308 -5.502234e-309      1.0\n",
      "BETA_COST_mean             1.275194  1.797693e+308  7.093503e-309      1.0\n",
      "BETA_COST_std              1.412363  1.797693e+308  7.856531e-309      1.0\n",
      "BETA_HE_mean_Norm         -1.345862  1.797693e+308 -7.486607e-309      1.0\n",
      "BETA_HE_std_Norm           1.175220  1.797693e+308  6.537380e-309      1.0\n",
      "BETA_TIME_CAR_mean         1.673371  1.797693e+308  9.308435e-309      1.0\n",
      "BETA_TIME_CAR_std          0.556150  1.797693e+308  3.093688e-309      1.0\n",
      "BETA_TIME_SM_mean          1.446401  1.797693e+308  8.045870e-309      1.0\n",
      "BETA_TIME_SM_std           0.186514  1.797693e+308  1.037521e-309      1.0\n",
      "BETA_TIME_TRAIN_mean_Norm -4.770184  1.797693e+308 -2.653503e-308      1.0\n",
      "BETA_TIME_TRAIN_std_Norm   1.755904  1.797693e+308  9.767540e-309      1.0\n",
      "B_AGE_3_TRAIN             -1.922945  -0.000000e+00  1.797693e+308      0.0\n",
      "B_AGE_4_SM                -2.391320  5.273843e-155 -4.534302e+154      0.0\n",
      "B_AGE_5_SM                -1.610306  2.636922e-155 -6.106766e+154      0.0\n",
      "B_AGE_5_TRAIN              0.402723  2.636922e-155  1.527246e+154      0.0\n",
      "B_AGE_ADULTS_SM           -1.254534  5.273843e-155 -2.378786e+154      0.0\n",
      "B_AGE_TRAIN_ADULTS        -2.450177  -0.000000e+00  1.797693e+308      0.0\n",
      "B_BUSINESS_SM              0.588101  2.636922e-155  2.230257e+154      0.0\n",
      "B_BUSINESS_TRAIN           0.791819  2.636922e-155  3.002815e+154      0.0\n",
      "B_COMMUTER                 3.093420  5.273843e-155  5.865589e+154      0.0\n",
      "B_FIRST_SM                 0.503779  1.797693e+308  2.802364e-309      1.0\n",
      "B_GA_TRAIN                 2.678783  1.797693e+308  1.490122e-308      1.0\n",
      "B_LUGGAGE_TRAIN            0.478995  1.797693e+308  2.664499e-309      1.0\n",
      "B_MALE_TRAIN              -0.658212  1.797693e+308 -3.661428e-309      1.0\n",
      "B_PRIVATE                  2.692129  5.273843e-155  5.104681e+154      0.0\n",
      "LL(0) =    -8386.591\n",
      "LL(beta) = -5717.639\n",
      "***************\n",
      "AIC = 11487.278194498887\n",
      "BIC = 11917.695250516346\n",
      "rho bar square = 0.315\n"
     ]
    },
    {
     "data": {
      "text/markdown": [
       "### Diff. LL(beta) ML_9 > ML_10 <- False"
      ],
      "text/plain": [
       "<IPython.core.display.Markdown object>"
      ]
     },
     "metadata": {},
     "output_type": "display_data"
    },
    {
     "name": "stdout",
     "output_type": "stream",
     "text": [
      "***************\n",
      "***************\n"
     ]
    },
    {
     "data": {
      "text/markdown": [
       "### Diff. rho bar square ML_9 > ML_10 <- False"
      ],
      "text/plain": [
       "<IPython.core.display.Markdown object>"
      ]
     },
     "metadata": {},
     "output_type": "display_data"
    },
    {
     "name": "stdout",
     "output_type": "stream",
     "text": [
      "***************\n",
      "NON nested models:LogLikelihood ratio test NOT applicable\n",
      "Probability that the unrestricted model is false having greater rho bar squere, is below threshold:\n",
      "Threshold:0.07\n",
      "Probability:2.670916584631496e-224\n",
      "Difference:-0.07\n"
     ]
    },
    {
     "data": {
      "text/markdown": [
       "#### LogLikelihood None - BenAkivaSwaitHorowitzTest ML_10"
      ],
      "text/plain": [
       "<IPython.core.display.Markdown object>"
      ]
     },
     "metadata": {},
     "output_type": "display_data"
    },
    {
     "data": {
      "text/markdown": [
       "#### LogLikelihood TEST None disagrees with BenAkivaSwaitHorowitzTest ML_10"
      ],
      "text/plain": [
       "<IPython.core.display.Markdown object>"
      ]
     },
     "metadata": {},
     "output_type": "display_data"
    },
    {
     "data": {
      "text/markdown": [
       "### TRY  CROSS VALIDATION"
      ],
      "text/plain": [
       "<IPython.core.display.Markdown object>"
      ]
     },
     "metadata": {},
     "output_type": "display_data"
    },
    {
     "data": {
      "text/markdown": [
       "# Perform  Cross Validation Between ['ML_10', 'ML_9']"
      ],
      "text/plain": [
       "<IPython.core.display.Markdown object>"
      ]
     },
     "metadata": {},
     "output_type": "display_data"
    },
    {
     "name": "stdout",
     "output_type": "stream",
     "text": [
      "Model 0\n",
      "Fold 0\n",
      "Model 0\n",
      "Fold 1\n",
      "Model 0\n",
      "Fold 2\n",
      "Model 0\n",
      "Fold 3\n",
      "Model 0\n",
      "Fold 4\n",
      "Model 1\n",
      "Fold 0\n",
      "Model 1\n",
      "Fold 1\n",
      "Model 1\n",
      "Fold 2\n",
      "Model 1\n",
      "Fold 3\n",
      "Model 1\n",
      "Fold 4\n",
      "loglikelihood model ML_10: -1560.766998215737 +/- 46.57429200753703\n",
      "loglikelihood model ML_9: -1561.7921517591872 +/- 45.78976748469738\n"
     ]
    },
    {
     "data": {
      "text/markdown": [
       "## Accept ML_10 performs better off the sample"
      ],
      "text/plain": [
       "<IPython.core.display.Markdown object>"
      ]
     },
     "metadata": {},
     "output_type": "display_data"
    }
   ],
   "source": [
    "bestRes, results = estimate_N_compare(ModNameSeqence[-1]\n",
    "                               , bestRes\n",
    "                               , vSeq\n",
    "                               , av\n",
    "                               , CHOICE, Car_SP, TRAIN_SP, SM_SP, CAR_AV_SP, TRAIN_AV_SP, SM_AV\n",
    "                               , database\n",
    "                               , pandas\n",
    "                               , myRandomNumberGenerators\n",
    "                               , results\n",
    "                               , ModNameSeqence=ModNameSeqence\n",
    "                               , Draws=Draws)\n",
    "best.append(bestRes)"
   ]
  },
  {
   "cell_type": "code",
   "execution_count": 29,
   "metadata": {},
   "outputs": [
    {
     "data": {
      "text/markdown": [
       "# ^^^^^^^^^^^"
      ],
      "text/plain": [
       "<IPython.core.display.Markdown object>"
      ]
     },
     "metadata": {},
     "output_type": "display_data"
    },
    {
     "data": {
      "text/markdown": [
       "# ML_11"
      ],
      "text/plain": [
       "<IPython.core.display.Markdown object>"
      ]
     },
     "metadata": {},
     "output_type": "display_data"
    }
   ],
   "source": [
    "####q_COST\n",
    "####BETA_COST_random\n",
    "####BETA_HE_random_Norm\n",
    "####BETA_TIME_TRAIN_random_Norm\n",
    "####BETA_TIME_SM_random\n",
    "####BETA_TIME_CAR_random_Norm\n",
    "\n",
    "\n",
    "\n",
    "\n",
    "\n",
    "#Utility functions\n",
    "TRAIN_SP = ASC_TRAIN                                      + \\\n",
    "     BETA_COST_random             * TRAIN_COST_SCALED**q_COST + \\\n",
    "     BETA_TIME_TRAIN_random_Norm       * TRAIN_TT_SCALED   + \\\n",
    "     BETA_HE_random_Norm               * TRAIN_HE_SCALED           + \\\n",
    "     B_AGE_ADULTS_TRAIN * AGE_2                     + \\\n",
    "     B_AGE_3_TRAIN      * AGE_3                     + \\\n",
    "     B_AGE_ADULTS_TRAIN * AGE_4                     + \\\n",
    "     B_AGE_5_TRAIN      * AGE_5                     + \\\n",
    "     B_LUGGAGE_TRAIN    * LUGGAGE                   + \\\n",
    "     B_MALE_TRAIN       * MALE                      + \\\n",
    "     B_GA_TRAIN         * GA                        + \\\n",
    "     B_BUSINESS_TRAIN   * BUSINESS                  + \\\n",
    "     B_PRIVATE          * PRIVATE                   + \\\n",
    "     B_COMMUTER         * COMMUTER\n",
    "\n",
    "SM_SP = ASC_SM                                   + \\\n",
    "     BETA_COST_random * SM_COST_SCALED**q_COST + \\\n",
    "     BETA_TIME_SM_random       * SM_TT_SCALED   + \\\n",
    "     BETA_HE_random_Norm            * SM_HE_SCALED           + \\\n",
    "     B_AGE_ADULTS_SM * AGE_2                  + \\\n",
    "     B_AGE_ADULTS_SM * AGE_3                  + \\\n",
    "     B_AGE_4_SM      * AGE_4                  + \\\n",
    "     B_AGE_5_SM      * AGE_5                  + \\\n",
    "     B_FIRST_SM      * FIRST                  + \\\n",
    "     B_BUSINESS_SM   * BUSINESS               + \\\n",
    "     B_PRIVATE       * PRIVATE                + \\\n",
    "     B_COMMUTER      * COMMUTER\n",
    "\n",
    "Car_SP = ASC_CAR                              + \\\n",
    "     BETA_COST_random     * CAR_COST_SCALED**q_COST + \\\n",
    "     BETA_TIME_CAR_random_Norm * CAR_TT_SCALED\n",
    "\n",
    "\n",
    "\n",
    "V = {3: Car_SP,1: TRAIN_SP,2: SM_SP}\n",
    "av = {3: CAR_AV_SP,1: TRAIN_AV_SP,2: SM_AV}\n",
    "\n",
    "vSeq.append(V)\n",
    "ModNameSeqence.append(\"ML_\"+str(len(vSeq)))\n",
    "display(Markdown(f\"# ^^^^^^^^^^^\"))\n",
    "display(Markdown(f\"# {ModNameSeqence[-1]}\"))"
   ]
  },
  {
   "cell_type": "code",
   "execution_count": 30,
   "metadata": {},
   "outputs": [
    {
     "data": {
      "text/markdown": [
       "## Estimate  ML_11 and compare with ML_10"
      ],
      "text/plain": [
       "<IPython.core.display.Markdown object>"
      ]
     },
     "metadata": {},
     "output_type": "display_data"
    },
    {
     "data": {
      "text/markdown": [
       "#### Unrestricted model ML_11 and Restricted model ML_10"
      ],
      "text/plain": [
       "<IPython.core.display.Markdown object>"
      ]
     },
     "metadata": {},
     "output_type": "display_data"
    },
    {
     "data": {
      "text/markdown": [
       "# Results model ML_11"
      ],
      "text/plain": [
       "<IPython.core.display.Markdown object>"
      ]
     },
     "metadata": {},
     "output_type": "display_data"
    },
    {
     "name": "stdout",
     "output_type": "stream",
     "text": [
      "                              Value        Std err         t-test  p-value\n",
      "ASC_SM                    -1.087554  3.925442e-156 -2.770526e+155      0.0\n",
      "ASC_TRAIN                 -1.322085  3.925442e-156 -3.367989e+155      0.0\n",
      "BETA_COST_mean             1.712237  3.925442e-156  4.361894e+155      0.0\n",
      "BETA_COST_std              1.037126  3.925442e-156  2.642062e+155      0.0\n",
      "BETA_HE_mean_Norm         -1.321791  3.925442e-156 -3.367240e+155      0.0\n",
      "BETA_HE_std_Norm           1.076659  3.925442e-156  2.742772e+155      0.0\n",
      "BETA_TIME_CAR_mean_Norm   -5.122447  3.925442e-156 -1.304935e+156      0.0\n",
      "BETA_TIME_CAR_std_Norm     2.186445  3.925442e-156  5.569932e+155      0.0\n",
      "BETA_TIME_SM_mean          1.573774  3.925442e-156  4.009164e+155      0.0\n",
      "BETA_TIME_SM_std           0.401510  3.925442e-156  1.022841e+155      0.0\n",
      "BETA_TIME_TRAIN_mean_Norm -4.987347  3.925442e-156 -1.270518e+156      0.0\n",
      "BETA_TIME_TRAIN_std_Norm   1.857135  3.925442e-156  4.731021e+155      0.0\n",
      "B_AGE_3_TRAIN             -1.554525  3.925442e-156 -3.960127e+155      0.0\n",
      "B_AGE_4_SM                -1.138982  -0.000000e+00  1.797693e+308      0.0\n",
      "B_AGE_5_SM                -1.185356  -0.000000e+00  1.797693e+308      0.0\n",
      "B_AGE_5_TRAIN              1.063050  -0.000000e+00  1.797693e+308      0.0\n",
      "B_AGE_ADULTS_SM           -0.649316  3.925442e-156 -1.654121e+155      0.0\n",
      "B_AGE_TRAIN_ADULTS        -1.482301  -0.000000e+00  1.797693e+308      0.0\n",
      "B_BUSINESS_SM              1.534440  3.925442e-156  3.908959e+155      0.0\n",
      "B_BUSINESS_TRAIN           1.908741  3.925442e-156  4.862485e+155      0.0\n",
      "B_COMMUTER                 3.754785  -0.000000e+00  1.797693e+308      0.0\n",
      "B_FIRST_SM                -0.068803  3.925442e-156 -1.752741e+154      0.0\n",
      "B_GA_TRAIN                 2.610542  -0.000000e+00  1.797693e+308      0.0\n",
      "B_LUGGAGE_TRAIN            0.567305  -0.000000e+00  1.797693e+308      0.0\n",
      "B_MALE_TRAIN              -1.213470  3.925442e-156 -3.091295e+155      0.0\n",
      "B_PRIVATE                  4.049653  -0.000000e+00  1.797693e+308      0.0\n",
      "q_COST                     0.610146  3.925442e-156  1.554338e+155      0.0\n",
      "LL(0) =    -8946.363\n",
      "LL(beta) = -5713.628\n",
      "***************\n",
      "AIC = 11481.25648579472\n",
      "BIC = 11928.228043966696\n",
      "rho bar square = 0.358\n"
     ]
    },
    {
     "data": {
      "text/markdown": [
       "# Results model ML_10"
      ],
      "text/plain": [
       "<IPython.core.display.Markdown object>"
      ]
     },
     "metadata": {},
     "output_type": "display_data"
    },
    {
     "name": "stdout",
     "output_type": "stream",
     "text": [
      "                              Value        Std err         t-test  p-value\n",
      "ASC_SM                     0.005850  1.797693e+308  3.254237e-311      1.0\n",
      "ASC_TRAIN                  0.416358  1.797693e+308  2.316069e-309      1.0\n",
      "BETA_COST_mean             1.303010  1.797693e+308  7.248236e-309      1.0\n",
      "BETA_COST_std              1.115152  1.797693e+308  6.203239e-309      1.0\n",
      "BETA_HE_mean_Norm         -1.431921  1.797693e+308 -7.965324e-309      1.0\n",
      "BETA_HE_std_Norm           1.230198  1.797693e+308  6.843205e-309      1.0\n",
      "BETA_TIME_CAR_mean_Norm   -5.161364  1.797693e+308 -2.871104e-308      1.0\n",
      "BETA_TIME_CAR_std_Norm     2.342177  1.797693e+308  1.302879e-308      1.0\n",
      "BETA_TIME_SM_mean          1.535906  1.797693e+308  8.543760e-309      1.0\n",
      "BETA_TIME_SM_std           0.412692  1.797693e+308  2.295675e-309      1.0\n",
      "BETA_TIME_TRAIN_mean_Norm -5.081586  1.797693e+308 -2.826726e-308      1.0\n",
      "BETA_TIME_TRAIN_std_Norm   1.904084  1.797693e+308  1.059182e-308      1.0\n",
      "B_AGE_3_TRAIN             -3.053669  -0.000000e+00  1.797693e+308      0.0\n",
      "B_AGE_4_SM                -2.061217  2.222759e-162 -9.273239e+161      0.0\n",
      "B_AGE_5_SM                -1.903382  -0.000000e+00  1.797693e+308      0.0\n",
      "B_AGE_5_TRAIN              0.423438  -0.000000e+00  1.797693e+308      0.0\n",
      "B_AGE_ADULTS_SM           -1.809297   0.000000e+00  1.797693e+308      0.0\n",
      "B_AGE_TRAIN_ADULTS        -2.657145   0.000000e+00  1.797693e+308      0.0\n",
      "B_BUSINESS_SM              0.916969   0.000000e+00  1.797693e+308      0.0\n",
      "B_BUSINESS_TRAIN           0.881363   0.000000e+00  1.797693e+308      0.0\n",
      "B_COMMUTER                 4.111296  -0.000000e+00  1.797693e+308      0.0\n",
      "B_FIRST_SM                 0.229369  1.797693e+308  1.275908e-309      1.0\n",
      "B_GA_TRAIN                 2.604593  -0.000000e+00  1.797693e+308      0.0\n",
      "B_LUGGAGE_TRAIN            0.439235   0.000000e+00  1.797693e+308      0.0\n",
      "B_MALE_TRAIN              -1.155584  1.797693e+308 -6.428150e-309      1.0\n",
      "B_PRIVATE                  4.144771   0.000000e+00  1.797693e+308      0.0\n",
      "LL(0) =    -8948.767\n",
      "LL(beta) = -5713.802\n",
      "***************\n",
      "AIC = 11479.604363082331\n",
      "BIC = 11910.02141909979\n",
      "rho bar square = 0.359\n"
     ]
    },
    {
     "data": {
      "text/markdown": [
       "### Diff. LL(beta) ML_10 > ML_11 <- False"
      ],
      "text/plain": [
       "<IPython.core.display.Markdown object>"
      ]
     },
     "metadata": {},
     "output_type": "display_data"
    },
    {
     "name": "stdout",
     "output_type": "stream",
     "text": [
      "***************\n",
      "***************\n"
     ]
    },
    {
     "data": {
      "text/markdown": [
       "### Diff. rho bar square ML_10 > ML_11 <- True"
      ],
      "text/plain": [
       "<IPython.core.display.Markdown object>"
      ]
     },
     "metadata": {},
     "output_type": "display_data"
    },
    {
     "name": "stdout",
     "output_type": "stream",
     "text": [
      "***************\n",
      "RatioTest 0.34787728761148173\n",
      "Critical 3.841458820694124\n",
      "Chose Restricted (fail to reject H0 the parameters of the unrestricted model are 0)\n"
     ]
    },
    {
     "data": {
      "text/markdown": [
       "### LL ratio test result -3.4935815330826423"
      ],
      "text/plain": [
       "<IPython.core.display.Markdown object>"
      ]
     },
     "metadata": {},
     "output_type": "display_data"
    },
    {
     "name": "stdout",
     "output_type": "stream",
     "text": [
      "Probability that the restricted model is false having greater rho bar squere, is below threshold:\n",
      "Threshold:0.07\n",
      "Probability:0.011176373878000075\n",
      "Difference:-0.05882362612199993\n"
     ]
    },
    {
     "data": {
      "text/markdown": [
       "#### LogLikelihood ML_10 - BenAkivaSwaitHorowitzTest ML_10"
      ],
      "text/plain": [
       "<IPython.core.display.Markdown object>"
      ]
     },
     "metadata": {},
     "output_type": "display_data"
    }
   ],
   "source": [
    "bestRes, results = estimate_N_compare(ModNameSeqence[-1]\n",
    "                               , bestRes\n",
    "                               , vSeq\n",
    "                               , av\n",
    "                               , CHOICE, Car_SP, TRAIN_SP, SM_SP, CAR_AV_SP, TRAIN_AV_SP, SM_AV\n",
    "                               , database\n",
    "                               , pandas\n",
    "                               , myRandomNumberGenerators\n",
    "                               , results\n",
    "                               , ModNameSeqence=ModNameSeqence\n",
    "                               , Draws=Draws)\n",
    "best.append(bestRes)"
   ]
  },
  {
   "cell_type": "code",
   "execution_count": 31,
   "metadata": {},
   "outputs": [
    {
     "data": {
      "text/markdown": [
       "# ^^^^^^^^^^^"
      ],
      "text/plain": [
       "<IPython.core.display.Markdown object>"
      ]
     },
     "metadata": {},
     "output_type": "display_data"
    },
    {
     "data": {
      "text/markdown": [
       "# ML_12"
      ],
      "text/plain": [
       "<IPython.core.display.Markdown object>"
      ]
     },
     "metadata": {},
     "output_type": "display_data"
    }
   ],
   "source": [
    "####q_COST\n",
    "####q_TIME\n",
    "####BETA_COST_random\n",
    "####BETA_HE_random_Norm\n",
    "####BETA_TIME_TRAIN_random_Norm\n",
    "####BETA_TIME_SM_random\n",
    "####BETA_TIME_CAR\n",
    "\n",
    "\n",
    "\n",
    "\n",
    "\n",
    "#Utility functions\n",
    "TRAIN_SP = ASC_TRAIN                                      + \\\n",
    "     BETA_COST_random             * TRAIN_COST_SCALED**q_COST + \\\n",
    "     BETA_TIME_TRAIN_random_Norm       * TRAIN_TT_SCALED**q_TIME   + \\\n",
    "     BETA_HE_random_Norm               * TRAIN_HE_SCALED           + \\\n",
    "     B_AGE_ADULTS_TRAIN * AGE_2                     + \\\n",
    "     B_AGE_3_TRAIN      * AGE_3                     + \\\n",
    "     B_AGE_ADULTS_TRAIN * AGE_4                     + \\\n",
    "     B_AGE_5_TRAIN      * AGE_5                     + \\\n",
    "     B_LUGGAGE_TRAIN    * LUGGAGE                   + \\\n",
    "     B_MALE_TRAIN       * MALE                      + \\\n",
    "     B_GA_TRAIN         * GA                        + \\\n",
    "     B_BUSINESS_TRAIN   * BUSINESS                  + \\\n",
    "     B_PRIVATE          * PRIVATE                   + \\\n",
    "     B_COMMUTER         * COMMUTER\n",
    "\n",
    "SM_SP = ASC_SM                                   + \\\n",
    "     BETA_COST_random * SM_COST_SCALED**q_COST + \\\n",
    "     BETA_TIME_SM_random       * SM_TT_SCALED**q_TIME   + \\\n",
    "     BETA_HE_random_Norm            * SM_HE_SCALED           + \\\n",
    "     B_AGE_ADULTS_SM * AGE_2                  + \\\n",
    "     B_AGE_ADULTS_SM * AGE_3                  + \\\n",
    "     B_AGE_4_SM      * AGE_4                  + \\\n",
    "     B_AGE_5_SM      * AGE_5                  + \\\n",
    "     B_FIRST_SM      * FIRST                  + \\\n",
    "     B_BUSINESS_SM   * BUSINESS               + \\\n",
    "     B_PRIVATE       * PRIVATE                + \\\n",
    "     B_COMMUTER      * COMMUTER\n",
    "\n",
    "Car_SP = ASC_CAR                              + \\\n",
    "     BETA_COST_random     * CAR_COST_SCALED**q_COST + \\\n",
    "     B_TIME_CAR * CAR_TT_SCALED**q_TIME\n",
    "\n",
    "\n",
    "\n",
    "V = {3: Car_SP,1: TRAIN_SP,2: SM_SP}\n",
    "av = {3: CAR_AV_SP,1: TRAIN_AV_SP,2: SM_AV}\n",
    "\n",
    "vSeq.append(V)\n",
    "ModNameSeqence.append(\"ML_\"+str(len(vSeq)))\n",
    "\n",
    "display(Markdown(f\"# ^^^^^^^^^^^\"))\n",
    "display(Markdown(f\"# {ModNameSeqence[-1]}\"))"
   ]
  },
  {
   "cell_type": "code",
   "execution_count": 32,
   "metadata": {},
   "outputs": [
    {
     "data": {
      "text/markdown": [
       "## Estimate  ML_12 and compare with ML_10"
      ],
      "text/plain": [
       "<IPython.core.display.Markdown object>"
      ]
     },
     "metadata": {},
     "output_type": "display_data"
    },
    {
     "data": {
      "text/markdown": [
       "#### Unrestricted model ML_12 and Restricted model ML_10"
      ],
      "text/plain": [
       "<IPython.core.display.Markdown object>"
      ]
     },
     "metadata": {},
     "output_type": "display_data"
    },
    {
     "data": {
      "text/markdown": [
       "# Results model ML_12"
      ],
      "text/plain": [
       "<IPython.core.display.Markdown object>"
      ]
     },
     "metadata": {},
     "output_type": "display_data"
    },
    {
     "name": "stdout",
     "output_type": "stream",
     "text": [
      "                               Value        Std err         t-test  p-value\n",
      "ASC_SM                     -4.436838  1.797693e+308 -2.468073e-308      1.0\n",
      "ASC_TRAIN                   4.854622  1.797693e+308  2.700473e-308      1.0\n",
      "BETA_COST_mean              1.888467  1.797693e+308  1.050495e-308      1.0\n",
      "BETA_COST_std               1.238315  1.797693e+308  6.888357e-309      1.0\n",
      "BETA_HE_mean_Norm          -1.452465  1.797693e+308 -8.079602e-309      1.0\n",
      "BETA_HE_std_Norm            1.300490  1.797693e+308  7.234215e-309      1.0\n",
      "BETA_TIME_SM_mean           3.044952  1.797693e+308  1.693811e-308      1.0\n",
      "BETA_TIME_SM_std            0.143491  1.797693e+308  7.981974e-310      1.0\n",
      "BETA_TIME_TRAIN_mean_Norm -28.948553  1.797693e+308 -1.610317e-307      1.0\n",
      "BETA_TIME_TRAIN_std_Norm    2.841075  1.797693e+308  1.580401e-308      1.0\n",
      "B_AGE_3_TRAIN              -3.229876  -0.000000e+00  1.797693e+308      0.0\n",
      "B_AGE_4_SM                 -0.976249  -0.000000e+00  1.797693e+308      0.0\n",
      "B_AGE_5_SM                 -2.784459  -0.000000e+00  1.797693e+308      0.0\n",
      "B_AGE_5_TRAIN              -1.020358  -0.000000e+00  1.797693e+308      0.0\n",
      "B_AGE_ADULTS_SM            -0.705554  -0.000000e+00  1.797693e+308      0.0\n",
      "B_AGE_TRAIN_ADULTS         -2.443032  -0.000000e+00  1.797693e+308      0.0\n",
      "B_BUSINESS_SM               0.798139  1.797693e+308  4.439794e-309      1.0\n",
      "B_BUSINESS_TRAIN            0.743875  1.797693e+308  4.137941e-309      1.0\n",
      "B_COMMUTER                  2.547741  -0.000000e+00  1.797693e+308      0.0\n",
      "B_FIRST_SM                  0.666632  1.797693e+308  3.708263e-309      1.0\n",
      "B_GA_TRAIN                  2.598520  -0.000000e+00  1.797693e+308      0.0\n",
      "B_LUGGAGE_TRAIN             0.618352  -0.000000e+00  1.797693e+308      0.0\n",
      "B_MALE_TRAIN               -0.967380  1.797693e+308 -5.381227e-309      1.0\n",
      "B_PRIVATE                   2.935301  -0.000000e+00  1.797693e+308      0.0\n",
      "B_TIME_CAR                -24.568228  1.797693e+308 -1.366653e-307      1.0\n",
      "q_COST                      0.441856  1.797693e+308  2.457907e-309      1.0\n",
      "q_TIME                      0.216639  1.797693e+308  1.205096e-309      1.0\n",
      "LL(0) =    -9950.073\n",
      "LL(beta) = -5741.332\n",
      "***************\n",
      "AIC = 11536.66328074028\n",
      "BIC = 11983.634838912256\n",
      "rho bar square = 0.42\n"
     ]
    },
    {
     "data": {
      "text/markdown": [
       "# Results model ML_10"
      ],
      "text/plain": [
       "<IPython.core.display.Markdown object>"
      ]
     },
     "metadata": {},
     "output_type": "display_data"
    },
    {
     "name": "stdout",
     "output_type": "stream",
     "text": [
      "                              Value        Std err         t-test  p-value\n",
      "ASC_SM                     0.005850  1.797693e+308  3.254237e-311      1.0\n",
      "ASC_TRAIN                  0.416358  1.797693e+308  2.316069e-309      1.0\n",
      "BETA_COST_mean             1.303010  1.797693e+308  7.248236e-309      1.0\n",
      "BETA_COST_std              1.115152  1.797693e+308  6.203239e-309      1.0\n",
      "BETA_HE_mean_Norm         -1.431921  1.797693e+308 -7.965324e-309      1.0\n",
      "BETA_HE_std_Norm           1.230198  1.797693e+308  6.843205e-309      1.0\n",
      "BETA_TIME_CAR_mean_Norm   -5.161364  1.797693e+308 -2.871104e-308      1.0\n",
      "BETA_TIME_CAR_std_Norm     2.342177  1.797693e+308  1.302879e-308      1.0\n",
      "BETA_TIME_SM_mean          1.535906  1.797693e+308  8.543760e-309      1.0\n",
      "BETA_TIME_SM_std           0.412692  1.797693e+308  2.295675e-309      1.0\n",
      "BETA_TIME_TRAIN_mean_Norm -5.081586  1.797693e+308 -2.826726e-308      1.0\n",
      "BETA_TIME_TRAIN_std_Norm   1.904084  1.797693e+308  1.059182e-308      1.0\n",
      "B_AGE_3_TRAIN             -3.053669  -0.000000e+00  1.797693e+308      0.0\n",
      "B_AGE_4_SM                -2.061217  2.222759e-162 -9.273239e+161      0.0\n",
      "B_AGE_5_SM                -1.903382  -0.000000e+00  1.797693e+308      0.0\n",
      "B_AGE_5_TRAIN              0.423438  -0.000000e+00  1.797693e+308      0.0\n",
      "B_AGE_ADULTS_SM           -1.809297   0.000000e+00  1.797693e+308      0.0\n",
      "B_AGE_TRAIN_ADULTS        -2.657145   0.000000e+00  1.797693e+308      0.0\n",
      "B_BUSINESS_SM              0.916969   0.000000e+00  1.797693e+308      0.0\n",
      "B_BUSINESS_TRAIN           0.881363   0.000000e+00  1.797693e+308      0.0\n",
      "B_COMMUTER                 4.111296  -0.000000e+00  1.797693e+308      0.0\n",
      "B_FIRST_SM                 0.229369  1.797693e+308  1.275908e-309      1.0\n",
      "B_GA_TRAIN                 2.604593  -0.000000e+00  1.797693e+308      0.0\n",
      "B_LUGGAGE_TRAIN            0.439235   0.000000e+00  1.797693e+308      0.0\n",
      "B_MALE_TRAIN              -1.155584  1.797693e+308 -6.428150e-309      1.0\n",
      "B_PRIVATE                  4.144771   0.000000e+00  1.797693e+308      0.0\n",
      "LL(0) =    -8948.767\n",
      "LL(beta) = -5713.802\n",
      "***************\n",
      "AIC = 11479.604363082331\n",
      "BIC = 11910.02141909979\n",
      "rho bar square = 0.359\n"
     ]
    },
    {
     "data": {
      "text/markdown": [
       "### Diff. LL(beta) ML_10 > ML_12 <- True"
      ],
      "text/plain": [
       "<IPython.core.display.Markdown object>"
      ]
     },
     "metadata": {},
     "output_type": "display_data"
    },
    {
     "name": "stdout",
     "output_type": "stream",
     "text": [
      "***************\n",
      "***************\n"
     ]
    },
    {
     "data": {
      "text/markdown": [
       "### Diff. rho bar square ML_10 > ML_12 <- False"
      ],
      "text/plain": [
       "<IPython.core.display.Markdown object>"
      ]
     },
     "metadata": {},
     "output_type": "display_data"
    },
    {
     "name": "stdout",
     "output_type": "stream",
     "text": [
      "***************\n",
      "RatioTest 55.05891765794877\n",
      "Critical 3.841458820694124\n",
      "Chose Unrestricted (reject H0 the parameters of the unrestricted model are 0)\n"
     ]
    },
    {
     "data": {
      "text/markdown": [
       "### LL Ratio Test Result (abs(STAT)-CHI2)51.21745883725465"
      ],
      "text/plain": [
       "<IPython.core.display.Markdown object>"
      ]
     },
     "metadata": {},
     "output_type": "display_data"
    },
    {
     "name": "stdout",
     "output_type": "stream",
     "text": [
      "Probability that the unrestricted model is false having greater rho bar squere, is below threshold:\n",
      "Threshold:0.07\n",
      "Probability:0.0\n",
      "Difference:-0.07\n"
     ]
    },
    {
     "data": {
      "text/markdown": [
       "#### LogLikelihood ML_12 - BenAkivaSwaitHorowitzTest ML_12"
      ],
      "text/plain": [
       "<IPython.core.display.Markdown object>"
      ]
     },
     "metadata": {},
     "output_type": "display_data"
    }
   ],
   "source": [
    "bestRes, results = estimate_N_compare(ModNameSeqence[-1]\n",
    "                               , bestRes\n",
    "                               , vSeq\n",
    "                               , av\n",
    "                               , CHOICE, Car_SP, TRAIN_SP, SM_SP, CAR_AV_SP, TRAIN_AV_SP, SM_AV\n",
    "                               , database\n",
    "                               , pandas\n",
    "                               , myRandomNumberGenerators\n",
    "                               , results\n",
    "                               , ModNameSeqence=ModNameSeqence\n",
    "                               , Draws=Draws)\n",
    "best.append(bestRes)"
   ]
  },
  {
   "cell_type": "code",
   "execution_count": 33,
   "metadata": {},
   "outputs": [
    {
     "name": "stdout",
     "output_type": "stream",
     "text": [
      "ML_13\n"
     ]
    }
   ],
   "source": [
    "####q_COST\n",
    "####q_TIME\n",
    "####q_HE\n",
    "####BETA_COST_random\n",
    "####BETA_HE_random_Norm\n",
    "####BETA_TIME_TRAIN_random_Norm\n",
    "####BETA_TIME_SM_random\n",
    "####BETA_TIME_CAR\n",
    "\n",
    "\n",
    "#Utility functions\n",
    "TRAIN_SP = ASC_TRAIN                                      + \\\n",
    "     BETA_COST_random             * TRAIN_COST_SCALED**q_COST + \\\n",
    "     BETA_TIME_TRAIN_random_Norm       * TRAIN_TT_SCALED**q_TIME   + \\\n",
    "     BETA_HE_random_Norm               * TRAIN_HE_SCALED**q_HE           + \\\n",
    "     B_AGE_ADULTS_TRAIN * AGE_2                     + \\\n",
    "     B_AGE_3_TRAIN      * AGE_3                     + \\\n",
    "     B_AGE_ADULTS_TRAIN * AGE_4                     + \\\n",
    "     B_AGE_5_TRAIN      * AGE_5                     + \\\n",
    "     B_LUGGAGE_TRAIN    * LUGGAGE                   + \\\n",
    "     B_MALE_TRAIN       * MALE                      + \\\n",
    "     B_GA_TRAIN         * GA                        + \\\n",
    "     B_BUSINESS_TRAIN   * BUSINESS                  + \\\n",
    "     B_PRIVATE          * PRIVATE                   + \\\n",
    "     B_COMMUTER         * COMMUTER\n",
    "\n",
    "SM_SP = ASC_SM                                   + \\\n",
    "     BETA_COST_random * SM_COST_SCALED**q_COST + \\\n",
    "     BETA_TIME_SM_random       * SM_TT_SCALED**q_TIME   + \\\n",
    "     BETA_HE_random_Norm            * SM_HE_SCALED**q_HE           + \\\n",
    "     B_AGE_ADULTS_SM * AGE_2                  + \\\n",
    "     B_AGE_ADULTS_SM * AGE_3                  + \\\n",
    "     B_AGE_4_SM      * AGE_4                  + \\\n",
    "     B_AGE_5_SM      * AGE_5                  + \\\n",
    "     B_FIRST_SM      * FIRST                  + \\\n",
    "     B_BUSINESS_SM   * BUSINESS               + \\\n",
    "     B_PRIVATE       * PRIVATE                + \\\n",
    "     B_COMMUTER      * COMMUTER\n",
    "\n",
    "Car_SP = ASC_CAR                              + \\\n",
    "     BETA_COST_random     * CAR_COST_SCALED**q_COST + \\\n",
    "     B_TIME_CAR * CAR_TT_SCALED**q_TIME\n",
    "\n",
    "\n",
    "\n",
    "V = {3: Car_SP,1: TRAIN_SP,2: SM_SP}\n",
    "av = {3: CAR_AV_SP,1: TRAIN_AV_SP,2: SM_AV}\n",
    "\n",
    "vSeq.append(V)\n",
    "ModNameSeqence.append(\"ML_\"+str(len(vSeq)))\n",
    "print(ModNameSeqence[-1])"
   ]
  },
  {
   "cell_type": "code",
   "execution_count": 34,
   "metadata": {},
   "outputs": [
    {
     "data": {
      "text/markdown": [
       "## Estimate  ML_13 and compare with ML_12"
      ],
      "text/plain": [
       "<IPython.core.display.Markdown object>"
      ]
     },
     "metadata": {},
     "output_type": "display_data"
    },
    {
     "data": {
      "text/markdown": [
       "#### Unrestricted model ML_13 and Restricted model ML_12"
      ],
      "text/plain": [
       "<IPython.core.display.Markdown object>"
      ]
     },
     "metadata": {},
     "output_type": "display_data"
    },
    {
     "data": {
      "text/markdown": [
       "# Results model ML_13"
      ],
      "text/plain": [
       "<IPython.core.display.Markdown object>"
      ]
     },
     "metadata": {},
     "output_type": "display_data"
    },
    {
     "name": "stdout",
     "output_type": "stream",
     "text": [
      "                               Value        Std err         t-test  p-value\n",
      "ASC_SM                     65.478482  1.797693e+308  3.642361e-307      1.0\n",
      "ASC_TRAIN                  69.857465  1.797693e+308  3.885951e-307      1.0\n",
      "BETA_COST_mean              2.057064  1.797693e+308  1.144280e-308      1.0\n",
      "BETA_COST_std               1.257500  1.797693e+308  6.995075e-309      1.0\n",
      "BETA_HE_mean_Norm         -73.310530  1.797693e+308 -4.078034e-307      1.0\n",
      "BETA_HE_std_Norm            3.340594  1.797693e+308  1.858267e-308      1.0\n",
      "BETA_TIME_SM_mean           2.721761  1.797693e+308  1.514030e-308      1.0\n",
      "BETA_TIME_SM_std            0.100922  1.797693e+308  5.613960e-310      1.0\n",
      "BETA_TIME_TRAIN_mean_Norm -18.714603  1.797693e+308 -1.041034e-307      1.0\n",
      "BETA_TIME_TRAIN_std_Norm    2.140489  1.797693e+308  1.190686e-308      1.0\n",
      "B_AGE_3_TRAIN              -3.239318  -0.000000e+00  1.797693e+308      0.0\n",
      "B_AGE_4_SM                 -2.256623  -0.000000e+00  1.797693e+308      0.0\n",
      "B_AGE_5_SM                 -2.908884  1.797693e+308 -1.618120e-308      1.0\n",
      "B_AGE_5_TRAIN              -1.657825  1.797693e+308 -9.221958e-309      1.0\n",
      "B_AGE_ADULTS_SM            -1.714505  -0.000000e+00  1.797693e+308      0.0\n",
      "B_AGE_TRAIN_ADULTS         -3.415003  -0.000000e+00  1.797693e+308      0.0\n",
      "B_BUSINESS_SM               1.597451  -0.000000e+00  1.797693e+308      0.0\n",
      "B_BUSINESS_TRAIN            1.920341  1.797693e+308  1.068225e-308      1.0\n",
      "B_COMMUTER                  4.147551   0.000000e+00  1.797693e+308      0.0\n",
      "B_FIRST_SM                  0.495178  -0.000000e+00  1.797693e+308      0.0\n",
      "B_GA_TRAIN                  3.109912  1.797693e+308  1.729946e-308      1.0\n",
      "B_LUGGAGE_TRAIN             0.588155  1.797693e+308  3.271723e-309      1.0\n",
      "B_MALE_TRAIN               -1.449588  1.797693e+308 -8.063602e-309      1.0\n",
      "B_PRIVATE                   3.803955  -0.000000e+00  1.797693e+308      0.0\n",
      "B_TIME_CAR                -21.537449  1.797693e+308 -1.198060e-307      1.0\n",
      "q_COST                      0.458740  1.797693e+308  2.551826e-309      1.0\n",
      "q_HE                        0.006572  1.797693e+308  3.655547e-311      1.0\n",
      "q_TIME                      0.280681  1.797693e+308  1.561341e-309      1.0\n",
      "LL(0) =    -9941.030\n",
      "LL(beta) = -5644.261\n",
      "***************\n",
      "AIC = 11344.522545841955\n",
      "BIC = 11808.04860616845\n",
      "rho bar square = 0.429\n"
     ]
    },
    {
     "data": {
      "text/markdown": [
       "# Results model ML_12"
      ],
      "text/plain": [
       "<IPython.core.display.Markdown object>"
      ]
     },
     "metadata": {},
     "output_type": "display_data"
    },
    {
     "name": "stdout",
     "output_type": "stream",
     "text": [
      "                               Value        Std err         t-test  p-value\n",
      "ASC_SM                     -4.436838  1.797693e+308 -2.468073e-308      1.0\n",
      "ASC_TRAIN                   4.854622  1.797693e+308  2.700473e-308      1.0\n",
      "BETA_COST_mean              1.888467  1.797693e+308  1.050495e-308      1.0\n",
      "BETA_COST_std               1.238315  1.797693e+308  6.888357e-309      1.0\n",
      "BETA_HE_mean_Norm          -1.452465  1.797693e+308 -8.079602e-309      1.0\n",
      "BETA_HE_std_Norm            1.300490  1.797693e+308  7.234215e-309      1.0\n",
      "BETA_TIME_SM_mean           3.044952  1.797693e+308  1.693811e-308      1.0\n",
      "BETA_TIME_SM_std            0.143491  1.797693e+308  7.981974e-310      1.0\n",
      "BETA_TIME_TRAIN_mean_Norm -28.948553  1.797693e+308 -1.610317e-307      1.0\n",
      "BETA_TIME_TRAIN_std_Norm    2.841075  1.797693e+308  1.580401e-308      1.0\n",
      "B_AGE_3_TRAIN              -3.229876  -0.000000e+00  1.797693e+308      0.0\n",
      "B_AGE_4_SM                 -0.976249  -0.000000e+00  1.797693e+308      0.0\n",
      "B_AGE_5_SM                 -2.784459  -0.000000e+00  1.797693e+308      0.0\n",
      "B_AGE_5_TRAIN              -1.020358  -0.000000e+00  1.797693e+308      0.0\n",
      "B_AGE_ADULTS_SM            -0.705554  -0.000000e+00  1.797693e+308      0.0\n",
      "B_AGE_TRAIN_ADULTS         -2.443032  -0.000000e+00  1.797693e+308      0.0\n",
      "B_BUSINESS_SM               0.798139  1.797693e+308  4.439794e-309      1.0\n",
      "B_BUSINESS_TRAIN            0.743875  1.797693e+308  4.137941e-309      1.0\n",
      "B_COMMUTER                  2.547741  -0.000000e+00  1.797693e+308      0.0\n",
      "B_FIRST_SM                  0.666632  1.797693e+308  3.708263e-309      1.0\n",
      "B_GA_TRAIN                  2.598520  -0.000000e+00  1.797693e+308      0.0\n",
      "B_LUGGAGE_TRAIN             0.618352  -0.000000e+00  1.797693e+308      0.0\n",
      "B_MALE_TRAIN               -0.967380  1.797693e+308 -5.381227e-309      1.0\n",
      "B_PRIVATE                   2.935301  -0.000000e+00  1.797693e+308      0.0\n",
      "B_TIME_CAR                -24.568228  1.797693e+308 -1.366653e-307      1.0\n",
      "q_COST                      0.441856  1.797693e+308  2.457907e-309      1.0\n",
      "q_TIME                      0.216639  1.797693e+308  1.205096e-309      1.0\n",
      "LL(0) =    -9950.073\n",
      "LL(beta) = -5741.332\n",
      "***************\n",
      "AIC = 11536.66328074028\n",
      "BIC = 11983.634838912256\n",
      "rho bar square = 0.42\n"
     ]
    },
    {
     "data": {
      "text/markdown": [
       "### Diff. LL(beta) ML_12 > ML_13 <- False"
      ],
      "text/plain": [
       "<IPython.core.display.Markdown object>"
      ]
     },
     "metadata": {},
     "output_type": "display_data"
    },
    {
     "name": "stdout",
     "output_type": "stream",
     "text": [
      "***************\n",
      "***************\n"
     ]
    },
    {
     "data": {
      "text/markdown": [
       "### Diff. rho bar square ML_12 > ML_13 <- False"
      ],
      "text/plain": [
       "<IPython.core.display.Markdown object>"
      ]
     },
     "metadata": {},
     "output_type": "display_data"
    },
    {
     "name": "stdout",
     "output_type": "stream",
     "text": [
      "***************\n",
      "RatioTest 194.1407348983248\n",
      "Critical 3.841458820694124\n",
      "Chose Unrestricted (reject H0 the parameters of the unrestricted model are 0)\n"
     ]
    },
    {
     "data": {
      "text/markdown": [
       "### LL Ratio Test Result (abs(STAT)-CHI2)190.29927607763068"
      ],
      "text/plain": [
       "<IPython.core.display.Markdown object>"
      ]
     },
     "metadata": {},
     "output_type": "display_data"
    },
    {
     "name": "stdout",
     "output_type": "stream",
     "text": [
      "Probability that the unrestricted model is false having greater rho bar squere, is below threshold:\n",
      "Threshold:0.07\n",
      "Probability:4.027962062765011e-49\n",
      "Difference:-0.07\n"
     ]
    },
    {
     "data": {
      "text/markdown": [
       "#### LogLikelihood ML_13 - BenAkivaSwaitHorowitzTest ML_13"
      ],
      "text/plain": [
       "<IPython.core.display.Markdown object>"
      ]
     },
     "metadata": {},
     "output_type": "display_data"
    }
   ],
   "source": [
    "bestRes, results = estimate_N_compare(ModNameSeqence[-1]\n",
    "                               , bestRes\n",
    "                               , vSeq\n",
    "                               , av\n",
    "                               , CHOICE, Car_SP, TRAIN_SP, SM_SP, CAR_AV_SP, TRAIN_AV_SP, SM_AV\n",
    "                               , database\n",
    "                               , pandas\n",
    "                               , myRandomNumberGenerators\n",
    "                               , results\n",
    "                               , ModNameSeqence=ModNameSeqence\n",
    "                               , Draws=Draws)\n",
    "best.append(bestRes)"
   ]
  },
  {
   "cell_type": "code",
   "execution_count": 35,
   "metadata": {},
   "outputs": [
    {
     "name": "stdout",
     "output_type": "stream",
     "text": [
      "ML_14\n"
     ]
    }
   ],
   "source": [
    "####q_COST\n",
    "####q_TIME\n",
    "####q_HE\n",
    "####BETA_COST_random\n",
    "####BETA_HE_random_Norm\n",
    "####BETA_TIME_TRAIN_random_Norm\n",
    "####BETA_TIME_SM_random\n",
    "####BETA_TIME_CAR_random_Norm\n",
    "\n",
    "\n",
    "#Utility functions\n",
    "TRAIN_SP = ASC_TRAIN                                      + \\\n",
    "     BETA_COST_random             * TRAIN_COST_SCALED**q_COST + \\\n",
    "     BETA_TIME_TRAIN_random_Norm       * TRAIN_TT_SCALED**q_TIME   + \\\n",
    "     BETA_HE_random_Norm               * TRAIN_HE_SCALED**q_HE           + \\\n",
    "     B_AGE_ADULTS_TRAIN * AGE_2                     + \\\n",
    "     B_AGE_3_TRAIN      * AGE_3                     + \\\n",
    "     B_AGE_ADULTS_TRAIN * AGE_4                     + \\\n",
    "     B_AGE_5_TRAIN      * AGE_5                     + \\\n",
    "     B_LUGGAGE_TRAIN    * LUGGAGE                   + \\\n",
    "     B_MALE_TRAIN       * MALE                      + \\\n",
    "     B_GA_TRAIN         * GA                        + \\\n",
    "     B_BUSINESS_TRAIN   * BUSINESS                  + \\\n",
    "     B_PRIVATE          * PRIVATE                   + \\\n",
    "     B_COMMUTER         * COMMUTER\n",
    "\n",
    "SM_SP = ASC_SM                                   + \\\n",
    "     BETA_COST_random * SM_COST_SCALED**q_COST + \\\n",
    "     BETA_TIME_SM_random       * SM_TT_SCALED**q_TIME   + \\\n",
    "     BETA_HE_random_Norm            * SM_HE_SCALED**q_HE           + \\\n",
    "     B_AGE_ADULTS_SM * AGE_2                  + \\\n",
    "     B_AGE_ADULTS_SM * AGE_3                  + \\\n",
    "     B_AGE_4_SM      * AGE_4                  + \\\n",
    "     B_AGE_5_SM      * AGE_5                  + \\\n",
    "     B_FIRST_SM      * FIRST                  + \\\n",
    "     B_BUSINESS_SM   * BUSINESS               + \\\n",
    "     B_PRIVATE       * PRIVATE                + \\\n",
    "     B_COMMUTER      * COMMUTER\n",
    "\n",
    "Car_SP = ASC_CAR                              + \\\n",
    "     BETA_COST_random     * CAR_COST_SCALED**q_COST + \\\n",
    "     BETA_TIME_CAR_random_Norm * CAR_TT_SCALED**q_TIME\n",
    "\n",
    "\n",
    "\n",
    "V = {3: Car_SP,1: TRAIN_SP,2: SM_SP}\n",
    "av = {3: CAR_AV_SP,1: TRAIN_AV_SP,2: SM_AV}\n",
    "\n",
    "vSeq.append(V)\n",
    "ModNameSeqence.append(\"ML_\"+str(len(vSeq)))\n",
    "print(ModNameSeqence[-1])"
   ]
  },
  {
   "cell_type": "code",
   "execution_count": null,
   "metadata": {
    "scrolled": false
   },
   "outputs": [
    {
     "data": {
      "text/markdown": [
       "## Estimate  ML_14 and compare with ML_13"
      ],
      "text/plain": [
       "<IPython.core.display.Markdown object>"
      ]
     },
     "metadata": {},
     "output_type": "display_data"
    },
    {
     "data": {
      "text/markdown": [
       "#### Unrestricted model ML_14 and Restricted model ML_13"
      ],
      "text/plain": [
       "<IPython.core.display.Markdown object>"
      ]
     },
     "metadata": {},
     "output_type": "display_data"
    },
    {
     "data": {
      "text/markdown": [
       "# Results model ML_14"
      ],
      "text/plain": [
       "<IPython.core.display.Markdown object>"
      ]
     },
     "metadata": {},
     "output_type": "display_data"
    },
    {
     "name": "stdout",
     "output_type": "stream",
     "text": [
      "                              Value        Std err         t-test  p-value\n",
      "ASC_SM                     0.321295  1.797693e+308  1.787262e-309      1.0\n",
      "ASC_TRAIN                 -0.352301  1.797693e+308 -1.959739e-309      1.0\n",
      "BETA_COST_mean             0.862195  1.797693e+308  4.796118e-309      1.0\n",
      "BETA_COST_std              1.715287  1.797693e+308  9.541603e-309      1.0\n",
      "BETA_HE_mean_Norm         -0.779271  1.797693e+308 -4.334839e-309      1.0\n",
      "BETA_HE_std_Norm           1.091373  1.797693e+308  6.070962e-309      1.0\n",
      "BETA_TIME_CAR_mean_Norm   -1.691893  1.797693e+308 -9.411465e-309      1.0\n",
      "BETA_TIME_CAR_std_Norm     1.048030  1.797693e+308  5.829863e-309      1.0\n",
      "BETA_TIME_SM_mean          0.318845  1.797693e+308  1.773636e-309      1.0\n",
      "BETA_TIME_SM_std           1.347796  1.797693e+308  7.497362e-309      1.0\n",
      "BETA_TIME_TRAIN_mean_Norm -2.121797  1.797693e+308 -1.180289e-308      1.0\n",
      "BETA_TIME_TRAIN_std_Norm   1.759655  1.797693e+308  9.788408e-309      1.0\n",
      "B_AGE_3_TRAIN             -0.340511  4.445517e-162 -7.659650e+160      0.0\n",
      "B_AGE_4_SM                -0.018182  1.797693e+308 -1.011395e-310      1.0\n",
      "B_AGE_5_SM                -0.190443  1.054769e-154 -1.805541e+153      0.0\n",
      "B_AGE_5_TRAIN              0.181213   0.000000e+00  1.797693e+308      0.0\n",
      "B_AGE_ADULTS_SM            0.532952  3.143456e-162  1.695434e+161      0.0\n",
      "B_AGE_TRAIN_ADULTS        -0.349118  1.797693e+308 -1.942033e-309      1.0\n",
      "B_BUSINESS_SM             -0.141746  -0.000000e+00  1.797693e+308      0.0\n",
      "B_BUSINESS_TRAIN          -0.160126  1.797693e+308 -8.907324e-310      1.0\n",
      "B_COMMUTER                 0.438089  -0.000000e+00  1.797693e+308      0.0\n",
      "B_FIRST_SM                 0.230399  1.797693e+308  1.281638e-309      1.0\n",
      "B_GA_TRAIN                 0.647647  1.797693e+308  3.602655e-309      1.0\n",
      "B_LUGGAGE_TRAIN            0.280790  1.797693e+308  1.561943e-309      1.0\n",
      "B_MALE_TRAIN              -0.570025  1.797693e+308 -3.170869e-309      1.0\n",
      "B_PRIVATE                  0.422549  -0.000000e+00  1.797693e+308      0.0\n",
      "q_COST                     1.191124  1.797693e+308  6.625849e-309      1.0\n",
      "q_HE                       0.836080  1.797693e+308  4.650850e-309      1.0\n",
      "q_TIME                     2.160357  1.797693e+308  1.201739e-308      1.0\n",
      "LL(0) =    -8910.797\n",
      "LL(beta) = -6152.046\n",
      "***************\n",
      "AIC = 12362.091118055283\n",
      "BIC = 12842.171680536294\n",
      "rho bar square = 0.306\n"
     ]
    },
    {
     "data": {
      "text/markdown": [
       "# Results model ML_13"
      ],
      "text/plain": [
       "<IPython.core.display.Markdown object>"
      ]
     },
     "metadata": {},
     "output_type": "display_data"
    },
    {
     "name": "stdout",
     "output_type": "stream",
     "text": [
      "                               Value        Std err         t-test  p-value\n",
      "ASC_SM                     65.478482  1.797693e+308  3.642361e-307      1.0\n",
      "ASC_TRAIN                  69.857465  1.797693e+308  3.885951e-307      1.0\n",
      "BETA_COST_mean              2.057064  1.797693e+308  1.144280e-308      1.0\n",
      "BETA_COST_std               1.257500  1.797693e+308  6.995075e-309      1.0\n",
      "BETA_HE_mean_Norm         -73.310530  1.797693e+308 -4.078034e-307      1.0\n",
      "BETA_HE_std_Norm            3.340594  1.797693e+308  1.858267e-308      1.0\n",
      "BETA_TIME_SM_mean           2.721761  1.797693e+308  1.514030e-308      1.0\n",
      "BETA_TIME_SM_std            0.100922  1.797693e+308  5.613960e-310      1.0\n",
      "BETA_TIME_TRAIN_mean_Norm -18.714603  1.797693e+308 -1.041034e-307      1.0\n",
      "BETA_TIME_TRAIN_std_Norm    2.140489  1.797693e+308  1.190686e-308      1.0\n",
      "B_AGE_3_TRAIN              -3.239318  -0.000000e+00  1.797693e+308      0.0\n",
      "B_AGE_4_SM                 -2.256623  -0.000000e+00  1.797693e+308      0.0\n",
      "B_AGE_5_SM                 -2.908884  1.797693e+308 -1.618120e-308      1.0\n",
      "B_AGE_5_TRAIN              -1.657825  1.797693e+308 -9.221958e-309      1.0\n",
      "B_AGE_ADULTS_SM            -1.714505  -0.000000e+00  1.797693e+308      0.0\n",
      "B_AGE_TRAIN_ADULTS         -3.415003  -0.000000e+00  1.797693e+308      0.0\n",
      "B_BUSINESS_SM               1.597451  -0.000000e+00  1.797693e+308      0.0\n",
      "B_BUSINESS_TRAIN            1.920341  1.797693e+308  1.068225e-308      1.0\n",
      "B_COMMUTER                  4.147551   0.000000e+00  1.797693e+308      0.0\n",
      "B_FIRST_SM                  0.495178  -0.000000e+00  1.797693e+308      0.0\n",
      "B_GA_TRAIN                  3.109912  1.797693e+308  1.729946e-308      1.0\n",
      "B_LUGGAGE_TRAIN             0.588155  1.797693e+308  3.271723e-309      1.0\n",
      "B_MALE_TRAIN               -1.449588  1.797693e+308 -8.063602e-309      1.0\n",
      "B_PRIVATE                   3.803955  -0.000000e+00  1.797693e+308      0.0\n",
      "B_TIME_CAR                -21.537449  1.797693e+308 -1.198060e-307      1.0\n",
      "q_COST                      0.458740  1.797693e+308  2.551826e-309      1.0\n",
      "q_HE                        0.006572  1.797693e+308  3.655547e-311      1.0\n",
      "q_TIME                      0.280681  1.797693e+308  1.561341e-309      1.0\n",
      "LL(0) =    -9941.030\n",
      "LL(beta) = -5644.261\n",
      "***************\n",
      "AIC = 11344.522545841955\n",
      "BIC = 11808.04860616845\n",
      "rho bar square = 0.429\n"
     ]
    },
    {
     "data": {
      "text/markdown": [
       "### Diff. LL(beta) ML_13 > ML_14 <- True"
      ],
      "text/plain": [
       "<IPython.core.display.Markdown object>"
      ]
     },
     "metadata": {},
     "output_type": "display_data"
    },
    {
     "name": "stdout",
     "output_type": "stream",
     "text": [
      "***************\n",
      "***************\n"
     ]
    },
    {
     "data": {
      "text/markdown": [
       "### Diff. rho bar square ML_13 > ML_14 <- True"
      ],
      "text/plain": [
       "<IPython.core.display.Markdown object>"
      ]
     },
     "metadata": {},
     "output_type": "display_data"
    },
    {
     "name": "stdout",
     "output_type": "stream",
     "text": [
      "***************\n",
      "RatioTest 1015.5685722133276\n",
      "Critical 3.841458820694124\n",
      "Chose Unrestricted (reject H0 the parameters of the unrestricted model are 0)\n"
     ]
    },
    {
     "data": {
      "text/markdown": [
       "### LL Ratio Test Result (abs(STAT)-CHI2)1011.7271133926334"
      ],
      "text/plain": [
       "<IPython.core.display.Markdown object>"
      ]
     },
     "metadata": {},
     "output_type": "display_data"
    },
    {
     "name": "stdout",
     "output_type": "stream",
     "text": [
      "Probability that the restricted model is false having greater rho bar squere, is below threshold:\n",
      "Threshold:0.07\n",
      "Probability:0.0\n",
      "Difference:-0.07\n"
     ]
    },
    {
     "data": {
      "text/markdown": [
       "#### LogLikelihood ML_14 - BenAkivaSwaitHorowitzTest ML_13"
      ],
      "text/plain": [
       "<IPython.core.display.Markdown object>"
      ]
     },
     "metadata": {},
     "output_type": "display_data"
    },
    {
     "data": {
      "text/markdown": [
       "#### LogLikelihood TEST ML_14 disagrees with BenAkivaSwaitHorowitzTest ML_13"
      ],
      "text/plain": [
       "<IPython.core.display.Markdown object>"
      ]
     },
     "metadata": {},
     "output_type": "display_data"
    },
    {
     "data": {
      "text/markdown": [
       "### TRY  CROSS VALIDATION"
      ],
      "text/plain": [
       "<IPython.core.display.Markdown object>"
      ]
     },
     "metadata": {},
     "output_type": "display_data"
    },
    {
     "data": {
      "text/markdown": [
       "# Perform  Cross Validation Between ['ML_14', 'ML_13']"
      ],
      "text/plain": [
       "<IPython.core.display.Markdown object>"
      ]
     },
     "metadata": {},
     "output_type": "display_data"
    },
    {
     "name": "stdout",
     "output_type": "stream",
     "text": [
      "Model 0\n",
      "Fold 0\n",
      "Model 0\n",
      "Fold 1\n",
      "Model 0\n",
      "Fold 2\n",
      "Model 0\n",
      "Fold 3\n",
      "Model 0\n",
      "Fold 4\n",
      "Model 1\n",
      "Fold 0\n",
      "Model 1\n",
      "Fold 1\n",
      "Model 1\n",
      "Fold 2\n"
     ]
    }
   ],
   "source": [
    "bestRes, results = estimate_N_compare(ModNameSeqence[-1]\n",
    "                               , bestRes\n",
    "                               , vSeq\n",
    "                               , av\n",
    "                               , CHOICE, Car_SP, TRAIN_SP, SM_SP, CAR_AV_SP, TRAIN_AV_SP, SM_AV\n",
    "                               , database\n",
    "                               , pandas\n",
    "                               , myRandomNumberGenerators\n",
    "                               , results\n",
    "                               , ModNameSeqence=ModNameSeqence\n",
    "                               , Draws=Draws)\n",
    "best.append(bestRes)"
   ]
  },
  {
   "cell_type": "code",
   "execution_count": null,
   "metadata": {},
   "outputs": [],
   "source": [
    "####BETA_COST_random\n",
    "####BETA_HE_random_Normal\n",
    "####BETA_TIME_TRAIN_random_Norm\n",
    "####BETA_TIME_SM_random\n",
    "####BETA_TIME_CAR_random_Norm\n",
    "\n",
    "####q_TIME\n",
    "\n",
    "\n",
    "\n",
    "\n",
    "#Utility functions\n",
    "TRAIN_SP = ASC_TRAIN                                      + \\\n",
    "     BETA_COST_random             * TRAIN_COST_SCALED + \\\n",
    "     BETA_TIME_TRAIN_random_Norm       * TRAIN_TT_SCALED**q_TIME   + \\\n",
    "     BETA_HE_random_Norm               * TRAIN_HE_SCALED           + \\\n",
    "     B_AGE_ADULTS_TRAIN * AGE_2                     + \\\n",
    "     B_AGE_3_TRAIN      * AGE_3                     + \\\n",
    "     B_AGE_ADULTS_TRAIN * AGE_4                     + \\\n",
    "     B_AGE_5_TRAIN      * AGE_5                     + \\\n",
    "     B_LUGGAGE_TRAIN    * LUGGAGE                   + \\\n",
    "     B_MALE_TRAIN       * MALE                      + \\\n",
    "     B_GA_TRAIN         * GA                        + \\\n",
    "     B_BUSINESS_TRAIN   * BUSINESS                  + \\\n",
    "     B_PRIVATE          * PRIVATE                   + \\\n",
    "     B_COMMUTER         * COMMUTER\n",
    "\n",
    "SM_SP = ASC_SM                                   + \\\n",
    "     BETA_COST_random * SM_COST_SCALED + \\\n",
    "     BETA_TIME_SM_random       * SM_TT_SCALED**q_TIME   + \\\n",
    "     BETA_HE_random_Norm            * SM_HE_SCALED           + \\\n",
    "     B_AGE_ADULTS_SM * AGE_2                  + \\\n",
    "     B_AGE_ADULTS_SM * AGE_3                  + \\\n",
    "     B_AGE_4_SM      * AGE_4                  + \\\n",
    "     B_AGE_5_SM      * AGE_5                  + \\\n",
    "     B_FIRST_SM      * FIRST                  + \\\n",
    "     B_BUSINESS_SM   * BUSINESS               + \\\n",
    "     B_PRIVATE       * PRIVATE                + \\\n",
    "     B_COMMUTER      * COMMUTER\n",
    "\n",
    "Car_SP = ASC_CAR                              + \\\n",
    "     BETA_COST_random     * CAR_COST_SCALED + \\\n",
    "     BETA_TIME_CAR_random_Norm * CAR_TT_SCALED**q_TIME\n",
    "\n",
    "\n",
    "\n",
    "V = {3: Car_SP,1: TRAIN_SP,2: SM_SP}\n",
    "av = {3: CAR_AV_SP,1: TRAIN_AV_SP,2: SM_AV}\n",
    "\n",
    "vSeq.append(V)\n",
    "ModNameSeqence.append(\"ML_\"+str(len(vSeq)))\n",
    "display(Markdown(f\"# ^^^^^^^^^^^\"))\n",
    "display(Markdown(f\"# {ModNameSeqence[-1]}\"))"
   ]
  },
  {
   "cell_type": "code",
   "execution_count": null,
   "metadata": {},
   "outputs": [],
   "source": [
    "bestRes, results = estimate_N_compare(ModNameSeqence[-1]\n",
    "                               , bestRes\n",
    "                               , vSeq\n",
    "                               , av\n",
    "                               , CHOICE, Car_SP, TRAIN_SP, SM_SP, CAR_AV_SP, TRAIN_AV_SP, SM_AV\n",
    "                               , database\n",
    "                               , pandas\n",
    "                               , myRandomNumberGenerators\n",
    "                               , results\n",
    "                               , ModNameSeqence=ModNameSeqence\n",
    "                               , Draws=Draws)\n",
    "best.append(bestRes)"
   ]
  },
  {
   "cell_type": "code",
   "execution_count": null,
   "metadata": {},
   "outputs": [],
   "source": [
    "####BETA_COST_random\n",
    "####BETA_HE_random_Normal\n",
    "####BETA_TIME_TRAIN_random_Norm\n",
    "####BETA_TIME_SM_random\n",
    "####BETA_TIME_CAR_random_Norm\n",
    "\n",
    "####q_TIME\n",
    "\n",
    "\n",
    "\n",
    "\n",
    "#Utility functions\n",
    "TRAIN_SP = ASC_TRAIN                                      + \\\n",
    "     BETA_COST_random             * TRAIN_COST_SCALED + \\\n",
    "     BETA_TIME_TRAIN_random_Norm       * TRAIN_TT_SCALED**q_TIME   + \\\n",
    "     BETA_HE_random_Norm               * TRAIN_HE_SCALED**q_HE           + \\\n",
    "     B_AGE_ADULTS_TRAIN * AGE_2                     + \\\n",
    "     B_AGE_3_TRAIN      * AGE_3                     + \\\n",
    "     B_AGE_ADULTS_TRAIN * AGE_4                     + \\\n",
    "     B_AGE_5_TRAIN      * AGE_5                     + \\\n",
    "     B_LUGGAGE_TRAIN    * LUGGAGE                   + \\\n",
    "     B_MALE_TRAIN       * MALE                      + \\\n",
    "     B_GA_TRAIN         * GA                        + \\\n",
    "     B_BUSINESS_TRAIN   * BUSINESS                  + \\\n",
    "     B_PRIVATE          * PRIVATE                   + \\\n",
    "     B_COMMUTER         * COMMUTER\n",
    "\n",
    "SM_SP = ASC_SM                                   + \\\n",
    "     BETA_COST_random * SM_COST_SCALED + \\\n",
    "     BETA_TIME_SM_random       * SM_TT_SCALED**q_TIME   + \\\n",
    "     BETA_HE_random_Norm            * SM_HE_SCALED**q_HE           + \\\n",
    "     B_AGE_ADULTS_SM * AGE_2                  + \\\n",
    "     B_AGE_ADULTS_SM * AGE_3                  + \\\n",
    "     B_AGE_4_SM      * AGE_4                  + \\\n",
    "     B_AGE_5_SM      * AGE_5                  + \\\n",
    "     B_FIRST_SM      * FIRST                  + \\\n",
    "     B_BUSINESS_SM   * BUSINESS               + \\\n",
    "     B_PRIVATE       * PRIVATE                + \\\n",
    "     B_COMMUTER      * COMMUTER\n",
    "\n",
    "Car_SP = ASC_CAR                              + \\\n",
    "     BETA_COST_random     * CAR_COST_SCALED + \\\n",
    "     BETA_TIME_CAR_random_Norm * CAR_TT_SCALED**q_TIME\n",
    "\n",
    "\n",
    "\n",
    "V = {3: Car_SP,1: TRAIN_SP,2: SM_SP}\n",
    "av = {3: CAR_AV_SP,1: TRAIN_AV_SP,2: SM_AV}\n",
    "\n",
    "vSeq.append(V)\n",
    "ModNameSeqence.append(\"ML_\"+str(len(vSeq)))\n",
    "display(Markdown(f\"# ^^^^^^^^^^^\"))\n",
    "display(Markdown(f\"# {ModNameSeqence[-1]}\"))"
   ]
  },
  {
   "cell_type": "code",
   "execution_count": null,
   "metadata": {},
   "outputs": [],
   "source": [
    "bestRes, results = estimate_N_compare(ModNameSeqence[-1]\n",
    "                               , bestRes\n",
    "                               , vSeq\n",
    "                               , av\n",
    "                               , CHOICE, Car_SP, TRAIN_SP, SM_SP, CAR_AV_SP, TRAIN_AV_SP, SM_AV\n",
    "                               , database\n",
    "                               , pandas\n",
    "                               , myRandomNumberGenerators\n",
    "                               , results\n",
    "                               , ModNameSeqence=ModNameSeqence\n",
    "                               , Draws=Draws)\n",
    "best.append(bestRes)"
   ]
  },
  {
   "cell_type": "code",
   "execution_count": null,
   "metadata": {},
   "outputs": [],
   "source": [
    "####q_COST\n",
    "####BETA_COST_random\n",
    "####BETA_HE_random_Norm\n",
    "####BETA_TIME_TRAIN_random_Norm\n",
    "####BETA_TIME_SM_random\n",
    "####BETA_TIME_CAR_random_Norm\n",
    "####BETA_BUSINESS_TRAIN_random_Norm\n",
    "####BETA_BUSINESS_SM_random_Norm\n",
    "\n",
    "\n",
    "\n",
    "\n",
    "\n",
    "#Utility functions\n",
    "TRAIN_SP = ASC_TRAIN                                      + \\\n",
    "     BETA_COST_random             * TRAIN_COST_SCALED + \\\n",
    "     BETA_TIME_TRAIN_random_Norm       * TRAIN_TT_SCALED   + \\\n",
    "     BETA_HE_random_Norm               * TRAIN_HE_SCALED           + \\\n",
    "     B_AGE_ADULTS_TRAIN * AGE_2                     + \\\n",
    "     B_AGE_3_TRAIN      * AGE_3                     + \\\n",
    "     B_AGE_ADULTS_TRAIN * AGE_4                     + \\\n",
    "     B_AGE_5_TRAIN      * AGE_5                     + \\\n",
    "     B_LUGGAGE_TRAIN    * LUGGAGE                   + \\\n",
    "     B_MALE_TRAIN       * MALE                      + \\\n",
    "     B_GA_TRAIN         * GA                        + \\\n",
    "     BETA_BUSINESS_TRAIN_random_Norm   * BUSINESS                  + \\\n",
    "     B_PRIVATE          * PRIVATE                   + \\\n",
    "     B_COMMUTER         * COMMUTER\n",
    "\n",
    "SM_SP = ASC_SM                                   + \\\n",
    "     BETA_COST_random * SM_COST_SCALED + \\\n",
    "     BETA_TIME_SM_random       * SM_TT_SCALED   + \\\n",
    "     BETA_HE_random_Norm            * SM_HE_SCALED           + \\\n",
    "     B_AGE_ADULTS_SM * AGE_2                  + \\\n",
    "     B_AGE_ADULTS_SM * AGE_3                  + \\\n",
    "     B_AGE_4_SM      * AGE_4                  + \\\n",
    "     B_AGE_5_SM      * AGE_5                  + \\\n",
    "     B_FIRST_SM      * FIRST                  + \\\n",
    "     BETA_BUSINESS_SM_random_Norm   * BUSINESS               + \\\n",
    "     B_PRIVATE       * PRIVATE                + \\\n",
    "     B_COMMUTER      * COMMUTER\n",
    "\n",
    "Car_SP = ASC_CAR                              + \\\n",
    "     BETA_COST_random     * CAR_COST_SCALED + \\\n",
    "     BETA_TIME_CAR_random_Norm * CAR_TT_SCALED\n",
    "\n",
    "\n",
    "\n",
    "V = {3: Car_SP,1: TRAIN_SP,2: SM_SP}\n",
    "av = {3: CAR_AV_SP,1: TRAIN_AV_SP,2: SM_AV}\n",
    "\n",
    "vSeq.append(V)\n",
    "ModNameSeqence.append(\"ML_\"+str(len(vSeq)))\n",
    "display(Markdown(f\"# ^^^^^^^^^^^\"))\n",
    "display(Markdown(f\"# {ModNameSeqence[-1]}\"))"
   ]
  },
  {
   "cell_type": "code",
   "execution_count": null,
   "metadata": {},
   "outputs": [],
   "source": [
    "bestRes, results = estimate_N_compare(ModNameSeqence[-1]\n",
    "                               , bestRes\n",
    "                               , vSeq\n",
    "                               , av\n",
    "                               , CHOICE, Car_SP, TRAIN_SP, SM_SP, CAR_AV_SP, TRAIN_AV_SP, SM_AV\n",
    "                               , database\n",
    "                               , pandas\n",
    "                               , myRandomNumberGenerators\n",
    "                               , results\n",
    "                               , ModNameSeqence=ModNameSeqence\n",
    "                               , Draws=Draws)\n",
    "best.append(bestRes)"
   ]
  },
  {
   "cell_type": "markdown",
   "metadata": {},
   "source": [
    "# Exponential distributions definied in negative domain\n",
    "## final run with 1000 draws"
   ]
  },
  {
   "cell_type": "code",
   "execution_count": null,
   "metadata": {},
   "outputs": [],
   "source": [
    "####q_COST\n",
    "####q_TIME\n",
    "####q_HE\n",
    "####BETA_COST_random\n",
    "####BETA_HE_random_Norm\n",
    "####BETA_TIME_TRAIN_random_Norm\n",
    "####BETA_TIME_SM_random\n",
    "####BETA_TIME_CAR\n",
    "\n",
    "\n",
    "#Utility functions\n",
    "TRAIN_SP = ASC_TRAIN                                      + \\\n",
    "     BETA_COST_random             * TRAIN_COST_SCALED**q_COST + \\\n",
    "     BETA_TIME_TRAIN_random_Norm       * TRAIN_TT_SCALED**q_TIME   + \\\n",
    "     BETA_HE_random_Norm               * TRAIN_HE_SCALED**q_HE           + \\\n",
    "     B_AGE_ADULTS_TRAIN * AGE_2                     + \\\n",
    "     B_AGE_3_TRAIN      * AGE_3                     + \\\n",
    "     B_AGE_ADULTS_TRAIN * AGE_4                     + \\\n",
    "     B_AGE_5_TRAIN      * AGE_5                     + \\\n",
    "     B_LUGGAGE_TRAIN    * LUGGAGE                   + \\\n",
    "     B_MALE_TRAIN       * MALE                      + \\\n",
    "     B_GA_TRAIN         * GA                        + \\\n",
    "     B_BUSINESS_TRAIN   * BUSINESS                  + \\\n",
    "     B_PRIVATE          * PRIVATE                   + \\\n",
    "     B_COMMUTER         * COMMUTER\n",
    "\n",
    "SM_SP = ASC_SM                                   + \\\n",
    "     BETA_COST_random * SM_COST_SCALED**q_COST + \\\n",
    "     BETA_TIME_SM_random       * SM_TT_SCALED**q_TIME   + \\\n",
    "     BETA_HE_random_Norm            * SM_HE_SCALED**q_HE           + \\\n",
    "     B_AGE_ADULTS_SM * AGE_2                  + \\\n",
    "     B_AGE_ADULTS_SM * AGE_3                  + \\\n",
    "     B_AGE_4_SM      * AGE_4                  + \\\n",
    "     B_AGE_5_SM      * AGE_5                  + \\\n",
    "     B_FIRST_SM      * FIRST                  + \\\n",
    "     B_BUSINESS_SM   * BUSINESS               + \\\n",
    "     B_PRIVATE       * PRIVATE                + \\\n",
    "     B_COMMUTER      * COMMUTER\n",
    "\n",
    "Car_SP = ASC_CAR                              + \\\n",
    "     BETA_COST_random     * CAR_COST_SCALED**q_COST + \\\n",
    "     B_TIME_CAR * CAR_TT_SCALED**q_TIME\n",
    "\n",
    "\n",
    "\n",
    "V = {3: Car_SP,1: TRAIN_SP,2: SM_SP}\n",
    "av = {3: CAR_AV_SP,1: TRAIN_AV_SP,2: SM_AV}\n",
    "\n",
    "vSeq.append(V)\n",
    "ModNameSeqence.append(\"ML_\"+str(len(vSeq)))\n",
    "print(ModNameSeqence[-1])"
   ]
  },
  {
   "cell_type": "code",
   "execution_count": null,
   "metadata": {},
   "outputs": [],
   "source": [
    "best.append(estimate_N_compare(ModNameSeqence[-1], best[-1], ModNameSeqence=ModNameSeqence, Draws=1000))"
   ]
  },
  {
   "cell_type": "code",
   "execution_count": null,
   "metadata": {},
   "outputs": [],
   "source": [
    "bestRes, results = estimate_N_compare(ModNameSeqence[-1]\n",
    "                               , bestRes\n",
    "                               , vSeq\n",
    "                               , av\n",
    "                               , CHOICE, Car_SP, TRAIN_SP, SM_SP, CAR_AV_SP, TRAIN_AV_SP, SM_AV\n",
    "                               , database\n",
    "                               , pandas\n",
    "                               , myRandomNumberGenerators\n",
    "                               , results\n",
    "                               , ModNameSeqence=ModNameSeqence\n",
    "                               , Draws=1000)\n",
    "best.append(bestRes)"
   ]
  },
  {
   "cell_type": "code",
   "execution_count": null,
   "metadata": {},
   "outputs": [],
   "source": [
    "parN = []\n",
    "LL = []\n",
    "robar2 = []\n",
    "\n",
    "for j,m in enumerate(ModNameSeqence):\n",
    "    #best.append(estimate_N_compare(m, best[-1], ModNameSeqence=ModNameSeqence, threshold=0.07, testOnly=True))\n",
    "    \n",
    "    i = ModNameSeqence.index(best[j])\n",
    "    \n",
    "    LL.append(results[i].data.logLike)\n",
    "    parN.append(len(results[i].data.betaNames))\n",
    "    robar2.append(results[i].data.rhoBarSquare)"
   ]
  },
  {
   "cell_type": "code",
   "execution_count": null,
   "metadata": {},
   "outputs": [],
   "source": [
    "\"\"\"\n",
    "=======================\n",
    "Plot 2D data on 3D plot\n",
    "=======================\n",
    "\n",
    "Demonstrates using ax.plot's zdir keyword to plot 2D data on\n",
    "selective axes of a 3D plot.\n",
    "\"\"\"\n",
    "\n",
    "from mpl_toolkits.mplot3d import Axes3D\n",
    "import numpy as np\n",
    "import matplotlib.pyplot as plt\n",
    "from matplotlib import cm\n",
    "\n",
    "\n",
    "fig = plt.figure()\n",
    "ax = fig.gca(projection='3d')\n",
    "font_size = 18\n",
    "# Plot a sin curve using the x and y axes.\n",
    "x = np.array(parN)\n",
    "y = np.array(LL)\n",
    "z = np.array(robar2)\n",
    "label = np.array(best[1:])\n",
    "ax.plot(x, y, z, zdir='z', linewidth=4, markersize=12, marker='o', label='Best Model Path')\n",
    "\n",
    "for label, x, y, z in zip(label, x, y, z):\n",
    "    ax.text(x, y, z, label, fontsize=font_size)\n",
    "\n",
    "x = [len(results[i].data.betaNames) for i in range(len(results))]\n",
    "y = np.array([results[i].data.logLike for i in range(len(results))])\n",
    "z = np.array([results[i].data.rhoBarSquare for i in range(len(results))])\n",
    "label = np.array(ModNameSeqence)\n",
    "ax.plot(x, y, z, '--', zdir='z', linewidth=2, markersize=12, marker='x', label='Model Testing')\n",
    "\n",
    "for label, x, y, z in zip(label, x, y, z):\n",
    "    ax.text(x, y, z, label, fontsize=font_size)\n",
    "# Make legend, set axes limits and labels\n",
    "ax.legend(fontsize=font_size)\n",
    "# Make legend, set axes limits and labels\n",
    "#ax.set_xlim(0, 1)\n",
    "#ax.set_ylim(0, 1)\n",
    "#ax.set_zlim(0, 1)\n",
    "ax.set_xlabel('Number of Parameters', fontsize=font_size)\n",
    "ax.set_ylabel('Log Likelihood', fontsize=font_size)\n",
    "ax.set_zlabel('ro bar square', fontsize=font_size)\n",
    "\n",
    "# Customize the view angle so it's easier to see that the scatter points lie\n",
    "# on the plane y=0\n",
    "#ax.view_init(elev=20., azim=-35)\n",
    "plt.savefig('MLPanel.png', dpi=300)\n",
    "plt.show()"
   ]
  },
  {
   "cell_type": "code",
   "execution_count": null,
   "metadata": {},
   "outputs": [],
   "source": [
    "# Function that calculates the market shares for SM for a given scaling of the cost\n",
    "\n",
    "def scenario(HEvalue, costScale, database, pickShare,  draws=100):\n",
    "    '''\n",
    "    ...#costScale includes the variability of cost\n",
    "    ...#HEvalue the simulations on different HE values\n",
    "    ...#To test HE effect in conditions similar to Train, \n",
    "    ...#we put SM_TT_SCALED = TRAIN_TT_SCALED\n",
    "    '''\n",
    "    share = {'CAR': 3,'TRAIN': 1,'SM': 2}\n",
    "    scale = pandas['SM_HE_SCALED'][0]/pandas['SM_HE'][0]\n",
    "    \n",
    "    #Utility functions\n",
    "    TRAIN_SP = ASC_TRAIN                                      + \\\n",
    "     BETA_COST_random             * (TRAIN_COST_SCALED * costScale)**q_COST + \\\n",
    "     BETA_TIME_TRAIN_random_Norm       * TRAIN_TT_SCALED**q_TIME   + \\\n",
    "     BETA_HE_random_Norm               * pandas['TRAIN_HE_SCALED'].min()**q_HE           + \\\n",
    "     B_AGE_ADULTS_TRAIN * AGE_2                     + \\\n",
    "     B_AGE_3_TRAIN      * AGE_3                     + \\\n",
    "     B_AGE_ADULTS_TRAIN * AGE_4                     + \\\n",
    "     B_AGE_5_TRAIN      * AGE_5                     + \\\n",
    "     B_LUGGAGE_TRAIN    * LUGGAGE                   + \\\n",
    "     B_MALE_TRAIN       * MALE                      + \\\n",
    "     B_GA_TRAIN         * GA                        + \\\n",
    "     B_BUSINESS_TRAIN   * BUSINESS                  + \\\n",
    "     B_PRIVATE          * PRIVATE                   + \\\n",
    "     B_COMMUTER         * COMMUTER\n",
    "    \n",
    "    \n",
    "    SM_SP = ASC_SM                                   + \\\n",
    "         BETA_COST_random * (SM_COST_SCALED * costScale)**q_COST + \\\n",
    "         BETA_TIME_SM_random       * SM_TT_SCALED**q_TIME        + \\\n",
    "         BETA_HE_random_Norm            * pandas['SM_HE_SCALED'].min()**q_HE  + \\\n",
    "         B_AGE_ADULTS_SM * AGE_2                  + \\\n",
    "         B_AGE_ADULTS_SM * AGE_3                  + \\\n",
    "         B_AGE_4_SM      * AGE_4                  + \\\n",
    "         B_AGE_5_SM      * AGE_5                  + \\\n",
    "         B_FIRST_SM      * FIRST                  + \\\n",
    "         B_BUSINESS_SM   * BUSINESS               + \\\n",
    "         B_PRIVATE       * PRIVATE                + \\\n",
    "         B_COMMUTER      * COMMUTER\n",
    "    '''\n",
    "    TRAIN_SP = ASC_TRAIN                                      + \\\n",
    "     BETA_COST_random             * (TRAIN_COST_SCALED * costScale)**q_COST + \\\n",
    "     BETA_TIME_TRAIN_random_Norm       * TRAIN_TT_SCALED**q_TIME   + \\\n",
    "     BETA_HE_random_Norm               * (HEvalue*scale)**q_HE           + \\\n",
    "     B_AGE_ADULTS_TRAIN * AGE_2                     + \\\n",
    "     B_AGE_3_TRAIN      * AGE_3                     + \\\n",
    "     B_AGE_ADULTS_TRAIN * AGE_4                     + \\\n",
    "     B_AGE_5_TRAIN      * AGE_5                     + \\\n",
    "     B_LUGGAGE_TRAIN    * LUGGAGE                   + \\\n",
    "     B_MALE_TRAIN       * MALE                      + \\\n",
    "     B_GA_TRAIN         * GA                        + \\\n",
    "     B_BUSINESS_TRAIN   * BUSINESS                  + \\\n",
    "     B_PRIVATE          * PRIVATE                   + \\\n",
    "     B_COMMUTER         * COMMUTER\n",
    "    \n",
    "    \n",
    "    SM_SP = ASC_SM                                   + \\\n",
    "         BETA_COST_random * (SM_COST_SCALED * costScale)**q_COST + \\\n",
    "         BETA_TIME_SM_random       * SM_TT_SCALED**q_TIME        + \\\n",
    "         BETA_HE_random_Norm            * (HEvalue*scale)**q_HE  + \\\n",
    "         B_AGE_ADULTS_SM * AGE_2                  + \\\n",
    "         B_AGE_ADULTS_SM * AGE_3                  + \\\n",
    "         B_AGE_4_SM      * AGE_4                  + \\\n",
    "         B_AGE_5_SM      * AGE_5                  + \\\n",
    "         B_FIRST_SM      * FIRST                  + \\\n",
    "         B_BUSINESS_SM   * BUSINESS               + \\\n",
    "         B_PRIVATE       * PRIVATE                + \\\n",
    "         B_COMMUTER      * COMMUTER\n",
    "    '''\n",
    "    V = {3: Car_SP,1: TRAIN_SP,2: SM_SP}\n",
    "    av = {3: CAR_AV_SP,1: TRAIN_AV_SP,2: SM_AV}\n",
    "    \n",
    "    #Lets Look at CARs market share\n",
    "    prob_SM = models.logit(V,av,share[pickShare])\n",
    "    \n",
    "    MCprob = MonteCarlo(prob_SM)\n",
    "    \n",
    "    simulate = {'Prob. SM': MCprob}\n",
    "    \n",
    "    biosim  = bio.BIOGEME(database,simulate,numberOfDraws=draws)\n",
    "    \n",
    "    biosim.modelName = f\"marketShares_SM_HE_\"+pickShare+\"_NO_PANEL\"\n",
    "    \n",
    "    simresults = biosim.simulate(results[-1].data.betaValues)\n",
    "    \n",
    "    return simresults['Prob. SM'].mean()"
   ]
  },
  {
   "cell_type": "code",
   "execution_count": null,
   "metadata": {},
   "outputs": [],
   "source": [
    "# Duplicate the database\n",
    "#database_young = db.Database(\"young\",pandas[pandas['AGE'] == 1].copy())\n",
    "database_middelage = db.Database(\"middelage\",pandas[(pandas['AGE'] == 1)|(pandas['AGE'] == 2)|(pandas['AGE'] == 3)].copy())\n",
    "database_senior = db.Database(\"senior\",pandas[(pandas['AGE'] == 4)|(pandas['AGE'] == 5)].copy())\n",
    "\n",
    "\n",
    "print(f\"Total number of observations: {database.getNumberOfObservations()}\")\n",
    "#print(f\"Young                  : {database_young.getNumberOfObservations()}\")\n",
    "print(f\"Middle age               : {database_middelage.getNumberOfObservations()}\")\n",
    "print(f\"Senior                 : {database_senior.getNumberOfObservations()}\")\n",
    "\n",
    "scales = np.arange(0.8,1.2,0.05)\n",
    "HEs = np.arange(5,45,5)\n",
    "\n",
    "shares_mid = [scenario(hhe,s,database_middelage,'CAR') for hhe in HEs for s in scales]\n",
    "shares_sen = [scenario(hhe,s,database_senior,'CAR') for hhe in HEs for s in scales]"
   ]
  },
  {
   "cell_type": "code",
   "execution_count": null,
   "metadata": {},
   "outputs": [],
   "source": [
    "# Duplicate the database\n",
    "#database_young = db.Database(\"young\",pandas[pandas['AGE'] == 1].copy())\n",
    "database_Commuter = db.Database(\"commuters\",pandas[(pandas['PURPOSE'] == 1)].copy())\n",
    "database_Business = db.Database(\"business\",pandas[(pandas['PURPOSE'] == 3)].copy())\n",
    "database_Others = db.Database(\"business\",pandas[(pandas['PURPOSE'] == 2)|(pandas['PURPOSE'] == 4)].copy())\n",
    "\n",
    "\n",
    "print(f\"Total number of observations: {database.getNumberOfObservations()}\")\n",
    "#print(f\"Young                  : {database_young.getNumberOfObservations()}\")\n",
    "print(f\"Commuter               : {database_Commuter.getNumberOfObservations()}\")\n",
    "print(f\"Business                 : {database_Business.getNumberOfObservations()}\")\n",
    "print(f\"Others                 : {database_Others.getNumberOfObservations()}\")\n",
    "\n",
    "scales = np.arange(0.8,1.2,0.05)\n",
    "HEs = np.arange(5,45,5)\n",
    "\n",
    "shares_Commuter = [scenario(hhe,s,database_Commuter,'CAR') for hhe in HEs for s in scales]\n",
    "shares_Business = [scenario(hhe,s,database_Business,'CAR') for hhe in HEs for s in scales]\n",
    "shares_Others = [scenario(hhe,s,database_Others,'CAR') for hhe in HEs for s in scales]"
   ]
  },
  {
   "cell_type": "code",
   "execution_count": null,
   "metadata": {},
   "outputs": [],
   "source": [
    "database_ALL = db.Database(\"ALL\",pandas.copy())\n",
    "shares_ALL = [scenario(hhe,s,database_ALL,'CAR') for hhe in HEs for s in scales]"
   ]
  },
  {
   "cell_type": "code",
   "execution_count": null,
   "metadata": {},
   "outputs": [],
   "source": [
    "# Function that calculates the market shares for SM for a given scaling of the cost\n",
    "\n",
    "def scenarioHEmM(costScale, database, pickShare,  draws=100, HEmin=True):\n",
    "    '''\n",
    "    ...#costScale includes the variability of cost\n",
    "    ...#HEvalue the simulations on different HE values\n",
    "    ...#To test HE effect in conditions similar to Train, \n",
    "    ...#we put SM_TT_SCALED = TRAIN_TT_SCALED\n",
    "    '''\n",
    "    share = {'CAR': 3,'TRAIN': 1,'SM': 2}\n",
    "    scale = pandas['SM_HE_SCALED'][0]/pandas['SM_HE'][0]\n",
    "    if HEmin:\n",
    "        tr_HE_tt_SIM = pandas['TRAIN_HE_SCALED'].min()\n",
    "        sm_HE_tt_SIM = pandas['SM_HE_SCALED'].min()\n",
    "    else:\n",
    "        tr_HE_tt_SIM = pandas['TRAIN_HE_SCALED'].max()\n",
    "        sm_HE_tt_SIM = pandas['SM_HE_SCALED'].max()\n",
    "    \n",
    "    #Utility functions\n",
    "    TRAIN_SP = ASC_TRAIN                                      + \\\n",
    "         BETA_COST_random             * (TRAIN_COST_SCALED * costScale)**q_COST + \\\n",
    "         BETA_TIME_TRAIN_random_Norm       * TRAIN_TT_SCALED**q_TIME   + \\\n",
    "         BETA_HE_random_Norm               * tr_HE_tt_SIM**q_HE           + \\\n",
    "         B_AGE_ADULTS_TRAIN * AGE_2                     + \\\n",
    "         B_AGE_3_TRAIN      * AGE_3                     + \\\n",
    "         B_AGE_ADULTS_TRAIN * AGE_4                     + \\\n",
    "         B_AGE_5_TRAIN      * AGE_5                     + \\\n",
    "         B_LUGGAGE_TRAIN    * LUGGAGE                   + \\\n",
    "         B_MALE_TRAIN       * MALE                      + \\\n",
    "         B_GA_TRAIN         * GA                        + \\\n",
    "         B_BUSINESS_TRAIN   * BUSINESS                  + \\\n",
    "         B_PRIVATE          * PRIVATE                   + \\\n",
    "         B_COMMUTER         * COMMUTER\n",
    "    \n",
    "    \n",
    "    SM_SP = ASC_SM                                   + \\\n",
    "         BETA_COST_random * (SM_COST_SCALED * costScale)**q_COST + \\\n",
    "         BETA_TIME_SM_random       * SM_TT_SCALED**q_TIME        + \\\n",
    "         BETA_HE_random_Norm            * sm_HE_tt_SIM**q_HE  + \\\n",
    "         B_AGE_ADULTS_SM * AGE_2                  + \\\n",
    "         B_AGE_ADULTS_SM * AGE_3                  + \\\n",
    "         B_AGE_4_SM      * AGE_4                  + \\\n",
    "         B_AGE_5_SM      * AGE_5                  + \\\n",
    "         B_FIRST_SM      * FIRST                  + \\\n",
    "         B_BUSINESS_SM   * BUSINESS               + \\\n",
    "         B_PRIVATE       * PRIVATE                + \\\n",
    "         B_COMMUTER      * COMMUTER\n",
    "    '''\n",
    "    TRAIN_SP = ASC_TRAIN                                      + \\\n",
    "     BETA_COST_random             * (TRAIN_COST_SCALED * costScale)**q_COST + \\\n",
    "     BETA_TIME_TRAIN_random_Norm       * TRAIN_TT_SCALED**q_TIME   + \\\n",
    "     BETA_HE_random_Norm               * (HEvalue*scale)**q_HE           + \\\n",
    "     B_AGE_ADULTS_TRAIN * AGE_2                     + \\\n",
    "     B_AGE_3_TRAIN      * AGE_3                     + \\\n",
    "     B_AGE_ADULTS_TRAIN * AGE_4                     + \\\n",
    "     B_AGE_5_TRAIN      * AGE_5                     + \\\n",
    "     B_LUGGAGE_TRAIN    * LUGGAGE                   + \\\n",
    "     B_MALE_TRAIN       * MALE                      + \\\n",
    "     B_GA_TRAIN         * GA                        + \\\n",
    "     B_BUSINESS_TRAIN   * BUSINESS                  + \\\n",
    "     B_PRIVATE          * PRIVATE                   + \\\n",
    "     B_COMMUTER         * COMMUTER\n",
    "    \n",
    "    \n",
    "    SM_SP = ASC_SM                                   + \\\n",
    "         BETA_COST_random * (SM_COST_SCALED * costScale)**q_COST + \\\n",
    "         BETA_TIME_SM_random       * SM_TT_SCALED**q_TIME        + \\\n",
    "         BETA_HE_random_Norm            * (HEvalue*scale)**q_HE  + \\\n",
    "         B_AGE_ADULTS_SM * AGE_2                  + \\\n",
    "         B_AGE_ADULTS_SM * AGE_3                  + \\\n",
    "         B_AGE_4_SM      * AGE_4                  + \\\n",
    "         B_AGE_5_SM      * AGE_5                  + \\\n",
    "         B_FIRST_SM      * FIRST                  + \\\n",
    "         B_BUSINESS_SM   * BUSINESS               + \\\n",
    "         B_PRIVATE       * PRIVATE                + \\\n",
    "         B_COMMUTER      * COMMUTER\n",
    "    '''\n",
    "    V = {3: Car_SP,1: TRAIN_SP,2: SM_SP}\n",
    "    av = {3: CAR_AV_SP,1: TRAIN_AV_SP,2: SM_AV}\n",
    "    \n",
    "    #Lets Look at CARs market share\n",
    "    prob_SM = models.logit(V,av,share[pickShare])\n",
    "    \n",
    "    MCprob = MonteCarlo(prob_SM)\n",
    "    \n",
    "    simulate = {'Prob. SM': MCprob}\n",
    "    \n",
    "    biosim  = bio.BIOGEME(database,simulate,numberOfDraws=draws)\n",
    "    \n",
    "    biosim.modelName = f\"marketShares_SM_HE_\"+pickShare+\"_NO_PANEL\"\n",
    "    \n",
    "    simresults = biosim.simulate(results[-1].data.betaValues)\n",
    "    \n",
    "    return simresults['Prob. SM'].mean()"
   ]
  },
  {
   "cell_type": "code",
   "execution_count": null,
   "metadata": {},
   "outputs": [],
   "source": [
    "scales = np.arange(0.8,1.2,0.05)\n",
    "shares_Commuter_m = [scenarioHEmM(s,database_Commuter,'CAR',HEmin=True) for s in scales]\n",
    "shares_Business_m = [scenarioHEmM(s,database_Business,'CAR',HEmin=True) for s in scales]\n",
    "shares_Others_m = [scenarioHEmM(s,database_Others,'CAR',HEmin=True) for s in scales]\n",
    "shares_mid_m = [scenarioHEmM(s,database_middelage,'CAR',HEmin=True) for s in scales]\n",
    "shares_sen_m = [scenarioHEmM(s,database_senior,'CAR',HEmin=True) for s in scales]\n",
    "shares_ALL_m = [scenarioHEmM(s,database_ALL,'CAR',HEmin=True) for s in scales]"
   ]
  },
  {
   "cell_type": "code",
   "execution_count": null,
   "metadata": {},
   "outputs": [],
   "source": [
    "shares_Commuter_M = [scenarioHEmM(s,database_Commuter,'CAR',HEmin=False) for s in scales]\n",
    "shares_Business_M = [scenarioHEmM(s,database_Business,'CAR',HEmin=False) for s in scales]\n",
    "shares_Others_M = [scenarioHEmM(s,database_Others,'CAR',HEmin=False) for s in scales]\n",
    "shares_mid_M = [scenarioHEmM(s,database_middelage,'CAR',HEmin=False) for s in scales]\n",
    "shares_sen_M = [scenarioHEmM(s,database_senior,'CAR',HEmin=False) for s in scales]\n",
    "shares_ALL_M = [scenarioHEmM(s,database_ALL,'CAR',HEmin=False) for s in scales]"
   ]
  },
  {
   "cell_type": "code",
   "execution_count": null,
   "metadata": {},
   "outputs": [],
   "source": [
    "# plot the data\n",
    "fig = plt.figure()\n",
    "ax = fig.add_subplot(1, 1, 1)\n",
    "ax.plot(scales, shares_ALL_m, c='g', label='(FULL population) constant HE train='+str(100*pandas['TRAIN_HE_SCALED'].min())+'min and HE SM='+str(100*pandas['SM_HE_SCALED'].min())+'min')\n",
    "ax.plot(scales, shares_ALL_M, c='r', label='(FULL population) constant HE train='+str(100*pandas['TRAIN_HE_SCALED'].max())+'min and HE SM='+str(int(100*pandas['SM_HE_SCALED'].max()))+'min')\n",
    "ax.plot(scales, CAR_Market_share*np.ones(len(shares_ALL_m),), c='b', label='(FULL population) market share as from survey results')\n",
    "plt.axvline(x=1, c='black', label='Cost 100% as from survey results')\n",
    "\n",
    "ax.set_title('IMPACT of Public Transportation policies ON CAR market share \\n HE and cost policy bonduaries for SM and Train \\n Effects on full population')\n",
    "ax.legend(fontsize=12)\n",
    "ax.set_xlabel('Cost variation on both Public Transport (Train and SM: the actual cost 1=100%)', fontsize=font_size)\n",
    "ax.set_ylabel('CAR Market Share', fontsize=font_size)\n",
    "plt.savefig('CARmsImpact-FULLPOP.png', dpi=300)\n",
    "# display the plot\n",
    "plt.show()"
   ]
  },
  {
   "cell_type": "code",
   "execution_count": null,
   "metadata": {},
   "outputs": [],
   "source": [
    "senior = pandas['CHOICE'][(pandas['CHOICE']==3) & ((pandas['AGE'] == 4)|(pandas['AGE'] == 5))].count()/pandas['CHOICE'][((pandas['AGE'] == 4)|(pandas['AGE'] == 5))].count()\n",
    "NON_senior = pandas['CHOICE'][(pandas['CHOICE']==3) & ((pandas['AGE'] == 1)|(pandas['AGE'] == 2)|(pandas['AGE'] == 3))].count()/pandas['CHOICE'][((pandas['AGE'] == 1)|(pandas['AGE'] == 2)|(pandas['AGE'] == 3))].count()\n",
    "# plot the data\n",
    "fig = plt.figure()\n",
    "ax = fig.add_subplot(1, 1, 1)\n",
    "ax.plot(scales, np.array(shares_sen_m), c='g', label='(senior) constant HE train='+str(100*pandas['TRAIN_HE_SCALED'].min())+'min and HE SM='+str(100*pandas['SM_HE_SCALED'].min())+'min')\n",
    "ax.plot(scales, np.array(shares_sen_M), c='r', label='(senior) constant HE train='+str(100*pandas['TRAIN_HE_SCALED'].max())+'min and HE SM='+str(100*pandas['SM_HE_SCALED'].max())+'min')\n",
    "ax.plot(scales, senior*np.ones(len(shares_ALL_m),), c='b', label='(senior) market share as from survey results')\n",
    "\n",
    "ax.plot(scales, np.array(shares_mid_m), '--', c='g', label='(non senior) constant HE train='+str(100*pandas['TRAIN_HE_SCALED'].min())+'min and HE SM='+str(100*pandas['SM_HE_SCALED'].min())+'min')\n",
    "ax.plot(scales, np.array(shares_mid_M), '--', c='r', label='(non senior) constant HE train='+str(100*pandas['TRAIN_HE_SCALED'].max())+'min and HE SM='+str(100*pandas['SM_HE_SCALED'].max())+'min')\n",
    "ax.plot(scales, NON_senior*np.ones(len(shares_ALL_m),),'--', c='b', label='(non senior) market share as from survey results')\n",
    "\n",
    "\n",
    "\n",
    "plt.axvline(x=1, c='black', label='cost 100% as from survey results')\n",
    "\n",
    "ax.set_title('IMPACT of Public Transportation policies ON CAR market share \\n HE and cost policy bonduaries for SM and Train \\n effects on Seniors vs Others')\n",
    "ax.legend(fontsize=12)\n",
    "ax.set_xlabel('Cost variation on both Public Transport (Train and SM: the actual cost 1=100%)', fontsize=font_size)\n",
    "ax.set_ylabel('CAR Market Share', fontsize=font_size)\n",
    "# display the plot\n",
    "plt.savefig('CARmsImpact-AGE.png', dpi=300)\n",
    "plt.show()"
   ]
  },
  {
   "cell_type": "code",
   "execution_count": null,
   "metadata": {},
   "outputs": [],
   "source": [
    "Business_MS = pandas['CHOICE'][(pandas['CHOICE']==3) & (pandas['PURPOSE'] == 3)].count()/pandas['CHOICE'][(pandas['PURPOSE'] == 3)].count()\n",
    "Commuter_MS = pandas['CHOICE'][(pandas['CHOICE']==3) & (pandas['PURPOSE'] == 1)].count()/pandas['CHOICE'][(pandas['PURPOSE'] == 1)].count()\n",
    "Others_MS = pandas['CHOICE'][(pandas['CHOICE']==3) & ((pandas['PURPOSE'] == 2)|(pandas['PURPOSE'] == 4))].count()/pandas['CHOICE'][((pandas['PURPOSE'] == 2)|(pandas['PURPOSE'] == 4))].count()\n",
    "# plot the data\n",
    "fig = plt.figure()\n",
    "ax = fig.add_subplot(1, 1, 1)\n",
    "ax.plot(scales, shares_Commuter_m, c='g', label='(Commuter) constant HE train='+str(100*pandas['TRAIN_HE_SCALED'].min())+'min and HE SM='+str(100*pandas['SM_HE_SCALED'].min())+'min')\n",
    "ax.plot(scales, shares_Commuter_M, c='r', label='(Commuter) constant HE train='+str(100*pandas['TRAIN_HE_SCALED'].max())+'min and HE SM='+str(100*pandas['SM_HE_SCALED'].max())+'min')\n",
    "ax.plot(scales, Commuter_MS*np.ones(len(shares_ALL_m),), c='b', label='(Commuter) market share as from survey results')\n",
    "\n",
    "\n",
    "ax.plot(scales, shares_Business_m, '--', c='g', label='(Business) constant HE train='+str(100*pandas['TRAIN_HE_SCALED'].min())+'min and HE SM='+str(100*pandas['SM_HE_SCALED'].min())+'min')\n",
    "ax.plot(scales, shares_Business_M, '--', c='r', label='(Business) constant HE train='+str(100*pandas['TRAIN_HE_SCALED'].max())+'min and HE SM='+str(100*pandas['SM_HE_SCALED'].max())+'min')\n",
    "ax.plot(scales, Business_MS*np.ones(len(shares_ALL_m),), '--', c='b', label='(Business) market share as from survey results')\n",
    "\n",
    "ax.plot(scales, shares_Others_m, '*-', c='g', label='(Others) constant HE train='+str(100*pandas['TRAIN_HE_SCALED'].min())+'min and HE SM='+str(100*pandas['SM_HE_SCALED'].min())+'min')\n",
    "ax.plot(scales, shares_Others_M, '*-', c='r', label='(Others) constant HE train='+str(100*pandas['TRAIN_HE_SCALED'].max())+'min and HE SM='+str(100*pandas['SM_HE_SCALED'].max())+'min')\n",
    "ax.plot(scales, Others_MS*np.ones(len(shares_ALL_m),), '*-', c='b', label='(Others) market share as from survey results')\n",
    "\n",
    "\n",
    "plt.axvline(x=1, c='black', label='cost 100% as from survey results')\n",
    "\n",
    "ax.set_title('IMPACT of Public Transportation policies ON CAR market share \\n HE and cost policy bonduaries for SM and Train \\n Effects on Business Vs. Commuters')\n",
    "ax.legend(fontsize=12)\n",
    "ax.set_xlabel('Cost variation on both Public Transport (Train and SM: the actual cost 1=100%)', fontsize=font_size)\n",
    "ax.set_ylabel('CAR Market Share', fontsize=font_size)\n",
    "# display the plot\n",
    "plt.savefig('CARmsImpact-PURPOSE.png', dpi=300)\n",
    "plt.show()"
   ]
  },
  {
   "cell_type": "code",
   "execution_count": null,
   "metadata": {},
   "outputs": [],
   "source": []
  },
  {
   "cell_type": "code",
   "execution_count": null,
   "metadata": {},
   "outputs": [],
   "source": [
    "CAR_Market_share = pandas['CHOICE'][(pandas['CHOICE']==3)].count()/pandas['CHOICE'].count()\n",
    "print(CAR_Market_share)"
   ]
  },
  {
   "cell_type": "code",
   "execution_count": null,
   "metadata": {},
   "outputs": [],
   "source": [
    "fig = plt.figure()\n",
    "ax = fig.add_subplot(111, projection='3d')\n",
    "\n",
    "X, Y = np.meshgrid(HEs, scales)\n",
    "zC = np.array(shares_Commuter)\n",
    "zB =np.array(shares_Business)\n",
    "zO =np.array(shares_Others)\n",
    "zAll =np.array(shares_ALL)\n",
    "\n",
    "ZC = zC.reshape(X.shape)\n",
    "ZB = zB.reshape(X.shape)\n",
    "ZO = zO.reshape(X.shape)\n",
    "ZAll = zAll.reshape(X.shape)\n",
    "ZCar0=CAR_Market_share*np.ones(X.shape)\n",
    "\n",
    "ax.plot_surface(X, Y, ZAll,cmap=cm.coolwarm, rstride=8, cstride=8, alpha=0.01, label='Commuters')\n",
    "cset = ax.contourf(X, Y, ZAll, zdir='z', offset=0.275, cmap=cm.coolwarm)\n",
    "cset = ax.contourf(X, Y, ZAll, zdir='x', offset=0,cmap=cm.coolwarm)\n",
    "cset = ax.contourf(X, Y, ZAll, zdir='y', offset=1.15, cmap=cm.coolwarm)\n",
    "\n",
    "ax.plot_surface(X, Y, ZCar0,cmap=cm.coolwarm, rstride=8, cstride=8, alpha=0.3, label='Commuters')\n",
    "#cset = ax.contourf(X, Y, ZCar0, zdir='z', offset=0.275, cmap=cm.coolwarm)\n",
    "cset = ax.contourf(X, Y, ZCar0, zdir='x', offset=0,cmap=cm.coolwarm)\n",
    "cset = ax.contourf(X, Y, ZCar0, zdir='y', offset=1.15, cmap=cm.coolwarm)\n",
    "\n",
    "#ax.plot_surface(X, Y, ZC,cmap=cm.coolwarm, rstride=8, cstride=8, alpha=0.3, label='Commuters')\n",
    "#cset = ax.contourf(X, Y, ZC, zdir='z', offset=0.24, cmap=cm.coolwarm)\n",
    "#cset = ax.contourf(X, Y, ZC, zdir='x', offset=0,cmap=cm.coolwarm)\n",
    "#cset = ax.contourf(X, Y, ZC, zdir='y', offset=1.15, cmap=cm.coolwarm)\n",
    "\n",
    "#ax.plot_surface(X, Y, ZB, cmap=cm.coolwarm, rstride=8, cstride=8, alpha=0.3, label='Business')\n",
    "#cset = ax.contourf(X, Y, ZB, zdir='z', offset=0.23, cmap=cm.coolwarm)\n",
    "#cset = ax.contourf(X, Y, ZB, zdir='x', offset=1,cmap=cm.coolwarm)\n",
    "#cset = ax.contourf(X, Y, ZB, zdir='y', offset=1.2, cmap=cm.coolwarm)\n",
    "\n",
    "#ax.plot_surface(X, Y, ZO, cmap=cm.coolwarm, rstride=8, cstride=8, alpha=0.3, label='Others')\n",
    "#cset = ax.contourf(X, Y, ZO, zdir='z', offset=0.23, cmap=cm.coolwarm)\n",
    "#cset = ax.contourf(X, Y, ZO, zdir='x', offset=1,cmap=cm.coolwarm)\n",
    "#cset = ax.contourf(X, Y, ZO, zdir='y', offset=1.2, cmap=cm.coolwarm)\n",
    "\n",
    "ax.set_xlabel('TRAIN HE minutes')\n",
    "#ax.set_xlim(0, 45)\n",
    "ax.set_ylabel('TRAIN Cost')\n",
    "#ax.set_ylim(0.8, 1.15)\n",
    "ax.set_zlabel('CAR Market Shares')\n",
    "#ax.set_zlim(0.24, 0.32)\n",
    "#plt.savefig('MARKETshareCarPURPOSE-SMtrainEqualTT.png', dpi=300)\n",
    "plt.show()"
   ]
  },
  {
   "cell_type": "code",
   "execution_count": null,
   "metadata": {},
   "outputs": [],
   "source": [
    "fig = plt.figure()\n",
    "ax = fig.add_subplot(111, projection='3d')\n",
    "\n",
    "X, Y = np.meshgrid(HEs, scales)\n",
    "zm = np.array(shares_mid)\n",
    "zs =np.array(shares_sen)\n",
    "Zm = zm.reshape(X.shape)\n",
    "Zs = zs.reshape(X.shape)\n",
    "\n",
    "ax.plot_surface(X, Y, Zs,cmap=cm.coolwarm, rstride=8, cstride=8, alpha=0.1, label='senior')\n",
    "cset = ax.contourf(X, Y, Zs, zdir='z', offset=0.355, cmap=cm.coolwarm)\n",
    "cset = ax.contourf(X, Y, Zs, zdir='x', offset=1,cmap=cm.coolwarm)\n",
    "cset = ax.contourf(X, Y, Zs, zdir='y',offset= 1.18, cmap=cm.coolwarm)\n",
    "\n",
    "ax.plot_surface(X, Y, Zm, cmap=cm.coolwarm, rstride=8, cstride=8, alpha=0.1, label='middel age and young')\n",
    "cset = ax.contourf(X, Y, Zm, zdir='z', offset=0.355, cmap=cm.coolwarm)\n",
    "cset = ax.contourf(X, Y, Zm, zdir='x', offset=1, cmap=cm.coolwarm)\n",
    "cset = ax.contourf(X, Y, Zm, zdir='y',offset= 1.18, cmap=cm.coolwarm)\n",
    "\n",
    "ax.set_xlabel('SM HE minutes')\n",
    "ax.set_ylabel('SM Cost')\n",
    "ax.set_zlabel('CAR Market Shares')\n",
    "#plt.savefig('MARKETshareCarSeniorYoung-SMtrainEqualTT.png', dpi=300)\n",
    "plt.show()"
   ]
  }
 ],
 "metadata": {
  "colab": {
   "name": "biogeme-on-colab.ipynb",
   "provenance": []
  },
  "kernelspec": {
   "display_name": "Python 3",
   "language": "python",
   "name": "python3"
  },
  "language_info": {
   "codemirror_mode": {
    "name": "ipython",
    "version": 3
   },
   "file_extension": ".py",
   "mimetype": "text/x-python",
   "name": "python",
   "nbconvert_exporter": "python",
   "pygments_lexer": "ipython3",
   "version": "3.6.9"
  }
 },
 "nbformat": 4,
 "nbformat_minor": 1
}
