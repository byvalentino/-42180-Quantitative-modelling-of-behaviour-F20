{
 "cells": [
  {
   "cell_type": "code",
   "execution_count": null,
   "metadata": {
    "colab": {
     "base_uri": "https://localhost:8080/",
     "height": 68
    },
    "colab_type": "code",
    "id": "5XVZFZKP1IRw",
    "outputId": "19f4c3c7-0f68-4086-97d5-ea95f629ff82"
   },
   "outputs": [],
   "source": [
    "#!pip install unidecode numpy cython"
   ]
  },
  {
   "cell_type": "code",
   "execution_count": null,
   "metadata": {
    "colab": {
     "base_uri": "https://localhost:8080/",
     "height": 170
    },
    "colab_type": "code",
    "id": "6oDlhXMq1dz-",
    "outputId": "564d522f-4562-4545-87eb-223458c870ca"
   },
   "outputs": [],
   "source": [
    "#!pip install -U biogeme"
   ]
  },
  {
   "cell_type": "code",
   "execution_count": 1,
   "metadata": {
    "colab": {},
    "colab_type": "code",
    "id": "7dD9YRxo1z-M"
   },
   "outputs": [],
   "source": [
    "%load_ext autoreload\n",
    "%autoreload 2\n",
    "from mpl_toolkits.mplot3d import Axes3D\n",
    "import numpy as np\n",
    "import matplotlib.pyplot as plt\n",
    "from matplotlib import cm\n",
    "from IPython.display import clear_output\n",
    "from utils_ML import *\n",
    "from variables import *\n",
    "clear_output(wait=False)"
   ]
  },
  {
   "cell_type": "code",
   "execution_count": 2,
   "metadata": {
    "colab": {},
    "colab_type": "code",
    "id": "SupKxcDf2bQS"
   },
   "outputs": [],
   "source": [
    "# matplotlib options\n",
    "plt.style.use('ggplot')\n",
    "%matplotlib inline\n",
    "plt.rcParams['figure.figsize'] = (18, 12)"
   ]
  },
  {
   "cell_type": "code",
   "execution_count": 3,
   "metadata": {},
   "outputs": [
    {
     "name": "stdout",
     "output_type": "stream",
     "text": [
      "Total number of observations: 10692\n",
      "Non Senior             : 7857\n",
      "Senior                 : 2835\n",
      "Commuter               : 1332\n",
      "Business                 : 5328\n",
      "Others                 : 4032\n"
     ]
    }
   ],
   "source": [
    "# Duplicate the database\n",
    "#database_young = db.Database(\"young\",pandas[pandas['AGE'] == 1].copy())\n",
    "database_NONsenior = db.Database(\"middelage\",database.data[(database.data.AGE_4 == 0)&(database.data.AGE_5 == 0)].copy())\n",
    "database_senior = db.Database(\"senior\",database.data[(database.data.AGE_4 == 1)|(database.data.AGE_5 == 1)].copy())\n",
    "database_Business = db.Database(\"business\",database.data[(database.data.BUSINESS == 1)].copy())\n",
    "database_Commuter = db.Database(\"commuters\",database.data[(database.data.COMMUTER == 1)].copy())\n",
    "database_Others = db.Database(\"others\",database.data[(database.data.BUSINESS == 0)&(database.data.COMMUTER == 0)].copy())\n",
    "database_ALL = db.Database(\"ALL\",database.data.copy())\n",
    "\n",
    "\n",
    "print(f\"Total number of observations: {database_ALL.getNumberOfObservations()}\")\n",
    "print(f\"Non Senior             : {database_NONsenior.getNumberOfObservations()}\")\n",
    "print(f\"Senior                 : {database_senior.getNumberOfObservations()}\")\n",
    "print(f\"Commuter               : {database_Commuter.getNumberOfObservations()}\")\n",
    "print(f\"Business                 : {database_Business.getNumberOfObservations()}\")\n",
    "print(f\"Others                 : {database_Others.getNumberOfObservations()}\")"
   ]
  },
  {
   "cell_type": "code",
   "execution_count": 4,
   "metadata": {},
   "outputs": [],
   "source": [
    "#Baseline MNL linear in variables\n",
    "def simulate_MNL_LPLA(scaleCostPT=1, scaleCostCAR=1, scaleHE=1):\n",
    "    #Utility functions\n",
    "    TRAIN_SP = ASC_TRAIN \\\n",
    "         + B_COST             * TRAIN_COST_SCALED * scaleCostPT\\\n",
    "         + B_TIME_TRAIN       * TRAIN_TT_SCALED \\\n",
    "         + B_HE               * TRAIN_HE_SCALED * scaleHE \\\n",
    "         + B_AGE_ADULTS_TRAIN * AGE_2 \\\n",
    "         + B_AGE_3_TRAIN      * AGE_3 \\\n",
    "         + B_AGE_ADULTS_TRAIN * AGE_4 \\\n",
    "         + B_AGE_5_TRAIN      * AGE_5 \\\n",
    "         + B_LUGGAGE_TRAIN    * LUGGAGE \\\n",
    "         + B_MALE_TRAIN       * MALE \\\n",
    "         + B_GA_TRAIN         * GA \\\n",
    "         + B_BUSINESS_TRAIN   * BUSINESS \\\n",
    "         + B_PRIVATE          * PRIVATE \\\n",
    "         + B_COMMUTER         * COMMUTER\n",
    "\n",
    "    SM_SP = ASC_SM \\\n",
    "         + B_COST          * SM_COST_SCALED * scaleCostPT\\\n",
    "         + B_TIME_SM       * SM_TT_SCALED \\\n",
    "         + B_HE            * SM_HE_SCALED * scaleHE \\\n",
    "         + B_AGE_ADULTS_SM * AGE_2 \\\n",
    "         + B_AGE_ADULTS_SM * AGE_3 \\\n",
    "         + B_AGE_4_SM      * AGE_4 \\\n",
    "         + B_AGE_5_SM      * AGE_5 \\\n",
    "         + B_FIRST_SM      * FIRST \\\n",
    "         + B_BUSINESS_SM   * BUSINESS \\\n",
    "         + B_PRIVATE       * PRIVATE  \\\n",
    "         + B_COMMUTER      * COMMUTER\n",
    "\n",
    "    Car_SP =ASC_CAR \\\n",
    "         + B_COST     * CAR_COST_SCALED * scaleCostCAR\\\n",
    "         + B_TIME_CAR * CAR_TT_SCALED\n",
    "\n",
    "\n",
    "\n",
    "    V = {3: Car_SP,1: TRAIN_SP,2: SM_SP}\n",
    "   \n",
    "    return V, 'MNL_LPLA'"
   ]
  },
  {
   "cell_type": "code",
   "execution_count": 5,
   "metadata": {},
   "outputs": [],
   "source": [
    "#Baseline MNL NON linear in  variables\n",
    "def simulate_MNL(scaleCostPT=1, scaleCostCAR=1, scaleHE=1):\n",
    "    #Utility functions\n",
    "    TRAIN_SP = ASC_TRAIN \\\n",
    "         + B_COST             * (TRAIN_COST_SCALED * scaleCostPT)**q_COST\\\n",
    "         + B_TIME_TRAIN       * TRAIN_TT_SCALED                  **q_TIME \\\n",
    "         + B_HE               * (TRAIN_HE_SCALED * scaleHE) \\\n",
    "         + B_AGE_ADULTS_TRAIN * AGE_2 \\\n",
    "         + B_AGE_3_TRAIN      * AGE_3 \\\n",
    "         + B_AGE_ADULTS_TRAIN * AGE_4 \\\n",
    "         + B_AGE_5_TRAIN      * AGE_5 \\\n",
    "         + B_LUGGAGE_TRAIN    * LUGGAGE \\\n",
    "         + B_MALE_TRAIN       * MALE \\\n",
    "         + B_GA_TRAIN         * GA \\\n",
    "         + B_BUSINESS_TRAIN   * BUSINESS \\\n",
    "         + B_PRIVATE          * PRIVATE \\\n",
    "         + B_COMMUTER         * COMMUTER\n",
    "\n",
    "    SM_SP = ASC_SM \\\n",
    "         + B_COST          * (SM_COST_SCALED * scaleCostPT)**q_COST\\\n",
    "         + B_TIME_SM       * SM_TT_SCALED                  **q_TIME \\\n",
    "         + B_HE            * (SM_HE_SCALED * scaleHE) \\\n",
    "         + B_AGE_ADULTS_SM * AGE_2 \\\n",
    "         + B_AGE_ADULTS_SM * AGE_3 \\\n",
    "         + B_AGE_4_SM      * AGE_4 \\\n",
    "         + B_AGE_5_SM      * AGE_5 \\\n",
    "         + B_FIRST_SM      * FIRST \\\n",
    "         + B_BUSINESS_SM   * BUSINESS \\\n",
    "         + B_PRIVATE       * PRIVATE  \\\n",
    "         + B_COMMUTER      * COMMUTER\n",
    "\n",
    "    Car_SP = ASC_CAR \\\n",
    "         + B_COST     * (CAR_COST_SCALED * scaleCostCAR)**q_COST\\\n",
    "         + B_TIME_CAR * CAR_TT_SCALED                   **q_TIME\n",
    "\n",
    "\n",
    "\n",
    "    V = {3: Car_SP,1: TRAIN_SP,2: SM_SP}\n",
    "    \n",
    "    return V, 'MNL'"
   ]
  },
  {
   "cell_type": "code",
   "execution_count": 6,
   "metadata": {},
   "outputs": [],
   "source": [
    "#MMNL\n",
    "def simulate_MMNL(scaleCostPT=1, scaleCostCAR=1, scaleHE=1):\n",
    "    #Utility functions\n",
    "    TRAIN_SP = ASC_TRAIN \\\n",
    "         + BETA_COST_random_Norm             * (TRAIN_COST_SCALED * scaleCostPT)**q_COST \\\n",
    "         + BETA_TIME_TRAIN_random_Norm       * TRAIN_TT_SCALED \\\n",
    "         + BETA_HE_random_Norm               * (TRAIN_HE_SCALED * scaleHE)      **q_HE \\\n",
    "         + B_AGE_ADULTS_TRAIN * AGE_2 \\\n",
    "         + B_AGE_3_TRAIN      * AGE_3 \\\n",
    "         + B_AGE_ADULTS_TRAIN * AGE_4 \\\n",
    "         + B_AGE_5_TRAIN      * AGE_5 \\\n",
    "         + B_LUGGAGE_TRAIN    * LUGGAGE \\\n",
    "         + B_MALE_TRAIN       * MALE \\\n",
    "         + B_GA_TRAIN         * GA \\\n",
    "         + B_BUSINESS_TRAIN   * BUSINESS \\\n",
    "         + B_PRIVATE          * PRIVATE  \\\n",
    "         + B_COMMUTER         * COMMUTER\n",
    "\n",
    "    SM_SP = ASC_SM \\\n",
    "         + BETA_COST_random_Norm * (SM_COST_SCALED * scaleCostPT)**q_COST \\\n",
    "         + B_TIME_SM       * SM_TT_SCALED \\\n",
    "         + B_HE            * (SM_HE_SCALED * scaleHE)            **q_HE   \\\n",
    "         + B_AGE_ADULTS_SM * AGE_2 \\\n",
    "         + B_AGE_ADULTS_SM * AGE_3 \\\n",
    "         + B_AGE_4_SM      * AGE_4 \\\n",
    "         + B_AGE_5_SM      * AGE_5 \\\n",
    "         + B_FIRST_SM      * FIRST \\\n",
    "         + B_BUSINESS_SM   * BUSINESS \\\n",
    "         + B_PRIVATE       * PRIVATE \\\n",
    "         + B_COMMUTER      * COMMUTER\n",
    "\n",
    "    Car_SP = ASC_CAR \\\n",
    "         + BETA_COST_random_Norm     * (CAR_COST_SCALED * scaleCostCAR)**q_COST \\\n",
    "         + BETA_TIME_CAR_random_Norm * CAR_TT_SCALED\n",
    "\n",
    "\n",
    "\n",
    "    V = {3: Car_SP,1: TRAIN_SP,2: SM_SP}\n",
    "    \n",
    "    return V, 'MMNL'"
   ]
  },
  {
   "cell_type": "code",
   "execution_count": 7,
   "metadata": {},
   "outputs": [],
   "source": [
    "#MMNLnoPa\n",
    "def simulate_MMNLnoPa(scaleCostPT=1, scaleCostCAR=1, scaleHE=1):\n",
    "    #Utility functions\n",
    "    TRAIN_SP = ASC_TRAIN                                      + \\\n",
    "         BETA_COST_random             * (TRAIN_COST_SCALED * scaleCostPT)**q_COST + \\\n",
    "         BETA_TIME_TRAIN_random_Norm       * TRAIN_TT_SCALED**q_TIME   + \\\n",
    "         BETA_HE_random_Norm               * (TRAIN_HE_SCALED * scaleHE)           + \\\n",
    "         B_AGE_ADULTS_TRAIN * AGE_2                     + \\\n",
    "         B_AGE_3_TRAIN      * AGE_3                     + \\\n",
    "         B_AGE_ADULTS_TRAIN * AGE_4                     + \\\n",
    "         B_AGE_5_TRAIN      * AGE_5                     + \\\n",
    "         B_LUGGAGE_TRAIN    * LUGGAGE                   + \\\n",
    "         B_MALE_TRAIN       * MALE                      + \\\n",
    "         B_GA_TRAIN         * GA                        + \\\n",
    "         B_BUSINESS_TRAIN   * BUSINESS                  + \\\n",
    "         B_PRIVATE          * PRIVATE                   + \\\n",
    "         B_COMMUTER         * COMMUTER\n",
    "\n",
    "    SM_SP = ASC_SM                                   + \\\n",
    "         BETA_COST_random * (SM_COST_SCALED * scaleCostPT)**q_COST + \\\n",
    "         BETA_TIME_SM_random       * SM_TT_SCALED**q_TIME   + \\\n",
    "         BETA_HE_random_Norm            * (SM_HE_SCALED * scaleHE)           + \\\n",
    "         B_AGE_ADULTS_SM * AGE_2                  + \\\n",
    "         B_AGE_ADULTS_SM * AGE_3                  + \\\n",
    "         B_AGE_4_SM      * AGE_4                  + \\\n",
    "         B_AGE_5_SM      * AGE_5                  + \\\n",
    "         B_FIRST_SM      * FIRST                  + \\\n",
    "         B_BUSINESS_SM   * BUSINESS               + \\\n",
    "         B_PRIVATE       * PRIVATE                + \\\n",
    "         B_COMMUTER      * COMMUTER\n",
    "\n",
    "    Car_SP = ASC_CAR                              + \\\n",
    "         BETA_COST_random     * (CAR_COST_SCALED * scaleCostCAR)**q_COST + \\\n",
    "         B_TIME_CAR * CAR_TT_SCALED**q_TIME\n",
    "\n",
    "\n",
    "\n",
    "    V = {3: Car_SP,1: TRAIN_SP,2: SM_SP}\n",
    "    \n",
    "    return V, 'noPa'"
   ]
  },
  {
   "cell_type": "code",
   "execution_count": 8,
   "metadata": {},
   "outputs": [],
   "source": [
    "# Function that calculates the market shares for SM for a given scaling of the cost\n",
    "\n",
    "def scenario(model, database, pickShare, scaleCostPT = 1, scaleCostCAR = 1, HE_scale = 1, draws=100):\n",
    "    '''\n",
    "    ...#costScale includes the variability of cost\n",
    "    ...#HEvalue the simulations on different HE values\n",
    "    ...#To test HE effect in conditions similar to Train, \n",
    "    ...#we put SM_TT_SCALED = TRAIN_TT_SCALED\n",
    "    '''\n",
    "    share = {'CAR': 3,'TRAIN': 1,'SM': 2}\n",
    "    \n",
    "    \n",
    "    \n",
    "    if model == 'MMNL':\n",
    "        utilitySpecification = simulate_MMNL\n",
    "        results = res.bioResults(pickleFile='./finalModels/ML_14.pickle')\n",
    "    \n",
    "    elif model == 'MMNLnoPa':\n",
    "        utilitySpecification = simulate_MMNL\n",
    "        results = res.bioResults(pickleFile='./finalModels/ML_16.pickle')\n",
    "    \n",
    "    \n",
    "    elif model == 'MNL_LPLA':\n",
    "        utilitySpecification = simulate_MNL_LPLA\n",
    "        results = res.bioResults(pickleFile='./finalModels/ML_1~60.pickle')\n",
    "    \n",
    "    elif model == 'MNL':\n",
    "        utilitySpecification = simulate_MNL\n",
    "        results = res.bioResults(pickleFile='./finalModels/ML_2~53.pickle')\n",
    "\n",
    "    V, model = utilitySpecification(scaleCostPT=scaleCostPT, scaleCostCAR=scaleCostCAR, scaleHE=HE_scale)\n",
    "    # Extract the values that are necessary\n",
    "    betaValues = results.getBetaValues()\n",
    "    #print(len(betaValues))\n",
    "    av = {3: CAR_AV_SP,1: TRAIN_AV_SP,2: SM_AV}\n",
    "    \n",
    "    #Lets Look at CARs market share\n",
    "    prob_PS = models.logit(V,av,share[pickShare])\n",
    "    \n",
    "    if model in ['MMNL', 'MMNLnoPa']: \n",
    "        prob = MonteCarlo(prob_PS)\n",
    "    else:\n",
    "        prob = prob_PS\n",
    "    simulate = {'Prob. PS': prob}\n",
    "    \n",
    "    biosim  = bio.BIOGEME(database,simulate,numberOfDraws=draws)\n",
    "    \n",
    "    biosim.modelName = f\"marketShares_{pickShare}_{model}\"\n",
    "    \n",
    "    simresults = biosim.simulate(betaValues)\n",
    "    \n",
    "    return simresults['Prob. PS'].mean()"
   ]
  },
  {
   "cell_type": "code",
   "execution_count": null,
   "metadata": {},
   "outputs": [],
   "source": [
    "def plot3Dmarketshares(printStuff, HE_scale, scaleCost, i,j,k, minMS=0.0, maxMS=0.4,save=False):\n",
    "    \n",
    "    fig = plt.figure()\n",
    "    \n",
    "    ax = fig.add_subplot(111, projection='3d')\n",
    "\n",
    "    X, Y = np.meshgrid(HE_scale, scaleCost)\n",
    "    \n",
    "    \n",
    "    for sh in printStuff: \n",
    "        z = np.array(sh)\n",
    "        Z = z.reshape(X.shape)\n",
    "        ax.plot_surface(X, Y, Z,cmap=cm.coolwarm, rstride=8, cstride=8, alpha=0.3\n",
    "                        #, label='All'\n",
    "                       )\n",
    "        cset = ax.contourf(X, Y, Z, zdir='z', offset=minMS, cmap=cm.coolwarm)\n",
    "        cset = ax.contourf(X, Y, Z, zdir='x', offset=min(HE_scale),cmap=cm.coolwarm)\n",
    "        cset = ax.contourf(X, Y, Z, zdir='y', offset=max(scaleCost), cmap=cm.coolwarm)\n",
    "\n",
    "\n",
    "    ax.set_xlabel('Public Transport HE % Variation')\n",
    "    ax.set_xlim(min(HE_scale), max(HE_scale))\n",
    "    ax.set_ylabel('Public Transport Cost % Variation')\n",
    "    ax.set_ylim(min(scaleCost), max(scaleCost))\n",
    "    ax.set_zlabel('CAR Market Shares')\n",
    "    ax.set_zlim(minMS, maxMS)\n",
    "    if save:\n",
    "        plt.savefig(f'3D-{ModLabels[i]}-{j}-{k}', dpi=300)\n",
    "    plt.show()"
   ]
  },
  {
   "cell_type": "code",
   "execution_count": 9,
   "metadata": {},
   "outputs": [],
   "source": [
    "def plot2Dmarketshares(printStuff, HE_scale, scaleCost, i,j,k, minMS=0.1, maxMS=0.5,save=False, font_size=12):\n",
    "    \n",
    "    MM=len(HE_scale)-1\n",
    "    me=(len(HE_scale)-1)//2\n",
    "    \n",
    "    fig = plt.figure()\n",
    "    ax = fig.add_subplot(1, 1, 1)\n",
    "    colormap=['b','g','r']\n",
    "    linemap=['-','--','*-']\n",
    "    \n",
    "    if len(printStuff)==1:\n",
    "        labelDataset = ['All']\n",
    "        ax.set_title(f'{ModLabels[i]}-IMPACT of Public Transportation policies ON CAR market share \\n HE and cost policy bonduaries for SM and Train \\n effects on {labelDataset[0]}')\n",
    "        ax.plot(scaleCost, CAR_MS_tot_abs*np.ones(len(scaleCost)), linemap[0], c='black', label='All')\n",
    "    \n",
    "    elif len(printStuff)==2:\n",
    "        labelDataset = ['senior', 'NONsenior']\n",
    "        ax.set_title(f'{ModLabels[i]}-IMPACT of Public Transportation policies ON CAR market share \\n HE and cost policy bonduaries for SM and Train \\n effects on {labelDataset[0]} Vs {labelDataset[1]}')\n",
    "        ax.plot(scaleCost, senior_MS_rel*np.ones(len(scaleCost)), linemap[0], c='black', label='zero-Senior')\n",
    "        ax.plot(scaleCost, NON_senior_MS_rel*np.ones(len(scaleCost)), linemap[1], c='black', label='zero-non-Senior')\n",
    "        \n",
    "    else:\n",
    "        labelDataset =['Business', 'Commuter', 'Others']\n",
    "        ax.set_title(f'{ModLabels[i]}-IMPACT of Public Transportation policies ON CAR market share \\n HE and cost policy bonduaries for SM and Train \\n effects on {labelDataset[0]} Vs. {labelDataset[1]} Vs. {labelDataset[2]}')\n",
    "        ax.plot(scaleCost, Business_MS_rel*np.ones(len(scaleCost)), linemap[0], c='black', label='zero-Business')\n",
    "        ax.plot(scaleCost, Commuter_MS_rel*np.ones(len(scaleCost)), linemap[1], c='black', label='zero-Commuter')\n",
    "        ax.plot(scaleCost, Others_MS_rel*np.ones(len(scaleCost)), linemap[2], c='black', label='zero-Others')\n",
    "        \n",
    "    for ii, sh in enumerate(printStuff):\n",
    "        sh = np.array(sh).reshape(len(HE_scale),len(scaleCost))\n",
    "        \n",
    "        ax.plot(scaleCost, sh[MM,:], linemap[ii], c=colormap[2], label=str(labelDataset[ii])+'-HE='+str(100*HE_scale[MM])+'%')\n",
    "        ax.plot(scaleCost, sh[me,:], linemap[ii], c=colormap[1], label=str(labelDataset[ii])+'-HE='+str(100*HE_scale[me])+'%')\n",
    "        ax.plot(scaleCost, sh[0,:], linemap[ii], c=colormap[0],label=str(labelDataset[ii])+'-HE='+str(100*HE_scale[0])+'%')\n",
    "        \n",
    "\n",
    "\n",
    "    plt.axvline(x=1, c='black', label='cost 100% as from survey results')\n",
    "\n",
    "    ax.legend(fontsize=font_size)\n",
    "    ax.set_xlabel('Cost variation on both Public Transport (Train and SM: the actual cost 1=100%)', fontsize=font_size)\n",
    "    ax.set_xlim(min(scaleCost), max(scaleCost))\n",
    "    ax.set_ylabel('CAR Market Share', fontsize=font_size)\n",
    "    ax.set_ylim(minMS, maxMS)\n",
    "    if save:\n",
    "        plt.savefig(f'2D-{ModLabels[i]}-{j}-{k}', dpi=300)\n",
    "    plt.show()"
   ]
  },
  {
   "cell_type": "code",
   "execution_count": 11,
   "metadata": {},
   "outputs": [],
   "source": [
    "CAR_MS_tot_abs=database.data.CHOICE[(database.data.CHOICE==3)].count()/database.data.CHOICE.count()\n",
    "#\n",
    "senior_MS_rel = database.data.CHOICE[(database.data.CHOICE==3) & ((database.data.AGE_4 == 1)|(database.data.AGE_5 == 1))].count()/database.data.CHOICE[((database.data.AGE_4 == 1)|(database.data.AGE_5 == 1))].count()\n",
    "senior_MS_abs = database.data.CHOICE[(database.data.CHOICE==3) & ((database.data.AGE_4 == 1)|(database.data.AGE_5 == 1))].count()/database.data.CHOICE.count()\n",
    "#\n",
    "NON_senior_MS_rel = database.data.CHOICE[(database.data.CHOICE==3) & (((database.data.AGE_2 == 0)&(database.data.AGE_3 == 0)&(database.data.AGE_4 == 0)&(database.data.AGE_5 == 0))|(database.data.AGE_2 == 1)|(database.data.AGE_3 == 1))].count()/database.data.CHOICE[(((database.data.AGE_2 == 0)&(database.data.AGE_3 == 0)&(database.data.AGE_4 == 0)&(database.data.AGE_5 == 0))|(database.data.AGE_2 == 1)|(database.data.AGE_3 == 1))].count()\n",
    "NON_senior_MS_abs = database.data.CHOICE[(database.data.CHOICE==3) & (((database.data.AGE_2 == 0)&(database.data.AGE_3 == 0)&(database.data.AGE_4 == 0)&(database.data.AGE_5 == 0))|(database.data.AGE_2 == 1)|(database.data.AGE_3 == 1))].count()/database.data.CHOICE.count()\n",
    "#\n",
    "Business_MS_rel = database.data.CHOICE[(database.data.CHOICE==3) & (database.data.BUSINESS == 1)].count()/database.data.CHOICE[(database.data.BUSINESS == 1)].count()\n",
    "Commuter_MS_rel = database.data.CHOICE[(database.data.CHOICE==3) & (database.data.COMMUTER == 1)].count()/database.data.CHOICE[(database.data.COMMUTER == 1)].count()\n",
    "Others_MS_rel = database.data.CHOICE[(database.data.CHOICE==3) & (((database.data.BUSINESS == 0)&(database.data.COMMUTER==0)))].count()/database.data.CHOICE[(((database.data.BUSINESS == 0)&(database.data.COMMUTER==0)))].count()\n",
    "#\n",
    "Business_MS_abs = database.data.CHOICE[(database.data.CHOICE==3) & (database.data.BUSINESS == 1)].count()/database.data.CHOICE.count()\n",
    "Commuter_MS_abs = database.data.CHOICE[(database.data.CHOICE==3) & (database.data.COMMUTER == 1)].count()/database.data.CHOICE.count()\n",
    "Others_MS_abs = database.data.CHOICE[(database.data.CHOICE==3) & (((database.data.BUSINESS == 0)&(database.data.COMMUTER==0)))].count()/database.data.CHOICE.count()\n",
    "#\n",
    "\n",
    "\n",
    "    \n",
    "PURPOSE_dbs =[database_Business, database_Commuter, database_Others]\n",
    "AGE_dbs = [database_senior, database_NONsenior]\n",
    "FULL_dbs = [database_ALL]\n",
    "ModLabels =['MNL_LPLA','MNL','MMNLnoPa','MMNL']\n",
    "#scales = np.arange(0.95,1.05,0.01)\n",
    "#HEs = np.arange(0.95,1.05,0.01)"
   ]
  },
  {
   "cell_type": "markdown",
   "metadata": {},
   "source": [
    "# Variation of HE and Public Transport Cost"
   ]
  },
  {
   "cell_type": "code",
   "execution_count": null,
   "metadata": {},
   "outputs": [
    {
     "name": "stdout",
     "output_type": "stream",
     "text": [
      "(11,) (11,)\n"
     ]
    },
    {
     "data": {
      "text/markdown": [
       "## MNL_LPLA-Segmentation-0"
      ],
      "text/plain": [
       "<IPython.core.display.Markdown object>"
      ]
     },
     "metadata": {},
     "output_type": "display_data"
    },
    {
     "name": "stdout",
     "output_type": "stream",
     "text": [
      "0 (10692, 48)\n"
     ]
    }
   ],
   "source": [
    "scales = np.arange(0.95,1.05,0.01)\n",
    "HEs = np.arange(0.95,1.05,0.01)\n",
    "print(HEs.shape,scales.shape)\n",
    "draws=100\n",
    "for k,segment in enumerate([FULL_dbs,PURPOSE_dbs,AGE_dbs]):\n",
    "    #print(k, len(segment))\n",
    "    for i,model in enumerate(ModLabels):\n",
    "        printStuff=[]\n",
    "        #print(i,model)        \n",
    "        display(Markdown(f'## {model}-Segmentation-{k}'))\n",
    "        for j,group in enumerate(segment):\n",
    "            print(j,group.data.shape)\n",
    "            sce=[scenario(model, group, 'CAR', scaleCostPT=s1, scaleCostCAR=1, HE_scale=hhe, draws=draws) for hhe in HEs for s1 in scales]\n",
    "            print(np.array([sce]).shape)\n",
    "            printStuff.append(sce)\n",
    "        plot3Dmarketshares(printStuff, HEs, scales, i,j,k, minMS=0.0, maxMS=0.4,save=True)\n",
    "        plot2Dmarketshares(printStuff, HEs, scales, i,j,k, minMS=0.0, maxMS=0.4,save=True)"
   ]
  },
  {
   "cell_type": "markdown",
   "metadata": {},
   "source": [
    "# Variation of HE and CAR Cost"
   ]
  },
  {
   "cell_type": "code",
   "execution_count": null,
   "metadata": {},
   "outputs": [],
   "source": [
    "scales = np.arange(0.95,1.05,0.01)\n",
    "HEs = np.arange(0.95,1.05,0.01)\n",
    "print(HEs.shape,scales.shape)\n",
    "draws=100\n",
    "for k,segment in enumerate([FULL_dbs,PURPOSE_dbs,AGE_dbs]):\n",
    "    #print(k, len(segment))\n",
    "    for i,model in enumerate(ModLabels):\n",
    "        printStuff=[]\n",
    "        #print(i,model)        \n",
    "        display(Markdown(f'## {model}-Segmentation-{k}'))\n",
    "        for j,group in enumerate(segment):\n",
    "            print(j,group.data.shape)\n",
    "            sce=[scenario(model, group, 'CAR', scaleCostPT=1, scaleCostCAR=s1, HE_scale=hhe, draws=draws) for hhe in HEs for s1 in scales]\n",
    "            print(np.array([sce]).shape)\n",
    "            printStuff.append(sce)\n",
    "        plot3Dmarketshares(printStuff, HEs, scales, i,j,k, minMS=0.0, maxMS=0.4,save=True)\n",
    "        plot2Dmarketshares(printStuff, HEs, scales, i,j,k, minMS=0.0, maxMS=0.4,save=True)"
   ]
  },
  {
   "cell_type": "markdown",
   "metadata": {},
   "source": [
    "# Variation of HE and Cost on the whole choice set"
   ]
  },
  {
   "cell_type": "code",
   "execution_count": null,
   "metadata": {},
   "outputs": [],
   "source": [
    "scales = np.arange(0.95,1.05,0.01)\n",
    "HEs = np.arange(0.95,1.05,0.01)\n",
    "print(HEs.shape,scales.shape)\n",
    "draws=100\n",
    "for k,segment in enumerate([FULL_dbs,PURPOSE_dbs,AGE_dbs]):\n",
    "    #print(k, len(segment))\n",
    "    for i,model in enumerate(ModLabels):\n",
    "        printStuff=[]\n",
    "        #print(i,model)        \n",
    "        display(Markdown(f'## {model}-Segmentation-{k}'))\n",
    "        for j,group in enumerate(segment):\n",
    "            print(j,group.data.shape)\n",
    "            sce=[scenario(model, group, 'CAR', scaleCostPT=s1, scaleCostCAR=s1, HE_scale=hhe, draws=draws) for hhe in HEs for s1 in scales]\n",
    "            print(np.array([sce]).shape)\n",
    "            printStuff.append(sce)\n",
    "        plot3Dmarketshares(printStuff, HEs, scales, i,j,k, minMS=0.0, maxMS=0.4,save=True)\n",
    "        plot2Dmarketshares(printStuff, HEs, scales, i,j,k, minMS=0.0, maxMS=0.4,save=True)"
   ]
  },
  {
   "cell_type": "code",
   "execution_count": null,
   "metadata": {},
   "outputs": [],
   "source": []
  },
  {
   "cell_type": "code",
   "execution_count": null,
   "metadata": {},
   "outputs": [],
   "source": []
  },
  {
   "cell_type": "code",
   "execution_count": null,
   "metadata": {},
   "outputs": [],
   "source": []
  },
  {
   "cell_type": "code",
   "execution_count": null,
   "metadata": {},
   "outputs": [],
   "source": []
  },
  {
   "cell_type": "code",
   "execution_count": null,
   "metadata": {},
   "outputs": [],
   "source": []
  },
  {
   "cell_type": "code",
   "execution_count": null,
   "metadata": {},
   "outputs": [],
   "source": []
  },
  {
   "cell_type": "code",
   "execution_count": null,
   "metadata": {},
   "outputs": [],
   "source": [
    "scales = np.arange(0.95,1.05,0.005)\n",
    "HEs = np.arange(0.95,1.05,0.005)\n",
    "print(HEs.shape,scales.shape)"
   ]
  },
  {
   "cell_type": "code",
   "execution_count": null,
   "metadata": {},
   "outputs": [],
   "source": [
    "draws=1000\n",
    "for k,segment in enumerate([AGE_dbs,PURPOSE_dbs, FULL_dbs]):\n",
    "    #print(k, len(segment))\n",
    "    for i,model in enumerate(ModLabels):\n",
    "        printStuff=[]\n",
    "        #print(i,model)        \n",
    "        display(Markdown(f'## {model}-Segmentation-{k}'))\n",
    "        for j,group in enumerate(segment):\n",
    "            print(j,group.data.shape)\n",
    "            sce=[scenario(model, group, 'CAR', scaleCostPT=s1, scaleCostCAR=1.2*s1, HE_scale=hhe, draws=draws) for hhe in HEs for s1 in scales]\n",
    "            print(np.array([sce]).shape)\n",
    "            printStuff.append(sce)\n",
    "        plot3Dmarketshares(printStuff, HEs, scales, i,j,k, minMS=0.0, maxMS=0.4,save=True)\n",
    "        plot2Dmarketshares(printStuff, HEs, scales, i,j,k, minMS=0.0, maxMS=0.4,save=True)"
   ]
  },
  {
   "cell_type": "code",
   "execution_count": null,
   "metadata": {},
   "outputs": [],
   "source": [
    "draws=200\n",
    "for k,segment in enumerate([AGE_dbs,PURPOSE_dbs, FULL_dbs]):\n",
    "    #print(k, len(segment))\n",
    "    for i,model in enumerate(ModLabels):\n",
    "        printStuff=[]\n",
    "        #print(i,model)        \n",
    "        display(Markdown(f'## {model}-Segmentation-{k}'))\n",
    "        for j,group in enumerate(segment):\n",
    "            print(j,group.data.shape)\n",
    "            sce=[scenario(model, group, 'CAR', scaleCostPT=s1, scaleCostCAR=1.2*s1, HE_scale=hhe, draws=draws) for hhe in HEs for s1 in scales]\n",
    "            print(np.array([sce]).shape)\n",
    "            printStuff.append(sce)\n",
    "        plot3Dmarketshares(printStuff, HEs, scales, i,j,k, minMS=0.0, maxMS=0.4,save=True)\n",
    "        plot2Dmarketshares(printStuff, HEs, scales, i,j,k, minMS=0.0, maxMS=0.4,save=True)"
   ]
  },
  {
   "cell_type": "code",
   "execution_count": null,
   "metadata": {},
   "outputs": [],
   "source": [
    "draws=100\n",
    "for k,segment in enumerate([AGE_dbs,PURPOSE_dbs, FULL_dbs]):\n",
    "    #print(k, len(segment))\n",
    "    for i,model in enumerate(ModLabels):\n",
    "        printStuff=[]\n",
    "        #print(i,model)        \n",
    "        display(Markdown(f'## {model}-Segmentation-{k}'))\n",
    "        for j,group in enumerate(segment):\n",
    "            print(j,group.data.shape)\n",
    "            sce=[scenario(model, group, 'CAR', scaleCostPT=1, scaleCostCAR=s1, HE_scale=hhe, draws=draws) for hhe in HEs for s1 in scales]\n",
    "            print(np.array([sce]).shape)\n",
    "            printStuff.append(sce)\n",
    "        plot3Dmarketshares(printStuff, HEs, scales, i,j,k, minMS=0.0, maxMS=0.4,save=True)\n",
    "        plot2Dmarketshares(printStuff, HEs, scales, i,j,k, minMS=0.0, maxMS=0.4,save=True)"
   ]
  },
  {
   "cell_type": "code",
   "execution_count": null,
   "metadata": {},
   "outputs": [],
   "source": []
  },
  {
   "cell_type": "code",
   "execution_count": null,
   "metadata": {},
   "outputs": [],
   "source": []
  },
  {
   "cell_type": "code",
   "execution_count": null,
   "metadata": {},
   "outputs": [],
   "source": []
  },
  {
   "cell_type": "code",
   "execution_count": null,
   "metadata": {},
   "outputs": [],
   "source": []
  },
  {
   "cell_type": "code",
   "execution_count": null,
   "metadata": {},
   "outputs": [],
   "source": []
  },
  {
   "cell_type": "code",
   "execution_count": null,
   "metadata": {},
   "outputs": [],
   "source": []
  },
  {
   "cell_type": "code",
   "execution_count": null,
   "metadata": {},
   "outputs": [],
   "source": [
    "# The estimation results are read from thr pickel file\n",
    "results = res.bioResults(pickleFile='05normalMixture.pickle')\n",
    "\n",
    "\n",
    "# Conditional to B_TIME_RND, we have a logit model (called the kernel)\n",
    "prob = models.logit(V,av,CHOICE)\n",
    "\n",
    "# We would like to simulate the value of the individual parameters\n",
    "numerator = MonteCarlo(B_TIME_RND * prob)\n",
    "denominator = MonteCarlo(prob)\n",
    "\n",
    "simulate = {'Numerator': numerator,\n",
    "            'Denominator': denominator}\n",
    "\n",
    "# Create the Biogeme object\n",
    "biosim  = bio.BIOGEME(database,simulate,numberOfDraws=1000)\n",
    "biosim.modelName = \"05normalMixture_simul\"\n",
    "\n",
    "# Simulate the requested quantities. The output is a Pandas data frame\n",
    "simresults = biosim.simulate(results.data.betaValues)\n",
    "\n",
    "# Post processing to obtain the individual parameters\n",
    "simresults['beta'] = simresults['Numerator'] / simresults['Denominator']\n",
    "\n",
    "#Plot the histogram of individual parameters\n",
    "simresults['beta'].plot(kind='hist',density=True,bins=20)\n",
    "\n",
    "# Plot the general distribution of beta\n",
    "def normalpdf(x,mu=0.0,s=1.0):\n",
    "    d = -(x-mu)*(x-mu)\n",
    "    n = 2.0*s*s\n",
    "    a = d/n\n",
    "    num = np.exp(a)\n",
    "    den = s*2.506628275\n",
    "    p = num / den\n",
    "    return p\n",
    "\n",
    "betas = results.getBetaValues(['B_TIME','B_TIME_S'])\n",
    "x = np.arange(simresults['beta'].min(),simresults['beta'].max(),0.01)\n",
    "plt.plot(x,normalpdf(x,betas['B_TIME'],betas['B_TIME_S']),'-')"
   ]
  },
  {
   "cell_type": "code",
   "execution_count": null,
   "metadata": {},
   "outputs": [],
   "source": []
  },
  {
   "cell_type": "code",
   "execution_count": null,
   "metadata": {},
   "outputs": [],
   "source": []
  },
  {
   "cell_type": "code",
   "execution_count": null,
   "metadata": {},
   "outputs": [],
   "source": []
  },
  {
   "cell_type": "code",
   "execution_count": null,
   "metadata": {},
   "outputs": [],
   "source": []
  },
  {
   "cell_type": "code",
   "execution_count": null,
   "metadata": {},
   "outputs": [],
   "source": []
  },
  {
   "cell_type": "code",
   "execution_count": null,
   "metadata": {},
   "outputs": [],
   "source": []
  },
  {
   "cell_type": "code",
   "execution_count": null,
   "metadata": {},
   "outputs": [],
   "source": []
  }
 ],
 "metadata": {
  "colab": {
   "name": "biogeme-on-colab.ipynb",
   "provenance": []
  },
  "kernelspec": {
   "display_name": "Python 3",
   "language": "python",
   "name": "python3"
  },
  "language_info": {
   "codemirror_mode": {
    "name": "ipython",
    "version": 3
   },
   "file_extension": ".py",
   "mimetype": "text/x-python",
   "name": "python",
   "nbconvert_exporter": "python",
   "pygments_lexer": "ipython3",
   "version": "3.6.9"
  }
 },
 "nbformat": 4,
 "nbformat_minor": 4
}
