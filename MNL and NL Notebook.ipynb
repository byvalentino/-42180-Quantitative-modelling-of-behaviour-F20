{
  "nbformat": 4,
  "nbformat_minor": 0,
  "metadata": {
    "kernelspec": {
      "display_name": "Python 3",
      "language": "python",
      "name": "python3"
    },
    "language_info": {
      "codemirror_mode": {
        "name": "ipython",
        "version": 3
      },
      "file_extension": ".py",
      "mimetype": "text/x-python",
      "name": "python",
      "nbconvert_exporter": "python",
      "pygments_lexer": "ipython3",
      "version": "3.7.1"
    },
    "colab": {
      "name": "MNL Notebook.ipynb",
      "provenance": [],
      "toc_visible": true
    }
  },
  "cells": [
    {
      "cell_type": "code",
      "metadata": {
        "id": "5MFcFEcbcxH2",
        "colab_type": "code",
        "outputId": "40ea9881-f1ef-4c9f-ff9c-28c22f8d0773",
        "colab": {
          "base_uri": "https://localhost:8080/",
          "height": 136
        }
      },
      "source": [
        "!pip install unidecode numpy cython"
      ],
      "execution_count": 2,
      "outputs": [
        {
          "output_type": "stream",
          "text": [
            "Collecting unidecode\n",
            "\u001b[?25l  Downloading https://files.pythonhosted.org/packages/d0/42/d9edfed04228bacea2d824904cae367ee9efd05e6cce7ceaaedd0b0ad964/Unidecode-1.1.1-py2.py3-none-any.whl (238kB)\n",
            "\r\u001b[K     |█▍                              | 10kB 18.0MB/s eta 0:00:01\r\u001b[K     |██▊                             | 20kB 1.8MB/s eta 0:00:01\r\u001b[K     |████▏                           | 30kB 2.6MB/s eta 0:00:01\r\u001b[K     |█████▌                          | 40kB 1.7MB/s eta 0:00:01\r\u001b[K     |██████▉                         | 51kB 2.1MB/s eta 0:00:01\r\u001b[K     |████████▎                       | 61kB 2.5MB/s eta 0:00:01\r\u001b[K     |█████████▋                      | 71kB 2.9MB/s eta 0:00:01\r\u001b[K     |███████████                     | 81kB 2.3MB/s eta 0:00:01\r\u001b[K     |████████████▍                   | 92kB 2.5MB/s eta 0:00:01\r\u001b[K     |█████████████▊                  | 102kB 2.8MB/s eta 0:00:01\r\u001b[K     |███████████████▏                | 112kB 2.8MB/s eta 0:00:01\r\u001b[K     |████████████████▌               | 122kB 2.8MB/s eta 0:00:01\r\u001b[K     |█████████████████▉              | 133kB 2.8MB/s eta 0:00:01\r\u001b[K     |███████████████████▎            | 143kB 2.8MB/s eta 0:00:01\r\u001b[K     |████████████████████▋           | 153kB 2.8MB/s eta 0:00:01\r\u001b[K     |██████████████████████          | 163kB 2.8MB/s eta 0:00:01\r\u001b[K     |███████████████████████▍        | 174kB 2.8MB/s eta 0:00:01\r\u001b[K     |████████████████████████▊       | 184kB 2.8MB/s eta 0:00:01\r\u001b[K     |██████████████████████████▏     | 194kB 2.8MB/s eta 0:00:01\r\u001b[K     |███████████████████████████▌    | 204kB 2.8MB/s eta 0:00:01\r\u001b[K     |████████████████████████████▉   | 215kB 2.8MB/s eta 0:00:01\r\u001b[K     |██████████████████████████████▎ | 225kB 2.8MB/s eta 0:00:01\r\u001b[K     |███████████████████████████████▋| 235kB 2.8MB/s eta 0:00:01\r\u001b[K     |████████████████████████████████| 245kB 2.8MB/s \n",
            "\u001b[?25hRequirement already satisfied: numpy in /usr/local/lib/python3.6/dist-packages (1.18.3)\n",
            "Requirement already satisfied: cython in /usr/local/lib/python3.6/dist-packages (0.29.16)\n",
            "Installing collected packages: unidecode\n",
            "Successfully installed unidecode-1.1.1\n"
          ],
          "name": "stdout"
        }
      ]
    },
    {
      "cell_type": "code",
      "metadata": {
        "id": "MqI524Wpc30a",
        "colab_type": "code",
        "outputId": "2a46c363-f5a1-49c7-9fee-3c56ec181c1e",
        "colab": {
          "base_uri": "https://localhost:8080/",
          "height": 323
        }
      },
      "source": [
        "!pip install -U biogeme"
      ],
      "execution_count": 3,
      "outputs": [
        {
          "output_type": "stream",
          "text": [
            "Collecting biogeme\n",
            "\u001b[?25l  Downloading https://files.pythonhosted.org/packages/0a/8b/1228805ea0ad03dbfac3c15e22be6451b09a40438524cf2bff2aeeb4075d/biogeme-3.2.5.tar.gz (1.1MB)\n",
            "\u001b[K     |████████████████████████████████| 1.2MB 2.8MB/s \n",
            "\u001b[?25hRequirement already satisfied, skipping upgrade: numpy in /usr/local/lib/python3.6/dist-packages (from biogeme) (1.18.3)\n",
            "Requirement already satisfied, skipping upgrade: cython in /usr/local/lib/python3.6/dist-packages (from biogeme) (0.29.16)\n",
            "Requirement already satisfied, skipping upgrade: unidecode in /usr/local/lib/python3.6/dist-packages (from biogeme) (1.1.1)\n",
            "Requirement already satisfied, skipping upgrade: scipy in /usr/local/lib/python3.6/dist-packages (from biogeme) (1.4.1)\n",
            "Requirement already satisfied, skipping upgrade: pandas in /usr/local/lib/python3.6/dist-packages (from biogeme) (1.0.3)\n",
            "Requirement already satisfied, skipping upgrade: pytz>=2017.2 in /usr/local/lib/python3.6/dist-packages (from pandas->biogeme) (2018.9)\n",
            "Requirement already satisfied, skipping upgrade: python-dateutil>=2.6.1 in /usr/local/lib/python3.6/dist-packages (from pandas->biogeme) (2.8.1)\n",
            "Requirement already satisfied, skipping upgrade: six>=1.5 in /usr/local/lib/python3.6/dist-packages (from python-dateutil>=2.6.1->pandas->biogeme) (1.12.0)\n",
            "Building wheels for collected packages: biogeme\n",
            "  Building wheel for biogeme (setup.py) ... \u001b[?25l\u001b[?25hdone\n",
            "  Created wheel for biogeme: filename=biogeme-3.2.5-cp36-cp36m-linux_x86_64.whl size=3244383 sha256=cdaee61b4655aadfd0905fd3ef24e480f07f9b8e027db545b92e374812260f85\n",
            "  Stored in directory: /root/.cache/pip/wheels/04/c4/65/792136fc4a56332020a8c1cab9f606a03119c76b549a0d6741\n",
            "Successfully built biogeme\n",
            "Installing collected packages: biogeme\n",
            "Successfully installed biogeme-3.2.5\n"
          ],
          "name": "stdout"
        }
      ]
    },
    {
      "cell_type": "code",
      "metadata": {
        "id": "GVDOEDO-ctIB",
        "colab_type": "code",
        "colab": {}
      },
      "source": [
        "import pandas as pd\n",
        "import biogeme.database as db\n",
        "import biogeme.biogeme as bio\n",
        "import biogeme.models as models\n",
        "from biogeme.expressions import Beta, DefineVariable, Variable\n",
        "import biogeme.results as res\n",
        "import biogeme.messaging as msg\n",
        "import numpy as np\n",
        "import sys\n",
        "import os\n",
        "from scipy.stats import chi2\n",
        "from sklearn.model_selection import train_test_split"
      ],
      "execution_count": 0,
      "outputs": []
    },
    {
      "cell_type": "code",
      "metadata": {
        "id": "ObySt0BCctIL",
        "colab_type": "code",
        "colab": {}
      },
      "source": [
        "## Read the data\n",
        "df = pd.read_table(\"http://transp-or.epfl.ch/data/swissmetro.dat\")\n",
        "\n",
        "##Change variable 'PURPOSE'\n",
        "#PRIVATE (1) - Shopping, Return from shopping, Leisure, return from leisure\n",
        "#COMMUTER (2) - Commuter, return from work\n",
        "#BUSINESS (3) - Business, return from business\n",
        "df.loc[:, ('PURPOSE')][(df['PURPOSE']==1)] = 2\n",
        "df.loc[:, ('PURPOSE')][(df['PURPOSE']==2)] = 1\n",
        "df.loc[:, ('PURPOSE')][(df['PURPOSE']==3)] = 3\n",
        "df.loc[:, ('PURPOSE')][(df['PURPOSE']==4)] = 1\n",
        "df.loc[:, ('PURPOSE')][(df['PURPOSE']==5)] = 2\n",
        "df.loc[:, ('PURPOSE')][(df['PURPOSE']==6)] = 1\n",
        "df.loc[:, ('PURPOSE')][(df['PURPOSE']==7)] = 3\n",
        "df.loc[:, ('PURPOSE')][(df['PURPOSE']==8)] = 1\n",
        "\n",
        "##Remove variables\n",
        "df = df[(df['AGE'] !=6 ) & (df['PURPOSE'] !=9 ) & (df['CHOICE'] !=0 )]\n",
        "\n",
        "##Write to biogeme database\n",
        "database = db.Database(\"swissmetro\",df)\n",
        "\n",
        "##The following statement allows you to use the names of the variable as Python variable.\n",
        "globals().update(database.variables)\n",
        "    "
      ],
      "execution_count": 0,
      "outputs": []
    },
    {
      "cell_type": "markdown",
      "metadata": {
        "id": "5pkjtMKqejDs",
        "colab_type": "text"
      },
      "source": [
        "# Miscelanious"
      ]
    },
    {
      "cell_type": "code",
      "metadata": {
        "id": "n5YQIHG5ctIR",
        "colab_type": "code",
        "colab": {}
      },
      "source": [
        "###Parameters to be estimated (Note not all parameters are used in all models!)\n",
        "##Attributes\n",
        "#Alternative specific constants\n",
        "ASC_CAR        = Beta('ASC_CAR',0,None,None,1)\n",
        "ASC_TRAIN      = Beta('ASC_TRAIN',0,None,None,0)\n",
        "ASC_SM         = Beta('ASC_SM',0,None,None,0)\n",
        "\n",
        "#Cost (Note: Assumed generic)\n",
        "B_COST          = Beta('B_COST',0,None,None,0)\n",
        "B_COST_BUSINESS = Beta('B_COST_BUSINESS',0,None,None,0)\n",
        "B_COST_PRIVATE  = Beta('B_COST_PRIVATE',0,None,None,0)\n",
        "\n",
        "#Time\n",
        "B_TIME                = Beta('B_TIME',0,None,None,0)\n",
        "B_TIME_CAR            = Beta('B_TIME_CAR',0,None,None,0)\n",
        "B_TIME_TRAIN          = Beta('B_TIME_TRAIN',0,None,None,0)\n",
        "B_TIME_SM             = Beta('B_TIME_SM',0,None,None,0)\n",
        "B_TIME_PUB            = Beta('B_TIME_PUB',0,None,None,0)\n",
        "B_TIME_CAR_BUSINESS   = Beta('B_TIME_CAR_BUSINESS',0,None,None,0)\n",
        "B_TIME_TRAIN_BUSINESS = Beta('B_TIME_TRAIN_BUSINESS',0,None,None,0)\n",
        "B_TIME_SM_BUSINESS    = Beta('B_TIME_SM_BUSINESS',0,None,None,0)\n",
        "B_TIME_PUB_BUSINESS   = Beta('B_TIME_PUB_BUSINESS',0,None,None,0)\n",
        "B_TIME_CAR_PRIVATE    = Beta('B_TIME_CAR_PRIVATE',0,None,None,0)\n",
        "B_TIME_TRAIN_PRIVATE  = Beta('B_TIME_TRAIN_PRIVATE',0,None,None,0)\n",
        "B_TIME_SM_PRIVATE     = Beta('B_TIME_SM_PRIVATE',0,None,None,0)\n",
        "B_TIME_PUB_PRIVATE    = Beta('B_TIME_PUB_PRIVATE',0,None,None,0)\n",
        "\n",
        "#HE (Note: Not available for car)\n",
        "B_HE                = Beta('B_HE',0,None,None,0)\n",
        "B_HE_TRAIN          = Beta('B_HE_TRAIN',0,None,None,0)\n",
        "B_HE_SM             = Beta('B_HE_SM',0,None,None,0)\n",
        "B_HE_BUSINESS       = Beta('B_HE_BUSINESS',0,None,None,0)\n",
        "B_HE_TRAIN_BUSINESS = Beta('B_HE_TRAIN_BUSINESS',0,None,None,0)\n",
        "B_HE_SM_BUSINESS    = Beta('B_HE_SM_BUSINESS',0,None,None,0)\n",
        "B_HE_PRIVATE        = Beta('B_HE_PRIVATE',0,None,None,0)\n",
        "B_HE_TRAIN_PRIVATE  = Beta('B_HE_TRAIN_PRIVATE',0,None,None,0)\n",
        "B_HE_SM_PRIVATE     = Beta('B_HE_SM_PRIVATE',0,None,None,0)\n",
        "\n",
        "#Seats (Note: Only avaliable for SM)\n",
        "B_SEATS = Beta('B_SEATS',0,None,None,0)\n",
        "\n",
        "##Characteristics\n",
        "#Age\n",
        "B_AGE_1_TRAIN      = Beta('B_AGE_1_TRAIN',0,None,None,1) #Note: Reference\n",
        "B_AGE_2_TRAIN      = Beta('B_AGE_2_TRAIN',0,None,None,0)\n",
        "B_AGE_3_TRAIN      = Beta('B_AGE_3_TRAIN',0,None,None,0)\n",
        "B_AGE_4_TRAIN      = Beta('B_AGE_4_TRAIN',0,None,None,0)\n",
        "B_AGE_5_TRAIN      = Beta('B_AGE_5_TRAIN',0,None,None,0)\n",
        "B_AGE_6_TRAIN      = Beta('B_AGE_6_TRAIN',0,None,None,0)\n",
        "B_AGE_1_SM         = Beta('B_AGE_1_SM',0,None,None,1) #Note: Reference\n",
        "B_AGE_2_SM         = Beta('B_AGE_2_SM',0,None,None,0)\n",
        "B_AGE_3_SM         = Beta('B_AGE_3_SM',0,None,None,0)\n",
        "B_AGE_4_SM         = Beta('B_AGE_4_SM',0,None,None,0)\n",
        "B_AGE_5_SM         = Beta('B_AGE_5_SM',0,None,None,0)\n",
        "B_AGE_6_SM         = Beta('B_AGE_6_SM',0,None,None,0)\n",
        "B_AGE_1_PUB        = Beta('B_AGE_1_PUB',0,None,None,1) #Note: Reference\n",
        "B_AGE_2_PUB        = Beta('B_AGE_2_PUB',0,None,None,0)\n",
        "B_AGE_3_PUB        = Beta('B_AGE_3_PUB',0,None,None,0)\n",
        "B_AGE_4_PUB        = Beta('B_AGE_4_PUB',0,None,None,0)\n",
        "B_AGE_5_PUB        = Beta('B_AGE_5_PUB',0,None,None,0)\n",
        "B_AGE_6_PUB        = Beta('B_AGE_6_PUB',0,None,None,0)\n",
        "B_AGE_ADULTS_TRAIN = Beta('B_AGE_TRAIN_ADULTS',0,None,None,0)\n",
        "B_AGE_ADULTS_SM    = Beta('B_AGE_ADULTS_SM',0,None,None,0)\n",
        "B_AGE_ADULTS_PUB   = Beta('B_AGE_ADULTS_PUB',0,None,None,0)\n",
        "\n",
        "#Luggage\n",
        "B_LUGGAGE_TRAIN = Beta('B_LUGGAGE_TRAIN', 0, None, None, 0)\n",
        "B_LUGGAGE_SM    = Beta('B_LUGGAGE_SM', 0, None, None, 0)\n",
        "B_LUGGAGE_PUB   = Beta('B_LUGGAGE_PUB', 0, None, None, 0)\n",
        "\n",
        "#Gender\n",
        "B_MALE_TRAIN = Beta('B_MALE_TRAIN',0,None,None,0)\n",
        "B_MALE_SM    = Beta('B_MALE_SM',0,None,None,0)\n",
        "B_MALE_PUB   = Beta('B_MALE_PUB',0,None,None,0)\n",
        "\n",
        "#Purpose\n",
        "B_BUSINESS       = Beta('B_BUSINESS',0,None,None,0)\n",
        "B_BUSINESS_TRAIN = Beta('B_BUSINESS_TRAIN',0,None,None,0)\n",
        "B_BUSINESS_SM    = Beta('B_BUSINESS_SM',0,None,None,0)\n",
        "B_PRIVATE        = Beta('B_PRIVATE',0,None,None,0)\n",
        "B_PRIVATE_TRAIN  = Beta('B_PRIVATE_TRAIN',0,None,None,0)\n",
        "B_PRIVATE_SM     = Beta('B_PRIVATE_SM',0,None,None,0)\n",
        "B_COMMUTER       = Beta('B_COMMUTER',0,None,None,0)\n",
        "B_COMMUTER_TRAIN = Beta('B_COMMUTER_TRAIN',0,None,None,0)\n",
        "B_COMMUTER_SM    = Beta('B_COMMUTER_SM',0,None,None,0)\n",
        "\n",
        "#GA\n",
        "B_GA        = Beta('B_GA',0,None,None,0)\n",
        "B_GA_TRAIN  = Beta('B_GA_TRAIN',0,None,None,0)\n",
        "B_GA_SM     = Beta('B_GA_SM',0,None,None,0)\n",
        "\n",
        "#First\n",
        "B_FIRST_TRAIN = Beta('B_FIRST_TRAIN',0,None,None,0)\n",
        "B_FIRST_SM    = Beta('B_FIRST_SM',0,None,None,0)\n",
        "B_FIRST       = Beta('B_FIRST',0,None,None,0)\n",
        "\n",
        "##Non linearization\n",
        "#Cost\n",
        "q_COST = Beta('q_COST_CAR',1,None,None,0)\n",
        "\n",
        "#Time\n",
        "q_TIME       = Beta('q_TIME',1,None,None,0)\n",
        "q_TIME_TRAIN = Beta('q_TIME_TRAIN',1,None,None,0)\n",
        "q_TIME_SM    = Beta('q_TIME_SM',1,None,None,0)\n",
        "q_TIME_CAR   = Beta('q_TIME_CAR',1,None,None,0)\n",
        "q_TIME_PUB   = Beta('q_TIME_PUB',1,None,None,0)\n",
        "\n",
        "#HE\n",
        "q_HE = Beta('q_HE',1,None,None,0)\n",
        "\n",
        "##Nesting parameter\n",
        "MU = Beta('MU',1,0,1,0)"
      ],
      "execution_count": 0,
      "outputs": []
    },
    {
      "cell_type": "code",
      "metadata": {
        "id": "F2l-49xzctIW",
        "colab_type": "code",
        "colab": {}
      },
      "source": [
        "###Manipulating variables\n",
        "## Setting the cost to 0 for those with annual pass \n",
        "SM_COST    =  SM_CO   * (  GA   ==  0  )   \n",
        "TRAIN_COST =  TRAIN_CO   * (  GA   ==  0  )\n",
        "\n",
        "##Scaling 'COST', 'TRAVEL-TIME' and 'HE' by a factor of 100 and adding the scaled variables to the database\n",
        "CAR_AV_SP =  DefineVariable('CAR_AV_SP',CAR_AV  * (  SP   !=  0  ),database)\n",
        "TRAIN_AV_SP =  DefineVariable('TRAIN_AV_SP',TRAIN_AV  * (  SP   !=  0  ),database)\n",
        " \n",
        "TRAIN_TT_SCALED = DefineVariable('TRAIN_TT_SCALED',\\\n",
        "                                 TRAIN_TT / 100.0,database)\n",
        "TRAIN_COST_SCALED = DefineVariable('TRAIN_COST_SCALED',\\\n",
        "                                   TRAIN_COST / 100,database)\n",
        "TRAIN_HE_SCALED = DefineVariable('TRAIN_HE_SCALED',\\\n",
        "                                   TRAIN_HE / 100, database)\n",
        "\n",
        "SM_TT_SCALED = DefineVariable('SM_TT_SCALED', SM_TT / 100.0,database)\n",
        "SM_COST_SCALED = DefineVariable('SM_COST_SCALED', SM_COST / 100,database)\n",
        "SM_HE_SCALED = DefineVariable('SM_HE_SCALED',\\\n",
        "                                   SM_HE / 100, database)\n",
        "\n",
        "CAR_TT_SCALED = DefineVariable('CAR_TT_SCALED', CAR_TT / 100,database)\n",
        "CAR_COST_SCALED = DefineVariable('CAR_COST_SCALED', CAR_CO / 100,database)"
      ],
      "execution_count": 0,
      "outputs": []
    },
    {
      "cell_type": "code",
      "metadata": {
        "id": "cqLopY1gctIb",
        "colab_type": "code",
        "colab": {}
      },
      "source": [
        "###Defining new variables and adding columns to the database\n",
        "#Age\n",
        "AGE_1 = DefineVariable('AGE_1', (  AGE   ==  1  ),database) #don't scale because is cathegorical\n",
        "AGE_2 = DefineVariable('AGE_2', (  AGE   ==  2  ),database)\n",
        "AGE_3 = DefineVariable('AGE_3', (  AGE   ==  3  ),database)\n",
        "AGE_4 = DefineVariable('AGE_4', (  AGE   ==  4  ),database)\n",
        "AGE_5 = DefineVariable('AGE_5', (  AGE   ==  5  ),database)\n",
        "AGE_6 = DefineVariable('AGE_6', (  AGE   ==  6  ),database)\n",
        "\n",
        "#Purpose\n",
        "PRIVATE  = DefineVariable(\"PRIVATE\", (PURPOSE == 1), database)\n",
        "COMMUTER = DefineVariable(\"COMMUTER\", (PURPOSE == 2), database)\n",
        "BUSINESS = DefineVariable(\"BUSINESS\", (PURPOSE == 3), database)"
      ],
      "execution_count": 0,
      "outputs": []
    },
    {
      "cell_type": "code",
      "metadata": {
        "id": "2slNVpGFctIg",
        "colab_type": "code",
        "colab": {}
      },
      "source": [
        "def estimate_MNL(v1, v2, v3, model_name, modeltype=\"MNL\", nest1=[1,3], nest2=[2]):\n",
        "    '''\n",
        "    Function that based on Utility function estimates a MNL model (or NL model) \n",
        "    and outputs the LogLikelihood and number of parameters'''\n",
        "    ## Associate utility functions with the numbering of alternatives\n",
        "    V = {1: V1,\n",
        "         2: V2,\n",
        "         3: V3}\n",
        "\n",
        "    ## Associate the availability conditions with the alternatives\n",
        "    av = {1: TRAIN_AV_SP,\n",
        "          2: SM_AV,\n",
        "          3: CAR_AV_SP}\n",
        "    \n",
        "\n",
        "    \n",
        "    ## observation to the log likelihood function.\n",
        "    if modeltype == 'MNL':\n",
        "        logprob = models.loglogit(V,av,CHOICE)\n",
        "    else:\n",
        "        Nest1 = 1, nest1\n",
        "        Nest2 = 1, nest2\n",
        "        nests = Nest1, Nest2\n",
        "    \n",
        "        logprob = models.lognestedMevMu(V,av,nests,CHOICE,MU)\n",
        "    \n",
        "    #Define level of verbosity\n",
        "    logger = msg.bioMessage()\n",
        "    logger.setDebug()\n",
        "    \n",
        "    ## Create the Biogeme object\n",
        "    biogeme  = bio.BIOGEME(database,logprob,numberOfThreads=None, skipAudit = True)\n",
        "    biogeme.modelName = model_name\n",
        "\n",
        "    ## Estimate the parameters\n",
        "    results = biogeme.estimate(saveIterations=False)\n",
        "    biogeme.createLogFile()\n",
        "\n",
        "    # Get the results in a pandas table\n",
        "    pandasResults = results.getEstimatedParameters()\n",
        "    print(pandasResults)\n",
        "    \n",
        "    return results.data.logLike, results.data.nparam, results.data.betaNames, results.data.betaValues;"
      ],
      "execution_count": 0,
      "outputs": []
    },
    {
      "cell_type": "code",
      "metadata": {
        "id": "xJmeP42uctIl",
        "colab_type": "code",
        "colab": {}
      },
      "source": [
        "def likelihoodRatioTest(ll1, nparam1, model_name1, ll2, nparam2, model_name2, prob = 0.95):\n",
        "    '''\n",
        "    Function that based on two models (Note: One must be a restriction of the other) uses the \n",
        "    Likelihood Ratio test to determine if we can reject the null-hypothesis that the restricted\n",
        "    model describes the data equally well.\n",
        "    '''\n",
        "    dof = abs(nparam2 - nparam1)\n",
        "    LR = -2*(ll1 - ll2)\n",
        "    critical = chi2.ppf(prob, dof)\n",
        "    \n",
        "    if abs(LR) >= critical:\n",
        "        print('LR = %.2f, Chi2 = %.2f (%.0f defrees of freedom) \\nTherefore: Accept more params' %(abs(LR), critical, dof))\n",
        "    else:\n",
        "        print('LR = %.2f, Chi2 = %.2f (%.0f defrees of freedom) \\nTherefore: Do not accept more params' %(abs(LR), critical, dof))"
      ],
      "execution_count": 0,
      "outputs": []
    },
    {
      "cell_type": "markdown",
      "metadata": {
        "id": "rQ61EloYctIq",
        "colab_type": "text"
      },
      "source": [
        "# MNL (LPLA)"
      ]
    },
    {
      "cell_type": "code",
      "metadata": {
        "id": "5SDv9QgvctIr",
        "colab_type": "code",
        "colab": {}
      },
      "source": [
        "%%capture\n",
        "## Model 1\n",
        "#ASC ONLY\n",
        "model_name = \"MNL1\"\n",
        "\n",
        "#Utility functions\n",
        "V1 = ASC_TRAIN\n",
        "\n",
        "V2 = ASC_SM \n",
        "\n",
        "V3 = ASC_CAR   \n",
        "\n",
        "#Run MNL\n",
        "LL1, nparam1, estimate_names1, estimate_values1 = estimate_MNL(V1, V2, V3, model_name)"
      ],
      "execution_count": 0,
      "outputs": []
    },
    {
      "cell_type": "code",
      "metadata": {
        "id": "FVxy8w2cctIw",
        "colab_type": "code",
        "colab": {}
      },
      "source": [
        "%%capture\n",
        "## Model 2\n",
        "#Generic cost\n",
        "model_name = \"MNL2\"\n",
        "\n",
        "#Utility functions\n",
        "V1 = ASC_TRAIN + \\\n",
        "     B_COST * TRAIN_COST_SCALED\n",
        "\n",
        "V2 = ASC_SM + \\\n",
        "     B_COST * SM_COST_SCALED\n",
        "\n",
        "V3 = ASC_CAR + \\\n",
        "     B_COST * CAR_COST_SCALED\n",
        "\n",
        "#Run MNL\n",
        "LL2, nparam2, estimate_names2, estimate_values2 = estimate_MNL(V1, V2, V3, model_name)"
      ],
      "execution_count": 0,
      "outputs": []
    },
    {
      "cell_type": "code",
      "metadata": {
        "id": "6U6uTIQ1ctI0",
        "colab_type": "code",
        "outputId": "030cbc03-81cd-4d19-d456-c1dc1799b4b9",
        "colab": {
          "base_uri": "https://localhost:8080/",
          "height": 51
        }
      },
      "source": [
        "likelihoodRatioTest(LL1, nparam1, \"MNL1\", LL2, nparam2, \"MNL2\", prob = 0.99)"
      ],
      "execution_count": 13,
      "outputs": [
        {
          "output_type": "stream",
          "text": [
            "LR = 492.55, Chi2 = 6.63 (1 defrees of freedom) \n",
            "Therefore: Accept more params\n"
          ],
          "name": "stdout"
        }
      ]
    },
    {
      "cell_type": "code",
      "metadata": {
        "id": "CXlI3BWRctI7",
        "colab_type": "code",
        "colab": {}
      },
      "source": [
        "%%capture\n",
        "## Model 3\n",
        "#Generic time\n",
        "model_name = \"MNL3\"\n",
        "\n",
        "#Utility functions\n",
        "V1 = ASC_TRAIN                  + \\\n",
        "     B_COST * TRAIN_COST_SCALED + \\\n",
        "     B_TIME * TRAIN_TT_SCALED \n",
        "\n",
        "V2 = ASC_SM                  + \\\n",
        "     B_COST * SM_COST_SCALED + \\\n",
        "     B_TIME * SM_TT_SCALED\n",
        "\n",
        "V3 = ASC_CAR                  + \\\n",
        "     B_COST * CAR_COST_SCALED + \\\n",
        "     B_TIME * CAR_TT_SCALED\n",
        "\n",
        "#Run MNL\n",
        "LL3, nparam3, estimate_names3, estimate_values3 = estimate_MNL(V1, V2, V3, model_name)"
      ],
      "execution_count": 0,
      "outputs": []
    },
    {
      "cell_type": "code",
      "metadata": {
        "id": "OmsGEe-actJA",
        "colab_type": "code",
        "outputId": "9a4a5a8d-767f-4a00-fcb0-8e89462c0247",
        "colab": {
          "base_uri": "https://localhost:8080/",
          "height": 51
        }
      },
      "source": [
        "likelihoodRatioTest(LL2, nparam2,'MNL2', LL3, nparam3,'MNL3', prob = 0.99)"
      ],
      "execution_count": 15,
      "outputs": [
        {
          "output_type": "stream",
          "text": [
            "LR = 1104.04, Chi2 = 6.63 (1 defrees of freedom) \n",
            "Therefore: Accept more params\n"
          ],
          "name": "stdout"
        }
      ]
    },
    {
      "cell_type": "code",
      "metadata": {
        "id": "wNI1-_yWctJE",
        "colab_type": "code",
        "colab": {}
      },
      "source": [
        "%%capture\n",
        "## Model 4\n",
        "#Generic HE\n",
        "model_name = \"MNL4\"\n",
        "\n",
        "#Utility functions\n",
        "V1 = ASC_TRAIN                  + \\\n",
        "     B_COST * TRAIN_COST_SCALED + \\\n",
        "     B_TIME * TRAIN_TT_SCALED   + \\\n",
        "     B_HE   * TRAIN_HE_SCALED \n",
        "\n",
        "V2 = ASC_SM                  + \\\n",
        "     B_COST * SM_COST_SCALED + \\\n",
        "     B_TIME * SM_TT_SCALED   + \\\n",
        "     B_HE   * SM_HE_SCALED\n",
        "\n",
        "V3 = ASC_CAR                  + \\\n",
        "     B_COST * CAR_COST_SCALED + \\\n",
        "     B_TIME * CAR_TT_SCALED   \n",
        "\n",
        "#Run MNL\n",
        "LL4, nparam4, estimate_names4, estimate_values4 = estimate_MNL(V1, V2, V3, model_name)"
      ],
      "execution_count": 0,
      "outputs": []
    },
    {
      "cell_type": "code",
      "metadata": {
        "id": "-FEe50gectJJ",
        "colab_type": "code",
        "outputId": "1b4aff66-cadf-458d-9339-a3da94240b00",
        "colab": {
          "base_uri": "https://localhost:8080/",
          "height": 51
        }
      },
      "source": [
        "likelihoodRatioTest(LL3, nparam3,'MNL3', LL4, nparam4,'MNL4', prob = 0.99)"
      ],
      "execution_count": 17,
      "outputs": [
        {
          "output_type": "stream",
          "text": [
            "LR = 61.05, Chi2 = 6.63 (1 defrees of freedom) \n",
            "Therefore: Accept more params\n"
          ],
          "name": "stdout"
        }
      ]
    },
    {
      "cell_type": "code",
      "metadata": {
        "id": "ec81RWGyctJM",
        "colab_type": "code",
        "colab": {}
      },
      "source": [
        "%%capture\n",
        "## Model 5\n",
        "#Alternative specific time\n",
        "model_name = \"MNL5\"\n",
        "\n",
        "#Utility functions\n",
        "V1 = ASC_TRAIN                         + \\\n",
        "     B_COST       * TRAIN_COST_SCALED  + \\\n",
        "     B_TIME_TRAIN * TRAIN_TT_SCALED    + \\\n",
        "     B_HE         * TRAIN_HE_SCALED        \n",
        "\n",
        "V2 = ASC_SM                      + \\\n",
        "     B_COST    * SM_COST_SCALED  + \\\n",
        "     B_TIME_SM * SM_TT_SCALED    + \\\n",
        "     B_HE      * SM_HE_SCALED\n",
        "\n",
        "V3 = ASC_CAR                      + \\\n",
        "     B_COST     * CAR_COST_SCALED + \\\n",
        "     B_TIME_CAR * CAR_TT_SCALED   \n",
        "\n",
        "#Run MNL\n",
        "LL5, nparam5, estimate_names5, estimate_values5 = estimate_MNL(V1, V2, V3, model_name)"
      ],
      "execution_count": 0,
      "outputs": []
    },
    {
      "cell_type": "code",
      "metadata": {
        "id": "-O6m6rKxctJP",
        "colab_type": "code",
        "outputId": "7ab9a300-713f-432a-b94e-0ae2a2584d5b",
        "colab": {
          "base_uri": "https://localhost:8080/",
          "height": 51
        }
      },
      "source": [
        "likelihoodRatioTest(LL4, nparam4,'MNL4', LL5, nparam5,'MNL5', prob = 0.99)"
      ],
      "execution_count": 19,
      "outputs": [
        {
          "output_type": "stream",
          "text": [
            "LR = 176.76, Chi2 = 9.21 (2 defrees of freedom) \n",
            "Therefore: Accept more params\n"
          ],
          "name": "stdout"
        }
      ]
    },
    {
      "cell_type": "code",
      "metadata": {
        "id": "Ek4ul8C4ctJU",
        "colab_type": "code",
        "colab": {}
      },
      "source": [
        "%%capture\n",
        "## Model 6\n",
        "#Alternative specific time (TRAIN = SM)\n",
        "model_name = \"MNL6\"\n",
        "\n",
        "#Utility functions\n",
        "V1 = ASC_TRAIN                      + \\\n",
        "     B_COST     * TRAIN_COST_SCALED + \\\n",
        "     B_TIME_PUB * TRAIN_TT_SCALED   + \\\n",
        "     B_HE       * TRAIN_HE_SCALED \n",
        "\n",
        "V2 = ASC_SM                      + \\\n",
        "     B_COST     * SM_COST_SCALED + \\\n",
        "     B_TIME_PUB * SM_TT_SCALED   + \\\n",
        "     B_HE       * SM_HE_SCALED\n",
        "\n",
        "V3 = ASC_CAR                      + \\\n",
        "     B_COST     * CAR_COST_SCALED + \\\n",
        "     B_TIME_CAR * CAR_TT_SCALED   \n",
        "\n",
        "#Run MNL\n",
        "LL6, nparam6, estimate_names6, estimate_values6 = estimate_MNL(V1, V2, V3, model_name)"
      ],
      "execution_count": 0,
      "outputs": []
    },
    {
      "cell_type": "code",
      "metadata": {
        "id": "KlznuBE5ctJZ",
        "colab_type": "code",
        "outputId": "0eac9de2-928d-4e7c-baea-25c3a1824ec5",
        "colab": {
          "base_uri": "https://localhost:8080/",
          "height": 51
        }
      },
      "source": [
        "likelihoodRatioTest(LL5, nparam5,'MNL5', LL6, nparam6,'MNL6', prob = 0.99)"
      ],
      "execution_count": 21,
      "outputs": [
        {
          "output_type": "stream",
          "text": [
            "LR = 20.65, Chi2 = 6.63 (1 defrees of freedom) \n",
            "Therefore: Accept more params\n"
          ],
          "name": "stdout"
        }
      ]
    },
    {
      "cell_type": "code",
      "metadata": {
        "id": "gxJjhoPPctJd",
        "colab_type": "code",
        "colab": {}
      },
      "source": [
        "%%capture\n",
        "## Model 7\n",
        "#Alternative specific HE\n",
        "model_name = \"MNL7\"\n",
        "\n",
        "#Utility functions\n",
        "V1 = ASC_TRAIN                      + \\\n",
        "     B_COST       * TRAIN_COST_SCALED + \\\n",
        "     B_TIME_TRAIN * TRAIN_TT_SCALED   + \\\n",
        "     B_HE_TRAIN   * TRAIN_HE_SCALED \n",
        "\n",
        "V2 = ASC_SM                      + \\\n",
        "     B_COST     * SM_COST_SCALED + \\\n",
        "     B_TIME_SM  * SM_TT_SCALED   + \\\n",
        "     B_HE_SM    * SM_HE_SCALED\n",
        "\n",
        "V3 = ASC_CAR                      + \\\n",
        "     B_COST     * CAR_COST_SCALED + \\\n",
        "     B_TIME_CAR * CAR_TT_SCALED   \n",
        "\n",
        "#Run MNL\n",
        "LL7, nparam7, estimate_names7, estimate_values7 = estimate_MNL(V1, V2, V3, model_name)"
      ],
      "execution_count": 0,
      "outputs": []
    },
    {
      "cell_type": "code",
      "metadata": {
        "id": "PEPD5jJ3ctJg",
        "colab_type": "code",
        "outputId": "ac213fae-6d2b-4d97-b8bb-66a558fadafa",
        "colab": {
          "base_uri": "https://localhost:8080/",
          "height": 51
        }
      },
      "source": [
        "likelihoodRatioTest(LL5, nparam5,'MNL5', LL7, nparam7,'MNL7', prob = 0.99)"
      ],
      "execution_count": 23,
      "outputs": [
        {
          "output_type": "stream",
          "text": [
            "LR = 0.25, Chi2 = 6.63 (1 defrees of freedom) \n",
            "Therefore: Do not accept more params\n"
          ],
          "name": "stdout"
        }
      ]
    },
    {
      "cell_type": "code",
      "metadata": {
        "id": "zdBu16cvctJl",
        "colab_type": "code",
        "colab": {}
      },
      "source": [
        "%%capture\n",
        "## Model 8\n",
        "#Alternative specific age\n",
        "model_name = \"MNL8\"\n",
        "\n",
        "#Utility functions\n",
        "V1 = ASC_TRAIN                         + \\\n",
        "     B_COST        * TRAIN_COST_SCALED + \\\n",
        "     B_TIME_TRAIN  * TRAIN_TT_SCALED   + \\\n",
        "     B_HE          * TRAIN_HE_SCALED   + \\\n",
        "     B_AGE_2_TRAIN * AGE_2             + \\\n",
        "     B_AGE_3_TRAIN * AGE_3             + \\\n",
        "     B_AGE_4_TRAIN * AGE_4             + \\\n",
        "     B_AGE_5_TRAIN * AGE_5             \n",
        "\n",
        "V2 = ASC_SM                      + \\\n",
        "     B_COST     * SM_COST_SCALED + \\\n",
        "     B_TIME_SM  * SM_TT_SCALED   + \\\n",
        "     B_HE       * SM_HE_SCALED   + \\\n",
        "     B_AGE_2_SM * AGE_2          + \\\n",
        "     B_AGE_3_SM * AGE_3          + \\\n",
        "     B_AGE_4_SM * AGE_4          + \\\n",
        "     B_AGE_5_SM * AGE_5     \n",
        "\n",
        "V3 = ASC_CAR                      + \\\n",
        "     B_COST     * CAR_COST_SCALED + \\\n",
        "     B_TIME_CAR * CAR_TT_SCALED   \n",
        "\n",
        "#Run MNL\n",
        "LL8, nparam8, estimate_names8, estimate_values8 = estimate_MNL(V1, V2, V3, model_name)"
      ],
      "execution_count": 0,
      "outputs": []
    },
    {
      "cell_type": "code",
      "metadata": {
        "id": "4FpFpngGctJo",
        "colab_type": "code",
        "outputId": "76a8a638-160b-4f50-e1d1-efbb296eae25",
        "colab": {
          "base_uri": "https://localhost:8080/",
          "height": 51
        }
      },
      "source": [
        "likelihoodRatioTest(LL5, nparam5,'MNL5', LL8, nparam8,'MNL8', prob = 0.99)"
      ],
      "execution_count": 25,
      "outputs": [
        {
          "output_type": "stream",
          "text": [
            "LR = 587.63, Chi2 = 20.09 (8 defrees of freedom) \n",
            "Therefore: Accept more params\n"
          ],
          "name": "stdout"
        }
      ]
    },
    {
      "cell_type": "code",
      "metadata": {
        "id": "8_Mv3CRbctJr",
        "colab_type": "code",
        "colab": {}
      },
      "source": [
        "%%capture\n",
        "## Model 9\n",
        "#Alternative specific age (TRAIN = SM)\n",
        "model_name = \"MNL9\"\n",
        "\n",
        "#Utility functions\n",
        "V1 = ASC_TRAIN                         + \\\n",
        "     B_COST        * TRAIN_COST_SCALED + \\\n",
        "     B_TIME_TRAIN  * TRAIN_TT_SCALED   + \\\n",
        "     B_HE          * TRAIN_HE_SCALED   + \\\n",
        "     B_AGE_2_PUB   * AGE_2             + \\\n",
        "     B_AGE_3_PUB   * AGE_3             + \\\n",
        "     B_AGE_4_PUB   * AGE_4             + \\\n",
        "     B_AGE_5_PUB   * AGE_5             \n",
        "\n",
        "V2 = ASC_SM                       + \\\n",
        "     B_COST      * SM_COST_SCALED + \\\n",
        "     B_TIME_SM   * SM_TT_SCALED   + \\\n",
        "     B_HE        * SM_HE_SCALED   + \\\n",
        "     B_AGE_2_PUB * AGE_2          + \\\n",
        "     B_AGE_3_PUB * AGE_3          + \\\n",
        "     B_AGE_4_PUB * AGE_4          + \\\n",
        "     B_AGE_5_PUB * AGE_5     \n",
        "\n",
        "V3 = ASC_CAR                      + \\\n",
        "     B_COST     * CAR_COST_SCALED + \\\n",
        "     B_TIME_CAR * CAR_TT_SCALED   \n",
        "\n",
        "#Run MNL\n",
        "LL9, nparam9, estimate_names9, estimate_values9 = estimate_MNL(V1, V2, V3, model_name)"
      ],
      "execution_count": 0,
      "outputs": []
    },
    {
      "cell_type": "code",
      "metadata": {
        "id": "1bvod2VkctJt",
        "colab_type": "code",
        "outputId": "9231292a-df8a-49a5-fdba-ffb336b466cd",
        "colab": {
          "base_uri": "https://localhost:8080/",
          "height": 51
        }
      },
      "source": [
        "likelihoodRatioTest(LL8, nparam8,'MNL8', LL9, nparam9,'MNL9', prob = 0.99)"
      ],
      "execution_count": 27,
      "outputs": [
        {
          "output_type": "stream",
          "text": [
            "LR = 514.26, Chi2 = 13.28 (4 defrees of freedom) \n",
            "Therefore: Accept more params\n"
          ],
          "name": "stdout"
        }
      ]
    },
    {
      "cell_type": "code",
      "metadata": {
        "id": "DiWjKA0PctJw",
        "colab_type": "code",
        "colab": {}
      },
      "source": [
        "%%capture\n",
        "## Model 10\n",
        "#Condense age groups\n",
        "model_name = \"MNL10\"\n",
        "\n",
        "#Utility functions\n",
        "V1 = ASC_TRAIN                         + \\\n",
        "     B_COST        * TRAIN_COST_SCALED + \\\n",
        "     B_TIME_TRAIN  * TRAIN_TT_SCALED   + \\\n",
        "     B_HE          * TRAIN_HE_SCALED   + \\\n",
        "     B_AGE_ADULTS_TRAIN * AGE_2             + \\\n",
        "     B_AGE_ADULTS_TRAIN * AGE_3             + \\\n",
        "     B_AGE_ADULTS_TRAIN * AGE_4             + \\\n",
        "     B_AGE_5_TRAIN * AGE_5             \n",
        "\n",
        "V2 = ASC_SM                      + \\\n",
        "     B_COST     * SM_COST_SCALED + \\\n",
        "     B_TIME_SM  * SM_TT_SCALED   + \\\n",
        "     B_HE       * SM_HE_SCALED   + \\\n",
        "     B_AGE_ADULTS_SM * AGE_2          + \\\n",
        "     B_AGE_ADULTS_SM * AGE_3          + \\\n",
        "     B_AGE_ADULTS_SM * AGE_4          + \\\n",
        "     B_AGE_5_SM * AGE_5     \n",
        "\n",
        "V3 = ASC_CAR                      + \\\n",
        "     B_COST     * CAR_COST_SCALED + \\\n",
        "     B_TIME_CAR * CAR_TT_SCALED   \n",
        "\n",
        "#Run MNL\n",
        "LL10, nparam10, estimate_names10, estimate_values10 = estimate_MNL(V1, V2, V3, model_name)"
      ],
      "execution_count": 0,
      "outputs": []
    },
    {
      "cell_type": "code",
      "metadata": {
        "id": "13v3br6NctJ0",
        "colab_type": "code",
        "outputId": "f532693c-ebeb-4ede-da7f-e10805f10d2d",
        "colab": {
          "base_uri": "https://localhost:8080/",
          "height": 51
        }
      },
      "source": [
        "likelihoodRatioTest(LL8, nparam8,'MNL8', LL10, nparam10,'MNL10', prob = 0.99)"
      ],
      "execution_count": 29,
      "outputs": [
        {
          "output_type": "stream",
          "text": [
            "LR = 48.81, Chi2 = 13.28 (4 defrees of freedom) \n",
            "Therefore: Accept more params\n"
          ],
          "name": "stdout"
        }
      ]
    },
    {
      "cell_type": "code",
      "metadata": {
        "id": "TZ6136znctJ3",
        "colab_type": "code",
        "colab": {}
      },
      "source": [
        "%%capture\n",
        "## Model 11\n",
        "#Condense agegroups\n",
        "model_name = \"MNL11\"\n",
        "\n",
        "#Utility functions\n",
        "V1 = ASC_TRAIN                         + \\\n",
        "     B_COST        * TRAIN_COST_SCALED + \\\n",
        "     B_TIME_TRAIN  * TRAIN_TT_SCALED   + \\\n",
        "     B_HE          * TRAIN_HE_SCALED   + \\\n",
        "     B_AGE_2_TRAIN * AGE_2             + \\\n",
        "     B_AGE_3_TRAIN * AGE_3             + \\\n",
        "     B_AGE_4_TRAIN * AGE_4             + \\\n",
        "     B_AGE_5_TRAIN * AGE_5             \n",
        "\n",
        "V2 = ASC_SM                      + \\\n",
        "     B_COST     * SM_COST_SCALED + \\\n",
        "     B_TIME_SM  * SM_TT_SCALED   + \\\n",
        "     B_HE       * SM_HE_SCALED   + \\\n",
        "     B_AGE_ADULTS_SM * AGE_2          + \\\n",
        "     B_AGE_ADULTS_SM * AGE_3          + \\\n",
        "     B_AGE_4_SM * AGE_4          + \\\n",
        "     B_AGE_5_SM * AGE_5     \n",
        "\n",
        "V3 = ASC_CAR                      + \\\n",
        "     B_COST     * CAR_COST_SCALED + \\\n",
        "     B_TIME_CAR * CAR_TT_SCALED   \n",
        "\n",
        "#Run MNL\n",
        "LL11, nparam11, estimate_names11, estimate_values11 = estimate_MNL(V1, V2, V3, model_name)"
      ],
      "execution_count": 0,
      "outputs": []
    },
    {
      "cell_type": "code",
      "metadata": {
        "id": "3LhEf1BLctJ6",
        "colab_type": "code",
        "outputId": "4638639e-3ba4-4c14-f5f1-a9482071e16e",
        "colab": {
          "base_uri": "https://localhost:8080/",
          "height": 51
        }
      },
      "source": [
        "likelihoodRatioTest(LL8, nparam8,'MNL8', LL11, nparam11,'MNL11', prob = 0.99)"
      ],
      "execution_count": 31,
      "outputs": [
        {
          "output_type": "stream",
          "text": [
            "LR = 1.47, Chi2 = 6.63 (1 defrees of freedom) \n",
            "Therefore: Do not accept more params\n"
          ],
          "name": "stdout"
        }
      ]
    },
    {
      "cell_type": "code",
      "metadata": {
        "id": "LLk7c7W0ctJ8",
        "colab_type": "code",
        "colab": {}
      },
      "source": [
        "%%capture\n",
        "## Model 12\n",
        "#Condense agegroups\n",
        "model_name = \"MNL12\"\n",
        "\n",
        "#Utility functions\n",
        "V1 = ASC_TRAIN                              + \\\n",
        "     B_COST             * TRAIN_COST_SCALED + \\\n",
        "     B_TIME_TRAIN       * TRAIN_TT_SCALED   + \\\n",
        "     B_HE               * TRAIN_HE_SCALED   + \\\n",
        "     B_AGE_ADULTS_TRAIN * AGE_2             + \\\n",
        "     B_AGE_3_TRAIN      * AGE_3             + \\\n",
        "     B_AGE_ADULTS_TRAIN * AGE_4             + \\\n",
        "     B_AGE_5_TRAIN      * AGE_5             \n",
        "\n",
        "V2 = ASC_SM                           + \\\n",
        "     B_COST          * SM_COST_SCALED + \\\n",
        "     B_TIME_SM       * SM_TT_SCALED   + \\\n",
        "     B_HE            * SM_HE_SCALED   + \\\n",
        "     B_AGE_ADULTS_SM * AGE_2          + \\\n",
        "     B_AGE_ADULTS_SM * AGE_3          + \\\n",
        "     B_AGE_4_SM      * AGE_4          + \\\n",
        "     B_AGE_5_SM      * AGE_5     \n",
        "\n",
        "V3 = ASC_CAR                      + \\\n",
        "     B_COST     * CAR_COST_SCALED + \\\n",
        "     B_TIME_CAR * CAR_TT_SCALED   \n",
        "\n",
        "#Run MNL\n",
        "LL12, nparam12, estimate_names12, estimate_values12 = estimate_MNL(V1, V2, V3, model_name)"
      ],
      "execution_count": 0,
      "outputs": []
    },
    {
      "cell_type": "code",
      "metadata": {
        "id": "HsfTGMPCctJ_",
        "colab_type": "code",
        "outputId": "d703d840-b589-4a35-e987-406498efad0c",
        "colab": {
          "base_uri": "https://localhost:8080/",
          "height": 51
        }
      },
      "source": [
        "likelihoodRatioTest(LL11, nparam11,'MNL11', LL12, nparam12,'MNL12', prob = 0.99)"
      ],
      "execution_count": 33,
      "outputs": [
        {
          "output_type": "stream",
          "text": [
            "LR = 0.02, Chi2 = 6.63 (1 defrees of freedom) \n",
            "Therefore: Do not accept more params\n"
          ],
          "name": "stdout"
        }
      ]
    },
    {
      "cell_type": "code",
      "metadata": {
        "id": "T0DH_fqfctKC",
        "colab_type": "code",
        "colab": {}
      },
      "source": [
        "%%capture\n",
        "## Model 13\n",
        "#Alternative specific luggage\n",
        "model_name = \"MNL13\"\n",
        "\n",
        "#Utility functions\n",
        "V1 = ASC_TRAIN                              + \\\n",
        "     B_COST             * TRAIN_COST_SCALED + \\\n",
        "     B_TIME_TRAIN       * TRAIN_TT_SCALED   + \\\n",
        "     B_HE               * TRAIN_HE_SCALED   + \\\n",
        "     B_AGE_ADULTS_TRAIN * AGE_2             + \\\n",
        "     B_AGE_3_TRAIN      * AGE_3             + \\\n",
        "     B_AGE_ADULTS_TRAIN * AGE_4             + \\\n",
        "     B_AGE_5_TRAIN      * AGE_5             + \\\n",
        "     B_LUGGAGE_TRAIN    * LUGGAGE\n",
        "\n",
        "V2 = ASC_SM                           + \\\n",
        "     B_COST          * SM_COST_SCALED + \\\n",
        "     B_TIME_SM       * SM_TT_SCALED   + \\\n",
        "     B_HE            * SM_HE_SCALED   + \\\n",
        "     B_AGE_ADULTS_SM * AGE_2          + \\\n",
        "     B_AGE_ADULTS_SM * AGE_3          + \\\n",
        "     B_AGE_4_SM      * AGE_4          + \\\n",
        "     B_AGE_5_SM      * AGE_5          + \\\n",
        "     B_LUGGAGE_SM    * LUGGAGE\n",
        "\n",
        "V3 = ASC_CAR                      + \\\n",
        "     B_COST     * CAR_COST_SCALED + \\\n",
        "     B_TIME_CAR * CAR_TT_SCALED   \n",
        "\n",
        "#Run MNL\n",
        "LL13, nparam13, estimate_names13, estimate_values13 = estimate_MNL(V1, V2, V3, model_name)"
      ],
      "execution_count": 0,
      "outputs": []
    },
    {
      "cell_type": "code",
      "metadata": {
        "id": "i2YWp_W-ctKF",
        "colab_type": "code",
        "outputId": "d7de4447-10b6-49b4-d3b3-d2de19e418e3",
        "colab": {
          "base_uri": "https://localhost:8080/",
          "height": 51
        }
      },
      "source": [
        "likelihoodRatioTest(LL12, nparam12,'MNL12', LL13, nparam13,'MNL13', prob = 0.99)"
      ],
      "execution_count": 35,
      "outputs": [
        {
          "output_type": "stream",
          "text": [
            "LR = 78.68, Chi2 = 9.21 (2 defrees of freedom) \n",
            "Therefore: Accept more params\n"
          ],
          "name": "stdout"
        }
      ]
    },
    {
      "cell_type": "code",
      "metadata": {
        "id": "60a4a1eFctKI",
        "colab_type": "code",
        "colab": {}
      },
      "source": [
        "%%capture\n",
        "## Model 14\n",
        "#Alternative specific luggage (TRAIN = SM)\n",
        "model_name = \"MNL14\"\n",
        "\n",
        "#Utility functions\n",
        "V1 = ASC_TRAIN                         + \\\n",
        "     B_COST        * TRAIN_COST_SCALED + \\\n",
        "     B_TIME_TRAIN  * TRAIN_TT_SCALED   + \\\n",
        "     B_HE          * TRAIN_HE_SCALED   + \\\n",
        "     B_AGE_ADULTS_TRAIN * AGE_2             + \\\n",
        "     B_AGE_3_TRAIN * AGE_3             + \\\n",
        "     B_AGE_ADULTS_TRAIN * AGE_4             + \\\n",
        "     B_AGE_5_TRAIN * AGE_5             + \\\n",
        "     B_LUGGAGE_PUB * LUGGAGE\n",
        "\n",
        "V2 = ASC_SM                      + \\\n",
        "     B_COST     * SM_COST_SCALED + \\\n",
        "     B_TIME_SM  * SM_TT_SCALED   + \\\n",
        "     B_HE       * SM_HE_SCALED   + \\\n",
        "     B_AGE_ADULTS_SM * AGE_2          + \\\n",
        "     B_AGE_ADULTS_SM * AGE_3          + \\\n",
        "     B_AGE_4_SM * AGE_4          + \\\n",
        "     B_AGE_5_SM * AGE_5     + \\\n",
        "     B_LUGGAGE_PUB * LUGGAGE\n",
        "\n",
        "V3 = ASC_CAR                      + \\\n",
        "     B_COST     * CAR_COST_SCALED + \\\n",
        "     B_TIME_CAR * CAR_TT_SCALED   \n",
        "\n",
        "#Run MNL\n",
        "LL14, nparam14, estimate_names14, estimate_values14 = estimate_MNL(V1, V2, V3, model_name)"
      ],
      "execution_count": 0,
      "outputs": []
    },
    {
      "cell_type": "code",
      "metadata": {
        "id": "ztwFkFLsctKK",
        "colab_type": "code",
        "outputId": "7abed4ce-d852-4da4-ea2d-eef13b221a9c",
        "colab": {
          "base_uri": "https://localhost:8080/",
          "height": 51
        }
      },
      "source": [
        "likelihoodRatioTest(LL13, nparam13,'MNL13', LL14, nparam14,'MNL14', prob = 0.99)"
      ],
      "execution_count": 37,
      "outputs": [
        {
          "output_type": "stream",
          "text": [
            "LR = 59.50, Chi2 = 6.63 (1 defrees of freedom) \n",
            "Therefore: Accept more params\n"
          ],
          "name": "stdout"
        }
      ]
    },
    {
      "cell_type": "code",
      "metadata": {
        "id": "KOR1if1wctKN",
        "colab_type": "code",
        "colab": {}
      },
      "source": [
        "%%capture\n",
        "## Model 15\n",
        "#Remove alternative specific luggage from SM\n",
        "model_name = \"MNL15\"\n",
        "\n",
        "#Utility functions\n",
        "V1 = ASC_TRAIN                              + \\\n",
        "     B_COST             * TRAIN_COST_SCALED + \\\n",
        "     B_TIME_TRAIN       * TRAIN_TT_SCALED   + \\\n",
        "     B_HE               * TRAIN_HE_SCALED   + \\\n",
        "     B_AGE_ADULTS_TRAIN * AGE_2             + \\\n",
        "     B_AGE_3_TRAIN      * AGE_3             + \\\n",
        "     B_AGE_ADULTS_TRAIN * AGE_4             + \\\n",
        "     B_AGE_5_TRAIN      * AGE_5             + \\\n",
        "     B_LUGGAGE_TRAIN    * LUGGAGE\n",
        "\n",
        "V2 = ASC_SM                           + \\\n",
        "     B_COST          * SM_COST_SCALED + \\\n",
        "     B_TIME_SM       * SM_TT_SCALED   + \\\n",
        "     B_HE            * SM_HE_SCALED   + \\\n",
        "     B_AGE_ADULTS_SM * AGE_2          + \\\n",
        "     B_AGE_ADULTS_SM * AGE_3          + \\\n",
        "     B_AGE_4_SM      * AGE_4          + \\\n",
        "     B_AGE_5_SM      * AGE_5        \n",
        "\n",
        "V3 = ASC_CAR                      + \\\n",
        "     B_COST     * CAR_COST_SCALED + \\\n",
        "     B_TIME_CAR * CAR_TT_SCALED   \n",
        "\n",
        "#Run MNL\n",
        "LL15, nparam15, estimate_names15, estimate_values15 = estimate_MNL(V1, V2, V3, model_name)"
      ],
      "execution_count": 0,
      "outputs": []
    },
    {
      "cell_type": "code",
      "metadata": {
        "id": "3kX-YhL4ctKP",
        "colab_type": "code",
        "outputId": "d977ae11-a71d-43d7-ddeb-017fca946d23",
        "colab": {
          "base_uri": "https://localhost:8080/",
          "height": 51
        }
      },
      "source": [
        "likelihoodRatioTest(LL13, nparam13,'MNL13', LL15, nparam15,'MNL15', prob = 0.99)"
      ],
      "execution_count": 39,
      "outputs": [
        {
          "output_type": "stream",
          "text": [
            "LR = 7.26, Chi2 = 6.63 (1 defrees of freedom) \n",
            "Therefore: Accept more params\n"
          ],
          "name": "stdout"
        }
      ]
    },
    {
      "cell_type": "code",
      "metadata": {
        "id": "z9WDFoQdctKS",
        "colab_type": "code",
        "colab": {}
      },
      "source": [
        "%%capture\n",
        "## Model 16\n",
        "#SM_SEATS\n",
        "model_name = \"MNL16\"\n",
        "\n",
        "#Utility functions\n",
        "V1 = ASC_TRAIN                              + \\\n",
        "     B_COST             * TRAIN_COST_SCALED + \\\n",
        "     B_TIME_TRAIN       * TRAIN_TT_SCALED   + \\\n",
        "     B_HE               * TRAIN_HE_SCALED   + \\\n",
        "     B_AGE_ADULTS_TRAIN * AGE_2             + \\\n",
        "     B_AGE_3_TRAIN      * AGE_3             + \\\n",
        "     B_AGE_ADULTS_TRAIN * AGE_4             + \\\n",
        "     B_AGE_5_TRAIN      * AGE_5             + \\\n",
        "     B_LUGGAGE_TRAIN    * LUGGAGE\n",
        "\n",
        "V2 = ASC_SM                           + \\\n",
        "     B_COST          * SM_COST_SCALED + \\\n",
        "     B_TIME_SM       * SM_TT_SCALED   + \\\n",
        "     B_HE            * SM_HE_SCALED   + \\\n",
        "     B_AGE_ADULTS_SM * AGE_2          + \\\n",
        "     B_AGE_ADULTS_SM * AGE_3          + \\\n",
        "     B_AGE_4_SM      * AGE_4          + \\\n",
        "     B_AGE_5_SM      * AGE_5          + \\\n",
        "     B_LUGGAGE_SM    * LUGGAGE        + \\\n",
        "     B_SEATS         * SM_SEATS\n",
        "\n",
        "V3 = ASC_CAR                      + \\\n",
        "     B_COST     * CAR_COST_SCALED + \\\n",
        "     B_TIME_CAR * CAR_TT_SCALED   \n",
        "\n",
        "#Run MNL\n",
        "LL16, nparam16, estimate_names16, estimate_values16 = estimate_MNL(V1, V2, V3, model_name)"
      ],
      "execution_count": 0,
      "outputs": []
    },
    {
      "cell_type": "code",
      "metadata": {
        "id": "WuRFJw6octKX",
        "colab_type": "code",
        "outputId": "bafee68a-9b2f-4c56-873d-637742b1f15f",
        "colab": {
          "base_uri": "https://localhost:8080/",
          "height": 51
        }
      },
      "source": [
        "likelihoodRatioTest(LL13, nparam13,'MNL13', LL16, nparam16,'MNL16', prob = 0.99)"
      ],
      "execution_count": 41,
      "outputs": [
        {
          "output_type": "stream",
          "text": [
            "LR = 4.56, Chi2 = 6.63 (1 defrees of freedom) \n",
            "Therefore: Do not accept more params\n"
          ],
          "name": "stdout"
        }
      ]
    },
    {
      "cell_type": "code",
      "metadata": {
        "id": "7ZlsdXq1ctKZ",
        "colab_type": "code",
        "colab": {}
      },
      "source": [
        "%%capture\n",
        "## Model 17\n",
        "#Alternative specific gender\n",
        "model_name = \"MNL17\"\n",
        "\n",
        "#Utility functions\n",
        "V1 = ASC_TRAIN                              + \\\n",
        "     B_COST             * TRAIN_COST_SCALED + \\\n",
        "     B_TIME_TRAIN       * TRAIN_TT_SCALED   + \\\n",
        "     B_HE               * TRAIN_HE_SCALED   + \\\n",
        "     B_AGE_ADULTS_TRAIN * AGE_2             + \\\n",
        "     B_AGE_3_TRAIN      * AGE_3             + \\\n",
        "     B_AGE_ADULTS_TRAIN * AGE_4             + \\\n",
        "     B_AGE_5_TRAIN      * AGE_5             + \\\n",
        "     B_LUGGAGE_TRAIN    * LUGGAGE           + \\\n",
        "     B_MALE_TRAIN       * MALE\n",
        "\n",
        "V2 = ASC_SM                           + \\\n",
        "     B_COST          * SM_COST_SCALED + \\\n",
        "     B_TIME_SM       * SM_TT_SCALED   + \\\n",
        "     B_HE            * SM_HE_SCALED   + \\\n",
        "     B_AGE_ADULTS_SM * AGE_2          + \\\n",
        "     B_AGE_ADULTS_SM * AGE_3          + \\\n",
        "     B_AGE_4_SM      * AGE_4          + \\\n",
        "     B_AGE_5_SM      * AGE_5          + \\\n",
        "     B_LUGGAGE_SM    * LUGGAGE        + \\\n",
        "     B_MALE_SM       * MALE\n",
        "\n",
        "V3 = ASC_CAR                      + \\\n",
        "     B_COST     * CAR_COST_SCALED + \\\n",
        "     B_TIME_CAR * CAR_TT_SCALED   \n",
        "\n",
        "#Run MNL\n",
        "LL17, nparam17, estimate_names17, estimate_values17 = estimate_MNL(V1, V2, V3, model_name)"
      ],
      "execution_count": 0,
      "outputs": []
    },
    {
      "cell_type": "code",
      "metadata": {
        "id": "0SG9wjAmctKc",
        "colab_type": "code",
        "outputId": "a72109f0-60f4-43ea-9d7c-0ef22b607dae",
        "colab": {
          "base_uri": "https://localhost:8080/",
          "height": 51
        }
      },
      "source": [
        "likelihoodRatioTest(LL13, nparam13,'MNL13', LL17, nparam17,'MNL17', prob = 0.99)"
      ],
      "execution_count": 43,
      "outputs": [
        {
          "output_type": "stream",
          "text": [
            "LR = 109.60, Chi2 = 9.21 (2 defrees of freedom) \n",
            "Therefore: Accept more params\n"
          ],
          "name": "stdout"
        }
      ]
    },
    {
      "cell_type": "code",
      "metadata": {
        "id": "DAT80J7UctKf",
        "colab_type": "code",
        "colab": {}
      },
      "source": [
        "%%capture\n",
        "## Model 18\n",
        "#Alternative specific gender (TRAIN = SM)\n",
        "model_name = \"MNL18\"\n",
        "\n",
        "#Utility functions\n",
        "V1 = ASC_TRAIN                              + \\\n",
        "     B_COST             * TRAIN_COST_SCALED + \\\n",
        "     B_TIME_TRAIN       * TRAIN_TT_SCALED   + \\\n",
        "     B_HE               * TRAIN_HE_SCALED   + \\\n",
        "     B_AGE_ADULTS_TRAIN * AGE_2             + \\\n",
        "     B_AGE_3_TRAIN      * AGE_3             + \\\n",
        "     B_AGE_ADULTS_TRAIN * AGE_4             + \\\n",
        "     B_AGE_5_TRAIN      * AGE_5             + \\\n",
        "     B_LUGGAGE_TRAIN    * LUGGAGE           + \\\n",
        "     B_MALE_PUB       * MALE\n",
        "\n",
        "V2 = ASC_SM                           + \\\n",
        "     B_COST          * SM_COST_SCALED + \\\n",
        "     B_TIME_SM       * SM_TT_SCALED   + \\\n",
        "     B_HE            * SM_HE_SCALED   + \\\n",
        "     B_AGE_ADULTS_SM * AGE_2          + \\\n",
        "     B_AGE_ADULTS_SM * AGE_3          + \\\n",
        "     B_AGE_4_SM      * AGE_4          + \\\n",
        "     B_AGE_5_SM      * AGE_5          + \\\n",
        "     B_LUGGAGE_SM    * LUGGAGE        + \\\n",
        "     B_MALE_PUB       * MALE\n",
        "\n",
        "V3 = ASC_CAR                      + \\\n",
        "     B_COST     * CAR_COST_SCALED + \\\n",
        "     B_TIME_CAR * CAR_TT_SCALED   \n",
        "\n",
        "#Run MNL\n",
        "LL18, nparam18, estimate_names18, estimate_values18 = estimate_MNL(V1, V2, V3, model_name)"
      ],
      "execution_count": 0,
      "outputs": []
    },
    {
      "cell_type": "code",
      "metadata": {
        "id": "rRZNuycYctKh",
        "colab_type": "code",
        "outputId": "6e10fd4e-e255-4bbb-fdfc-89dc08ad0340",
        "colab": {
          "base_uri": "https://localhost:8080/",
          "height": 51
        }
      },
      "source": [
        "likelihoodRatioTest(LL17, nparam17,'MNL17', LL18, nparam18,'MNL18', prob = 0.99)"
      ],
      "execution_count": 45,
      "outputs": [
        {
          "output_type": "stream",
          "text": [
            "LR = 90.32, Chi2 = 6.63 (1 defrees of freedom) \n",
            "Therefore: Accept more params\n"
          ],
          "name": "stdout"
        }
      ]
    },
    {
      "cell_type": "code",
      "metadata": {
        "id": "n6hsmrPUctKk",
        "colab_type": "code",
        "colab": {}
      },
      "source": [
        "%%capture\n",
        "## Model 19\n",
        "#Remove alternative specific gender from SM\n",
        "model_name = \"MNL19\"\n",
        "\n",
        "#Utility functions\n",
        "V1 = ASC_TRAIN                              + \\\n",
        "     B_COST             * TRAIN_COST_SCALED + \\\n",
        "     B_TIME_TRAIN       * TRAIN_TT_SCALED   + \\\n",
        "     B_HE               * TRAIN_HE_SCALED   + \\\n",
        "     B_AGE_ADULTS_TRAIN * AGE_2             + \\\n",
        "     B_AGE_3_TRAIN      * AGE_3             + \\\n",
        "     B_AGE_ADULTS_TRAIN * AGE_4             + \\\n",
        "     B_AGE_5_TRAIN      * AGE_5             + \\\n",
        "     B_LUGGAGE_TRAIN    * LUGGAGE           + \\\n",
        "     B_MALE_TRAIN       * MALE\n",
        "\n",
        "V2 = ASC_SM                           + \\\n",
        "     B_COST          * SM_COST_SCALED + \\\n",
        "     B_TIME_SM       * SM_TT_SCALED   + \\\n",
        "     B_HE            * SM_HE_SCALED   + \\\n",
        "     B_AGE_ADULTS_SM * AGE_2          + \\\n",
        "     B_AGE_ADULTS_SM * AGE_3          + \\\n",
        "     B_AGE_4_SM      * AGE_4          + \\\n",
        "     B_AGE_5_SM      * AGE_5          + \\\n",
        "     B_LUGGAGE_SM    * LUGGAGE       \n",
        "\n",
        "V3 = ASC_CAR                      + \\\n",
        "     B_COST     * CAR_COST_SCALED + \\\n",
        "     B_TIME_CAR * CAR_TT_SCALED   \n",
        "\n",
        "#Run MNL\n",
        "LL19, nparam19, estimate_names19, estimate_values19 = estimate_MNL(V1, V2, V3, model_name)"
      ],
      "execution_count": 0,
      "outputs": []
    },
    {
      "cell_type": "code",
      "metadata": {
        "id": "dMGiVDeqctKn",
        "colab_type": "code",
        "outputId": "c448a4bd-d5f9-4c03-d317-00be61ab5702",
        "colab": {
          "base_uri": "https://localhost:8080/",
          "height": 51
        }
      },
      "source": [
        "likelihoodRatioTest(LL17, nparam17,'MNL17', LL19, nparam19,'MNL19', prob = 0.99)"
      ],
      "execution_count": 47,
      "outputs": [
        {
          "output_type": "stream",
          "text": [
            "LR = 5.28, Chi2 = 6.63 (1 defrees of freedom) \n",
            "Therefore: Do not accept more params\n"
          ],
          "name": "stdout"
        }
      ]
    },
    {
      "cell_type": "code",
      "metadata": {
        "id": "DjcAvGqSctKv",
        "colab_type": "code",
        "colab": {}
      },
      "source": [
        "%%capture\n",
        "## Model 20\n",
        "#Alternative specific time (TRAIN = SM)\n",
        "model_name = \"MNL20\"\n",
        "\n",
        "#Utility functions\n",
        "V1 = ASC_TRAIN                              + \\\n",
        "     B_COST             * TRAIN_COST_SCALED + \\\n",
        "     B_TIME_PUB         * TRAIN_TT_SCALED   + \\\n",
        "     B_HE               * TRAIN_HE_SCALED   + \\\n",
        "     B_AGE_ADULTS_TRAIN * AGE_2             + \\\n",
        "     B_AGE_3_TRAIN      * AGE_3             + \\\n",
        "     B_AGE_ADULTS_TRAIN * AGE_4             + \\\n",
        "     B_AGE_5_TRAIN      * AGE_5             + \\\n",
        "     B_LUGGAGE_TRAIN    * LUGGAGE           + \\\n",
        "     B_MALE_TRAIN       * MALE\n",
        "\n",
        "V2 = ASC_SM                           + \\\n",
        "     B_COST          * SM_COST_SCALED + \\\n",
        "     B_TIME_PUB       * SM_TT_SCALED  + \\\n",
        "     B_HE            * SM_HE_SCALED   + \\\n",
        "     B_AGE_ADULTS_SM * AGE_2          + \\\n",
        "     B_AGE_ADULTS_SM * AGE_3          + \\\n",
        "     B_AGE_4_SM      * AGE_4          + \\\n",
        "     B_AGE_5_SM      * AGE_5          + \\\n",
        "     B_LUGGAGE_SM    * LUGGAGE       \n",
        "\n",
        "V3 = ASC_CAR                      + \\\n",
        "     B_COST     * CAR_COST_SCALED + \\\n",
        "     B_TIME_CAR * CAR_TT_SCALED   \n",
        "\n",
        "#Run MNL\n",
        "LL20, nparam20, estimate_names20, estimate_values20 = estimate_MNL(V1, V2, V3, model_name)"
      ],
      "execution_count": 0,
      "outputs": []
    },
    {
      "cell_type": "code",
      "metadata": {
        "id": "vO3Lnd3IctK2",
        "colab_type": "code",
        "outputId": "909ed97f-e7d0-49bb-a41c-29e201b1cace",
        "colab": {
          "base_uri": "https://localhost:8080/",
          "height": 51
        }
      },
      "source": [
        "likelihoodRatioTest(LL19, nparam19,'MNL19', LL20, nparam20,'MNL20', prob = 0.99)"
      ],
      "execution_count": 49,
      "outputs": [
        {
          "output_type": "stream",
          "text": [
            "LR = 8.61, Chi2 = 6.63 (1 defrees of freedom) \n",
            "Therefore: Accept more params\n"
          ],
          "name": "stdout"
        }
      ]
    },
    {
      "cell_type": "code",
      "metadata": {
        "id": "7vggrhKuctK4",
        "colab_type": "code",
        "colab": {}
      },
      "source": [
        "%%capture\n",
        "## Model 21\n",
        "#Alternative specific GA\n",
        "model_name = \"MNL21\"\n",
        "\n",
        "#Utility functions\n",
        "V1 = ASC_TRAIN                              + \\\n",
        "     B_COST             * TRAIN_COST_SCALED + \\\n",
        "     B_TIME_TRAIN       * TRAIN_TT_SCALED   + \\\n",
        "     B_HE               * TRAIN_HE_SCALED   + \\\n",
        "     B_AGE_ADULTS_TRAIN * AGE_2             + \\\n",
        "     B_AGE_3_TRAIN      * AGE_3             + \\\n",
        "     B_AGE_ADULTS_TRAIN * AGE_4             + \\\n",
        "     B_AGE_5_TRAIN      * AGE_5             + \\\n",
        "     B_LUGGAGE_TRAIN    * LUGGAGE           + \\\n",
        "     B_MALE_TRAIN       * MALE              + \\\n",
        "     B_GA_TRAIN         * GA\n",
        "\n",
        "V2 = ASC_SM                           + \\\n",
        "     B_COST          * SM_COST_SCALED + \\\n",
        "     B_TIME_SM       * SM_TT_SCALED   + \\\n",
        "     B_HE            * SM_HE_SCALED   + \\\n",
        "     B_AGE_ADULTS_SM * AGE_2          + \\\n",
        "     B_AGE_ADULTS_SM * AGE_3          + \\\n",
        "     B_AGE_4_SM      * AGE_4          + \\\n",
        "     B_AGE_5_SM      * AGE_5          + \\\n",
        "     B_LUGGAGE_SM    * LUGGAGE        + \\\n",
        "     B_GA_SM         * GA\n",
        "\n",
        "V3 = ASC_CAR                      + \\\n",
        "     B_COST     * CAR_COST_SCALED + \\\n",
        "     B_TIME_CAR * CAR_TT_SCALED   \n",
        "\n",
        "#Run MNL\n",
        "LL21, nparam21, estimate_names21, estimate_values21 = estimate_MNL(V1, V2, V3, model_name)"
      ],
      "execution_count": 0,
      "outputs": []
    },
    {
      "cell_type": "code",
      "metadata": {
        "id": "wZJslKqnctK6",
        "colab_type": "code",
        "outputId": "d0faf272-33a7-4c89-a61f-719447cd6954",
        "colab": {
          "base_uri": "https://localhost:8080/",
          "height": 51
        }
      },
      "source": [
        "likelihoodRatioTest(LL19, nparam19,'MNL19', LL21, nparam21,'MNL21', prob = 0.99)"
      ],
      "execution_count": 51,
      "outputs": [
        {
          "output_type": "stream",
          "text": [
            "LR = 429.97, Chi2 = 9.21 (2 defrees of freedom) \n",
            "Therefore: Accept more params\n"
          ],
          "name": "stdout"
        }
      ]
    },
    {
      "cell_type": "code",
      "metadata": {
        "id": "07_HuiM2ctK8",
        "colab_type": "code",
        "colab": {}
      },
      "source": [
        "%%capture\n",
        "## Model 22\n",
        "#Remove alternative specific gender from SM\n",
        "model_name = \"MNL22\"\n",
        "\n",
        "#Utility functions\n",
        "V1 = ASC_TRAIN                              + \\\n",
        "     B_COST             * TRAIN_COST_SCALED + \\\n",
        "     B_TIME_TRAIN       * TRAIN_TT_SCALED   + \\\n",
        "     B_HE               * TRAIN_HE_SCALED   + \\\n",
        "     B_AGE_ADULTS_TRAIN * AGE_2             + \\\n",
        "     B_AGE_3_TRAIN      * AGE_3             + \\\n",
        "     B_AGE_ADULTS_TRAIN * AGE_4             + \\\n",
        "     B_AGE_5_TRAIN      * AGE_5             + \\\n",
        "     B_LUGGAGE_TRAIN    * LUGGAGE           + \\\n",
        "     B_MALE_TRAIN       * MALE              + \\\n",
        "     B_GA               * GA\n",
        "\n",
        "V2 = ASC_SM                           + \\\n",
        "     B_COST          * SM_COST_SCALED + \\\n",
        "     B_TIME_SM       * SM_TT_SCALED   + \\\n",
        "     B_HE            * SM_HE_SCALED   + \\\n",
        "     B_AGE_ADULTS_SM * AGE_2          + \\\n",
        "     B_AGE_ADULTS_SM * AGE_3          + \\\n",
        "     B_AGE_4_SM      * AGE_4          + \\\n",
        "     B_AGE_5_SM      * AGE_5          + \\\n",
        "     B_LUGGAGE_SM    * LUGGAGE        + \\\n",
        "     B_GA            * GA\n",
        "\n",
        "V3 = ASC_CAR                      + \\\n",
        "     B_COST     * CAR_COST_SCALED + \\\n",
        "     B_TIME_CAR * CAR_TT_SCALED   \n",
        "\n",
        "#Run MNL\n",
        "LL22, nparam22, estimate_names22, estimate_values22 = estimate_MNL(V1, V2, V3, model_name)"
      ],
      "execution_count": 0,
      "outputs": []
    },
    {
      "cell_type": "code",
      "metadata": {
        "id": "xaLbpD1sctK-",
        "colab_type": "code",
        "outputId": "3c87f48d-679c-403a-ceb2-bb1a601af4b3",
        "colab": {
          "base_uri": "https://localhost:8080/",
          "height": 51
        }
      },
      "source": [
        "likelihoodRatioTest(LL21, nparam21,'MNL21', LL22, nparam22,'MNL22', prob = 0.99)"
      ],
      "execution_count": 53,
      "outputs": [
        {
          "output_type": "stream",
          "text": [
            "LR = 319.14, Chi2 = 6.63 (1 defrees of freedom) \n",
            "Therefore: Accept more params\n"
          ],
          "name": "stdout"
        }
      ]
    },
    {
      "cell_type": "code",
      "metadata": {
        "id": "TWWCMjknctLA",
        "colab_type": "code",
        "colab": {}
      },
      "source": [
        "%%capture\n",
        "## Model 23\n",
        "#Alternative specific FIRST\n",
        "model_name = \"MNL23\"\n",
        "\n",
        "#Utility functions\n",
        "V1 = ASC_TRAIN                              + \\\n",
        "     B_COST             * TRAIN_COST_SCALED + \\\n",
        "     B_TIME_TRAIN       * TRAIN_TT_SCALED   + \\\n",
        "     B_HE               * TRAIN_HE_SCALED   + \\\n",
        "     B_AGE_ADULTS_TRAIN * AGE_2             + \\\n",
        "     B_AGE_3_TRAIN      * AGE_3             + \\\n",
        "     B_AGE_ADULTS_TRAIN * AGE_4             + \\\n",
        "     B_AGE_5_TRAIN      * AGE_5             + \\\n",
        "     B_LUGGAGE_TRAIN    * LUGGAGE           + \\\n",
        "     B_MALE_TRAIN       * MALE              + \\\n",
        "     B_GA_TRAIN         * GA                + \\\n",
        "     B_FIRST_TRAIN      * FIRST   \n",
        "\n",
        "V2 = ASC_SM                           + \\\n",
        "     B_COST          * SM_COST_SCALED + \\\n",
        "     B_TIME_SM       * SM_TT_SCALED   + \\\n",
        "     B_HE            * SM_HE_SCALED   + \\\n",
        "     B_AGE_ADULTS_SM * AGE_2          + \\\n",
        "     B_AGE_ADULTS_SM * AGE_3          + \\\n",
        "     B_AGE_4_SM      * AGE_4          + \\\n",
        "     B_AGE_5_SM      * AGE_5          + \\\n",
        "     B_LUGGAGE_SM    * LUGGAGE        + \\\n",
        "     B_FIRST_SM      * FIRST\n",
        "\n",
        "V3 = ASC_CAR                      + \\\n",
        "     B_COST     * CAR_COST_SCALED + \\\n",
        "     B_TIME_CAR * CAR_TT_SCALED   \n",
        "\n",
        "#Run MNL\n",
        "LL23, nparam23, estimate_names23, estimate_values23 = estimate_MNL(V1, V2, V3, model_name)"
      ],
      "execution_count": 0,
      "outputs": []
    },
    {
      "cell_type": "code",
      "metadata": {
        "id": "oEBgFnF0ctLC",
        "colab_type": "code",
        "outputId": "eb84e8b5-2941-41a3-b319-6acaab10d0f1",
        "colab": {
          "base_uri": "https://localhost:8080/",
          "height": 51
        }
      },
      "source": [
        "likelihoodRatioTest(LL21, nparam21,'MNL21', LL23, nparam23,'MNL23', prob = 0.99)"
      ],
      "execution_count": 55,
      "outputs": [
        {
          "output_type": "stream",
          "text": [
            "LR = 23.74, Chi2 = 6.63 (1 defrees of freedom) \n",
            "Therefore: Accept more params\n"
          ],
          "name": "stdout"
        }
      ]
    },
    {
      "cell_type": "code",
      "metadata": {
        "id": "l2CBTWNhctLG",
        "colab_type": "code",
        "colab": {}
      },
      "source": [
        "%%capture\n",
        "## Model 24\n",
        "#Alternative specific FIRST\n",
        "model_name = \"MNL24\"\n",
        "\n",
        "#Utility functions\n",
        "V1 = ASC_TRAIN                              + \\\n",
        "     B_COST             * TRAIN_COST_SCALED + \\\n",
        "     B_TIME_TRAIN       * TRAIN_TT_SCALED   + \\\n",
        "     B_HE               * TRAIN_HE_SCALED   + \\\n",
        "     B_AGE_ADULTS_TRAIN * AGE_2             + \\\n",
        "     B_AGE_3_TRAIN      * AGE_3             + \\\n",
        "     B_AGE_ADULTS_TRAIN * AGE_4             + \\\n",
        "     B_AGE_5_TRAIN      * AGE_5             + \\\n",
        "     B_LUGGAGE_TRAIN    * LUGGAGE           + \\\n",
        "     B_MALE_TRAIN       * MALE              + \\\n",
        "     B_GA_TRAIN         * GA                + \\\n",
        "     B_FIRST            * FIRST   \n",
        "\n",
        "V2 = ASC_SM                           + \\\n",
        "     B_COST          * SM_COST_SCALED + \\\n",
        "     B_TIME_SM       * SM_TT_SCALED   + \\\n",
        "     B_HE            * SM_HE_SCALED   + \\\n",
        "     B_AGE_ADULTS_SM * AGE_2          + \\\n",
        "     B_AGE_ADULTS_SM * AGE_3          + \\\n",
        "     B_AGE_4_SM      * AGE_4          + \\\n",
        "     B_AGE_5_SM      * AGE_5          + \\\n",
        "     B_LUGGAGE_SM    * LUGGAGE        + \\\n",
        "     B_FIRST         * FIRST\n",
        "\n",
        "V3 = ASC_CAR                      + \\\n",
        "     B_COST     * CAR_COST_SCALED + \\\n",
        "     B_TIME_CAR * CAR_TT_SCALED   \n",
        "\n",
        "#Run MNL\n",
        "LL24, nparam24, estimate_names24, estimate_values24 = estimate_MNL(V1, V2, V3, model_name)"
      ],
      "execution_count": 0,
      "outputs": []
    },
    {
      "cell_type": "code",
      "metadata": {
        "id": "JD36koPOctLL",
        "colab_type": "code",
        "outputId": "130c3eff-c882-4c79-e39d-df45c65b0925",
        "colab": {
          "base_uri": "https://localhost:8080/",
          "height": 51
        }
      },
      "source": [
        "likelihoodRatioTest(LL23, nparam23,'MNL23', LL24, nparam24,'MNL24', prob = 0.99)"
      ],
      "execution_count": 57,
      "outputs": [
        {
          "output_type": "stream",
          "text": [
            "LR = 12.92, Chi2 = 6.63 (1 defrees of freedom) \n",
            "Therefore: Accept more params\n"
          ],
          "name": "stdout"
        }
      ]
    },
    {
      "cell_type": "code",
      "metadata": {
        "id": "IGEDmn-2ctLO",
        "colab_type": "code",
        "colab": {}
      },
      "source": [
        "%%capture\n",
        "## Model 25\n",
        "#Alternative specific PURPOSE\n",
        "model_name = \"MNL25\"\n",
        "\n",
        "#Utility functions\n",
        "V1 = ASC_TRAIN                              + \\\n",
        "     B_COST             * TRAIN_COST_SCALED + \\\n",
        "     B_TIME_TRAIN       * TRAIN_TT_SCALED   + \\\n",
        "     B_HE               * TRAIN_HE_SCALED   + \\\n",
        "     B_AGE_ADULTS_TRAIN * AGE_2             + \\\n",
        "     B_AGE_3_TRAIN      * AGE_3             + \\\n",
        "     B_AGE_ADULTS_TRAIN * AGE_4             + \\\n",
        "     B_AGE_5_TRAIN      * AGE_5             + \\\n",
        "     B_LUGGAGE_TRAIN    * LUGGAGE           + \\\n",
        "     B_MALE_TRAIN       * MALE              + \\\n",
        "     B_GA_TRAIN         * GA                + \\\n",
        "     B_FIRST_TRAIN      * FIRST             + \\\n",
        "     B_BUSINESS_TRAIN   * BUSINESS          + \\\n",
        "     B_PRIVATE_TRAIN    * PRIVATE           + \\\n",
        "     B_COMMUTER_TRAIN   * COMMUTER    \n",
        "\n",
        "V2 = ASC_SM                           + \\\n",
        "     B_COST          * SM_COST_SCALED + \\\n",
        "     B_TIME_SM       * SM_TT_SCALED   + \\\n",
        "     B_HE            * SM_HE_SCALED   + \\\n",
        "     B_AGE_ADULTS_SM * AGE_2          + \\\n",
        "     B_AGE_ADULTS_SM * AGE_3          + \\\n",
        "     B_AGE_4_SM      * AGE_4          + \\\n",
        "     B_AGE_5_SM      * AGE_5          + \\\n",
        "     B_LUGGAGE_SM    * LUGGAGE        + \\\n",
        "     B_FIRST_SM      * FIRST          + \\\n",
        "     B_BUSINESS_SM   * BUSINESS       + \\\n",
        "     B_PRIVATE_SM    * PRIVATE        + \\\n",
        "     B_COMMUTER_SM   * COMMUTER     \n",
        "\n",
        "V3 = ASC_CAR                      + \\\n",
        "     B_COST     * CAR_COST_SCALED + \\\n",
        "     B_TIME_CAR * CAR_TT_SCALED   \n",
        "\n",
        "#Run MNL\n",
        "LL25, nparam25, estimate_names25, estimate_values25 = estimate_MNL(V1, V2, V3, model_name)"
      ],
      "execution_count": 0,
      "outputs": []
    },
    {
      "cell_type": "code",
      "metadata": {
        "id": "IusbS0eyctLS",
        "colab_type": "code",
        "outputId": "a806d3a3-1db7-4fe8-c483-112fdaa9010b",
        "colab": {
          "base_uri": "https://localhost:8080/",
          "height": 51
        }
      },
      "source": [
        "likelihoodRatioTest(LL23, nparam23,'MNL23', LL25, nparam25,'MNL25', prob = 0.99)"
      ],
      "execution_count": 59,
      "outputs": [
        {
          "output_type": "stream",
          "text": [
            "LR = 140.04, Chi2 = 16.81 (6 defrees of freedom) \n",
            "Therefore: Accept more params\n"
          ],
          "name": "stdout"
        }
      ]
    },
    {
      "cell_type": "code",
      "metadata": {
        "id": "gxIVo140ctLY",
        "colab_type": "code",
        "colab": {}
      },
      "source": [
        "%%capture\n",
        "## Model 26\n",
        "#Generic PURPOSE\n",
        "model_name = \"MNL26\"\n",
        "\n",
        "#Utility functions\n",
        "V1 = ASC_TRAIN                              + \\\n",
        "     B_COST             * TRAIN_COST_SCALED + \\\n",
        "     B_TIME_TRAIN       * TRAIN_TT_SCALED   + \\\n",
        "     B_HE               * TRAIN_HE_SCALED   + \\\n",
        "     B_AGE_ADULTS_TRAIN * AGE_2             + \\\n",
        "     B_AGE_3_TRAIN      * AGE_3             + \\\n",
        "     B_AGE_ADULTS_TRAIN * AGE_4             + \\\n",
        "     B_AGE_5_TRAIN      * AGE_5             + \\\n",
        "     B_LUGGAGE_TRAIN    * LUGGAGE           + \\\n",
        "     B_MALE_TRAIN       * MALE              + \\\n",
        "     B_GA_TRAIN         * GA                + \\\n",
        "     B_FIRST_TRAIN      * FIRST             + \\\n",
        "     B_BUSINESS_TRAIN   * BUSINESS          + \\\n",
        "     B_PRIVATE          * PRIVATE           + \\\n",
        "     B_COMMUTER         * COMMUTER    \n",
        "\n",
        "V2 = ASC_SM                           + \\\n",
        "     B_COST          * SM_COST_SCALED + \\\n",
        "     B_TIME_SM       * SM_TT_SCALED   + \\\n",
        "     B_HE            * SM_HE_SCALED   + \\\n",
        "     B_AGE_ADULTS_SM * AGE_2          + \\\n",
        "     B_AGE_ADULTS_SM * AGE_3          + \\\n",
        "     B_AGE_4_SM      * AGE_4          + \\\n",
        "     B_AGE_5_SM      * AGE_5          + \\\n",
        "     B_LUGGAGE_SM    * LUGGAGE        + \\\n",
        "     B_FIRST_SM      * FIRST          + \\\n",
        "     B_BUSINESS_SM   * BUSINESS       + \\\n",
        "     B_PRIVATE       * PRIVATE        + \\\n",
        "     B_COMMUTER      * COMMUTER     \n",
        "\n",
        "V3 = ASC_CAR                      + \\\n",
        "     B_COST     * CAR_COST_SCALED + \\\n",
        "     B_TIME_CAR * CAR_TT_SCALED   \n",
        "\n",
        "#Run MNL\n",
        "LL26, nparam26, estimate_names26, estimate_values26 = estimate_MNL(V1, V2, V3, model_name)"
      ],
      "execution_count": 0,
      "outputs": []
    },
    {
      "cell_type": "code",
      "metadata": {
        "id": "LWlM6gYhctLd",
        "colab_type": "code",
        "outputId": "913d91a2-a007-447b-fecc-ab15eaba33d8",
        "colab": {
          "base_uri": "https://localhost:8080/",
          "height": 51
        }
      },
      "source": [
        "likelihoodRatioTest(LL25, nparam25,'MNL25', LL26, nparam26,'MNL26', prob = 0.99)"
      ],
      "execution_count": 61,
      "outputs": [
        {
          "output_type": "stream",
          "text": [
            "LR = 0.97, Chi2 = 9.21 (2 defrees of freedom) \n",
            "Therefore: Do not accept more params\n"
          ],
          "name": "stdout"
        }
      ]
    },
    {
      "cell_type": "code",
      "metadata": {
        "id": "MlTgCEKFctLe",
        "colab_type": "code",
        "colab": {}
      },
      "source": [
        "%%capture\n",
        "## Model 27\n",
        "#Remove FIRST in train\n",
        "model_name = \"MNL27\"\n",
        "\n",
        "#Utility functions\n",
        "V1 = ASC_TRAIN                              + \\\n",
        "     B_COST             * TRAIN_COST_SCALED + \\\n",
        "     B_TIME_TRAIN       * TRAIN_TT_SCALED   + \\\n",
        "     B_HE               * TRAIN_HE_SCALED   + \\\n",
        "     B_AGE_ADULTS_TRAIN * AGE_2             + \\\n",
        "     B_AGE_3_TRAIN      * AGE_3             + \\\n",
        "     B_AGE_ADULTS_TRAIN * AGE_4             + \\\n",
        "     B_AGE_5_TRAIN      * AGE_5             + \\\n",
        "     B_LUGGAGE_TRAIN    * LUGGAGE           + \\\n",
        "     B_MALE_TRAIN       * MALE              + \\\n",
        "     B_GA_TRAIN         * GA                + \\\n",
        "     B_BUSINESS_TRAIN   * BUSINESS          + \\\n",
        "     B_PRIVATE          * PRIVATE           + \\\n",
        "     B_COMMUTER         * COMMUTER    \n",
        "\n",
        "V2 = ASC_SM                           + \\\n",
        "     B_COST          * SM_COST_SCALED + \\\n",
        "     B_TIME_SM       * SM_TT_SCALED   + \\\n",
        "     B_HE            * SM_HE_SCALED   + \\\n",
        "     B_AGE_ADULTS_SM * AGE_2          + \\\n",
        "     B_AGE_ADULTS_SM * AGE_3          + \\\n",
        "     B_AGE_4_SM      * AGE_4          + \\\n",
        "     B_AGE_5_SM      * AGE_5          + \\\n",
        "     B_LUGGAGE_SM    * LUGGAGE        + \\\n",
        "     B_FIRST_SM      * FIRST          + \\\n",
        "     B_BUSINESS_SM   * BUSINESS       + \\\n",
        "     B_PRIVATE       * PRIVATE        + \\\n",
        "     B_COMMUTER      * COMMUTER     \n",
        "\n",
        "V3 = ASC_CAR                      + \\\n",
        "     B_COST     * CAR_COST_SCALED + \\\n",
        "     B_TIME_CAR * CAR_TT_SCALED   \n",
        "\n",
        "#Run MNL\n",
        "LL27, nparam27, estimate_names27, estimate_values27 = estimate_MNL(V1, V2, V3, model_name)"
      ],
      "execution_count": 0,
      "outputs": []
    },
    {
      "cell_type": "code",
      "metadata": {
        "id": "y22YCXU7ctLg",
        "colab_type": "code",
        "outputId": "84aee4d8-a0b1-4088-c42e-c9b2391515ea",
        "colab": {
          "base_uri": "https://localhost:8080/",
          "height": 51
        }
      },
      "source": [
        "likelihoodRatioTest(LL26, nparam26,'MNL26', LL27, nparam27,'MNL27', prob = 0.99)"
      ],
      "execution_count": 63,
      "outputs": [
        {
          "output_type": "stream",
          "text": [
            "LR = 0.36, Chi2 = 6.63 (1 defrees of freedom) \n",
            "Therefore: Do not accept more params\n"
          ],
          "name": "stdout"
        }
      ]
    },
    {
      "cell_type": "code",
      "metadata": {
        "id": "dte4TLwSctLj",
        "colab_type": "code",
        "colab": {}
      },
      "source": [
        "%%capture\n",
        "## Model 28\n",
        "#Remove luggage in SM\n",
        "model_name = \"MNL28\"\n",
        "\n",
        "#Utility functions\n",
        "V1 = ASC_TRAIN                              + \\\n",
        "     B_COST             * TRAIN_COST_SCALED + \\\n",
        "     B_TIME_TRAIN       * TRAIN_TT_SCALED   + \\\n",
        "     B_HE               * TRAIN_HE_SCALED   + \\\n",
        "     B_AGE_ADULTS_TRAIN * AGE_2             + \\\n",
        "     B_AGE_3_TRAIN      * AGE_3             + \\\n",
        "     B_AGE_ADULTS_TRAIN * AGE_4             + \\\n",
        "     B_AGE_5_TRAIN      * AGE_5             + \\\n",
        "     B_LUGGAGE_TRAIN    * LUGGAGE           + \\\n",
        "     B_MALE_TRAIN       * MALE              + \\\n",
        "     B_GA_TRAIN         * GA                + \\\n",
        "     B_BUSINESS_TRAIN   * BUSINESS          + \\\n",
        "     B_PRIVATE          * PRIVATE           + \\\n",
        "     B_COMMUTER         * COMMUTER    \n",
        "\n",
        "V2 = ASC_SM                           + \\\n",
        "     B_COST          * SM_COST_SCALED + \\\n",
        "     B_TIME_SM       * SM_TT_SCALED   + \\\n",
        "     B_HE            * SM_HE_SCALED   + \\\n",
        "     B_AGE_ADULTS_SM * AGE_2          + \\\n",
        "     B_AGE_ADULTS_SM * AGE_3          + \\\n",
        "     B_AGE_4_SM      * AGE_4          + \\\n",
        "     B_AGE_5_SM      * AGE_5          + \\\n",
        "     B_FIRST_SM      * FIRST          + \\\n",
        "     B_BUSINESS_SM   * BUSINESS       + \\\n",
        "     B_PRIVATE       * PRIVATE        + \\\n",
        "     B_COMMUTER      * COMMUTER     \n",
        "\n",
        "V3 = ASC_CAR                      + \\\n",
        "     B_COST     * CAR_COST_SCALED + \\\n",
        "     B_TIME_CAR * CAR_TT_SCALED   \n",
        "\n",
        "#Run MNL\n",
        "LL28, nparam28, estimate_names28, estimate_values28 = estimate_MNL(V1, V2, V3, model_name)"
      ],
      "execution_count": 0,
      "outputs": []
    },
    {
      "cell_type": "code",
      "metadata": {
        "id": "-AHEnulActLl",
        "colab_type": "code",
        "outputId": "161ab3b6-34bd-4b74-e356-c68f76fc5790",
        "colab": {
          "base_uri": "https://localhost:8080/",
          "height": 51
        }
      },
      "source": [
        "likelihoodRatioTest(LL27, nparam27,'MNL27', LL28, nparam28,'MNL28', prob = 0.99)"
      ],
      "execution_count": 65,
      "outputs": [
        {
          "output_type": "stream",
          "text": [
            "LR = 6.08, Chi2 = 6.63 (1 defrees of freedom) \n",
            "Therefore: Do not accept more params\n"
          ],
          "name": "stdout"
        }
      ]
    },
    {
      "cell_type": "code",
      "metadata": {
        "id": "7HZxFOHZctLn",
        "colab_type": "code",
        "colab": {}
      },
      "source": [
        "%%capture\n",
        "## Model 29\n",
        "#Remove AGE5 in train\n",
        "model_name = \"MNL29\"\n",
        "\n",
        "#Utility functions\n",
        "V1 = ASC_TRAIN                              + \\\n",
        "     B_COST             * TRAIN_COST_SCALED + \\\n",
        "     B_TIME_TRAIN       * TRAIN_TT_SCALED   + \\\n",
        "     B_HE               * TRAIN_HE_SCALED   + \\\n",
        "     B_AGE_ADULTS_TRAIN * AGE_2             + \\\n",
        "     B_AGE_3_TRAIN      * AGE_3             + \\\n",
        "     B_AGE_ADULTS_TRAIN * AGE_4             + \\\n",
        "     B_LUGGAGE_TRAIN    * LUGGAGE           + \\\n",
        "     B_MALE_TRAIN       * MALE              + \\\n",
        "     B_GA_TRAIN         * GA                + \\\n",
        "     B_BUSINESS_TRAIN   * BUSINESS          + \\\n",
        "     B_PRIVATE          * PRIVATE           + \\\n",
        "     B_COMMUTER         * COMMUTER    \n",
        "\n",
        "V2 = ASC_SM                           + \\\n",
        "     B_COST          * SM_COST_SCALED + \\\n",
        "     B_TIME_SM       * SM_TT_SCALED   + \\\n",
        "     B_HE            * SM_HE_SCALED   + \\\n",
        "     B_AGE_ADULTS_SM * AGE_2          + \\\n",
        "     B_AGE_ADULTS_SM * AGE_3          + \\\n",
        "     B_AGE_4_SM      * AGE_4          + \\\n",
        "     B_AGE_5_SM      * AGE_5          + \\\n",
        "     B_FIRST_SM      * FIRST          + \\\n",
        "     B_BUSINESS_SM   * BUSINESS       + \\\n",
        "     B_PRIVATE       * PRIVATE        + \\\n",
        "     B_COMMUTER      * COMMUTER     \n",
        "\n",
        "V3 = ASC_CAR                      + \\\n",
        "     B_COST     * CAR_COST_SCALED + \\\n",
        "     B_TIME_CAR * CAR_TT_SCALED   \n",
        "\n",
        "#Run MNL\n",
        "LL29, nparam29, estimate_names29, estimate_values29 = estimate_MNL(V1, V2, V3, model_name)"
      ],
      "execution_count": 0,
      "outputs": []
    },
    {
      "cell_type": "code",
      "metadata": {
        "id": "9rFap7boctLq",
        "colab_type": "code",
        "outputId": "69c04d68-9717-485a-9cb4-e0c275f2f9bf",
        "colab": {
          "base_uri": "https://localhost:8080/",
          "height": 51
        }
      },
      "source": [
        "likelihoodRatioTest(LL28, nparam28,'MNL28', LL29, nparam29,'MNL29', prob = 0.99)"
      ],
      "execution_count": 67,
      "outputs": [
        {
          "output_type": "stream",
          "text": [
            "LR = 8.51, Chi2 = 6.63 (1 defrees of freedom) \n",
            "Therefore: Accept more params\n"
          ],
          "name": "stdout"
        }
      ]
    },
    {
      "cell_type": "markdown",
      "metadata": {
        "id": "iUJefhaBctLr",
        "colab_type": "text"
      },
      "source": [
        "# LPLA Nested Logit"
      ]
    },
    {
      "cell_type": "code",
      "metadata": {
        "id": "_AeNQqQjctLs",
        "colab_type": "code",
        "colab": {}
      },
      "source": [
        "%%capture\n",
        "## Model NL1\n",
        "#Based on MNL 28\n",
        "model_name = \"NL1\"\n",
        "\n",
        "nest1 = [1,2] #TRAIN and SM\n",
        "nest2 = [3]   #CAR\n",
        "\n",
        "#Utility functions\n",
        "V1 = ASC_TRAIN                              + \\\n",
        "     B_COST             * TRAIN_COST_SCALED + \\\n",
        "     B_TIME_TRAIN       * TRAIN_TT_SCALED   + \\\n",
        "     B_HE               * TRAIN_HE_SCALED   + \\\n",
        "     B_AGE_ADULTS_TRAIN * AGE_2             + \\\n",
        "     B_AGE_3_TRAIN      * AGE_3             + \\\n",
        "     B_AGE_ADULTS_TRAIN * AGE_4             + \\\n",
        "     B_AGE_5_TRAIN      * AGE_5             + \\\n",
        "     B_LUGGAGE_TRAIN    * LUGGAGE           + \\\n",
        "     B_MALE_TRAIN       * MALE              + \\\n",
        "     B_GA_TRAIN         * GA                + \\\n",
        "     B_BUSINESS_TRAIN   * BUSINESS          + \\\n",
        "     B_PRIVATE          * PRIVATE           + \\\n",
        "     B_COMMUTER         * COMMUTER    \n",
        "\n",
        "V2 = ASC_SM                           + \\\n",
        "     B_COST          * SM_COST_SCALED + \\\n",
        "     B_TIME_SM       * SM_TT_SCALED   + \\\n",
        "     B_HE            * SM_HE_SCALED   + \\\n",
        "     B_AGE_ADULTS_SM * AGE_2          + \\\n",
        "     B_AGE_ADULTS_SM * AGE_3          + \\\n",
        "     B_AGE_4_SM      * AGE_4          + \\\n",
        "     B_AGE_5_SM      * AGE_5          + \\\n",
        "     B_FIRST_SM      * FIRST          + \\\n",
        "     B_BUSINESS_SM   * BUSINESS       + \\\n",
        "     B_PRIVATE       * PRIVATE        + \\\n",
        "     B_COMMUTER      * COMMUTER     \n",
        "\n",
        "V3 = ASC_CAR                      + \\\n",
        "     B_COST     * CAR_COST_SCALED + \\\n",
        "     B_TIME_CAR * CAR_TT_SCALED   \n",
        "\n",
        "#Run MNL\n",
        "LLNL1, nparamNL1, estimate_namesNL1, estimate_valuesNL1 = estimate_MNL(V1, V2, V3, model_name, 'NL', nest1, nest2)"
      ],
      "execution_count": 0,
      "outputs": []
    },
    {
      "cell_type": "code",
      "metadata": {
        "id": "Z2zNDnZDctLt",
        "colab_type": "code",
        "outputId": "2c01733e-d8e1-4019-d1b3-9b44645d5dd1",
        "colab": {
          "base_uri": "https://localhost:8080/",
          "height": 51
        }
      },
      "source": [
        "likelihoodRatioTest(LL28, nparam28,'MNL28', LLNL1, nparamNL1,'NL1', prob = 0.99)"
      ],
      "execution_count": 69,
      "outputs": [
        {
          "output_type": "stream",
          "text": [
            "LR = 0.00, Chi2 = 6.63 (1 defrees of freedom) \n",
            "Therefore: Do not accept more params\n"
          ],
          "name": "stdout"
        }
      ]
    },
    {
      "cell_type": "code",
      "metadata": {
        "id": "pzsa-2eRctLv",
        "colab_type": "code",
        "colab": {}
      },
      "source": [
        "%%capture\n",
        "## Model NL2\n",
        "#Based on MNL28\n",
        "model_name = \"NL2\"\n",
        "\n",
        "nest1 = [1,3] #TRAIN and CAR\n",
        "nest2 = [2]   #SM\n",
        "\n",
        "#Utility functions\n",
        "V1 = ASC_TRAIN                              + \\\n",
        "     B_COST             * TRAIN_COST_SCALED + \\\n",
        "     B_TIME_TRAIN       * TRAIN_TT_SCALED   + \\\n",
        "     B_HE               * TRAIN_HE_SCALED   + \\\n",
        "     B_AGE_ADULTS_TRAIN * AGE_2             + \\\n",
        "     B_AGE_3_TRAIN      * AGE_3             + \\\n",
        "     B_AGE_ADULTS_TRAIN * AGE_4             + \\\n",
        "     B_AGE_5_TRAIN      * AGE_5             + \\\n",
        "     B_LUGGAGE_TRAIN    * LUGGAGE           + \\\n",
        "     B_MALE_TRAIN       * MALE              + \\\n",
        "     B_GA_TRAIN         * GA                + \\\n",
        "     B_BUSINESS_TRAIN   * BUSINESS          + \\\n",
        "     B_PRIVATE          * PRIVATE           + \\\n",
        "     B_COMMUTER         * COMMUTER    \n",
        "\n",
        "V2 = ASC_SM                           + \\\n",
        "     B_COST          * SM_COST_SCALED + \\\n",
        "     B_TIME_SM       * SM_TT_SCALED   + \\\n",
        "     B_HE            * SM_HE_SCALED   + \\\n",
        "     B_AGE_ADULTS_SM * AGE_2          + \\\n",
        "     B_AGE_ADULTS_SM * AGE_3          + \\\n",
        "     B_AGE_4_SM      * AGE_4          + \\\n",
        "     B_AGE_5_SM      * AGE_5          + \\\n",
        "     B_FIRST_SM      * FIRST          + \\\n",
        "     B_BUSINESS_SM   * BUSINESS       + \\\n",
        "     B_PRIVATE       * PRIVATE        + \\\n",
        "     B_COMMUTER      * COMMUTER     \n",
        "\n",
        "V3 = ASC_CAR                      + \\\n",
        "     B_COST     * CAR_COST_SCALED + \\\n",
        "     B_TIME_CAR * CAR_TT_SCALED   \n",
        "\n",
        "#Run MNL\n",
        "LLNL2, nparamNL2, estimate_namesNL2, estimate_valuesNL2 = estimate_MNL(V1, V2, V3, model_name, 'NL', nest1, nest2)"
      ],
      "execution_count": 0,
      "outputs": []
    },
    {
      "cell_type": "code",
      "metadata": {
        "id": "0Po4a_juctLx",
        "colab_type": "code",
        "outputId": "fbc8403c-0c95-4a7a-a548-2f0dd6116ae2",
        "colab": {
          "base_uri": "https://localhost:8080/",
          "height": 51
        }
      },
      "source": [
        "likelihoodRatioTest(LL28, nparam28,'MNL28', LLNL2, nparamNL2,'MNLNL2', prob = 0.99)"
      ],
      "execution_count": 71,
      "outputs": [
        {
          "output_type": "stream",
          "text": [
            "LR = 51.97, Chi2 = 6.63 (1 defrees of freedom) \n",
            "Therefore: Accept more params\n"
          ],
          "name": "stdout"
        }
      ]
    },
    {
      "cell_type": "code",
      "metadata": {
        "id": "sVWH3_mlctLy",
        "colab_type": "code",
        "colab": {}
      },
      "source": [
        "%%capture\n",
        "## Model NL3\n",
        "#Based on MNL28\n",
        "model_name = \"NL3\"\n",
        "\n",
        "nest1 = [1]   #TRAIN\n",
        "nest2 = [2,3] #SM and CAR\n",
        "\n",
        "#Utility functions\n",
        "V1 = ASC_TRAIN                              + \\\n",
        "     B_COST             * TRAIN_COST_SCALED + \\\n",
        "     B_TIME_TRAIN       * TRAIN_TT_SCALED   + \\\n",
        "     B_HE               * TRAIN_HE_SCALED   + \\\n",
        "     B_AGE_ADULTS_TRAIN * AGE_2             + \\\n",
        "     B_AGE_3_TRAIN      * AGE_3             + \\\n",
        "     B_AGE_ADULTS_TRAIN * AGE_4             + \\\n",
        "     B_AGE_5_TRAIN      * AGE_5             + \\\n",
        "     B_LUGGAGE_TRAIN    * LUGGAGE           + \\\n",
        "     B_MALE_TRAIN       * MALE              + \\\n",
        "     B_GA_TRAIN         * GA                + \\\n",
        "     B_BUSINESS_TRAIN   * BUSINESS          + \\\n",
        "     B_PRIVATE          * PRIVATE           + \\\n",
        "     B_COMMUTER         * COMMUTER    \n",
        "\n",
        "V2 = ASC_SM                           + \\\n",
        "     B_COST          * SM_COST_SCALED + \\\n",
        "     B_TIME_SM       * SM_TT_SCALED   + \\\n",
        "     B_HE            * SM_HE_SCALED   + \\\n",
        "     B_AGE_ADULTS_SM * AGE_2          + \\\n",
        "     B_AGE_ADULTS_SM * AGE_3          + \\\n",
        "     B_AGE_4_SM      * AGE_4          + \\\n",
        "     B_AGE_5_SM      * AGE_5          + \\\n",
        "     B_FIRST_SM      * FIRST          + \\\n",
        "     B_BUSINESS_SM   * BUSINESS       + \\\n",
        "     B_PRIVATE       * PRIVATE        + \\\n",
        "     B_COMMUTER      * COMMUTER     \n",
        "\n",
        "V3 = ASC_CAR                      + \\\n",
        "     B_COST     * CAR_COST_SCALED + \\\n",
        "     B_TIME_CAR * CAR_TT_SCALED    \n",
        "\n",
        "#Run MNL\n",
        "LLNL3, nparamNL3, estimate_namesNL3, estimate_valuesNL3 = estimate_MNL(V1, V2, V3, model_name, 'NL', nest1, nest2)"
      ],
      "execution_count": 0,
      "outputs": []
    },
    {
      "cell_type": "code",
      "metadata": {
        "id": "pmRDjvW4ctL2",
        "colab_type": "code",
        "outputId": "f948253a-a65b-47d6-b468-252bdd156a9c",
        "colab": {
          "base_uri": "https://localhost:8080/",
          "height": 51
        }
      },
      "source": [
        "likelihoodRatioTest(LL28, nparam28,'MNL28', LLNL3, nparamNL3,'MNLNL3', prob = 0.99)"
      ],
      "execution_count": 73,
      "outputs": [
        {
          "output_type": "stream",
          "text": [
            "LR = 0.00, Chi2 = 6.63 (1 defrees of freedom) \n",
            "Therefore: Do not accept more params\n"
          ],
          "name": "stdout"
        }
      ]
    },
    {
      "cell_type": "markdown",
      "metadata": {
        "id": "_68Ji427ctL4",
        "colab_type": "text"
      },
      "source": [
        "# MNL (Allowing for non linear attributes)"
      ]
    },
    {
      "cell_type": "code",
      "metadata": {
        "id": "7L0EekKUctL8",
        "colab_type": "code",
        "colab": {}
      },
      "source": [
        "%%capture\n",
        "## Model 30\n",
        "#Build on MNL28\n",
        "#Generic non-linearization on cost\n",
        "model_name = \"MNL30\"\n",
        "\n",
        "#Utility functions\n",
        "V1 = ASC_TRAIN                                      + \\\n",
        "     B_COST             * TRAIN_COST_SCALED**q_COST + \\\n",
        "     B_TIME_TRAIN       * TRAIN_TT_SCALED           + \\\n",
        "     B_HE               * TRAIN_HE_SCALED           + \\\n",
        "     B_AGE_ADULTS_TRAIN * AGE_2                     + \\\n",
        "     B_AGE_3_TRAIN      * AGE_3                     + \\\n",
        "     B_AGE_ADULTS_TRAIN * AGE_4                     + \\\n",
        "     B_AGE_5_TRAIN      * AGE_5                     + \\\n",
        "     B_LUGGAGE_TRAIN    * LUGGAGE                   + \\\n",
        "     B_MALE_TRAIN       * MALE                      + \\\n",
        "     B_GA_TRAIN         * GA                        + \\\n",
        "     B_BUSINESS_TRAIN   * BUSINESS                  + \\\n",
        "     B_PRIVATE          * PRIVATE                   + \\\n",
        "     B_COMMUTER         * COMMUTER    \n",
        "\n",
        "V2 = ASC_SM                                   + \\\n",
        "     B_COST          * SM_COST_SCALED**q_COST + \\\n",
        "     B_TIME_SM       * SM_TT_SCALED           + \\\n",
        "     B_HE            * SM_HE_SCALED           + \\\n",
        "     B_AGE_ADULTS_SM * AGE_2                  + \\\n",
        "     B_AGE_ADULTS_SM * AGE_3                  + \\\n",
        "     B_AGE_4_SM      * AGE_4                  + \\\n",
        "     B_AGE_5_SM      * AGE_5                  + \\\n",
        "     B_FIRST_SM      * FIRST                  + \\\n",
        "     B_BUSINESS_SM   * BUSINESS               + \\\n",
        "     B_PRIVATE       * PRIVATE                + \\\n",
        "     B_COMMUTER      * COMMUTER     \n",
        "\n",
        "V3 = ASC_CAR                              + \\\n",
        "     B_COST     * CAR_COST_SCALED**q_COST + \\\n",
        "     B_TIME_CAR * CAR_TT_SCALED     \n",
        "\n",
        "#Run MNL\n",
        "LL30, nparam30, estimate_names30, estimate_values30 = estimate_MNL(V1, V2, V3, model_name)"
      ],
      "execution_count": 0,
      "outputs": []
    },
    {
      "cell_type": "code",
      "metadata": {
        "id": "Vy7--rs1ctL-",
        "colab_type": "code",
        "outputId": "26b3cbf9-4011-409e-9d02-2b0812adede3",
        "colab": {
          "base_uri": "https://localhost:8080/",
          "height": 51
        }
      },
      "source": [
        "likelihoodRatioTest(LL28, nparam28,'MNL28', LL30, nparam30,'MNL30', prob = 0.99)"
      ],
      "execution_count": 75,
      "outputs": [
        {
          "output_type": "stream",
          "text": [
            "LR = 136.76, Chi2 = 6.63 (1 defrees of freedom) \n",
            "Therefore: Accept more params\n"
          ],
          "name": "stdout"
        }
      ]
    },
    {
      "cell_type": "code",
      "metadata": {
        "id": "2P_1YknwctL_",
        "colab_type": "code",
        "colab": {}
      },
      "source": [
        "%%capture\n",
        "## Model 31\n",
        "#Generic non-linearization on time\n",
        "model_name = \"MNL31\"\n",
        "\n",
        "#Utility functions\n",
        "V1 = ASC_TRAIN                                      + \\\n",
        "     B_COST             * TRAIN_COST_SCALED**q_COST + \\\n",
        "     B_TIME_TRAIN       * TRAIN_TT_SCALED**q_TIME   + \\\n",
        "     B_HE               * TRAIN_HE_SCALED           + \\\n",
        "     B_AGE_ADULTS_TRAIN * AGE_2                     + \\\n",
        "     B_AGE_3_TRAIN      * AGE_3                     + \\\n",
        "     B_AGE_ADULTS_TRAIN * AGE_4                     + \\\n",
        "     B_AGE_5_TRAIN      * AGE_5                     + \\\n",
        "     B_LUGGAGE_TRAIN    * LUGGAGE                   + \\\n",
        "     B_MALE_TRAIN       * MALE                      + \\\n",
        "     B_GA_TRAIN         * GA                        + \\\n",
        "     B_BUSINESS_TRAIN   * BUSINESS                  + \\\n",
        "     B_PRIVATE          * PRIVATE                   + \\\n",
        "     B_COMMUTER         * COMMUTER    \n",
        "\n",
        "V2 = ASC_SM                                   + \\\n",
        "     B_COST          * SM_COST_SCALED**q_COST + \\\n",
        "     B_TIME_SM       * SM_TT_SCALED**q_TIME   + \\\n",
        "     B_HE            * SM_HE_SCALED           + \\\n",
        "     B_AGE_ADULTS_SM * AGE_2                  + \\\n",
        "     B_AGE_ADULTS_SM * AGE_3                  + \\\n",
        "     B_AGE_4_SM      * AGE_4                  + \\\n",
        "     B_AGE_5_SM      * AGE_5                  + \\\n",
        "     B_FIRST_SM      * FIRST                  + \\\n",
        "     B_BUSINESS_SM   * BUSINESS               + \\\n",
        "     B_PRIVATE       * PRIVATE                + \\\n",
        "     B_COMMUTER      * COMMUTER     \n",
        "\n",
        "V3 = ASC_CAR                              + \\\n",
        "     B_COST     * CAR_COST_SCALED**q_COST + \\\n",
        "     B_TIME_CAR * CAR_TT_SCALED**q_TIME     \n",
        "\n",
        "#Run MNL\n",
        "LL31, nparam31, estimate_names31, estimate_values31 = estimate_MNL(V1, V2, V3, model_name)"
      ],
      "execution_count": 0,
      "outputs": []
    },
    {
      "cell_type": "code",
      "metadata": {
        "id": "ihc5KlnvctMB",
        "colab_type": "code",
        "outputId": "5f324c86-e369-44cc-c14d-08cc0784d46e",
        "colab": {
          "base_uri": "https://localhost:8080/",
          "height": 51
        }
      },
      "source": [
        "likelihoodRatioTest(LL30, nparam30,'MNL30', LL31, nparam31,'MNL31', prob = 0.99)"
      ],
      "execution_count": 77,
      "outputs": [
        {
          "output_type": "stream",
          "text": [
            "LR = 160.76, Chi2 = 6.63 (1 defrees of freedom) \n",
            "Therefore: Accept more params\n"
          ],
          "name": "stdout"
        }
      ]
    },
    {
      "cell_type": "code",
      "metadata": {
        "id": "fndIdZLxctMD",
        "colab_type": "code",
        "colab": {}
      },
      "source": [
        "%%capture\n",
        "# Model 32\n",
        "#Generic non-linearization on HE\n",
        "model_name = \"MNL32\"\n",
        "\n",
        "#Utility functions\n",
        "V1 = ASC_TRAIN                                            + \\\n",
        "     B_COST             * TRAIN_COST_SCALED**q_COST       + \\\n",
        "     B_TIME_TRAIN       * TRAIN_TT_SCALED**q_TIME         + \\\n",
        "     B_HE               * TRAIN_HE_SCALED**q_HE           + \\\n",
        "     B_AGE_ADULTS_TRAIN * AGE_2                           + \\\n",
        "     B_AGE_3_TRAIN      * AGE_3                           + \\\n",
        "     B_AGE_ADULTS_TRAIN * AGE_4                           + \\\n",
        "     B_AGE_5_TRAIN      * AGE_5                           + \\\n",
        "     B_LUGGAGE_TRAIN    * LUGGAGE                         + \\\n",
        "     B_MALE_TRAIN       * MALE                            + \\\n",
        "     B_GA_TRAIN         * GA                              + \\\n",
        "     B_BUSINESS_TRAIN   * BUSINESS                        + \\\n",
        "     B_PRIVATE          * PRIVATE                         + \\\n",
        "     B_COMMUTER         * COMMUTER    \n",
        "\n",
        "V2 = ASC_SM                                      + \\\n",
        "     B_COST          * SM_COST_SCALED**q_COST    + \\\n",
        "     B_TIME_SM       * SM_TT_SCALED**q_TIME      + \\\n",
        "     B_HE            * SM_HE_SCALED**q_HE        + \\\n",
        "     B_AGE_ADULTS_SM * AGE_2                     + \\\n",
        "     B_AGE_ADULTS_SM * AGE_3                     + \\\n",
        "     B_AGE_4_SM      * AGE_4                     + \\\n",
        "     B_AGE_5_SM      * AGE_5                     + \\\n",
        "     B_FIRST_SM      * FIRST                     + \\\n",
        "     B_BUSINESS_SM   * BUSINESS                  + \\\n",
        "     B_PRIVATE       * PRIVATE                   + \\\n",
        "     B_COMMUTER      * COMMUTER     \n",
        "\n",
        "V3 = ASC_CAR                                + \\\n",
        "     B_COST     * CAR_COST_SCALED**q_COST   + \\\n",
        "     B_TIME_CAR * CAR_TT_SCALED**q_TIME     \n",
        "\n",
        "#Run MNL\n",
        "LL32, nparam32, estimate_names32, estimate_values32 = estimate_MNL(V1, V2, V3, model_name)"
      ],
      "execution_count": 0,
      "outputs": []
    },
    {
      "cell_type": "code",
      "metadata": {
        "id": "e4BU_DJrctMF",
        "colab_type": "code",
        "outputId": "e83ba7b8-cd7a-46f1-d0a6-de9574ff2960",
        "colab": {
          "base_uri": "https://localhost:8080/",
          "height": 51
        }
      },
      "source": [
        "likelihoodRatioTest(LL31, nparam31,'MNL31', LL32, nparam32,'MNL32', prob = 0.99)"
      ],
      "execution_count": 79,
      "outputs": [
        {
          "output_type": "stream",
          "text": [
            "LR = 0.20, Chi2 = 6.63 (1 defrees of freedom) \n",
            "Therefore: Do not accept more params\n"
          ],
          "name": "stdout"
        }
      ]
    },
    {
      "cell_type": "markdown",
      "metadata": {
        "id": "j4P_2zpzctMH",
        "colab_type": "text"
      },
      "source": [
        "# Nested Logit with non-linear attributes"
      ]
    },
    {
      "cell_type": "code",
      "metadata": {
        "id": "jxS0VVNCctMH",
        "colab_type": "code",
        "colab": {}
      },
      "source": [
        "%%capture\n",
        "## Model NL4\n",
        "#Based on MNL 31\n",
        "model_name = \"NL4\"\n",
        "\n",
        "nest1 = [1,2] #TRAIN and SM\n",
        "nest2 = [3]   #CAR\n",
        "\n",
        "#Utility functions\n",
        "V1 = ASC_TRAIN                                            + \\\n",
        "     B_COST             * TRAIN_COST_SCALED**q_COST       + \\\n",
        "     B_TIME_TRAIN       * TRAIN_TT_SCALED**q_TIME         + \\\n",
        "     B_HE               * TRAIN_HE_SCALED                 + \\\n",
        "     B_AGE_ADULTS_TRAIN * AGE_2                           + \\\n",
        "     B_AGE_3_TRAIN      * AGE_3                           + \\\n",
        "     B_AGE_ADULTS_TRAIN * AGE_4                           + \\\n",
        "     B_AGE_5_TRAIN      * AGE_5                           + \\\n",
        "     B_LUGGAGE_TRAIN    * LUGGAGE                         + \\\n",
        "     B_MALE_TRAIN       * MALE                            + \\\n",
        "     B_GA_TRAIN         * GA                              + \\\n",
        "     B_BUSINESS_TRAIN   * BUSINESS                        + \\\n",
        "     B_PRIVATE          * PRIVATE                         + \\\n",
        "     B_COMMUTER         * COMMUTER    \n",
        "\n",
        "V2 = ASC_SM                                      + \\\n",
        "     B_COST          * SM_COST_SCALED**q_COST    + \\\n",
        "     B_TIME_SM       * SM_TT_SCALED**q_TIME      + \\\n",
        "     B_HE            * SM_HE_SCALED              + \\\n",
        "     B_AGE_ADULTS_SM * AGE_2                     + \\\n",
        "     B_AGE_ADULTS_SM * AGE_3                     + \\\n",
        "     B_AGE_4_SM      * AGE_4                     + \\\n",
        "     B_AGE_5_SM      * AGE_5                     + \\\n",
        "     B_FIRST_SM      * FIRST                     + \\\n",
        "     B_BUSINESS_SM   * BUSINESS                  + \\\n",
        "     B_PRIVATE       * PRIVATE                   + \\\n",
        "     B_COMMUTER      * COMMUTER     \n",
        "\n",
        "V3 = ASC_CAR                                + \\\n",
        "     B_COST     * CAR_COST_SCALED**q_COST   + \\\n",
        "     B_TIME_CAR * CAR_TT_SCALED**q_TIME   \n",
        "\n",
        "#Run MNL\n",
        "LLNL4, nparamNL4, estimate_namesNL4, estimate_valuesNL4 = estimate_MNL(V1, V2, V3, model_name, 'NL', nest1, nest2)"
      ],
      "execution_count": 0,
      "outputs": []
    },
    {
      "cell_type": "code",
      "metadata": {
        "id": "6fwH3PXActMJ",
        "colab_type": "code",
        "outputId": "211dea9e-fc5e-4399-9314-7c49b343a0d5",
        "colab": {
          "base_uri": "https://localhost:8080/",
          "height": 51
        }
      },
      "source": [
        "likelihoodRatioTest(LL31, nparam31,'MNL31', LLNL4, nparamNL4,'NL4', prob = 0.99)"
      ],
      "execution_count": 81,
      "outputs": [
        {
          "output_type": "stream",
          "text": [
            "LR = 0.00, Chi2 = 6.63 (1 defrees of freedom) \n",
            "Therefore: Do not accept more params\n"
          ],
          "name": "stdout"
        }
      ]
    },
    {
      "cell_type": "code",
      "metadata": {
        "id": "rwfRfgkyctML",
        "colab_type": "code",
        "colab": {}
      },
      "source": [
        "%%capture\n",
        "## Model NL5\n",
        "#Based on MNL 31\n",
        "model_name = \"NL5\"\n",
        "\n",
        "nest1 = [1,3] #TRAIN and CAR\n",
        "nest2 = [2]   #SM\n",
        "\n",
        "#Utility functions\n",
        "V1 = ASC_TRAIN                                            + \\\n",
        "     B_COST             * TRAIN_COST_SCALED**q_COST       + \\\n",
        "     B_TIME_TRAIN       * TRAIN_TT_SCALED**q_TIME         + \\\n",
        "     B_HE               * TRAIN_HE_SCALED                 + \\\n",
        "     B_AGE_ADULTS_TRAIN * AGE_2                           + \\\n",
        "     B_AGE_3_TRAIN      * AGE_3                           + \\\n",
        "     B_AGE_ADULTS_TRAIN * AGE_4                           + \\\n",
        "     B_AGE_5_TRAIN      * AGE_5                           + \\\n",
        "     B_LUGGAGE_TRAIN    * LUGGAGE                         + \\\n",
        "     B_MALE_TRAIN       * MALE                            + \\\n",
        "     B_GA_TRAIN         * GA                              + \\\n",
        "     B_BUSINESS_TRAIN   * BUSINESS                        + \\\n",
        "     B_PRIVATE          * PRIVATE                         + \\\n",
        "     B_COMMUTER         * COMMUTER    \n",
        "\n",
        "V2 = ASC_SM                                      + \\\n",
        "     B_COST          * SM_COST_SCALED**q_COST    + \\\n",
        "     B_TIME_SM       * SM_TT_SCALED**q_TIME      + \\\n",
        "     B_HE            * SM_HE_SCALED              + \\\n",
        "     B_AGE_ADULTS_SM * AGE_2                     + \\\n",
        "     B_AGE_ADULTS_SM * AGE_3                     + \\\n",
        "     B_AGE_4_SM      * AGE_4                     + \\\n",
        "     B_AGE_5_SM      * AGE_5                     + \\\n",
        "     B_FIRST_SM      * FIRST                     + \\\n",
        "     B_BUSINESS_SM   * BUSINESS                  + \\\n",
        "     B_PRIVATE       * PRIVATE                   + \\\n",
        "     B_COMMUTER      * COMMUTER     \n",
        "\n",
        "V3 = ASC_CAR                                + \\\n",
        "     B_COST     * CAR_COST_SCALED**q_COST   + \\\n",
        "     B_TIME_CAR * CAR_TT_SCALED**q_TIME  \n",
        "\n",
        "#Run MNL\n",
        "LLNL5, nparamNL5, estimate_namesNL5, estimate_valuesNL5 = estimate_MNL(V1, V2, V3, model_name, 'NL', nest1, nest2)"
      ],
      "execution_count": 0,
      "outputs": []
    },
    {
      "cell_type": "code",
      "metadata": {
        "id": "lKIr6fvDctMN",
        "colab_type": "code",
        "outputId": "01932c00-057e-4bd7-d36f-f6a19b78c20a",
        "colab": {
          "base_uri": "https://localhost:8080/",
          "height": 51
        }
      },
      "source": [
        "likelihoodRatioTest(LL31, nparam31,'MNL31', LLNL5, nparamNL5,'NL5', prob = 0.99)"
      ],
      "execution_count": 83,
      "outputs": [
        {
          "output_type": "stream",
          "text": [
            "LR = 40.62, Chi2 = 6.63 (1 defrees of freedom) \n",
            "Therefore: Accept more params\n"
          ],
          "name": "stdout"
        }
      ]
    },
    {
      "cell_type": "code",
      "metadata": {
        "id": "nJ95ZU13OxXD",
        "colab_type": "code",
        "colab": {
          "base_uri": "https://localhost:8080/",
          "height": 34
        },
        "outputId": "05a23ae5-0673-44f5-fb5d-e02971da32b7"
      },
      "source": [
        "LLNL5"
      ],
      "execution_count": 86,
      "outputs": [
        {
          "output_type": "execute_result",
          "data": {
            "text/plain": [
              "-7705.909667914766"
            ]
          },
          "metadata": {
            "tags": []
          },
          "execution_count": 86
        }
      ]
    },
    {
      "cell_type": "code",
      "metadata": {
        "id": "YvIx0a4LctMR",
        "colab_type": "code",
        "colab": {}
      },
      "source": [
        "%%capture\n",
        "## Model NL6\n",
        "#Based on MNL 31\n",
        "model_name = \"NL6\"\n",
        "\n",
        "nest1 = [1]   #TRAIN \n",
        "nest2 = [2,3] #SM and CAR\n",
        "\n",
        "#Utility functions\n",
        "V1 = ASC_TRAIN                                            + \\\n",
        "     B_COST             * TRAIN_COST_SCALED**q_COST       + \\\n",
        "     B_TIME_TRAIN       * TRAIN_TT_SCALED**q_TIME         + \\\n",
        "     B_HE               * TRAIN_HE_SCALED                 + \\\n",
        "     B_AGE_ADULTS_TRAIN * AGE_2                           + \\\n",
        "     B_AGE_3_TRAIN      * AGE_3                           + \\\n",
        "     B_AGE_ADULTS_TRAIN * AGE_4                           + \\\n",
        "     B_AGE_5_TRAIN      * AGE_5                           + \\\n",
        "     B_LUGGAGE_TRAIN    * LUGGAGE                         + \\\n",
        "     B_MALE_TRAIN       * MALE                            + \\\n",
        "     B_GA_TRAIN         * GA                              + \\\n",
        "     B_BUSINESS_TRAIN   * BUSINESS                        + \\\n",
        "     B_PRIVATE          * PRIVATE                         + \\\n",
        "     B_COMMUTER         * COMMUTER    \n",
        "\n",
        "V2 = ASC_SM                                      + \\\n",
        "     B_COST          * SM_COST_SCALED**q_COST    + \\\n",
        "     B_TIME_SM       * SM_TT_SCALED**q_TIME      + \\\n",
        "     B_HE            * SM_HE_SCALED              + \\\n",
        "     B_AGE_ADULTS_SM * AGE_2                     + \\\n",
        "     B_AGE_ADULTS_SM * AGE_3                     + \\\n",
        "     B_AGE_4_SM      * AGE_4                     + \\\n",
        "     B_AGE_5_SM      * AGE_5                     + \\\n",
        "     B_FIRST_SM      * FIRST                     + \\\n",
        "     B_BUSINESS_SM   * BUSINESS                  + \\\n",
        "     B_PRIVATE       * PRIVATE                   + \\\n",
        "     B_COMMUTER      * COMMUTER     \n",
        "\n",
        "V3 = ASC_CAR                                + \\\n",
        "     B_COST     * CAR_COST_SCALED**q_COST   + \\\n",
        "     B_TIME_CAR * CAR_TT_SCALED**q_TIME   \n",
        "\n",
        "#Run MNL\n",
        "LLNL6, nparamNL6, estimate_namesNL6, estimate_valuesNL6 = estimate_MNL(V1, V2, V3, model_name, 'NL', nest1, nest2)"
      ],
      "execution_count": 0,
      "outputs": []
    },
    {
      "cell_type": "code",
      "metadata": {
        "id": "MZUnPSZnctMV",
        "colab_type": "code",
        "outputId": "630ce339-d56b-4037-970d-28fb4c0c0360",
        "colab": {
          "base_uri": "https://localhost:8080/",
          "height": 51
        }
      },
      "source": [
        "likelihoodRatioTest(LL31, nparam31,'MNL31', LLNL6, nparamNL6,'NL6', prob = 0.99)"
      ],
      "execution_count": 88,
      "outputs": [
        {
          "output_type": "stream",
          "text": [
            "LR = 0.00, Chi2 = 6.63 (1 defrees of freedom) \n",
            "Therefore: Do not accept more params\n"
          ],
          "name": "stdout"
        }
      ]
    },
    {
      "cell_type": "markdown",
      "metadata": {
        "id": "lNQ-FoxhctMh",
        "colab_type": "text"
      },
      "source": [
        "NOTES TO ABOVE FUNCTION: \n",
        "- Right now i specify the utility functions manually. I want to have these as input (so we have one function for whatever model we wish), but I cant see how we can then change the attributes in the utilities.\n",
        "\n",
        "Apart from that the function does what i want (There are definetly stuff that can be done to make it prettier and more clever, but I don't see anything major apart from the above point)"
      ]
    }
  ]
}